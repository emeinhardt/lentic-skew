{
 "cells": [
  {
   "cell_type": "code",
   "execution_count": 1,
   "id": "df5417ec-3298-41d1-9f1f-b17ff0e04e7f",
   "metadata": {
    "execution": {
     "iopub.execute_input": "2022-04-05T02:28:46.026747Z",
     "iopub.status.busy": "2022-04-05T02:28:46.026407Z",
     "iopub.status.idle": "2022-04-05T02:28:46.048668Z",
     "shell.execute_reply": "2022-04-05T02:28:46.048205Z",
     "shell.execute_reply.started": "2022-04-05T02:28:46.026658Z"
    }
   },
   "outputs": [],
   "source": [
    "from dataclasses import dataclass\n",
    "from typing import *\n",
    "from classes import AssociatedType, Supports, typeclass"
   ]
  },
  {
   "cell_type": "markdown",
   "id": "ce319566-3e6e-4cb2-9495-6869bdf986db",
   "metadata": {},
   "source": [
    "# What is a typeclass?"
   ]
  },
  {
   "cell_type": "markdown",
   "id": "77ae49e7-264c-4788-a9e8-739f82d0e681",
   "metadata": {},
   "source": [
    "**What kind of a thing is it? What is it *for*?**\n",
    "\n",
    "A typeclass is a mechanism for capturing *ad-hoc polymorphism*: the idea of a function (or collection of them) whose implementation in general depends on the type it is (they are) applied to.\n",
    "(We must have some motivation for considering all of these distinct functions \"the same\" in a way that is at least partially captured by what we can express, encourage, and enforce.) \n",
    "We say that all these distinct implementations are *instances* of the typeclass.\n",
    "An instance is usually 'indexed' or looked up by the type of some value, and can usually be uniquely determined from that in any given context.\n",
    "\n",
    "The rough object-oriented analogue for this is an *interface*.\n",
    "\n",
    "For example, one might have two distinct implementations of some basic datatype adapted for different use cases, or two domain-specific mathematical stuctures that each satisfy a set of criteria and have a set of precise parrallels with respect to each other as a result.\n",
    "\n",
    "```[python]\n",
    "from classes import AssociatedType, Supports, typeclass\n",
    "\n",
    "# `CanSpeak` is a typeclass\n",
    "class CanSpeak(AssociatedType):\n",
    "  '''Implementation-independent specification'''\n",
    "\n",
    "# `CanSpeak` instances must define this function \n",
    "# with this type signatue (or something close).\n",
    "@typeclass(CanSpeak)\n",
    "def speak(instance: \"Supports[CanSpeak]\") -> str:\n",
    "  '''Retuns string with \"speech\".'''\n",
    "# no implementation!  \n",
    "\n",
    "\n",
    "@dataclass\n",
    "class Dog(Animal):\n",
    "  name: str\n",
    "\n",
    "@speak.instance(Dog)\n",
    "def speakInstance(instance: Dog) -> str:\n",
    "  return \"woof!\"\n",
    "\n",
    "@dataclass\n",
    "class SmartToaster(Robot):\n",
    "  heat_level: int\n",
    "  ads_to_play: list[Ad]\n",
    "  \n",
    "@speak.instance(SmartToaster)\n",
    "def anotherSpeakInstance(instance: SmartToaster) -> str:\n",
    "  return next(ads_to_play)\n",
    "  \n",
    "speak(Dog(\"Fido\"))\n",
    "speak(SmartToaster(11, theSameAdButFiveTimesInArow))\n",
    "```\n",
    "\n",
    "\n"
   ]
  },
  {
   "cell_type": "markdown",
   "id": "e389230f-e76a-4a45-905d-a53a3e71e914",
   "metadata": {},
   "source": [
    "Typeclasses are also a limited mechanism for \"semantic metaprogramming\": a typeclass is a function fom types to values, and those values are functions - code!\n",
    "  - when you call `speak(Dog(\"Fido\"))`, you're not making any overt reference to a particular implementation, so it must be inferred.\n",
    "    - In languages with first-class support for typeclasses, there are mechanisms for allowing the (at least compile-time) *context of the call site* to a typeclass's function to determine how to resolve which typeclass instance to use, in case there are several available. "
   ]
  },
  {
   "cell_type": "markdown",
   "id": "412f153b-bec7-4772-a97b-fbab9bc18011",
   "metadata": {},
   "source": [
    " **What is it?**\n",
    "\n",
    " - A typeclass $t$ is mainly defined by an explicit set of required functions.\n",
    "   - These functions may have a default implementation.\n",
    " - For any type to be an *instance* of the type class, it must have an implementation for every function associated with the typeclass.\n",
    " - Typeclasses can also be *constrained* or *refined*, so that only types that are subclasses (or instances of some othe typeclass) can be instances.\n",
    " - The most commonly used typeclasses all have strong associated expectations about how all the required functions behave together (above and beyond their type signatures), often forming loose networks and hierarchies.\n",
    "   - `Order.py` is typical in presenting an algebraically motivated hierarchy of typeclasses, starting at an arbitrary level that seems useful for enough applications."
   ]
  },
  {
   "cell_type": "markdown",
   "id": "f11c5eac-1927-49a7-b7d4-fc30afe27ea8",
   "metadata": {},
   "source": [
    "Per the documentation of the `classes` package, a typeclass is a very simple idea, and a compelling alternative to the half-baked, bolted-on grabbag of object-oriented mechanisms for polymorphism available by default in Python (subtyping, abstract classes, protocols, single dispatch...).\n",
    " - See https://sobolevn.me/2021/06/typeclasses-in-python\n",
    " - Or https://classes.readthedocs.io/en/latest/index.html"
   ]
  },
  {
   "cell_type": "markdown",
   "id": "a3eff3ac-3dd3-4624-a582-9bdecab5b695",
   "metadata": {},
   "source": [
    "### Why use them? Why here?"
   ]
  },
  {
   "cell_type": "markdown",
   "id": "8d3746c8-fd03-41eb-bef9-1115b100c0a9",
   "metadata": {},
   "source": [
    "Python's underlying type and class abstractions are an evolving and maturing mess with some limitations on how much they can really achieve or be built on without a new language specification.\n",
    "Why try typeclasses?"
   ]
  },
  {
   "cell_type": "markdown",
   "id": "3eccd646-5979-4434-b2ed-f54567cf0739",
   "metadata": {},
   "source": [
    "*Typeclasses are the right tool for the job.*\n",
    "\n",
    "The scope of this project is small and essentially about \n",
    " - presenting different implementations of the same few datatypes that all represent mathematical structures.\n",
    " - testing/demonstrating that expected mathematical properties hold of these implementations.\n",
    " \n",
    "Typeclassess that have associated *algebaic laws* describing the expected behavior of the functions required to be implemented are some of the most common and foundational uses of typeclasses in languages that have them."
   ]
  },
  {
   "cell_type": "markdown",
   "id": "7846b96f-08e9-4f4a-a8b4-99f3f6a5f459",
   "metadata": {
    "jp-MarkdownHeadingCollapsed": true,
    "tags": []
   },
   "source": [
    "#### Why not use subtyping?\n",
    "\n",
    "Without rehashing the debate on the merits of object-oriented progamming...\n",
    " - Subtyping and (especially) inheritance make code hard to reason about.\n",
    " - Typeclasses don't require much, and don't impose a lot of baggage.\n",
    " - Typeclasses allow more code reuse than inheritance.\n",
    " - Typeclasses are one of the basic tools (dating back to the 90s) that help address [the expression problem](https://en.wikipedia.org/wiki/Expression_problem)."
   ]
  },
  {
   "cell_type": "markdown",
   "id": "4e4f7e95-4f9a-4599-95fd-4cb02d37450e",
   "metadata": {},
   "source": [
    "#### Ok, but why not use an existing Python mechanism for expressing something like the object-oriented idea of an 'interface'?\n",
    "\n",
    " - See https://sobolevn.me/2021/06/typeclasses-in-python\n",
    " - Or https://classes.readthedocs.io/en/latest/index.html"
   ]
  },
  {
   "cell_type": "markdown",
   "id": "5b0dd9ae-2734-4890-b1ae-fda6b6796fc2",
   "metadata": {},
   "source": [
    "#### Fine. Why bother with Python's garbage type system at all?\n",
    "\n",
    " - Types and typeclasses still convey useful information about developer intent and the *meaning* of code.\n",
    " - Types and typeclasses make it easier to write code that is composable, reusable, and easier (or even just practically possible) to refactor instead of rewrite.\n",
    " - Ease of porting code to/from languages with better type systems.\n",
    " - Fewer bugs.\n",
    " - Fewer tests.\n",
    " - Test automation."
   ]
  },
  {
   "cell_type": "markdown",
   "id": "fedbc937-8fca-4d3d-a32f-451caeaf1b59",
   "metadata": {},
   "source": [
    "# The typeclass implementation here w/ examples"
   ]
  },
  {
   "cell_type": "markdown",
   "id": "6bab54e3-bb9d-422a-ba13-0d91c49a76c5",
   "metadata": {},
   "source": [
    "A *typeclass* is a garden variety class\n",
    " - that extends (directly or indirectly) `AssociatedType`\n",
    " - with one or more functions that are associated with that class via decorators."
   ]
  },
  {
   "cell_type": "code",
   "execution_count": 2,
   "id": "972fcde2-a86b-4e06-8153-1b9c4a1db368",
   "metadata": {
    "execution": {
     "iopub.execute_input": "2022-04-05T02:28:46.049820Z",
     "iopub.status.busy": "2022-04-05T02:28:46.049653Z",
     "iopub.status.idle": "2022-04-05T02:28:46.061216Z",
     "shell.execute_reply": "2022-04-05T02:28:46.060561Z",
     "shell.execute_reply.started": "2022-04-05T02:28:46.049799Z"
    },
    "tags": []
   },
   "outputs": [
    {
     "name": "stdout",
     "output_type": "stream",
     "text": [
      "int: foo @ 3\n",
      "object: foo @ spam\n",
      "foo! @ IdNumber(value=1234)\n"
     ]
    }
   ],
   "source": [
    "# A typeclass\n",
    "class CanFoo(AssociatedType):\n",
    "  \"\"\"Can call foo\"\"\"\n",
    "\n",
    "  \n",
    "# A function whose signatue we want to associate \n",
    "# with `CanFoo`.\n",
    "# This (together with the `AssociatedType` above)\n",
    "# makes `CanFoo` a typeclass.\n",
    "@typeclass(CanFoo)\n",
    "def foo(instance : \"Supports[CanFoo]\") -> None:\n",
    "  \"\"\"foos\"\"\"\n",
    "# Notice it has no implementation.\n",
    "\n",
    "# Below is exactly the same snippet, but with an \n",
    "# implementation.\n",
    "# If comment out the snippet above, and uncomment\n",
    "# the snippet below, we will get an error.\n",
    "# @typeclass(CanFoo)\n",
    "# def foo(instance: \"Supports[CanFoo]\") -> None:\n",
    "#   \"\"\"foos\"\"\"\n",
    "#   print(f\"foo @ {instance}\") #\n",
    "\n",
    "\n",
    "# For the time being, this is how a default instance\n",
    "# is defined.\n",
    "# Note to self: stay tuned for https://github.com/dry-python/classes/issues/307\n",
    "@foo.instance(object)\n",
    "def fooForObjects(instance: object) -> None:\n",
    "  print(f\"object: foo @ {instance}\")\n",
    "\n",
    "\n",
    "# An example of how you might define a type-indexed\n",
    "# instance of the `foo` function above.\n",
    "@foo.instance(int)\n",
    "def _foo_int(instance: int) -> None:\n",
    "  print(f\"int: foo @ {instance}\") \n",
    "# Because `foo` is the only \"typeclass\" decorated\n",
    "# function associated with `CanFoo`, that means\n",
    "# `int` is now an instance of the `CanFoo` typeclass.\n",
    "\n",
    "\n",
    "# Below we define a custom datatype and show how to\n",
    "# make an instance of the `CanFoo` typeclass\n",
    "@dataclass\n",
    "class IdNumber:\n",
    "  value: int\n",
    "\n",
    "@foo.instance(IdNumber)\n",
    "def _foo_Id(instance: IdNumber) -> None:\n",
    "  print(f\"foo! @ {instance}\")\n",
    "\n",
    "\n",
    "foo(3)      # \"int: foo @ 3\"\n",
    "foo(\"spam\") # \"object: foo @ spam\"\n",
    "\n",
    "an_id = IdNumber(1234)\n",
    "foo(an_id)  # \"foo! @ IdNumber(value=1234)\""
   ]
  },
  {
   "cell_type": "markdown",
   "id": "06a3efda-6e4c-4d83-a5a5-04ece328b54c",
   "metadata": {},
   "source": [
    "## More complicated examples"
   ]
  },
  {
   "cell_type": "markdown",
   "id": "63ce57c7-5b53-4359-a064-972360f76a17",
   "metadata": {},
   "source": [
    "Here we have a typeclass\n",
    " - with more than one required function.\n",
    " - with one function that has no default implementation."
   ]
  },
  {
   "cell_type": "code",
   "execution_count": 3,
   "id": "0776be1b-0fd1-4344-b2e9-2fc498c8580d",
   "metadata": {
    "execution": {
     "iopub.execute_input": "2022-04-05T02:28:46.062721Z",
     "iopub.status.busy": "2022-04-05T02:28:46.062468Z",
     "iopub.status.idle": "2022-04-05T02:28:46.082124Z",
     "shell.execute_reply": "2022-04-05T02:28:46.081589Z",
     "shell.execute_reply.started": "2022-04-05T02:28:46.062686Z"
    },
    "tags": []
   },
   "outputs": [],
   "source": [
    "#typeclass\n",
    "class CanBarBaz(AssociatedType):\n",
    "  \"\"\"Can call bar and baz\"\"\"\n",
    "\n",
    "#signature of bar\n",
    "@typeclass(CanBarBaz)\n",
    "def bar(instance: \"Supports[CanBarBaz]\") -> None:\n",
    "  \"\"\"bars\"\"\"\n",
    "  \n",
    "#signature of baz\n",
    "@typeclass(CanBarBaz)\n",
    "def baz(instance: \"Supports[CanBarBaz]\") -> None:\n",
    "  \"\"\"bazs\"\"\"\n",
    "  \n",
    "# default instance for `bar`\n",
    "@bar.instance(object)\n",
    "def _bar_default(instance: object) -> None:\n",
    "  return f\"object: bar @ {instance} with {baz(instance)}\"\n",
    "# NOTE how the default implementation for `bar` \n",
    "# *calls* `baz` and hence depends on the existence of\n",
    "# an appropriate implementation.\n",
    "  \n",
    "# (No default instance for 'baz'...)"
   ]
  },
  {
   "cell_type": "markdown",
   "id": "b0c04ef9-ca67-4e5d-8d75-c05b66752608",
   "metadata": {},
   "source": [
    "Below, we define a custom type that is an instance of `CanBarBaz`:"
   ]
  },
  {
   "cell_type": "code",
   "execution_count": 4,
   "id": "d5d26d26-5e55-48f8-8321-0b9982a6045c",
   "metadata": {
    "execution": {
     "iopub.execute_input": "2022-04-05T02:28:46.083070Z",
     "iopub.status.busy": "2022-04-05T02:28:46.082912Z",
     "iopub.status.idle": "2022-04-05T02:28:46.110197Z",
     "shell.execute_reply": "2022-04-05T02:28:46.109538Z",
     "shell.execute_reply.started": "2022-04-05T02:28:46.083049Z"
    },
    "tags": []
   },
   "outputs": [
    {
     "name": "stdout",
     "output_type": "stream",
     "text": [
      "object: bar @ Participant(name='Grad, U') with baz from Participant(name='Grad, U')\n",
      "baz from Participant(name='Grad, U')\n"
     ]
    }
   ],
   "source": [
    "@dataclass\n",
    "class Participant:\n",
    "  name: str\n",
    "\n",
    "@baz.instance(Participant)\n",
    "def _baz_part(instance: Participant) -> None:\n",
    "  return f\"baz from {instance}\"\n",
    "\n",
    "p = Participant(\"Grad, U\")\n",
    "print(bar(p))\n",
    "print(baz(p))"
   ]
  },
  {
   "cell_type": "markdown",
   "id": "a9502b49-7d92-4a61-b3e9-1fe9f533d7bd",
   "metadata": {},
   "source": [
    "What about when you have a typeclass operation that constrains more than one type?"
   ]
  },
  {
   "cell_type": "code",
   "execution_count": 8,
   "id": "e1a228e4-b722-4851-b157-c4e899d58c47",
   "metadata": {
    "execution": {
     "iopub.execute_input": "2022-04-05T02:30:47.464015Z",
     "iopub.status.busy": "2022-04-05T02:30:47.463659Z",
     "iopub.status.idle": "2022-04-05T02:30:47.470192Z",
     "shell.execute_reply": "2022-04-05T02:30:47.469415Z",
     "shell.execute_reply.started": "2022-04-05T02:30:47.463970Z"
    },
    "tags": []
   },
   "outputs": [],
   "source": [
    "A = TypeVar('A')\n",
    "B = TypeVar('B')\n",
    "\n",
    "class Functor(Generic[A], AssociatedType):\n",
    "  '''\n",
    "  In a nutshell, something is an instance of a\n",
    "  Functor if it is some kind of container or\n",
    "  computational 'context' that has systematic,\n",
    "  nicely behaved complications or other \n",
    "  consequences for \n",
    "   - function application.\n",
    "   - function composition.\n",
    "   \n",
    "  The function that handles function application \n",
    "  and composition in light of complications or\n",
    "  context posed by some functor instance F is \n",
    "  called `map` or `fmap`:\n",
    "    fmap : (A -> B) x F[A] -> F[B]\n",
    "  It must obey two laws:\n",
    "    fmap(identity, fa) = identity(fa)\n",
    "    fmap(g \\of f,  fa) = fmap(g, fmap(f, fa))\n",
    "    \n",
    "  `fmap` takes\n",
    "    - a function that doesn't know anything\n",
    "      about F\n",
    "    - some F structure or context containing \n",
    "      value(s) from A\n",
    "  and takes care of any complications that may\n",
    "  arise due to F while applying the function,\n",
    "  resulting in an F structure or context containing\n",
    "  a transformed B value.\n",
    "  \n",
    "   \n",
    "  Example: The concrete starting place is *lists*.\n",
    "  Given two functions\n",
    "    f : int -> int\n",
    "    f = lambda x: x + 2\n",
    "    \n",
    "    g : int -> str\n",
    "    g = lambda x: str(x)\n",
    "  and a list l : list[int]\n",
    "    l = [10,3]\n",
    "  is there a natural way to \"contextually \n",
    "  redefine\" function application so it works the\n",
    "  way it does without having to know anything \n",
    "  about the fact that lists are involved?\n",
    "  In other words, can you define a combinator \n",
    "    fmap : (A -> B) x list[A] -> list[B]\n",
    "  that takes \n",
    "   - *any garden variety function* turning\n",
    "  A values into B values\n",
    "   - a list of A values\n",
    "  and returns\n",
    "   - a list of B values\n",
    "  with the list structure of the input preserved\n",
    "  in the output?\n",
    "  Yes:\n",
    "    fmap = lambda f, l: [f(x) for x in l]\n",
    "  '''\n",
    "  \n",
    "@typeclass(Functor)\n",
    "def fmap(f: A -> B, Fa: Supports[Functor]) -> Supports[Functor]:\n",
    "  '''Function application in a functorial context.'''\n",
    "\n",
    "@dataclass\n",
    "class Maybe(Generic[A], Functor):\n",
    "  value: A\n",
    "  \n",
    "# @adt\n",
    "\n",
    "\n",
    " # @typeclass(Semiring)"
   ]
  },
  {
   "cell_type": "code",
   "execution_count": null,
   "id": "a7e742de-c975-451a-a751-93c263b7b9aa",
   "metadata": {},
   "outputs": [],
   "source": [
    "class Magma(AssociatedType):\n",
    "  '''\n",
    "  A magma is a carrier set A together with\n",
    "  a binary operation * such that\n",
    "   - * is total over A.\n",
    "   - A is closed under *.\n",
    "  \n",
    "  Intuitively, a magma can define binary \n",
    "  trees with data drawn from A at leaves.\n",
    "  \n",
    "  Examples of magma elements over A = {a,b}:\n",
    "    a\n",
    "    b\n",
    "    a*b\n",
    "    (a*b)*a\n",
    "    (b*(a*b))*a\n",
    "  Parentheses are not optional.\n",
    "  '''\n",
    "\n",
    "@typeclass(Magma)\n",
    "def multiply(a: Supports[Magma], b: Supports[Magma]) -> Supports[Magma]:\n",
    "  '''Total and closed binary operation over A.'''\n",
    "\n",
    "#if this were a real magma typeclass, we'd specify\n",
    "# other operations that make sense for magmas...\n",
    "\n",
    "@multiply.instance(int)\n",
    "def _multiply_int(a: int, b: int) -> int:\n",
    "  return a * b\n",
    "\n",
    "class Semigroup(Magma):\n",
    "  '''\n",
    "  A semigroup is a magma whose operation is\n",
    "  associative:\n",
    "   a*(b*c) = (a*b)*c\n",
    "  for all a,b,c : A.\n",
    "  \n",
    "  Intuitively, a semigroup is a non-empty sequence.\n",
    "  '''\n",
    "  \n",
    "@typeclass(Semigroup)\n",
    "def len(a: Supports[Semigroup]) -> int:\n",
    "  \n",
    "\n",
    "class Monoid(Magma):\n",
    "  '''\n",
    "  A monoid is a magma with two differences:\n",
    "   - The operation is associative:\n",
    "       a*(b*c) == (a*b)*c\n",
    "     for all a,b,c in the carrier set A.\n",
    "   - There is a unique two-sided identity element e:\n",
    "       e*a == a*e == a\n",
    "     for all a in the carrier set.\n",
    "   Intuitively, \n",
    "  '''\n",
    "\n",
    "# @typeclass(Semigroup)\n",
    "# def \n",
    "# # class Semiring(AssociatedType):\n",
    "# #   '''\n",
    "# #   A semiring is a carrier set A where two\n",
    "# #   distinct algebraic structures come together\n",
    "# #   and interact in a nice way:\n",
    "# #    - (A,+,0) forms a commutative group.\n",
    "# #    - (A,*,1) forms a monoid.\n",
    "# #    - Multiplication distributes over addition from both sides.\n",
    "# #    - $\\forall a, 0 * a = a * 0 = 0$: the additive identity is the multiplicative absorbing element.\n",
    "# #   '''\n",
    "  \n",
    "# # @typeclass(Semiring)\n",
    "\n",
    "# # class Semiring(AssociatedType):\n",
    "# #   '''\n",
    "# #   A semiring is a carrier set A where two\n",
    "# #   distinct algebraic structures come together\n",
    "# #   and interact in a nice way:\n",
    "# #    - (A,+,0) forms a commutative group.\n",
    "# #    - (A,*,1) forms a monoid.\n",
    "# #    - Multiplication distributes over addition from both sides.\n",
    "# #    - $\\forall a, 0 * a = a * 0 = 0$: the additive identity is the multiplicative absorbing element.\n",
    "# #   '''\n",
    "  \n",
    "#"
   ]
  },
  {
   "cell_type": "code",
   "execution_count": 9,
   "id": "2b3b9fd6-268c-4247-8d74-df0d026bb0ed",
   "metadata": {
    "execution": {
     "iopub.execute_input": "2022-04-05T02:30:48.182724Z",
     "iopub.status.busy": "2022-04-05T02:30:48.182514Z",
     "iopub.status.idle": "2022-04-05T02:30:48.186602Z",
     "shell.execute_reply": "2022-04-05T02:30:48.185986Z",
     "shell.execute_reply.started": "2022-04-05T02:30:48.182699Z"
    },
    "tags": []
   },
   "outputs": [
    {
     "data": {
      "text/plain": [
       "12"
      ]
     },
     "execution_count": 9,
     "metadata": {},
     "output_type": "execute_result"
    }
   ],
   "source": [
    "multiply(3, 4)"
   ]
  },
  {
   "cell_type": "markdown",
   "id": "016be508-c17b-49da-a1b9-d44077da5c04",
   "metadata": {},
   "source": [
    "Below we have a function that's ostensibly defined on any x that is an instance of *both* `CanFoo` and `CanBarBaz`:"
   ]
  },
  {
   "cell_type": "code",
   "execution_count": 56,
   "id": "7ce7aa7f-24c8-4fba-abf0-80631610ae6c",
   "metadata": {
    "execution": {
     "iopub.execute_input": "2022-04-05T01:01:56.768524Z",
     "iopub.status.busy": "2022-04-05T01:01:56.768064Z",
     "iopub.status.idle": "2022-04-05T01:01:56.777568Z",
     "shell.execute_reply": "2022-04-05T01:01:56.776320Z",
     "shell.execute_reply.started": "2022-04-05T01:01:56.768468Z"
    },
    "tags": []
   },
   "outputs": [
    {
     "name": "stdout",
     "output_type": "stream",
     "text": [
      "object: foo @ Participant(name='Grad, U')\n",
      "None | object: bar @ Participant(name='Grad, U') with baz from Participant(name='Grad, U')\n",
      "int: foo @ 3\n",
      "None\n"
     ]
    }
   ],
   "source": [
    "# An ordinary function whose implementation/semantics should not be expected to\n",
    "# be dependent on the specific implementation x has for either `CanFoo` or \n",
    "# `CanBarBaz`\n",
    "# YES it says union below, but the result is intersection. ¯\\_(ツ)_/¯\n",
    "# That is the current state of the stable branch, but that is not where it will\n",
    "# be -> https://github.com/dry-python/classes/issues/206#issuecomment-867531319\n",
    "def functionThatNeedsFooAndBarBaz(x: Supports[Union[CanFoo, CanBarBaz]]) -> str:\n",
    "  return f\"{foo(x)} | {bar(x)}\"\n",
    "\n",
    "print(functionThatNeedsFooAndBarBaz(p)) # \"None | object: bar @ Participant(name='Grad, U') with baz from Participant(name='Grad, U')\"\n",
    "\n",
    "# 3 (and generally ints) has an instance for CanFoo but not for CanBarBaz\n",
    "# print(foo(3)) #\"int: foo @ 3\\nNone\"\n",
    "# bar(3) # will raise a \"not implemented\" exception\n",
    "# print(functionThatNeedsFooAndBarBaz(3)) #will raise one as well, for the same reason"
   ]
  },
  {
   "cell_type": "markdown",
   "id": "98dada5a-b900-4979-af71-d63a24dafee2",
   "metadata": {},
   "source": [
    "If there's some specific kind of behavior that occurs in something we want to capture with more than one kind of typeclass, we simply express them using the ```Supports[Union[A, ...]]``` class.\n",
    "\n",
    "Below, we have a typeclass that is simply the intersection of some existing ones."
   ]
  },
  {
   "cell_type": "code",
   "execution_count": 63,
   "id": "142e6e0a-e46f-4420-ac99-f6fa8384f936",
   "metadata": {
    "execution": {
     "iopub.execute_input": "2022-04-05T01:15:39.810531Z",
     "iopub.status.busy": "2022-04-05T01:15:39.810303Z",
     "iopub.status.idle": "2022-04-05T01:15:39.815677Z",
     "shell.execute_reply": "2022-04-05T01:15:39.815002Z",
     "shell.execute_reply.started": "2022-04-05T01:15:39.810503Z"
    },
    "tags": []
   },
   "outputs": [
    {
     "name": "stdout",
     "output_type": "stream",
     "text": [
      "object: foo @ Participant(name='Grad, U')\n",
      "None - - - object: bar @ Participant(name='Grad, U') with baz from Participant(name='Grad, U')\n"
     ]
    }
   ],
   "source": [
    "# A = TypeVar(\"A\", bound = Supports[CanFoo, CanBarBaz])\n",
    "\n",
    "class CanFooAndBarBaz(AssociatedType):\n",
    "# class CanFooAndBarBaz(CanFoo, CanBarBaz):\n",
    "  '''Fooing with now with BarBazzing'''\n",
    "  \n",
    "@typeclass(CanFooAndBarBaz)\n",
    "def needsFooAndBarBaz(instance: Supports[Union[CanFoo, CanBarBaz]]) -> str:\n",
    "  '''some function that depends on functionality from both typeclasses'''\n",
    "  \n",
    "# yes, it says `object`, but remember all that means is it's a default \n",
    "# implementation\n",
    "@needsFooAndBarBaz.instance(object)\n",
    "def tripleThreat(instance: object) -> str:\n",
    "  return f\"{foo(instance)} - - - {bar(instance)}\"\n",
    "\n",
    "print(needsFooAndBarBaz(p)) # \"object: foo @ Participant(name='Grad, U')\\nNone - - - object: bar @ Participant(name='Grad, U') with baz from Participant(name='Grad, U')\"\n",
    "#print(needsFooAndBarBaz(3)) # will print \"int: foo @ 3\" before raising a 'not implemented' exception..."
   ]
  },
  {
   "cell_type": "markdown",
   "id": "42cc4bea-6846-472a-b8a8-55b393fb0eb8",
   "metadata": {},
   "source": [
    "What about creating a typeclass that inherits from another typeclass?"
   ]
  },
  {
   "cell_type": "code",
   "execution_count": 64,
   "id": "ac62ec64-1b33-4cfe-bb23-c3074031e5f7",
   "metadata": {
    "execution": {
     "iopub.execute_input": "2022-04-05T01:24:09.435362Z",
     "iopub.status.busy": "2022-04-05T01:24:09.434593Z",
     "iopub.status.idle": "2022-04-05T01:24:09.445260Z",
     "shell.execute_reply": "2022-04-05T01:24:09.443329Z",
     "shell.execute_reply.started": "2022-04-05T01:24:09.435243Z"
    }
   },
   "outputs": [],
   "source": [
    "# This is possible\n",
    "class CanFooSub(CanFoo):\n",
    "  '''Fooing, but with modification'''\n",
    "  \n",
    "#if we redefine any of CanFoo's functions and we're not careful, we'll overwrite\n",
    "# existing definition.\n",
    "# Here for example, the foo immediately below is in the same namespace/scope\n",
    "# as the earlier one (as opposed to being inside different modules, for example).\n",
    "# @typeclass(CanFooSub)\n",
    "# def foo(instance: Supports[CanFooSub]) -> str:\n",
    "#   '''Overwrites foo!'''"
   ]
  }
 ],
 "metadata": {
  "kernelspec": {
   "display_name": "Python3 - mach-nix-saguaro",
   "language": "python",
   "name": "ipython_mach-nix-saguaro"
  },
  "language_info": {
   "codemirror_mode": {
    "name": "ipython",
    "version": 3
   },
   "file_extension": ".py",
   "mimetype": "text/x-python",
   "name": "python",
   "nbconvert_exporter": "python",
   "pygments_lexer": "ipython3",
   "version": "3.9.9"
  }
 },
 "nbformat": 4,
 "nbformat_minor": 5
}
