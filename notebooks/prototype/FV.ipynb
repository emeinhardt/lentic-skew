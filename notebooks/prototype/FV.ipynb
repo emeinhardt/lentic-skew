{
 "cells": [
  {
   "cell_type": "code",
   "execution_count": 1,
   "id": "3ad6f41f-53e8-4097-93e6-2578d0d9566f",
   "metadata": {
    "execution": {
     "iopub.execute_input": "2022-03-28T05:32:50.878674Z",
     "iopub.status.busy": "2022-03-28T05:32:50.877941Z",
     "iopub.status.idle": "2022-03-28T05:32:50.904567Z",
     "shell.execute_reply": "2022-03-28T05:32:50.902424Z",
     "shell.execute_reply.started": "2022-03-28T05:32:50.878475Z"
    },
    "tags": []
   },
   "outputs": [],
   "source": [
    "from IPython.core.interactiveshell import InteractiveShell\n",
    "InteractiveShell.ast_node_interactivity = 'all'"
   ]
  },
  {
   "cell_type": "code",
   "execution_count": 2,
   "id": "119f79be-6137-4237-b0d1-e87521d932bc",
   "metadata": {
    "execution": {
     "iopub.execute_input": "2022-03-28T05:32:50.909349Z",
     "iopub.status.busy": "2022-03-28T05:32:50.908767Z",
     "iopub.status.idle": "2022-03-28T05:32:51.094451Z",
     "shell.execute_reply": "2022-03-28T05:32:51.093880Z",
     "shell.execute_reply.started": "2022-03-28T05:32:50.909274Z"
    },
    "tags": []
   },
   "outputs": [],
   "source": [
    "from tqdm import tqdm, tqdm_notebook\n",
    "\n",
    "from dataclasses import dataclass\n",
    "from typing import *\n",
    "\n",
    "from copy import deepcopy\n",
    "from functools import reduce\n",
    "from itertools import product\n",
    "\n",
    "# `funcy` provides some convenient functionally-flavored combinators for manipulating collections and \n",
    "# dictionaries used throughout: https://funcy.readthedocs.io/en/stable/index.html\n",
    "from funcy import * \n",
    "\n",
    "# from z3 import *\n",
    "import z3\n",
    "\n",
    "import igraph as ig\n",
    "#import pygraphviz as pgv\n",
    "from IPython.display import Image"
   ]
  },
  {
   "cell_type": "code",
   "execution_count": 3,
   "id": "a66d1205-27c5-4759-a711-1841bbb04382",
   "metadata": {
    "execution": {
     "iopub.execute_input": "2022-03-28T05:32:51.095467Z",
     "iopub.status.busy": "2022-03-28T05:32:51.095306Z",
     "iopub.status.idle": "2022-03-28T05:32:51.097796Z",
     "shell.execute_reply": "2022-03-28T05:32:51.097264Z",
     "shell.execute_reply.started": "2022-03-28T05:32:51.095447Z"
    }
   },
   "outputs": [],
   "source": [
    "# def pi(i: int):\n",
    "#   assert i > -1\n",
    "#   def projection(seq):\n",
    "#     assert len(seq) > i\n",
    "#     return seq[i]\n",
    "#   return projection\n",
    "\n",
    "# def p0(seq):\n",
    "#   return pi(0)(seq)\n",
    "\n",
    "# def p1(seq):\n",
    "#   return pi(1)(seq)\n",
    "\n",
    "# def p2(seq):\n",
    "#   return pi(2)(seq)\n",
    "\n",
    "# def fst(seq):\n",
    "#   return p0(seq)\n",
    "\n",
    "# def snd(seq):\n",
    "#   return p1(seq)\n",
    "\n",
    "# def thrd(seq):\n",
    "#   return p2(seq)"
   ]
  },
  {
   "cell_type": "code",
   "execution_count": 4,
   "id": "ed625ed5-2a57-4d16-ab65-6fd3dcc58d36",
   "metadata": {
    "execution": {
     "iopub.execute_input": "2022-03-28T05:32:51.098586Z",
     "iopub.status.busy": "2022-03-28T05:32:51.098433Z",
     "iopub.status.idle": "2022-03-28T05:32:51.123033Z",
     "shell.execute_reply": "2022-03-28T05:32:51.122507Z",
     "shell.execute_reply.started": "2022-03-28T05:32:51.098567Z"
    },
    "tags": []
   },
   "outputs": [],
   "source": [
    "def block_current_model(s):\n",
    "  assert s.check() == z3.sat, f\"no model to block!\"\n",
    "  m = s.model()\n",
    "  if len([f for f in m.decls() if f.arity() == 0]) > 0:\n",
    "    s.add(z3.Or([ f() != m[f] for f in m.decls() if f.arity() == 0]))\n",
    "  return s\n",
    "\n",
    "def all_smt(s):\n",
    "  models = []\n",
    "  while z3.sat == s.check():\n",
    "    models.append(s.model())\n",
    "    print(f\"model # {len(models)}\")\n",
    "    #print(s.model())\n",
    "    block_current_model(s)\n",
    "  return models\n",
    "\n",
    "def block_current_model_just(s, terms):\n",
    "  assert s.check() == z3.sat, f\"no model to block!\"\n",
    "  m = s.model()\n",
    "  s.add(z3.Or([t != m.eval(t, model_completion=True) for t in terms]))\n",
    "  return s\n",
    "\n",
    "def all_smt_just(s, terms):\n",
    "  models = []\n",
    "  while z3.sat == s.check():\n",
    "    models.append(s.model())\n",
    "    print(f\"model # {len(models)}\")\n",
    "    #print(s.model())\n",
    "    block_current_model_just(s, terms)\n",
    "  return models"
   ]
  },
  {
   "cell_type": "code",
   "execution_count": 5,
   "id": "373c480d-f9f0-45d6-9641-62eb0cc4c5d9",
   "metadata": {
    "execution": {
     "iopub.execute_input": "2022-03-28T05:32:51.123928Z",
     "iopub.status.busy": "2022-03-28T05:32:51.123767Z",
     "iopub.status.idle": "2022-03-28T05:32:51.150643Z",
     "shell.execute_reply": "2022-03-28T05:32:51.150084Z",
     "shell.execute_reply.started": "2022-03-28T05:32:51.123907Z"
    },
    "tags": []
   },
   "outputs": [],
   "source": [
    "from FV import *"
   ]
  },
  {
   "cell_type": "markdown",
   "id": "353c68ea-5652-42ac-9064-c48337a2989c",
   "metadata": {},
   "source": [
    "# Tests"
   ]
  },
  {
   "cell_type": "code",
   "execution_count": 6,
   "id": "5c839bbb-2b30-448e-94e1-3637c26f34e5",
   "metadata": {
    "execution": {
     "iopub.execute_input": "2022-03-28T05:32:51.151739Z",
     "iopub.status.busy": "2022-03-28T05:32:51.151501Z",
     "iopub.status.idle": "2022-03-28T05:32:51.164991Z",
     "shell.execute_reply": "2022-03-28T05:32:51.164499Z",
     "shell.execute_reply.started": "2022-03-28T05:32:51.151705Z"
    },
    "tags": []
   },
   "outputs": [],
   "source": [
    "testM = 3\n",
    "vals  = (-1, 0, 1)\n",
    "allV3 = {FeatureVector.fromInts([a, b, c]) for a,b,c in zip(vals,vals,vals)}\n",
    "v0    = FeatureVector.z(3)\n",
    "v1    = FeatureVector.fromString(\"[0 0 +]\")\n",
    "v2    = FeatureVector.fromString(\"[+ 0 0]\")\n",
    "v3    = FeatureVector.fromString(\"[0 + +]\")\n",
    "v4    = FeatureVector.fromString(\"[+ + +]\")\n",
    "v5    = FeatureVector.fromString(\"[0 0 -]\")\n",
    "v6    = FeatureVector.fromString(\"[- - 0]\")"
   ]
  },
  {
   "cell_type": "code",
   "execution_count": 7,
   "id": "f6a68ebd-21e4-4e3f-9765-b44615bb7060",
   "metadata": {
    "execution": {
     "iopub.execute_input": "2022-03-28T05:32:51.165854Z",
     "iopub.status.busy": "2022-03-28T05:32:51.165692Z",
     "iopub.status.idle": "2022-03-28T05:32:51.182090Z",
     "shell.execute_reply": "2022-03-28T05:32:51.181496Z",
     "shell.execute_reply.started": "2022-03-28T05:32:51.165833Z"
    },
    "tags": []
   },
   "outputs": [],
   "source": [
    "assert all([v0 <= v\n",
    "            for v in allV3])\n",
    "assert all([v4 == v or (not v4 <= v)\n",
    "            for v in allV3])\n",
    "assert v0 <= v1 <= v3 <= v4\n",
    "assert v2 <= v4\n",
    "assert not (v5 <= v6)\n",
    "assert not (v6 <= v5)\n",
    "assert all([(not v.value[2].value == 1) or v1 <= v\n",
    "            for v in allV3])\n",
    "assert FeatureVector.meet(v2, v3) == v0\n",
    "assert FeatureVector.meet(v1, v3) == v1\n",
    "assert FeatureVector.join(v2, v3) == v4\n",
    "assert v5 <= FeatureVector.join(v5, v6)"
   ]
  },
  {
   "cell_type": "markdown",
   "id": "0133d058-2d46-49a2-9527-f1f906c208f0",
   "metadata": {},
   "source": [
    "# Introduction"
   ]
  },
  {
   "cell_type": "markdown",
   "id": "2be7852e-dc0f-4a12-a70c-053db6dcd03b",
   "metadata": {},
   "source": [
    "This notebook is a pedagogical version of an exploration of different possible SMT encodings in `z3` where each encoding will help us solve basic problems surrounding\n",
    " - searching for a \"natural class\" feature vector that describes a set of feature vectors (\"observed sounds all thought to be participating in some phonological pattern\").\n",
    " - searching for descriptions of rules consistent with a set of observed input-output examples."
   ]
  },
  {
   "cell_type": "markdown",
   "id": "372f0712-d926-4b3f-8287-051c75f9064f",
   "metadata": {},
   "source": [
    "## Intended audience\n",
    "\n",
    "I will assume \n",
    " - the reader has some level of familiarity with Python and introductory-level phonology\n",
    " - the reader understands (or can look at e.g. Wikipedia and understand) the difference between a partial order and a semilattice\n",
    " - the reader has been previously introduced to SAT/SMT solvers, but would like to see them applied to a phonological problem, and/or would like to see a key part of an SMT-solver driven workflow: exploring different encodings of a problem into combinations of representations and constraints understandable to the solver."
   ]
  },
  {
   "cell_type": "markdown",
   "id": "5d571073-3b9d-4ad5-8ee2-1797186c8b83",
   "metadata": {},
   "source": [
    "## Natural class problems\n",
    "\n",
    "Suppose we have \n",
    " - a language analyzed as having some inventory $\\Sigma \\subseteq \\text{IPA}$\n",
    " - some choice of feature system $\\mathcal{F} \\subset \\Sigma \\times \\{-1, 0, 1\\}^m$ that we (harmlessly) assume associates every distinct symbol with a distinct $m$-length feature vector.\n",
    " \n",
    "Then any time we have a set of observed symbols (or their synonymous feature vectors) $S \\subseteq \\Sigma$ that we think are all participating in some phonological pattern, what is a reasonable feature vector picking out the 'natural class' that definitely describes all of our observed symbol/vector types - but also no more other elements of $\\Sigma$ than necessary?\n",
    "Because most logically possible feature vectors either describe a real speech sound that happens to not be in $\\Sigma$, or they describe no speech sound in any language at all, there in general are many feature vectors that describe any given subset of $\\Sigma$.\n",
    "\n",
    "In the specific context of this notebook, I am going to use the term \"natural class problem\" to refer to the problem of \"finding the set of minimal feature vectors in $\\mathcal{F}$ that describe as few other sounds of $\\Sigma$ besides those in $S$\".\n",
    " - **What else could 'natural class' mean, and what is left out of scope here?** In light of work like that of Jeff Mielke, a name for the specific notion of \"natural class\" that is relevant here would be something that indicates it is either or both a notion of natural class dependent on phonetically-driven classification of speech sounds, as opposed to one defined by some phonological environment, or simply defining a natural class as whatever participates in a significant pattern."
   ]
  },
  {
   "cell_type": "markdown",
   "id": "9213da2a-17f3-4cae-b77a-fa5698805efb",
   "metadata": {},
   "source": [
    "## SPE-style rewrite rule problems\n",
    "\n",
    "fixme"
   ]
  },
  {
   "cell_type": "markdown",
   "id": "a97a7313-db86-4ce6-af53-b3d0710eb32c",
   "metadata": {},
   "source": [
    "## Organization of the notebook\n",
    "\n",
    "fixme"
   ]
  },
  {
   "cell_type": "markdown",
   "id": "f0a77e5a-7671-4924-ac56-553a82a0fde5",
   "metadata": {},
   "source": [
    "# Define syntax of feature vectors"
   ]
  },
  {
   "cell_type": "markdown",
   "id": "05f26611-7a2f-4933-abc8-e0c9a7a66184",
   "metadata": {},
   "source": [
    "## Ternary-valued feature vectors with labeled features\n",
    "\n",
    "$S \\rightarrow [ (V \\text{ } F)^* ]$\n",
    "\n",
    "$V \\rightarrow 0 | + | -$\n",
    "\n",
    "$F \\rightarrow voice | ant | strident | ...$"
   ]
  },
  {
   "cell_type": "markdown",
   "id": "7a5d508e-e259-4d77-aea5-c25b77580ae2",
   "metadata": {},
   "source": [
    "## Ternary-valued feature vectors with anonymous features\n",
    "\n",
    "$S \\rightarrow [ V^* ]$\n",
    "\n",
    "$V \\rightarrow 0 | + | -$"
   ]
  },
  {
   "cell_type": "markdown",
   "id": "59db02f1-8cfc-474a-a45a-016a7097a478",
   "metadata": {},
   "source": [
    "# `FV` Reference"
   ]
  },
  {
   "cell_type": "markdown",
   "id": "3c1a213b-097f-492a-b755-ca73c206437d",
   "metadata": {},
   "source": [
    "## Basic types"
   ]
  },
  {
   "cell_type": "markdown",
   "id": "7beaa676-44c3-422b-88a0-e2c2f679c9e4",
   "metadata": {},
   "source": [
    "A `FeatureVector` is a wrapper (a so-called \"newtype\") around a tuple of `FeatureValue`s.\n",
    "\n",
    "A `FeatureValue` is a wrapper around an `int` $\\in \\{ -1, 0, +1 \\}$."
   ]
  },
  {
   "cell_type": "code",
   "execution_count": 8,
   "id": "5546f74d-f1ea-40b0-aa99-018b8b904535",
   "metadata": {
    "execution": {
     "iopub.execute_input": "2022-03-28T05:32:51.183907Z",
     "iopub.status.busy": "2022-03-28T05:32:51.183732Z",
     "iopub.status.idle": "2022-03-28T05:32:51.205597Z",
     "shell.execute_reply": "2022-03-28T05:32:51.205184Z",
     "shell.execute_reply.started": "2022-03-28T05:32:51.183879Z"
    },
    "tags": []
   },
   "outputs": [
    {
     "data": {
      "text/plain": [
       "FeatureVector(value=(FeatureValue(value=0), FeatureValue(value=-1), FeatureValue(value=1)))"
      ]
     },
     "execution_count": 8,
     "metadata": {},
     "output_type": "execute_result"
    },
    {
     "data": {
      "text/plain": [
       "FeatureVector(value=(FeatureValue(value=0), FeatureValue(value=-1), FeatureValue(value=1)))"
      ]
     },
     "execution_count": 8,
     "metadata": {},
     "output_type": "execute_result"
    },
    {
     "data": {
      "text/plain": [
       "FeatureVector(value=[FeatureValue(value=0), FeatureValue(value=-1), FeatureValue(value=1)])"
      ]
     },
     "execution_count": 8,
     "metadata": {},
     "output_type": "execute_result"
    }
   ],
   "source": [
    "FeatureVector.fromInts([0, -1, 1])\n",
    "FeatureVector.fromString(\"[0 - +]\")\n",
    "FeatureVector.fromBooleans([False, True, True], [False, False, True])"
   ]
  },
  {
   "cell_type": "code",
   "execution_count": 9,
   "id": "f34483fa-f663-4ab4-b817-d6a3316415af",
   "metadata": {
    "execution": {
     "iopub.execute_input": "2022-03-28T05:32:51.206829Z",
     "iopub.status.busy": "2022-03-28T05:32:51.206673Z",
     "iopub.status.idle": "2022-03-28T05:32:51.219910Z",
     "shell.execute_reply": "2022-03-28T05:32:51.219132Z",
     "shell.execute_reply.started": "2022-03-28T05:32:51.206810Z"
    },
    "tags": []
   },
   "outputs": [
    {
     "name": "stdout",
     "output_type": "stream",
     "text": [
      "[0 0 0]\n",
      "[0 0 +]\n",
      "[0 0 -]\n",
      "[0 + +]\n"
     ]
    }
   ],
   "source": [
    "v0 = FeatureVector.z(3)\n",
    "v1 = FeatureVector.fromString(\"[0 0 +]\")\n",
    "v2 = FeatureVector.fromString(\"[0 0 -]\")\n",
    "v3 = FeatureVector.fromString(\"[0 + +]\")\n",
    "V  = (v0, v1, v2, v3)\n",
    "for each in V:\n",
    "  print(each)"
   ]
  },
  {
   "cell_type": "code",
   "execution_count": 10,
   "id": "e3d23397-ce45-4507-9649-7351eb52426a",
   "metadata": {
    "execution": {
     "iopub.execute_input": "2022-03-28T05:32:51.220836Z",
     "iopub.status.busy": "2022-03-28T05:32:51.220663Z",
     "iopub.status.idle": "2022-03-28T05:32:51.242337Z",
     "shell.execute_reply": "2022-03-28T05:32:51.241537Z",
     "shell.execute_reply.started": "2022-03-28T05:32:51.220815Z"
    },
    "tags": []
   },
   "outputs": [
    {
     "name": "stdout",
     "output_type": "stream",
     "text": [
      "[+ - -]\n",
      "[0 + -]\n",
      "[0 0 -]\n",
      "[- + 0]\n"
     ]
    }
   ],
   "source": [
    "R = tuple([FeatureVector.r(3) for each in range(4)])\n",
    "for each in R:\n",
    "  print(each)"
   ]
  },
  {
   "cell_type": "markdown",
   "id": "7175b345-2eb1-42ea-bdb4-f964ae9df5a5",
   "metadata": {},
   "source": [
    "## Basic operations\n",
    "\n",
    "### Comparison\n",
    "\n",
    " - Feature vectors can be compared for equality.\n",
    " - Feature vectors can (sometimes) be compared for \"specification\".\n",
    " \n",
    "### Manipulation\n",
    "\n",
    " - A feature vector can have its specified values flipped or erased.\n",
    " - For appropriate pairs of feature vectors, the operations of difference, meet, join, and (right) priority union are defined."
   ]
  },
  {
   "cell_type": "code",
   "execution_count": 11,
   "id": "5144e8c5-e604-4f74-a8d2-d43760ae72b9",
   "metadata": {
    "execution": {
     "iopub.execute_input": "2022-03-28T05:32:51.243606Z",
     "iopub.status.busy": "2022-03-28T05:32:51.243345Z",
     "iopub.status.idle": "2022-03-28T05:32:51.259724Z",
     "shell.execute_reply": "2022-03-28T05:32:51.259116Z",
     "shell.execute_reply.started": "2022-03-28T05:32:51.243571Z"
    },
    "tags": []
   },
   "outputs": [
    {
     "name": "stdout",
     "output_type": "stream",
     "text": [
      "[0 0 0] <= [0 0 0] = True\n",
      "[0 0 0] <= [0 0 +] = True\n",
      "[0 0 0] <= [0 0 -] = True\n",
      "[0 0 0] <= [0 + +] = True\n",
      "[0 0 +] <= [0 0 0] = False\n",
      "[0 0 +] <= [0 0 +] = True\n",
      "[0 0 +] <= [0 0 -] = False\n",
      "[0 0 +] <= [0 + +] = True\n",
      "[0 0 -] <= [0 0 0] = False\n",
      "[0 0 -] <= [0 0 +] = False\n",
      "[0 0 -] <= [0 0 -] = True\n",
      "[0 0 -] <= [0 + +] = False\n",
      "[0 + +] <= [0 0 0] = False\n",
      "[0 + +] <= [0 0 +] = False\n",
      "[0 + +] <= [0 0 -] = False\n",
      "[0 + +] <= [0 + +] = True\n"
     ]
    }
   ],
   "source": [
    "for left in V:\n",
    "  for right in V:\n",
    "    print(f\"{left} <= {right} = {left <= right}\")"
   ]
  },
  {
   "cell_type": "code",
   "execution_count": 12,
   "id": "b0115d56-854d-4156-998f-20dd56ec7cbb",
   "metadata": {
    "execution": {
     "iopub.execute_input": "2022-03-28T05:32:51.260661Z",
     "iopub.status.busy": "2022-03-28T05:32:51.260495Z",
     "iopub.status.idle": "2022-03-28T05:32:51.274839Z",
     "shell.execute_reply": "2022-03-28T05:32:51.274208Z",
     "shell.execute_reply.started": "2022-03-28T05:32:51.260639Z"
    },
    "tags": []
   },
   "outputs": [
    {
     "name": "stdout",
     "output_type": "stream",
     "text": [
      "[0 0 +]\n",
      "[0 0 -]\n",
      "[0 0 -]\n",
      "[0 0 0]\n"
     ]
    }
   ],
   "source": [
    "print(v1)\n",
    "print(FeatureVector.flip(v1))\n",
    "print(~v1)\n",
    "print(FeatureVector.erase(v1))"
   ]
  },
  {
   "cell_type": "code",
   "execution_count": 13,
   "id": "b99bce93-057f-4547-aa69-e750663be88a",
   "metadata": {
    "execution": {
     "iopub.execute_input": "2022-03-28T05:32:51.275796Z",
     "iopub.status.busy": "2022-03-28T05:32:51.275620Z",
     "iopub.status.idle": "2022-03-28T05:32:51.290579Z",
     "shell.execute_reply": "2022-03-28T05:32:51.290010Z",
     "shell.execute_reply.started": "2022-03-28T05:32:51.275772Z"
    },
    "tags": []
   },
   "outputs": [
    {
     "name": "stdout",
     "output_type": "stream",
     "text": [
      "[0 + +] - [0 0 0] = [0 + +]\n",
      "[0 + +] - [0 0 +] = [0 + 0]\n",
      "[0 + +] - [0 0 -] = [0 + +]\n"
     ]
    }
   ],
   "source": [
    "for left in [v3]:\n",
    "  for right in [v0, v1, v2]:\n",
    "    print(f\"{left} - {right} = {left - right}\")"
   ]
  },
  {
   "cell_type": "code",
   "execution_count": 14,
   "id": "0c56388a-5147-4121-9e8b-1ffabe76b12c",
   "metadata": {
    "execution": {
     "iopub.execute_input": "2022-03-28T05:32:51.291526Z",
     "iopub.status.busy": "2022-03-28T05:32:51.291364Z",
     "iopub.status.idle": "2022-03-28T05:32:51.307500Z",
     "shell.execute_reply": "2022-03-28T05:32:51.306962Z",
     "shell.execute_reply.started": "2022-03-28T05:32:51.291505Z"
    },
    "tags": []
   },
   "outputs": [
    {
     "name": "stdout",
     "output_type": "stream",
     "text": [
      "[0 + +] >> [0 0 0] = [0 + +]\n",
      "[0 + +] >> [0 0 +] = [0 + +]\n",
      "[0 + +] >> [0 0 -] = [0 + -]\n"
     ]
    }
   ],
   "source": [
    "# (right) priority union\n",
    "for left in [v3]:\n",
    "  for right in [v0, v1, v2]:\n",
    "    print(f\"{left} >> {right} = {left >> right}\")"
   ]
  },
  {
   "cell_type": "code",
   "execution_count": 15,
   "id": "d4e79c5e-13bc-4b8e-aca5-ab42ce140828",
   "metadata": {
    "execution": {
     "iopub.execute_input": "2022-03-28T05:32:51.308410Z",
     "iopub.status.busy": "2022-03-28T05:32:51.308246Z",
     "iopub.status.idle": "2022-03-28T05:32:51.323597Z",
     "shell.execute_reply": "2022-03-28T05:32:51.323074Z",
     "shell.execute_reply.started": "2022-03-28T05:32:51.308388Z"
    },
    "tags": []
   },
   "outputs": [
    {
     "name": "stdout",
     "output_type": "stream",
     "text": [
      "[0 + +] & [0 0 0] = [0 0 0]\n",
      "[0 + +] & [0 0 +] = [0 0 +]\n",
      "[0 + +] & [0 0 -] = [0 0 0]\n"
     ]
    }
   ],
   "source": [
    "# meet\n",
    "for left in [v3]:\n",
    "  for right in [v0, v1, v2]:\n",
    "    print(f\"{left} & {right} = {left & right}\")"
   ]
  },
  {
   "cell_type": "code",
   "execution_count": 16,
   "id": "0166b587-5885-4a06-b254-6d68387fd46f",
   "metadata": {
    "execution": {
     "iopub.execute_input": "2022-03-28T05:32:51.324562Z",
     "iopub.status.busy": "2022-03-28T05:32:51.324393Z",
     "iopub.status.idle": "2022-03-28T05:32:51.340409Z",
     "shell.execute_reply": "2022-03-28T05:32:51.339751Z",
     "shell.execute_reply.started": "2022-03-28T05:32:51.324540Z"
    },
    "tags": []
   },
   "outputs": [
    {
     "name": "stdout",
     "output_type": "stream",
     "text": [
      "[0 + +] | [0 0 0] = [0 + +]\n",
      "[0 + +] | [0 0 +] = [0 + +]\n"
     ]
    }
   ],
   "source": [
    "# join \n",
    "for left in [v3]:\n",
    "  for right in [v0, v1]:\n",
    "    print(f\"{left} | {right} = {left | right}\")"
   ]
  },
  {
   "cell_type": "code",
   "execution_count": 17,
   "id": "b51ee39f-ae96-47a7-8502-eb8f9df14514",
   "metadata": {
    "execution": {
     "iopub.execute_input": "2022-03-28T05:32:51.341300Z",
     "iopub.status.busy": "2022-03-28T05:32:51.341139Z",
     "iopub.status.idle": "2022-03-28T05:32:51.356540Z",
     "shell.execute_reply": "2022-03-28T05:32:51.355809Z",
     "shell.execute_reply.started": "2022-03-28T05:32:51.341279Z"
    },
    "tags": []
   },
   "outputs": [
    {
     "name": "stdout",
     "output_type": "stream",
     "text": [
      "[0 0 +]\n",
      "[0 0 -]\n"
     ]
    }
   ],
   "source": [
    "# not all joins are defined!\n",
    "print(v1)\n",
    "print(v2)\n",
    "# v1 | v2 # raises AssertionError"
   ]
  },
  {
   "cell_type": "markdown",
   "id": "1dc39503-fec2-4c92-bc32-8b8baeae6384",
   "metadata": {},
   "source": [
    "## Details: The closed nearlattice structure on feature vectors"
   ]
  },
  {
   "cell_type": "markdown",
   "id": "7836a60d-d8e9-4010-8220-1593fdbfe506",
   "metadata": {},
   "source": [
    "The set of all logically possible feature vectors of a given length form a special kind of partial order - a *bounded meet semilattice* where every pair of elements with an upper bound has a unique least upper bound (\"join\")."
   ]
  },
  {
   "cell_type": "markdown",
   "id": "66460e6d-c1b6-41b2-a0e7-9cfe5d7a1655",
   "metadata": {},
   "source": [
    " - The minimal element of the semilattice (\"zero\", \"the zero vector\", \"the glb\") is the feature vector specified nowhere.\n",
    " - The set of maximal elements are all and only the fully-specified feature vectors.\n",
    " - The greatest lower bound (\"glb\", \"meet\", \"$\\land$\") of two feature vectors $a,b$ is the feature vector with an intersection of their specified feature assignments.\n",
    "   - The zero vector $z$ is the absorbing element of meet: $\\forall a, a \\land z = z = z \\land a$\n",
    " - For two feature vectors that have *zero conflicting feature specifications*, the 'join' operation (\"least upper bound\", \"lub\", \"$\\lor$\") is defined.\n",
    " - The join $c = a \\lor b$ is the vector containing all feature specifications present in BOTH $a$ and $b$."
   ]
  },
  {
   "cell_type": "code",
   "execution_count": 18,
   "id": "29d849c1-9dc2-489e-9099-e8337e1cc380",
   "metadata": {
    "execution": {
     "iopub.execute_input": "2022-03-28T05:32:51.357464Z",
     "iopub.status.busy": "2022-03-28T05:32:51.357301Z",
     "iopub.status.idle": "2022-03-28T05:32:51.372681Z",
     "shell.execute_reply": "2022-03-28T05:32:51.372038Z",
     "shell.execute_reply.started": "2022-03-28T05:32:51.357442Z"
    },
    "tags": []
   },
   "outputs": [
    {
     "name": "stdout",
     "output_type": "stream",
     "text": [
      "[0 0 0] <= [0 0 0] = True\n",
      "[0 0 0] <= [0 0 +] = True\n",
      "[0 0 0] <= [0 0 -] = True\n",
      "[0 0 0] <= [0 + +] = True\n"
     ]
    }
   ],
   "source": [
    "for l in [v0]:\n",
    "  for r in [v0, v1, v2 ,v3]:\n",
    "    print(showBinOp(f\"{l}\", \"<=\", f\"{r}\", l.__le__(r)))"
   ]
  },
  {
   "cell_type": "code",
   "execution_count": 19,
   "id": "c1b09098-e175-44df-8369-f72b17609f5d",
   "metadata": {
    "execution": {
     "iopub.execute_input": "2022-03-28T05:32:51.373598Z",
     "iopub.status.busy": "2022-03-28T05:32:51.373421Z",
     "iopub.status.idle": "2022-03-28T05:32:51.389395Z",
     "shell.execute_reply": "2022-03-28T05:32:51.388569Z",
     "shell.execute_reply.started": "2022-03-28T05:32:51.373576Z"
    },
    "tags": []
   },
   "outputs": [
    {
     "name": "stdout",
     "output_type": "stream",
     "text": [
      "[0 0 +] & [0 0 -] = [0 0 0]\n",
      "[0 0 +] & [0 + +] = [0 0 +]\n"
     ]
    }
   ],
   "source": [
    "for l,r in [(v1, v2), (v1, v3)]:\n",
    "  print(showBinOp(f\"{l}\", \"&\", f\"{r}\", FeatureVector.meet(l, r)))"
   ]
  },
  {
   "cell_type": "markdown",
   "id": "32b2ac14-3a8c-4f05-afb3-071e7a99ef5e",
   "metadata": {},
   "source": [
    " - NB: The $\\leq$ relation is NOT about the NUMBER of specified features."
   ]
  },
  {
   "cell_type": "code",
   "execution_count": 20,
   "id": "84dbf5d5-cc23-425f-9831-59ec112b539d",
   "metadata": {
    "execution": {
     "iopub.execute_input": "2022-03-28T05:32:51.390527Z",
     "iopub.status.busy": "2022-03-28T05:32:51.390283Z",
     "iopub.status.idle": "2022-03-28T05:32:51.408380Z",
     "shell.execute_reply": "2022-03-28T05:32:51.407752Z",
     "shell.execute_reply.started": "2022-03-28T05:32:51.390496Z"
    },
    "tags": []
   },
   "outputs": [
    {
     "name": "stdout",
     "output_type": "stream",
     "text": [
      "[0 0 +] <= [0 0 0] = False\n",
      "[0 0 +] <= [0 0 +] = True\n",
      "[0 0 +] <= [0 0 -] = False\n",
      "[0 0 +] <= [0 + +] = True\n",
      "[0 0 -] <= [0 0 0] = False\n",
      "[0 0 -] <= [0 0 +] = False\n",
      "[0 0 -] <= [0 0 -] = True\n",
      "[0 0 -] <= [0 + +] = False\n"
     ]
    }
   ],
   "source": [
    "# See how [0 0 +] and [0 0 -] are *incomparable* - neither is <= the other.\n",
    "for l in [v1,v2]:\n",
    "  for r in [v0, v1, v2 ,v3]:\n",
    "    print(showBinOp(f\"{l}\", \"<=\", f\"{r}\", l.__le__(r)))"
   ]
  },
  {
   "cell_type": "code",
   "execution_count": 21,
   "id": "dcfef087-fe48-478b-8527-ff2c1d4b9f60",
   "metadata": {
    "execution": {
     "iopub.execute_input": "2022-03-28T05:32:51.409715Z",
     "iopub.status.busy": "2022-03-28T05:32:51.409451Z",
     "iopub.status.idle": "2022-03-28T05:32:51.425568Z",
     "shell.execute_reply": "2022-03-28T05:32:51.424830Z",
     "shell.execute_reply.started": "2022-03-28T05:32:51.409682Z"
    },
    "tags": []
   },
   "outputs": [
    {
     "name": "stdout",
     "output_type": "stream",
     "text": [
      "[0 0 +] | [0 0 0] = [0 0 +]\n",
      "[0 0 +] | [0 + +] = [0 + +]\n"
     ]
    }
   ],
   "source": [
    "print(showBinOp(f\"{v1}\", \"|\", f\"{v0}\", f\"{v1 | v0}\"))\n",
    "print(showBinOp(f\"{v1}\", \"|\", f\"{v3}\", f\"{v1 | v3}\"))"
   ]
  },
  {
   "cell_type": "code",
   "execution_count": 22,
   "id": "468eaa32-ed56-42a2-b0d5-aedfa99003b3",
   "metadata": {
    "execution": {
     "iopub.execute_input": "2022-03-28T05:32:51.426870Z",
     "iopub.status.busy": "2022-03-28T05:32:51.426629Z",
     "iopub.status.idle": "2022-03-28T05:32:51.444524Z",
     "shell.execute_reply": "2022-03-28T05:32:51.443862Z",
     "shell.execute_reply.started": "2022-03-28T05:32:51.426838Z"
    },
    "tags": []
   },
   "outputs": [
    {
     "name": "stdout",
     "output_type": "stream",
     "text": [
      "[0 0 +]\n",
      "[0 0 -]\n"
     ]
    },
    {
     "data": {
      "text/plain": [
       "False"
      ]
     },
     "execution_count": 22,
     "metadata": {},
     "output_type": "execute_result"
    },
    {
     "data": {
      "text/plain": [
       "False"
      ]
     },
     "execution_count": 22,
     "metadata": {},
     "output_type": "execute_result"
    }
   ],
   "source": [
    "print(v1)\n",
    "print(v2)\n",
    "FeatureVector.comparable(v1, v2)\n",
    "FeatureVector.joinable(v1, v2)\n",
    "#v1 | v2  # throws assertion error because they have conflicting assignments"
   ]
  },
  {
   "cell_type": "code",
   "execution_count": 23,
   "id": "0823dd8f-1397-4f5f-9fba-0100612bd080",
   "metadata": {
    "execution": {
     "iopub.execute_input": "2022-03-28T05:32:51.445594Z",
     "iopub.status.busy": "2022-03-28T05:32:51.445422Z",
     "iopub.status.idle": "2022-03-28T05:32:51.457677Z",
     "shell.execute_reply": "2022-03-28T05:32:51.457119Z",
     "shell.execute_reply.started": "2022-03-28T05:32:51.445571Z"
    },
    "tags": []
   },
   "outputs": [],
   "source": [
    "#fixme use iGraph to show the whole nearlattice for M=3 features"
   ]
  },
  {
   "cell_type": "markdown",
   "id": "e5afcdf4-dde9-4705-8d52-1928a07e13ad",
   "metadata": {},
   "source": [
    "## Details: Priority union and its inverse"
   ]
  },
  {
   "cell_type": "code",
   "execution_count": null,
   "id": "4700b9bc-5935-405f-846a-6fbace773571",
   "metadata": {},
   "outputs": [],
   "source": []
  },
  {
   "cell_type": "markdown",
   "id": "9c980b5a-5b83-4b4c-b46a-ee344876d85e",
   "metadata": {},
   "source": [
    "## Unconditioned, length-preserving rewrite rules"
   ]
  },
  {
   "cell_type": "markdown",
   "id": "e0afa444-45b4-4ba1-b0e3-d0f8b28e7165",
   "metadata": {},
   "source": [
    "There is also a type in `FV` to represent total functions on the nearlattice that behave like (length-preserving, unconditioned) SPE-style rewrite rules:\n",
    "$$T \\longrightarrow C$$\n",
    "where \n",
    " - the target feature vector $T$ picks out those feature vectors that the rule can non-vacuously apply to (\"preconditions\").\n",
    " - the structural change vector $C$ describes what must be true after the rule has applied (\"postconditions\").\n",
    "   - Note that we assume (this is a \"frame axiom\") anything unspecified by $C$ is unchanged by the rule."
   ]
  },
  {
   "cell_type": "code",
   "execution_count": 24,
   "id": "8c295d6a-debe-4e2e-947c-21bad57e1570",
   "metadata": {
    "execution": {
     "iopub.execute_input": "2022-03-28T05:32:51.458627Z",
     "iopub.status.busy": "2022-03-28T05:32:51.458457Z",
     "iopub.status.idle": "2022-03-28T05:32:51.474489Z",
     "shell.execute_reply": "2022-03-28T05:32:51.473938Z",
     "shell.execute_reply.started": "2022-03-28T05:32:51.458604Z"
    },
    "tags": []
   },
   "outputs": [
    {
     "name": "stdout",
     "output_type": "stream",
     "text": [
      "[0 - 0] -> [0 + +]\n",
      "r0([- - -]) = [- + +]\n",
      "r0([0 - +]) = [0 + +]\n",
      "r0([- + -]) = [- + -]\n"
     ]
    }
   ],
   "source": [
    "r0 = FVMap.ULPRule(FeatureVector.fromString(\"[0 - 0]\"), FeatureVector.fromString(\"[0 + +]\"))\n",
    "print(r0)\n",
    "for each in (FeatureVector.fromString(\"[- - -]\"),\n",
    "             FeatureVector.fromString(\"[0 - +]\"),\n",
    "             FeatureVector.fromString(\"[- + -]\")):\n",
    "  print(f\"r0({each}) = {r0(each)}\")"
   ]
  },
  {
   "cell_type": "markdown",
   "id": "768806dd-fbb2-4fa0-8877-4e3142a4346b",
   "metadata": {},
   "source": [
    "`FV` supports a number of queries about a given rule:"
   ]
  },
  {
   "cell_type": "code",
   "execution_count": 25,
   "id": "60186e88-9dfa-4de5-a057-7f3100071e1f",
   "metadata": {
    "execution": {
     "iopub.execute_input": "2022-03-28T05:32:51.475460Z",
     "iopub.status.busy": "2022-03-28T05:32:51.475290Z",
     "iopub.status.idle": "2022-03-28T05:32:51.501841Z",
     "shell.execute_reply": "2022-03-28T05:32:51.501298Z",
     "shell.execute_reply.started": "2022-03-28T05:32:51.475438Z"
    },
    "tags": []
   },
   "outputs": [
    {
     "name": "stdout",
     "output_type": "stream",
     "text": [
      "[0 0 +]\n",
      "[0 - 0] -> [0 + +]\n",
      "r0([0 0 +]) = [0 0 +]\n"
     ]
    },
    {
     "data": {
      "text/plain": [
       "False"
      ]
     },
     "execution_count": 25,
     "metadata": {},
     "output_type": "execute_result"
    },
    {
     "data": {
      "text/plain": [
       "True"
      ]
     },
     "execution_count": 25,
     "metadata": {},
     "output_type": "execute_result"
    },
    {
     "data": {
      "text/plain": [
       "True"
      ]
     },
     "execution_count": 25,
     "metadata": {},
     "output_type": "execute_result"
    },
    {
     "data": {
      "text/plain": [
       "True"
      ]
     },
     "execution_count": 25,
     "metadata": {},
     "output_type": "execute_result"
    },
    {
     "data": {
      "text/plain": [
       "False"
      ]
     },
     "execution_count": 25,
     "metadata": {},
     "output_type": "execute_result"
    }
   ],
   "source": [
    "print(v1)\n",
    "print(r0)\n",
    "print(showApp(\"r0\", f\"{v1}\", f\"{r0(v1)}\"))\n",
    "FVMap.inDom(v1, r0)\n",
    "FVMap.vacuous(v1, r0)\n",
    "FVMap.consistent(r0, v1, v1)\n",
    "FVMap.isFixpoint(v1, r0)\n",
    "FVMap.isMutationpoint(v1, r0)"
   ]
  },
  {
   "cell_type": "markdown",
   "id": "dc9be900-5c5a-4362-9d1a-5eec930b08c3",
   "metadata": {
    "tags": []
   },
   "source": [
    "# Define semantics of feature vectors - an *inventory* of objects"
   ]
  },
  {
   "cell_type": "markdown",
   "id": "c9479f49-ce54-4c53-8961-a33c0d716992",
   "metadata": {},
   "source": [
    "We use feature vectors to pick out a subset of a universe (set) of objects $O$. (I could more or less just as easily have chosen $\\Sigma$ instead of $O$.)\n",
    "We assume every object has exactly one associated feature vector and identify each object with its feature vector.\n",
    "\n",
    "In general, the 'meaning' of a vector is the subset of $O$ that conform to its feature specification. \n",
    "Relative to the ordering introduced above, the meaning of $v$ is synonymous with its *upper closure*: \n",
    "$$[v] = \\uparrow v = \\{ v' | v \\leq v' \\}$$"
   ]
  },
  {
   "cell_type": "markdown",
   "id": "86e677ea-343b-4fc5-8b53-9d5d6d02df3a",
   "metadata": {},
   "source": [
    "The first step towards an exact solution to the natural class problem is to recognize that \n",
    "\n",
    "   - every subset $S$ of feature vectors has a (unique) greatest lower bound, viz. the meet of $S$:$$s_1 \\land \\ldots \\land s_i \\land \\ldots \\land s_n$$\n",
    "\n",
    "In other words, the meet of $S$\n",
    "\n",
    "  $$s_1 \\land \\ldots \\land s_i \\land \\ldots \\land s_n$$ \n",
    "\n",
    "is \n",
    " - the **maximally specified** (= most verbose) **feature vector** \n",
    " - ...whose interpretation contains **the minimum of other feature vectors besides those in $S$**.\n",
    " \n",
    "The significance of this is that the meet of $S$ is the most verbose (syntactically worst) feature vector that has the best possible semantics we can get relative to what we want.\n",
    "\n",
    " - A plus is that we can compute the meet directly from the elements of $S$ - i.e. without any recourse to knowing exactly which subset of logically possible feature vectors describe actual objects.\n",
    " - Another plus is that the result of taking the meet of $S$ is another feature vector, and the interpretation of this single vector is a projection of a volume (an upper closure) of the nearlattice.\n",
    " - Both of these are clues we have a problem formulation amenable to a *version space algebra* approach, as elaborated on later/elsewhere.\n",
    "\n",
    "With a succinct way of calculating an upper bound out of the way, the next question is - what does the rest of the solution set look like? What's in it? Does it always have a nice compact description?"
   ]
  },
  {
   "cell_type": "code",
   "execution_count": 26,
   "id": "2745de37-2e52-417b-b4db-cd64db53a9a2",
   "metadata": {
    "execution": {
     "iopub.execute_input": "2022-03-28T05:34:05.437720Z",
     "iopub.status.busy": "2022-03-28T05:34:05.437526Z",
     "iopub.status.idle": "2022-03-28T05:34:05.442729Z",
     "shell.execute_reply": "2022-03-28T05:34:05.442169Z",
     "shell.execute_reply.started": "2022-03-28T05:34:05.437698Z"
    },
    "tags": []
   },
   "outputs": [
    {
     "name": "stdout",
     "output_type": "stream",
     "text": [
      "|features| = 3\n",
      "=> |logically possible vectors| = 27\n",
      "max |objects = inventory| = 26\n",
      "max |sample = hypothetical natural class| = 8\n",
      "actual |objects = inventory| = 21\n"
     ]
    }
   ],
   "source": [
    "M = 3\n",
    "MAX_OBJECT_SET_SIZE = 26\n",
    "# M = 10\n",
    "# MAX_OBJECT_SET_SIZE = 100\n",
    "MAX_SAMPLE_SIZE = 8\n",
    "# MAX_OBJECT_SET_SIZE = MAX_NUM_VECTORS\n",
    "# MAX_SAMPLE_SIZE = MAX_NUM_VECTORS \n",
    "MAX_NUM_VECTORS = 3 ** M\n",
    "N = randint(2, MAX_OBJECT_SET_SIZE)\n",
    "assert N <= (3 ** M)\n",
    "print(f\"|features| = {M}\")\n",
    "print(f\"=> |logically possible vectors| = {MAX_NUM_VECTORS}\")\n",
    "print(f\"max |objects = inventory| = {MAX_OBJECT_SET_SIZE}\")\n",
    "print(f\"max |sample = hypothetical natural class| = {MAX_SAMPLE_SIZE}\")\n",
    "print(f\"actual |objects = inventory| = {N}\")"
   ]
  },
  {
   "cell_type": "code",
   "execution_count": 31,
   "id": "b6f28fe4-22f7-45f3-a98d-d8cdd91b616a",
   "metadata": {
    "execution": {
     "iopub.execute_input": "2022-03-28T05:34:59.919393Z",
     "iopub.status.busy": "2022-03-28T05:34:59.919195Z",
     "iopub.status.idle": "2022-03-28T05:34:59.926772Z",
     "shell.execute_reply": "2022-03-28T05:34:59.926216Z",
     "shell.execute_reply.started": "2022-03-28T05:34:59.919370Z"
    },
    "tags": []
   },
   "outputs": [
    {
     "name": "stdout",
     "output_type": "stream",
     "text": [
      "[0 + 0]\n",
      "[+ 0 0]\n",
      "[0 0 -]\n",
      "[0 0 +]\n",
      "[0 - -]\n",
      "[- 0 +]\n",
      "[0 - +]\n",
      "[- 0 -]\n",
      "[+ - 0]\n",
      "[- - 0]\n",
      "[0 + -]\n",
      "[+ 0 +]\n",
      "[+ + 0]\n",
      "[+ 0 -]\n",
      "[- + 0]\n",
      "[- + -]\n",
      "[- + +]\n",
      "[+ - +]\n",
      "[+ - -]\n",
      "[- - -]\n",
      "[+ + -]\n"
     ]
    }
   ],
   "source": [
    "O = FeatureVector.randomObjects(numFeatures=M, numObjects=N)\n",
    "\n",
    "if len(O) < 30:\n",
    "  for each in O:\n",
    "    print(each)"
   ]
  },
  {
   "cell_type": "code",
   "execution_count": 35,
   "id": "e4c69955-ade8-4054-adc7-dd67c44250d9",
   "metadata": {
    "execution": {
     "iopub.execute_input": "2022-03-28T06:07:39.812484Z",
     "iopub.status.busy": "2022-03-28T06:07:39.811880Z",
     "iopub.status.idle": "2022-03-28T06:07:39.842805Z",
     "shell.execute_reply": "2022-03-28T06:07:39.841955Z",
     "shell.execute_reply.started": "2022-03-28T06:07:39.812409Z"
    },
    "tags": []
   },
   "outputs": [
    {
     "name": "stdout",
     "output_type": "stream",
     "text": [
      "[+ + -]\n",
      "[+ 0 -]\n",
      "[+ - -]\n",
      "---\n",
      "[+ 0 -]\n"
     ]
    }
   ],
   "source": [
    "# S = randomNonemptySubset(set(O), 3)\n",
    "S = randomInterestingSubset(400000, set(O), cap=MAX_SAMPLE_SIZE, minSpec=2) # \"interesting\" = the natural class is something other the trivial zero vector [0 ... ]\n",
    "\n",
    "if S is not None:\n",
    "  for each in S:\n",
    "    print(each)\n",
    "\n",
    "  print(\"---\")\n",
    "  print(grandFoldl(FeatureVector.meet)(S))\n",
    "else:\n",
    "  print(\"S is None.\")"
   ]
  },
  {
   "cell_type": "code",
   "execution_count": 36,
   "id": "9fbe5064-42f7-4787-a512-8fc7b5bbcf1e",
   "metadata": {
    "execution": {
     "iopub.execute_input": "2022-03-28T06:07:42.753888Z",
     "iopub.status.busy": "2022-03-28T06:07:42.753424Z",
     "iopub.status.idle": "2022-03-28T06:07:42.758556Z",
     "shell.execute_reply": "2022-03-28T06:07:42.757937Z",
     "shell.execute_reply.started": "2022-03-28T06:07:42.753834Z"
    },
    "tags": []
   },
   "outputs": [
    {
     "name": "stdout",
     "output_type": "stream",
     "text": [
      "[0 0 0] & [0 + -] = [0 0 0]\n",
      "[0 0 0] & [+ - -] = [0 0 0]\n",
      "[0 0 0] & [0 0 -] = [0 0 0]\n",
      "[0 0 0] & [0 + 0] = [0 0 0]\n",
      "[0 0 0] & [+ 0 +] = [0 0 0]\n"
     ]
    }
   ],
   "source": [
    "for each in range(5):\n",
    "  myZero  = FeatureVector.z(M)\n",
    "  rv      = FeatureVector.r(M)\n",
    "  rv_meet = FeatureVector.meet(myZero, rv)\n",
    "  print(f\"{myZero} & {rv} = {rv_meet}\")"
   ]
  },
  {
   "cell_type": "markdown",
   "id": "3e4ff37c-b0f8-4ea3-a5cb-ab63b623ee51",
   "metadata": {},
   "source": [
    "# The natural class problem with symbolic feature vectors"
   ]
  },
  {
   "cell_type": "markdown",
   "id": "60105b69-bd96-41ff-8cbf-20ba0464ee08",
   "metadata": {},
   "source": [
    "The natural class problem is not difficult per se - especially once we know the answer and that the answer (for positive data anyway) has a nice solution that only requires us to manipulate the representations of the feature vectors in the dataset in front of us.\n",
    "\n",
    "In no small part because it *is* a simple problem that we already know the answer to - and because it is scaffolding for a closely related problem that is not as simple, we walk through different ways of encoding feature vectors and the constraints on them that reflect a \"natural class\" problem here, roughly in order of what I understand their complexity to be."
   ]
  },
  {
   "cell_type": "markdown",
   "id": "95522840-eaef-4228-b3fb-f49f5521bcc7",
   "metadata": {},
   "source": [
    "## EUF"
   ]
  },
  {
   "cell_type": "markdown",
   "id": "d41ce453-5b01-4244-af9a-9b673e837fcf",
   "metadata": {},
   "source": [
    "(FIXME link to K&S 2016 chapter.)"
   ]
  },
  {
   "cell_type": "markdown",
   "id": "a2fece33-7660-4031-a3f0-ad747be0b1c4",
   "metadata": {},
   "source": [
    "In this setting, we start with EUF because it is \"the simplest\" theory on top of a SAT solver, and because what it makes difficult will motivate adding something new."
   ]
  },
  {
   "cell_type": "code",
   "execution_count": 37,
   "id": "5e3cf1e7-e1c5-4b04-bc86-8c79268a39c9",
   "metadata": {
    "execution": {
     "iopub.execute_input": "2022-03-28T06:07:47.043463Z",
     "iopub.status.busy": "2022-03-28T06:07:47.043204Z",
     "iopub.status.idle": "2022-03-28T06:07:47.051058Z",
     "shell.execute_reply": "2022-03-28T06:07:47.050337Z",
     "shell.execute_reply.started": "2022-03-28T06:07:47.043436Z"
    },
    "tags": []
   },
   "outputs": [],
   "source": [
    "def naturalClassFor_euf(featureVectors, solver=None):\n",
    "  if solver is None:\n",
    "    solver = z3.Solver()\n",
    "  \n",
    "  data = tuple(sorted(featureVectors, key=FeatureVector.sortKey))\n",
    "  M    = len(data[0])\n",
    "  \n",
    "  defined = [z3.Bool(f\"def_{i}\") for i in range(M)]\n",
    "  valence = [z3.Bool(f\"val_{i}\") for i in range(M)]\n",
    "  \n",
    "  for datum in data:\n",
    "    solver.add(describes_euf(defined, valence, datum))\n",
    "  \n",
    "  if solver.check() == z3.sat:    \n",
    "    print(\"Found model.\")\n",
    "    m = solver.model()\n",
    "    return solver, m\n",
    "  else:\n",
    "    print(\"No model found.\")\n",
    "    return solver\n",
    "  \n",
    "\n",
    "def describes_euf(defined, valence, featureVector):\n",
    "  # \\forall i, defined[i] -> valence[i] == featureVector.value[i].valence()\n",
    "  return z3.And([z3.Or([z3.Not(d), v == x.valence()])\n",
    "                 for d,v,x in zip(defined, valence, featureVector.value)])\n",
    "  "
   ]
  },
  {
   "cell_type": "code",
   "execution_count": 38,
   "id": "245893d1-2428-48da-a550-6234ed82b8ec",
   "metadata": {
    "execution": {
     "iopub.execute_input": "2022-03-28T06:07:47.381301Z",
     "iopub.status.busy": "2022-03-28T06:07:47.381114Z",
     "iopub.status.idle": "2022-03-28T06:07:47.384542Z",
     "shell.execute_reply": "2022-03-28T06:07:47.383963Z",
     "shell.execute_reply.started": "2022-03-28T06:07:47.381280Z"
    },
    "tags": []
   },
   "outputs": [
    {
     "name": "stdout",
     "output_type": "stream",
     "text": [
      "[+ + -]\n",
      "[+ 0 -]\n",
      "[+ - -]\n"
     ]
    }
   ],
   "source": [
    "for each in S:\n",
    "  print(each)"
   ]
  },
  {
   "cell_type": "code",
   "execution_count": 39,
   "id": "384c2a3b-5dee-49f6-a63b-dcd4b613c4dd",
   "metadata": {
    "execution": {
     "iopub.execute_input": "2022-03-28T06:07:47.780400Z",
     "iopub.status.busy": "2022-03-28T06:07:47.779582Z",
     "iopub.status.idle": "2022-03-28T06:07:47.824627Z",
     "shell.execute_reply": "2022-03-28T06:07:47.823740Z",
     "shell.execute_reply.started": "2022-03-28T06:07:47.780301Z"
    },
    "tags": []
   },
   "outputs": [
    {
     "name": "stdout",
     "output_type": "stream",
     "text": [
      "Found model.\n"
     ]
    },
    {
     "data": {
      "text/plain": [
       "([And(Or(Not(def_0), val_0 == True),\n",
       "      Or(Not(def_1), False),\n",
       "      Or(Not(def_2), val_2 == False)),\n",
       "  And(Or(Not(def_0), val_0 == True),\n",
       "      Or(Not(def_1), val_1 == True),\n",
       "      Or(Not(def_2), val_2 == False)),\n",
       "  And(Or(Not(def_0), val_0 == True),\n",
       "      Or(Not(def_1), val_1 == False),\n",
       "      Or(Not(def_2), val_2 == False))],\n",
       " [def_0 = False,\n",
       "  def_1 = False,\n",
       "  val_0 = False,\n",
       "  def_2 = False,\n",
       "  val_2 = False,\n",
       "  val_1 = False])"
      ]
     },
     "execution_count": 39,
     "metadata": {},
     "output_type": "execute_result"
    }
   ],
   "source": [
    "naturalClassFor_euf(S)"
   ]
  },
  {
   "cell_type": "markdown",
   "id": "6edf2cd5-0d50-48ef-9fc2-1fdd316673b2",
   "metadata": {},
   "source": [
    "We got exactly what we asked for, but not what we wanted: this is a description of the zero vector, and it does describe every feature vector in our subset of objects $S$ - because it describes every logically possible feature vector!\n",
    "\n",
    "To capture `natural class`ness, we need to have/add constraints that either\n",
    " 1. compute a natural class directly\n",
    " 2. express the meaning of what a natural class is by describing them as some kind of maximal or minimal element among the set of feature vectors that describe $S$.\n",
    " \n",
    "The first option is possible, but redundant and wasteful - unless we have some other motivation for \"computing\" natural classes symbolically. (We very plausibly do, but we'll get to that.)\n",
    "\n",
    "The second option is also possible within EUF but (as far as I can tell) would be a tedious exercise in an adhoc explicit encoding of different combinations of propositions that correspond to counting cardinalities and doing comparisons. (See e.g. [answers to this question](https://cs.stackexchange.com/questions/13188/encoding-1-out-of-n-constraint-for-sat-solvers) for material on what \"exactly $K$ of $N$ variables are true\" encodings can be like.)"
   ]
  },
  {
   "cell_type": "markdown",
   "id": "98317b74-eb17-404c-9093-88fd5d92ac0f",
   "metadata": {},
   "source": [
    "E.g. to revise the above constraints to define \"a natural class feature vector for $S$\" as not only\n",
    " - a feature vector that describes (\"is consistent with\") each elemnt of $S$\n",
    " \n",
    "but also as \n",
    " - a feature vector whose number of features used is maximal among those meeting other criteria\n",
    " \n",
    "then two *more natural* approaches to take (involving the theory of linear arithmetic (???)) are:\n",
    " 1. directly use the optimization functionality of z3 to find a symbolic feature vector consistent with the data and with maximal degree of specification (= maximal number of true values in the `defined` vector)\n",
    " 2. start each search for a natural class feature vector at the maximum possible degree of specification it makes sense to start at, look for a solution, and if you can't find one, decrement the required degree of specification and try again\n",
    " \n",
    "Each requires some way of reasoning about the specifcation level of a symbolic feature vector. \n",
    "In the absence of symbolic numeric variables, I don't think #1 is an option (or I can't imagine why it would be useful if it were).\n",
    "To pursue option #2 without symbolic numeric variables, you need a set of mutually exclusive propositional variables, one for each possible length of feature vector (up to the context specific maximum m). \n",
    "Each of these propositions would be a disjunction over configurations of the symbolic feature vector corresponding to that length.\n",
    "\n",
    "Because this option is *technically possible* but tedious and leaves a lot of programming work to be done and a lot of barriers to quickly making use of the results, we'll leave this thread behind."
   ]
  },
  {
   "cell_type": "markdown",
   "id": "321c8e7a-bda9-4ebd-b98e-a1776cebafc8",
   "metadata": {},
   "source": [
    "## EUF + Boolean cardinality constraints\n",
    "\n",
    "See [this](http://theory.stanford.edu/~nikolaj/programmingz3.html#sec-boolean-theories) for reference."
   ]
  },
  {
   "cell_type": "code",
   "execution_count": 40,
   "id": "2f534485-bc50-43e0-961f-dba98c5f951f",
   "metadata": {
    "execution": {
     "iopub.execute_input": "2022-03-28T06:07:49.265146Z",
     "iopub.status.busy": "2022-03-28T06:07:49.264495Z",
     "iopub.status.idle": "2022-03-28T06:07:49.280149Z",
     "shell.execute_reply": "2022-03-28T06:07:49.279348Z",
     "shell.execute_reply.started": "2022-03-28T06:07:49.265070Z"
    },
    "tags": []
   },
   "outputs": [],
   "source": [
    "# Essentially a symbolic constructor for a FeatureVector\n",
    "def mk_FVBooleans(numFeatures: int, identifier: str):\n",
    "  return ([z3.Bool(f\"def_{identifier}_{j}\") for j in range(numFeatures)],\n",
    "          [z3.Bool(f\"val_{identifier}_{j}\") for j in range(numFeatures)])\n",
    " \n",
    "def mk_VBooleans(n: int, identifier: str):\n",
    "  return [z3.Bool(f\"{identifier}_{i}\") for i in range(n)]\n",
    "\n",
    "# Takes a model containing valuations for the symbolic booleans in defined and valence\n",
    "# and returns two tuples of concrete Booleans that define a unique FeatureVector\n",
    "def extractFeatureVectorFromModel_asBooleans(model, defined, valence):\n",
    "  return (tuple(model[defined[i]] for i in range(len(defined))),\n",
    "          tuple(model[valence[i]] for i in range(len(valence))))\n",
    "\n",
    "# Takes a model containing valuations for the symbolic booleans in defined and valence\n",
    "# and returns the corresponding concrete FeatureVector\n",
    "def extractFeatureVectorFromModel(model, defined, valence):\n",
    "  concrete_defined, concrete_valence = extractFeatureVectorFromModel_asBooleans(model, defined, valence)\n",
    "  return FeatureVector.fromBooleans(concrete_defined, concrete_valence)"
   ]
  },
  {
   "cell_type": "code",
   "execution_count": 73,
   "id": "759b6740-ccc4-442c-9e50-f1cad6784483",
   "metadata": {
    "execution": {
     "iopub.execute_input": "2022-03-28T19:32:58.931540Z",
     "iopub.status.busy": "2022-03-28T19:32:58.931331Z",
     "iopub.status.idle": "2022-03-28T19:32:58.945712Z",
     "shell.execute_reply": "2022-03-28T19:32:58.945212Z",
     "shell.execute_reply.started": "2022-03-28T19:32:58.931516Z"
    },
    "tags": []
   },
   "outputs": [],
   "source": [
    "# def showBinGraphTest(op, a, b, cActual, cExpected):\n",
    "#   return (f\"{a} {op} {b} = {cActual} vs. {cExpected}\")\n",
    "\n",
    "# def testTotalBinFunc_Booleans(binPred, binOp, numFeatures, testSet=None):\n",
    "#   s = z3.Solver()\n",
    "  \n",
    "#   def_l   = [z3.Bool(f\"def_l_{j}\") for j in range(numFeatures)]\n",
    "#   val_l   = [z3.Bool(f\"val_l_{j}\") for j in range(numFeatures)]\n",
    "#   def_r   = [z3.Bool(f\"def_r_{j}\") for j in range(numFeatures)]\n",
    "#   val_r   = [z3.Bool(f\"val_r_{j}\") for j in range(numFeatures)]\n",
    "#   def_res = [z3.Bool(f\"res_{j}\")   for j in range(numFeatures)]\n",
    "#   val_res = [z3.Bool(f\"res_{j}\")   for j in range(numFeatures)]\n",
    "  \n",
    "#   #assert that binPred(def_l, val_l, def_r, val_r) == res\n",
    "#   s.add(binPred(def_l, val_l, def_r, val_r) == )\n",
    "#   def test(defined_left, valence_left, defined_right, valence_right)\n",
    "\n",
    "# def testPartialBinOp_Booleans(binOpRel, binOp, numFratures, testSet=None):\n",
    "#   pass #do I need to write this, or can I rewrite what I have below?\n",
    "\n",
    "def testBinOp_Booleans(binOpRel, binOp, numFeatures, testSet=None, exceptions=False, none=False):\n",
    "  if testSet is None:\n",
    "    V = {FeatureVector.fromInts(x) for x in product((-1, 0, 1), repeat=numFeatures)}\n",
    "  else:\n",
    "    V = testSet\n",
    "\n",
    "  s = z3.Solver()\n",
    "  \n",
    "  def_l  , val_l   = mk_FVBooleans(numFeatures, \"l\")\n",
    "  def_r  , val_r   = mk_FVBooleans(numFeatures, \"r\")\n",
    "  def_res, val_res = mk_FVBooleans(numFeatures, \"res\")\n",
    "#   def_l   = [z3.Bool(f\"def_l_{j}\") for j in range(numFeatures)]\n",
    "#   val_l   = [z3.Bool(f\"val_l_{j}\") for j in range(numFeatures)]\n",
    "#   def_r   = [z3.Bool(f\"def_r_{j}\") for j in range(numFeatures)]\n",
    "#   val_r   = [z3.Bool(f\"val_r_{j}\") for j in range(numFeatures)]\n",
    "#   def_res = [z3.Bool(f\"res_{j}\")   for j in range(numFeatures)]\n",
    "#   val_res = [z3.Bool(f\"res_{j}\")   for j in range(numFeatures)]  \n",
    "  \n",
    "  counterexamples = []\n",
    "  for a, b in product(V,V):\n",
    "    if exceptions:\n",
    "      try:\n",
    "        c = binOp(a,b)\n",
    "      except:\n",
    "        pass\n",
    "      else:\n",
    "        if none and c is None:\n",
    "          pass\n",
    "        else:\n",
    "          s.push()\n",
    "          s.add(eq_Booleans(def_l  , val_l  , *a.toBooleans()))\n",
    "          s.add(eq_Booleans(def_r  , val_r  , *b.toBooleans()))\n",
    "\n",
    "          s.add(binOpRel(def_l, val_l, def_r, val_r, def_res, val_res))\n",
    "          if s.check() == z3.sat:\n",
    "            res_symbolic = extractFeatureVectorFromModel(s.model(), def_res, val_res)\n",
    "            if res_symbolic != c:\n",
    "              counterexamples.append((a, b, c, res_symbolic))\n",
    "          s.pop()\n",
    "    else:\n",
    "      c = binOp(a,b)\n",
    "      if none and c is None:\n",
    "        pass\n",
    "      else:\n",
    "        s.push()\n",
    "        s.add(eq_Booleans(def_l  , val_l  , *a.toBooleans()))\n",
    "        s.add(eq_Booleans(def_r  , val_r  , *b.toBooleans()))\n",
    "\n",
    "        s.add(binOpRel(def_l, val_l, def_r, val_r, def_res, val_res))\n",
    "        if s.check() == z3.sat:\n",
    "          res_symbolic = extractFeatureVectorFromModel(s.model(), def_res, val_res)\n",
    "          if res_symbolic != c:\n",
    "            counterexamples.append((a, b, c, res_symbolic))\n",
    "        s.pop()\n",
    "  return counterexamples\n",
    "\n",
    "\n",
    "def testStackOp_Booleans(opRel, op, numFeatures, testSet=None):\n",
    "  s = z3.Solver()\n",
    "  \n",
    "  if testSet is None:\n",
    "    V = {FeatureVector.fromInts(x) for x in product((-1, 0, 1), repeat=numFeatures)}\n",
    "    numVectors = len(V)\n",
    "#   elif testSet is \"symbolic\":\n",
    "#     # FIXME - check on uninterpreted function symbols - are they the only vehicle for \"testing\" symbolic data against concrete functions?\n",
    "    \n",
    "#     #define numVectors \n",
    "    \n",
    "#     stack = [mk_FVBooleans(numFeatures, f\"V{k}\") for k in range(numVectors)] \n",
    "#     defineds, valences = lmap(lambda pair: pair[0], stack), lmap(lambda pair: pair[1], stack)\n",
    "\n",
    "#     #distinctness assertion\n",
    "\n",
    "#    #\n",
    "  else:\n",
    "    V = testSet\n",
    "    numVectors = len(V)\n",
    "\n",
    "  result = op(V)\n",
    "\n",
    "  stack = [mk_FVBooleans(numFeatures, f\"V{k}\") for k in range(numVectors)] \n",
    "  defineds, valences = lmap(lambda pair: pair[0], stack), lmap(lambda pair: pair[1], stack)\n",
    "  for def_v, val_v, v in zip(defineds, valences, V):\n",
    "    s.add(eq_Booleans(def_v, val_v, *v.toBooleans()))\n",
    "  \n",
    "  counterexamples = []\n",
    "  \n",
    "  defined_result, valence_result = mk_FVBooleans(numFeatures, f\"res\")  \n",
    "  s.add(opRel(defineds, valences, defined_result, valence_result))\n",
    "  \n",
    "  if s.check() == z3.sat:\n",
    "    result_symbolic = extractFeatureVectorFromModel(s.model(), defined_result, valence_result)\n",
    "    if result_symbolic != result:\n",
    "      counterexamples.append((V, result, result_symbolic))\n",
    "  else:\n",
    "    print(\"unsat!?\")\n",
    "  return counterexamples"
   ]
  },
  {
   "cell_type": "code",
   "execution_count": 74,
   "id": "9d979fec-b4ce-4d13-a563-e03c463bbcf4",
   "metadata": {
    "execution": {
     "iopub.execute_input": "2022-03-28T19:33:00.840050Z",
     "iopub.status.busy": "2022-03-28T19:33:00.839551Z",
     "iopub.status.idle": "2022-03-28T19:33:00.896792Z",
     "shell.execute_reply": "2022-03-28T19:33:00.896307Z",
     "shell.execute_reply.started": "2022-03-28T19:33:00.839989Z"
    },
    "tags": []
   },
   "outputs": [],
   "source": [
    "def isSubseteq_Booleans(subsetVectorLeft, subsetVectorRight):\n",
    "  assert len(subsetVectorLeft) == len(subsetVectorRight)\n",
    "  left, right = subsetVectorLeft, subsetVectorRight\n",
    "  return z3.And([z3.Implies(l, l == r)\n",
    "                 for l,r in zip(left, right)])\n",
    "\n",
    "def eq_Booleans(defined_left, valence_left, defined_right, valence_right):\n",
    "  assert len(defined_left)  == len(valence_left)\n",
    "  assert len(defined_right) == len(valence_right)\n",
    "  assert len(defined_left)  == len(defined_right)\n",
    "  numFeatures = len(defined_left)\n",
    "  # left == right iff for every feature j,\n",
    "  #  left is defined at j iff right is defined at j\n",
    "  #  if left  is defined at j, left and right have the same valence at j\n",
    "  # (if right is defined at j, right and left have the same valence at j) \n",
    "  return z3.And([z3.And([defined_left[j] == defined_right[j],\n",
    "                        z3.Implies(defined_left[j],\n",
    "                                   valence_left[j] == valence_right[j]),\n",
    "                        z3.Implies(defined_right[j],\n",
    "                                   valence_right[j] == valence_left[j])])\n",
    "                 for j in range(numFeatures)])\n",
    "\n",
    "def eq_Booleans1(defineds, valences):\n",
    "  assert len(defineds) == len(valences)\n",
    "  numVectors  = len(defineds)\n",
    "  numFeatures = len(defineds[0])\n",
    "  \n",
    "  return z3.And([z3.And([ defineds[0][j] == defineds[i][j]\n",
    "                        , z3.Implies(defineds[0][j], valences[0][j] == valences[i][j])\n",
    "                        , z3.Implies(defineds[i][j], valences[i][j] == valences[0][j])])\n",
    "                 for i in range(numVectors) for j in range(numFeatures)])\n",
    "\n",
    "def neq_Booleans(defined_left, valence_left, defined_right, valence_right):\n",
    "  return distinct_Booleans(defined_left, valence_left, defined_right, valence_right)\n",
    "\n",
    "def distinct_Booleans(defined_left, valence_left, defined_right, valence_right):\n",
    "  return z3.Not(eq_Booleans(defined_left, valence_left, defined_right, valence_right))\n",
    "\n",
    "def pairwise_neq_Booleans1(defineds, valences):\n",
    "  return pairwise_distinct_Booleans1(defineds, valences)\n",
    "\n",
    "def pairwise_distinct_Booleans1(defineds, valences):\n",
    "  assert len(defineds) == len(valences)\n",
    "  numVectors  = len(defineds)\n",
    "  numFeatures = len(defineds[0])\n",
    "  \n",
    "  #the stack of vectors is pairwise distinct iff forall vectors i,k\n",
    "  # Either\n",
    "  #  i == k\n",
    "  # or\n",
    "  # for at least one feature j, either\n",
    "  #    1. i is defined at j but k isn't (or vice versa)\n",
    "  #    2. both i and k are defined at j and have different valences\n",
    "  return z3.And([z3.Or([ z3.Or([          defineds[i][j] != defineds[k][j]\n",
    "                               , z3.And([ defineds[i][j]\n",
    "                                        , defineds[k][j]\n",
    "                                        , valences[i][j] != valences[k][j]\n",
    "                                        ])\n",
    "                               ])\n",
    "                        for j in range(numFeatures)])\n",
    "                 for i,k in product(range(numVectors), range(numVectors))\n",
    "                 if i != k\n",
    "                ])\n",
    "  \n",
    "\n",
    "# def lt_Booleans(defined_left, valence_left, defined_right, valence_right):\n",
    "#   pass\n",
    "\n",
    "# def lt_Booleans1(defineds, valences, defined_lowerBound, valence_lowerBound):\n",
    "#   pass\n",
    "\n",
    "def le_Booleans(defined_left, valence_left, defined_right, valence_right):\n",
    "  assert len(defined_left)  == len(valence_left)\n",
    "  assert len(defined_right) == len(valence_right)\n",
    "  assert len(defined_left)  == len(defined_right)\n",
    "  numFeatures = len(defined_left)\n",
    "  # left <= right iff for every feature j, one of the following holds:\n",
    "  #  - both left and right are   defined at j and have the same valence\n",
    "  #  - both left and right are undefined at j\n",
    "  #  - left is *un*defined at j and right is *defined* at j\n",
    "  # Recall: the unique minimal element is defined *nowhere*\n",
    "  return z3.And([z3.Or([z3.And([defined_left[j], defined_right[j], valence_left[j] == valence_right[j]]),\n",
    "                        z3.And(z3.Not(defined_left[j]), z3.Not(defined_right[j])),\n",
    "                        z3.And(z3.Not(defined_left[j]), defined_right[j])])\n",
    "                 for j in range(numFeatures)])\n",
    "\n",
    "def le_Booleans1(defineds, valences, defined_lowerBound, valence_lowerBound):\n",
    "  assert len(defineds) == len(valences)\n",
    "  numVectors  = len(defineds)\n",
    "  \n",
    "  assert len(defined_lowerBound) == len(valence_lowerBound)\n",
    "  assert len(defined_lowerBound) == len(defineds[0])\n",
    "  numFeatures = len(defined_lowerBound)\n",
    "  \n",
    "  return z3.And([z3.Or([ z3.And([defined_lowerBound[j], defineds[i][j], valence_lowerBound[j] == valences[i][j]])\n",
    "                       , z3.And(z3.Not(defined_lowerBound[j]), z3.Not(defineds[i][j]))\n",
    "                       , z3.And(z3.Not(defined_lowerBound[j]), defineds[i][j])\n",
    "                       ])\n",
    "                 for i in range(numVectors) for j in range(numFeatures)])\n",
    "  \n",
    "def ge_Booleans(defined_left, valence_left, defined_right, valence_right):\n",
    "  assert len(defined_left)  == len(valence_left)\n",
    "  assert len(defined_right) == len(valence_right)\n",
    "  assert len(defined_left)  == len(defined_right)\n",
    "  return le_Booleans(defined_right, valence_right, defined_left, valence_left)\n",
    "  \n",
    "def ge_Booleans1(defineds, valences, defined_upperBound, valence_upperBound):\n",
    "  assert len(defineds) == len(valences)\n",
    "  numVectors  = len(defineds)\n",
    "  \n",
    "  assert len(defined_upperBound) == len(valence_upperBound)\n",
    "  assert len(defined_upperBound) == len(defineds[0])\n",
    "  numFeatures = len(defined_upperBound)\n",
    "  \n",
    "  return z3.And([z3.Or([ z3.And([defineds[i][j], defined_upperBound[j], valences[i][j] == valence_upperBound[j]])\n",
    "                       , z3.And(z3.Not(defineds[i][j]), z3.Not(defined_upperBound[j]))\n",
    "                       , z3.And(z3.Not(defineds[i][j]), defined_upperBound[j])\n",
    "                       ])\n",
    "                 for i in range(numVectors) for j in range(numFeatures)])\n",
    "\n",
    "# def gt_Booleans(defined_left, valence_left, defined_right, valence_right):\n",
    "#   pass\n",
    "\n",
    "# def gt_Booleans1(defineds, valences, defined_upperBound, valence_upperBound):\n",
    "#   pass\n",
    "\n",
    "def comparable_Booleans(defined_left, valence_left, defined_right, valence_right):\n",
    "  return z3.Or(le_Booleans( defined_left,  valence_left, defined_right, valence_right),\n",
    "               le_Booleans(defined_right, valence_right,  defined_left,  valence_left))\n",
    "\n",
    "#pairwise comparability\n",
    "def comparable_Booleans1(defineds, valences):\n",
    "  return z3.And([comparable_Booleans(a[0], a[1], b[0], b[1])\n",
    "                 for a,b in product(zip(defineds, valences), \n",
    "                                    zip(defineds, valences))])\n",
    "\n",
    "# def coveredBy_Booleans(defined_left, valence_right, defined_right, valence_right):\n",
    "#   assert len(defined_left)  == len(valence_left)\n",
    "#   assert len(defined_right) == len(valence_right)\n",
    "#   assert len(defined_left)  == len(defined_right)\n",
    "  \n",
    "# def max_Booleans(defineds, valences, defined_max, valence_max):\n",
    "#   assert len(defined_max) == len(valence_max)\n",
    "#   assert len(defineds)    == len(valences)\n",
    "#   assert len(defineds[0]) == len(defined_max)\n",
    "#   numFeatures = len(defined_max)\n",
    "#   numObjects = len(defineds)\n",
    "\n",
    "# def min_Booleans(defineds, valences, defined_min, valence_min):\n",
    "#   pass\n",
    "\n",
    "\n",
    "def meet_Booleans(defined_left, valence_left, defined_right, valence_right, defined_meet, valence_meet):\n",
    "  assert len(defined_left)  == len(valence_left)\n",
    "  assert len(defined_right) == len(valence_right)\n",
    "  assert len(defined_meet)  == len(valence_meet)\n",
    "  assert len(defined_left)  == len(defined_right)\n",
    "  assert len(defined_meet)  == len(defined_left)\n",
    "  numFeatures = len(defined_left)\n",
    "  # left \\land right == meet iff for all features j\n",
    "  #  def_meet[j] == def_left[j] \\land def_right[j] \\land val_left[j] == val_right[j]\n",
    "  #  def_meet[j] -> val_meet[j] == val_left[j] \\land val_meet[j] == val_right[j]\n",
    "  return z3.And([z3.And([defined_meet[j] == z3.And([defined_left[j], defined_right[j], valence_left[j] == valence_right[j]]),\n",
    "                         z3.Implies(defined_meet[j], z3.And([valence_meet[j] == valence_left[j],\n",
    "                                                             valence_meet[j] == valence_right[j]]))])\n",
    "                 for j in range(numFeatures)])\n",
    "\n",
    "def meet_Booleans1(defineds, valences, defined_meet, valence_meet):\n",
    "  assert len(defineds)      == len(valences)\n",
    "  assert len(defined_meet)  == len(valence_meet)\n",
    "  numObjects  = len(defineds)\n",
    "  numFeatures = len(defined_meet)\n",
    "  \n",
    "  allDefinedAtJandTrue  = lambda j: z3.And([z3.And(defineds[i][j],        valences[i][j])  for i in range(numObjects)])\n",
    "  allDefinedAtJandFalse = lambda j: z3.And([z3.And(defineds[i][j], z3.Not(valences[i][j])) for i in range(numObjects)])\n",
    "  allDefinedAtJAndSame  = lambda j: z3.Or([allDefinedAtJandTrue(j), allDefinedAtJandFalse(j)])\n",
    "  meetDefinedAtJ        = lambda j: allDefinedAtJAndSame(j)\n",
    "  meetTrueAtJ           = lambda j: allDefinedAtJandTrue(j)\n",
    "  meetFalseAtJ          = lambda j: allDefinedAtJandFalse(j)\n",
    "  \n",
    "  return z3.And([z3.And([ defined_meet[j] == meetDefinedAtJ(j)\n",
    "                        , z3.Implies(meetTrueAtJ( j),        valence_meet[j] )\n",
    "                        , z3.Implies(meetFalseAtJ(j), z3.Not(valence_meet[j]))\n",
    "                        ])\n",
    "                 for j in range(numFeatures)])\n",
    "\n",
    "#   return z3.And([z3.And([defined_meet[j] == meetDefinedAtJ(j), \n",
    "#                          z3.Implies(defined_meet[j],        valence_meet[j]  == meetTrueAtJ(j)), \n",
    "#                          z3.Implies(defined_meet[j], z3.Not(valence_meet[j]) == meetFalseAtJ(j))])\n",
    "#                  for j in range(numFeatures)])\n",
    "  # m is the meet of V iff for all features j\n",
    "  #  def_meet[j] == z3.And([defineds[i][j] for i in range(len(numObjects))])\n",
    "  #  val_meet[j] == z3.And([def_meet[j]] + [])\n",
    "\n",
    "def joinable_Booleans(defined_left, valence_left, defined_right, valence_right):\n",
    "  assert len(defined_right) == len(valence_right)\n",
    "  assert len(defined_left)  == len(defined_right)\n",
    "  numFeatures = len(defined_left)\n",
    "  # left \\lor right exists iff for all features j\n",
    "  #  Either\n",
    "  #   1.      def_l[j] \\land      def_r[j] \\land val_l[j] == val_r[j]\n",
    "  #   2. \\neg def_l[j]\n",
    "  #   3. \\neg def_r[j]\n",
    "  return z3.And([z3.Or([ z3.And([defined_left[j], defined_right[j], valence_left[j] == valence_right[j]])\n",
    "                       , z3.Not(defined_left[j])\n",
    "                       , z3.Not(defined_right[j])\n",
    "                       ])\n",
    "                 for j in range(numFeatures)])\n",
    "\n",
    "def joinable_Booleans1(defineds, valences):\n",
    "  assert len(defineds)      == len(valences)\n",
    "#   assert len(defined_join)  == len(valence_join)\n",
    "  numObjects  = len(defineds)\n",
    "  numFeatures = len(defineds[0])\n",
    "#   numFeatures = len(defined_join)\n",
    "  \n",
    "  atLeastOneDefinedAtJAndTrue  = lambda j: z3.Or([z3.And(        defineds[i][j]\n",
    "                                                        ,        valences[i][j]\n",
    "                                                        ) \n",
    "                                                  for i in range(numObjects)])\n",
    "  atLeastOneDefinedAtJAndFalse = lambda j: z3.Or([z3.And(        defineds[i][j]\n",
    "                                                        , z3.Not(valences[i][j])\n",
    "                                                        )\n",
    "                                                  for i in range(numObjects)])\n",
    "  noConflictsAtJ               = lambda j: z3.Not(z3.And( atLeastOneDefinedAtJAndTrue(j)\n",
    "                                                        , atLeastOneDefinedAtJAndFalse(j)\n",
    "                                                        ))\n",
    "  return z3.And([noConflictsAtJ(j)\n",
    "                 for j in range(numFeatures)])\n",
    "#   assert len(defineds)      == len(valences)\n",
    "#   assert len(defined_meet)  == len(valence_meet)\n",
    "#   numObjects  = len(defineds)\n",
    "#   numFeatures = len(defined_meet)\n",
    "  \n",
    "#   exactlyOneDefinedAt\n",
    "#   allDefinedAtJandTrue  = lambda j: z3.And([z3.And(defineds[i][j],        valences[i][j])  for i in range(numObjects)])\n",
    "#   allDefinedAtJandFalse = lambda j: z3.And([z3.And(defineds[i][j], z3.Not(valences[i][j])) for i in range(numObjects)])\n",
    "#   allDefinedAtJAndSame  = lambda j: z3.Or([allDefinedAtJandTrue(j), allDefinedAtJandFalse(j)])\n",
    "#   foo = #FIXME THIS IS THE MEET1 DEFINITION\n",
    "#   meetDefinedAtJ        = lambda j: allDefinedAtJAndSame(j)\n",
    "#   meetTrueAtJ           = lambda j: allDefinedAtJandTrue(j)\n",
    "#   meetFalseAtJ          = lambda j: allDefinedAtJandFalse(j)\n",
    "  \n",
    "#   return z3.And([z3.And([ defined_meet[j] == meetDefinedAtJ(j)\n",
    "#                         , z3.Implies(meetTrueAtJ( j),        valence_meet[j] )\n",
    "#                         , z3.Implies(meetFalseAtJ(j), z3.Not(valence_meet[j]))])\n",
    "#                  for j in range(numFeatures)])\n",
    "# #   return z3.And([z3.And([defined_meet[j] == meetDefinedAtJ(j), \n",
    "# #                          z3.Implies(defined_meet[j],        valence_meet[j]  == meetTrueAtJ(j)), \n",
    "# #                          z3.Implies(defined_meet[j], z3.Not(valence_meet[j]) == meetFalseAtJ(j))])\n",
    "# #                  for j in range(numFeatures)])\n",
    "#   # m is the meet of V iff for all features j\n",
    "#   #  def_meet[j] == z3.And([defineds[i][j] for i in range(len(numObjects))])\n",
    "#   #  val_meet[j] == z3.And([def_meet[j]] + [])\n",
    "\n",
    "def join_Booleans(defined_left, valence_left, defined_right, valence_right, defined_join, valence_join):\n",
    "  assert len(defined_right) == len(valence_right)\n",
    "  assert len(defined_left)  == len(defined_right)\n",
    "  numFeatures = len(defined_left)\n",
    "  \n",
    "  exactlyOneDefinedAtJ         = lambda j: z3.Xor(                  defined_left[j]\n",
    "                                                 ,                 defined_right[j]\n",
    "                                                 )\n",
    "  exactlyOneDefinedAndTrueAtJ  = lambda j: z3.Xor(  z3.And(         defined_left[j]\n",
    "                                                          ,         valence_left[j])\n",
    "                                                 ,  z3.And(        defined_right[j]\n",
    "                                                          ,        valence_right[j])\n",
    "                                                 )\n",
    "  exactlyOneDefinedAndFalseAtJ = lambda j: z3.Xor(  z3.And(        defined_left[j]\n",
    "                                                          , z3.Not(valence_left[j]))\n",
    "                                                 ,  z3.And(        defined_right[j]\n",
    "                                                          , z3.Not(valence_right[j]))\n",
    "                                                 )\n",
    "  \n",
    "  bothDefinedAndTrueAtJ        = lambda j: z3.And([        defined_left[j] ,        defined_right[j],        \n",
    "                                                           valence_left[j] ,        valence_right[j]])\n",
    "  bothDefinedAndFalseAtJ       = lambda j: z3.And([        defined_left[j] ,        defined_right[j], \n",
    "                                                    z3.Not(valence_left[j]), z3.Not(valence_right[j])])\n",
    "  bothDefinedAndSameAtJ        = lambda j: z3.Or(bothDefinedAndTrueAtJ(j), bothDefinedAndFalseAtJ(j))\n",
    "  \n",
    "  # left \\lor right == join iff joinable(left, right) and for all features j\n",
    "  # def_join[j] == bothDefinedAndSameAtJ( j) \\lor exactlyOneDefinedAtJ(j)\n",
    "  # bothDefinedAndSameAtJ( j) = (def_left[j] \\land def_right[j]) \\land (val_left[j] == val_right[j])\n",
    "  # exactlyOneDefinedAtJ\n",
    "  # bothDefinedAndTrueAtJ( j) ->  val_join[j]\n",
    "  # bothDefinedAndFalseAtJ(j) -> ~val_join[j]\n",
    "  return z3.And([ joinable_Booleans(defined_left, valence_left, defined_right, valence_right) \n",
    "                ] +\n",
    "                [z3.And([        defined_join[j]  == z3.Or([ bothDefinedAndSameAtJ(j)\n",
    "                                                           , exactlyOneDefinedAtJ(j)])\n",
    "#                         ,        valence_join[j]  == z3.Or( bothDefinedAndTrueAtJ(j)\n",
    "#                                                           , exactlyOneDefinedAndTrueAtJ(j))\n",
    "#                         , z3.Not(valence_join[j]) == z3.Or( bothDefinedAndFalseAtJ(j)\n",
    "#                                                           , exactlyOneDefinedAndFalseAtJ(j))\n",
    "                        , z3.Implies( z3.Or( bothDefinedAndTrueAtJ(j)\n",
    "                                           , exactlyOneDefinedAndTrueAtJ(j))\n",
    "                                    ,        valence_join[j]\n",
    "                                    )\n",
    "                        , z3.Implies( z3.Or( bothDefinedAndFalseAtJ(j)\n",
    "                                           , exactlyOneDefinedAndFalseAtJ(j))\n",
    "                                    , z3.Not(valence_join[j])\n",
    "                                    )\n",
    "                        ])\n",
    "                 for j in range(numFeatures)])\n",
    "\n",
    "def join_Booleans1(defineds, valences, defined_join, valence_join):\n",
    "  assert len(defineds)      == len(valences)\n",
    "  assert len(defined_join)  == len(valence_join)\n",
    "  numObjects  = len(defineds)\n",
    "  numFeatures = len(defined_join)\n",
    "  \n",
    "  atLeastOneDefinedAtJAndTrue  = lambda j: z3.Or([z3.And(        defineds[i][j]\n",
    "                                                        ,        valences[i][j]\n",
    "                                                        ) \n",
    "                                                  for i in range(numObjects)])\n",
    "  atLeastOneDefinedAtJAndFalse = lambda j: z3.Or([z3.And(        defineds[i][j]\n",
    "                                                        , z3.Not(valences[i][j])\n",
    "                                                        )\n",
    "                                                  for i in range(numObjects)])\n",
    "  joinIsDefinedAtJ         = lambda j: z3.Xor( atLeastOneDefinedAtJAndTrue(j)\n",
    "                                             , atLeastOneDefinedAtJAndFalse(j)\n",
    "                                             )\n",
    "  joinIsDefinedAtJAndTrue  = lambda j: z3.And( joinIsDefinedAtJ(j)\n",
    "                                             , atLeastOneDefinedAtJAndTrue(j)\n",
    "                                             )\n",
    "  joinIsDefinedAtJAndFalse = lambda j: z3.And( joinIsDefinedAtJ(j)\n",
    "                                             , atLeastOneDefinedAtJAndFalse(j)\n",
    "                                             )\n",
    "  return z3.And([z3.And([ joinable_Booleans1(defineds, valences)\n",
    "                        , defined_join[j] == joinIsDefinedAtJ(j)\n",
    "                        , z3.Implies( joinIsDefinedAtJAndTrue(j)\n",
    "                                    , valence_join[j]\n",
    "                                    )\n",
    "                        , z3.Implies( joinIsDefinedAtJAndFalse(j)\n",
    "                                    , z3.Not(valence_join[j])\n",
    "                                    )\n",
    "                        ])\n",
    "                 for j in range(numFeatures)])\n"
   ]
  },
  {
   "cell_type": "code",
   "execution_count": 75,
   "id": "429895d8-da14-4695-b86a-095e46019b34",
   "metadata": {
    "execution": {
     "iopub.execute_input": "2022-03-28T19:33:02.212087Z",
     "iopub.status.busy": "2022-03-28T19:33:02.211467Z",
     "iopub.status.idle": "2022-03-28T19:33:02.232563Z",
     "shell.execute_reply": "2022-03-28T19:33:02.231052Z",
     "shell.execute_reply.started": "2022-03-28T19:33:02.212012Z"
    },
    "tags": []
   },
   "outputs": [],
   "source": [
    "def findObjectSetWithNonUniqueMeet(numFeatures, numObjects):\n",
    "  assert numFeatures > 0\n",
    "  assert numObjects  > 0\n",
    "  maxNumVectors = 3 ** numFeatures\n",
    "  assert numObjects <= maxNumVectors, f\"Max # distinct vectors for {numFeatures} features is {maxNumVectors}, but numObjects is '{numObjects}'\"\n",
    "  \n",
    "  s = z3.Solver()\n",
    "  \n",
    "  stack = [mk_FVBooleans(numFeatures, f\"V_{i}\") for i in range(numObjects)]\n",
    "  defineds    , valences     = lmap(lambda pair: pair[0], stack), lmap(lambda pair: pair[1], stack)\n",
    "  s.add(pairwise_distinct_Booleans1(defineds, valences))\n",
    "  \n",
    "  defined_meet, valence_meet = mk_FVBooleans(numFeatures, \"m\")\n",
    "  s.add(meet_Booleans1(defineds, valences, defined_meet, valence_meet))\n",
    "  \n",
    "  defined_alt , valence_alt  = mk_FVBooleans(numFeatures, \"a\")\n",
    "  s.add(meet_Booleans1(defineds, valences, defined_alt , valence_alt))\n",
    "  \n",
    "  s.push()\n",
    "  s.add(distinct_Booleans(defined_meet, valence_meet, defined_alt, valence_alt))\n",
    "\n",
    "  if s.check() == z3.sat:\n",
    "    print('Found model!?') # not expected!\n",
    "    return \"nonunique meets\", s, s.model(), stack, (defined_meet, valence_meet), (defined_alt, valence_alt)\n",
    "  else:\n",
    "    print('No model with distinct second meet') # evidence our definition of meet_Booleans1 is correct if this is *always* the outcome\n",
    "    s.pop()\n",
    "    if s.check() == z3.sat:\n",
    "      print('unique meet')\n",
    "      return \"unique meet/popped\", s, s.model(), stack, (defined_meet, valence_meet), (defined_alt, valence_alt)\n",
    "    print('No meet!')\n",
    "    return \"no meet\", s"
   ]
  },
  {
   "cell_type": "code",
   "execution_count": 84,
   "id": "b3c5631b-e3e1-4ae2-b0d6-9adc185344fb",
   "metadata": {
    "execution": {
     "iopub.execute_input": "2022-03-28T04:50:53.639843Z",
     "iopub.status.busy": "2022-03-28T04:50:53.639634Z",
     "iopub.status.idle": "2022-03-28T04:55:11.408538Z",
     "shell.execute_reply": "2022-03-28T04:55:11.408041Z",
     "shell.execute_reply.started": "2022-03-28T04:50:53.639820Z"
    },
    "tags": []
   },
   "outputs": [
    {
     "name": "stderr",
     "output_type": "stream",
     "text": [
      "  3%|▎         | 3/106 [00:00<00:04, 25.34it/s]"
     ]
    },
    {
     "name": "stdout",
     "output_type": "stream",
     "text": [
      "m = 3\n",
      "n = 1\n",
      "No model with distinct second meet\n",
      "unique meet\n",
      "m = 3\n",
      "n = 2\n",
      "No model with distinct second meet\n",
      "unique meet\n",
      "m = 3\n",
      "n = 3\n",
      "No model with distinct second meet\n",
      "unique meet\n",
      "m = 3\n",
      "n = 4\n",
      "No model with distinct second meet\n",
      "unique meet\n",
      "m = 3\n",
      "n = 5\n"
     ]
    },
    {
     "name": "stderr",
     "output_type": "stream",
     "text": [
      "  6%|▌         | 6/106 [00:00<00:04, 22.59it/s]"
     ]
    },
    {
     "name": "stdout",
     "output_type": "stream",
     "text": [
      "No model with distinct second meet\n",
      "unique meet\n",
      "m = 3\n",
      "n = 6\n",
      "No model with distinct second meet\n",
      "unique meet\n",
      "m = 3\n",
      "n = 7\n",
      "No model with distinct second meet\n",
      "unique meet\n",
      "m = 3\n",
      "n = 8\n"
     ]
    },
    {
     "name": "stderr",
     "output_type": "stream",
     "text": [
      "  8%|▊         | 9/106 [00:00<00:06, 15.32it/s]"
     ]
    },
    {
     "name": "stdout",
     "output_type": "stream",
     "text": [
      "No model with distinct second meet\n",
      "unique meet\n",
      "m = 3\n",
      "n = 9\n",
      "No model with distinct second meet\n",
      "unique meet\n",
      "m = 3\n",
      "n = 10\n"
     ]
    },
    {
     "name": "stderr",
     "output_type": "stream",
     "text": [
      " 10%|█         | 11/106 [00:00<00:08, 11.19it/s]"
     ]
    },
    {
     "name": "stdout",
     "output_type": "stream",
     "text": [
      "No model with distinct second meet\n",
      "unique meet\n",
      "m = 3\n",
      "n = 11\n",
      "No model with distinct second meet\n",
      "unique meet\n",
      "m = 3\n",
      "n = 12\n",
      "No model with distinct second meet\n",
      "unique meet\n",
      "m = 3\n",
      "n = 13\n"
     ]
    },
    {
     "name": "stderr",
     "output_type": "stream",
     "text": [
      " 12%|█▏        | 13/106 [00:01<00:11,  8.06it/s]"
     ]
    },
    {
     "name": "stdout",
     "output_type": "stream",
     "text": [
      "No model with distinct second meet\n",
      "unique meet\n",
      "m = 3\n",
      "n = 14\n",
      "No model with distinct second meet\n",
      "unique meet\n",
      "m = 3\n",
      "n = 15\n"
     ]
    },
    {
     "name": "stderr",
     "output_type": "stream",
     "text": [
      " 14%|█▍        | 15/106 [00:01<00:14,  6.12it/s]"
     ]
    },
    {
     "name": "stdout",
     "output_type": "stream",
     "text": [
      "No model with distinct second meet\n",
      "unique meet\n",
      "m = 3\n",
      "n = 16\n"
     ]
    },
    {
     "name": "stderr",
     "output_type": "stream",
     "text": [
      " 15%|█▌        | 16/106 [00:02<00:16,  5.35it/s]"
     ]
    },
    {
     "name": "stdout",
     "output_type": "stream",
     "text": [
      "No model with distinct second meet\n",
      "unique meet\n",
      "m = 3\n",
      "n = 17\n"
     ]
    },
    {
     "name": "stderr",
     "output_type": "stream",
     "text": [
      " 16%|█▌        | 17/106 [00:02<00:19,  4.65it/s]"
     ]
    },
    {
     "name": "stdout",
     "output_type": "stream",
     "text": [
      "No model with distinct second meet\n",
      "unique meet\n",
      "m = 3\n",
      "n = 18\n"
     ]
    },
    {
     "name": "stderr",
     "output_type": "stream",
     "text": [
      " 17%|█▋        | 18/106 [00:02<00:21,  4.01it/s]"
     ]
    },
    {
     "name": "stdout",
     "output_type": "stream",
     "text": [
      "No model with distinct second meet\n",
      "unique meet\n",
      "m = 3\n",
      "n = 19\n"
     ]
    },
    {
     "name": "stderr",
     "output_type": "stream",
     "text": [
      " 18%|█▊        | 19/106 [00:03<00:25,  3.45it/s]"
     ]
    },
    {
     "name": "stdout",
     "output_type": "stream",
     "text": [
      "No model with distinct second meet\n",
      "unique meet\n",
      "m = 3\n",
      "n = 20\n"
     ]
    },
    {
     "name": "stderr",
     "output_type": "stream",
     "text": [
      " 19%|█▉        | 20/106 [00:03<00:28,  3.01it/s]"
     ]
    },
    {
     "name": "stdout",
     "output_type": "stream",
     "text": [
      "No model with distinct second meet\n",
      "unique meet\n",
      "m = 3\n",
      "n = 21\n"
     ]
    },
    {
     "name": "stderr",
     "output_type": "stream",
     "text": [
      " 20%|█▉        | 21/106 [00:04<00:32,  2.63it/s]"
     ]
    },
    {
     "name": "stdout",
     "output_type": "stream",
     "text": [
      "No model with distinct second meet\n",
      "unique meet\n",
      "m = 3\n",
      "n = 22\n"
     ]
    },
    {
     "name": "stderr",
     "output_type": "stream",
     "text": [
      " 21%|██        | 22/106 [00:04<00:35,  2.36it/s]"
     ]
    },
    {
     "name": "stdout",
     "output_type": "stream",
     "text": [
      "No model with distinct second meet\n",
      "unique meet\n",
      "m = 3\n",
      "n = 23\n"
     ]
    },
    {
     "name": "stderr",
     "output_type": "stream",
     "text": [
      " 22%|██▏       | 23/106 [00:05<00:39,  2.10it/s]"
     ]
    },
    {
     "name": "stdout",
     "output_type": "stream",
     "text": [
      "No model with distinct second meet\n",
      "unique meet\n",
      "m = 3\n",
      "n = 24\n"
     ]
    },
    {
     "name": "stderr",
     "output_type": "stream",
     "text": [
      " 23%|██▎       | 24/106 [00:05<00:43,  1.89it/s]"
     ]
    },
    {
     "name": "stdout",
     "output_type": "stream",
     "text": [
      "No model with distinct second meet\n",
      "unique meet\n",
      "m = 3\n",
      "n = 25\n"
     ]
    },
    {
     "name": "stderr",
     "output_type": "stream",
     "text": [
      " 24%|██▎       | 25/106 [00:06<00:46,  1.75it/s]"
     ]
    },
    {
     "name": "stdout",
     "output_type": "stream",
     "text": [
      "No model with distinct second meet\n",
      "unique meet\n",
      "m = 3\n",
      "n = 26\n"
     ]
    },
    {
     "name": "stderr",
     "output_type": "stream",
     "text": [
      " 28%|██▊       | 30/106 [00:07<00:19,  4.00it/s]"
     ]
    },
    {
     "name": "stdout",
     "output_type": "stream",
     "text": [
      "No model with distinct second meet\n",
      "unique meet\n",
      "m = 4\n",
      "n = 1\n",
      "No model with distinct second meet\n",
      "unique meet\n",
      "m = 4\n",
      "n = 2\n",
      "No model with distinct second meet\n",
      "unique meet\n",
      "m = 4\n",
      "n = 3\n",
      "No model with distinct second meet\n",
      "unique meet\n",
      "m = 4\n",
      "n = 4\n",
      "No model with distinct second meet\n",
      "unique meet\n",
      "m = 4\n",
      "n = 5\n",
      "No model with distinct second meet\n",
      "unique meet\n",
      "m = 4\n",
      "n = 6\n"
     ]
    },
    {
     "name": "stderr",
     "output_type": "stream",
     "text": [
      " 30%|███       | 32/106 [00:07<00:14,  5.14it/s]"
     ]
    },
    {
     "name": "stdout",
     "output_type": "stream",
     "text": [
      "No model with distinct second meet\n",
      "unique meet\n",
      "m = 4\n",
      "n = 7\n",
      "No model with distinct second meet\n",
      "unique meet\n",
      "m = 4\n",
      "n = 8\n"
     ]
    },
    {
     "name": "stderr",
     "output_type": "stream",
     "text": [
      " 32%|███▏      | 34/106 [00:07<00:12,  5.94it/s]"
     ]
    },
    {
     "name": "stdout",
     "output_type": "stream",
     "text": [
      "No model with distinct second meet\n",
      "unique meet\n",
      "m = 4\n",
      "n = 9\n",
      "No model with distinct second meet\n",
      "unique meet\n",
      "m = 4\n",
      "n = 10\n"
     ]
    },
    {
     "name": "stderr",
     "output_type": "stream",
     "text": [
      " 34%|███▍      | 36/106 [00:08<00:11,  6.04it/s]"
     ]
    },
    {
     "name": "stdout",
     "output_type": "stream",
     "text": [
      "No model with distinct second meet\n",
      "unique meet\n",
      "m = 4\n",
      "n = 11\n",
      "No model with distinct second meet\n",
      "unique meet\n"
     ]
    },
    {
     "name": "stderr",
     "output_type": "stream",
     "text": [
      " 35%|███▍      | 37/106 [00:08<00:11,  5.84it/s]"
     ]
    },
    {
     "name": "stdout",
     "output_type": "stream",
     "text": [
      "m = 4\n",
      "n = 12\n"
     ]
    },
    {
     "name": "stderr",
     "output_type": "stream",
     "text": [
      " 36%|███▌      | 38/106 [00:08<00:12,  5.43it/s]"
     ]
    },
    {
     "name": "stdout",
     "output_type": "stream",
     "text": [
      "No model with distinct second meet\n",
      "unique meet\n",
      "m = 4\n",
      "n = 13\n"
     ]
    },
    {
     "name": "stderr",
     "output_type": "stream",
     "text": [
      " 37%|███▋      | 39/106 [00:08<00:13,  4.89it/s]"
     ]
    },
    {
     "name": "stdout",
     "output_type": "stream",
     "text": [
      "No model with distinct second meet\n",
      "unique meet\n",
      "m = 4\n",
      "n = 14\n"
     ]
    },
    {
     "name": "stderr",
     "output_type": "stream",
     "text": [
      " 38%|███▊      | 40/106 [00:09<00:15,  4.30it/s]"
     ]
    },
    {
     "name": "stdout",
     "output_type": "stream",
     "text": [
      "No model with distinct second meet\n",
      "unique meet\n",
      "m = 4\n",
      "n = 15\n"
     ]
    },
    {
     "name": "stderr",
     "output_type": "stream",
     "text": [
      " 39%|███▊      | 41/106 [00:09<00:16,  3.84it/s]"
     ]
    },
    {
     "name": "stdout",
     "output_type": "stream",
     "text": [
      "No model with distinct second meet\n",
      "unique meet\n",
      "m = 4\n",
      "n = 16\n"
     ]
    },
    {
     "name": "stderr",
     "output_type": "stream",
     "text": [
      " 40%|███▉      | 42/106 [00:09<00:18,  3.38it/s]"
     ]
    },
    {
     "name": "stdout",
     "output_type": "stream",
     "text": [
      "No model with distinct second meet\n",
      "unique meet\n",
      "m = 4\n",
      "n = 17\n"
     ]
    },
    {
     "name": "stderr",
     "output_type": "stream",
     "text": [
      " 41%|████      | 43/106 [00:10<00:20,  3.00it/s]"
     ]
    },
    {
     "name": "stdout",
     "output_type": "stream",
     "text": [
      "No model with distinct second meet\n",
      "unique meet\n",
      "m = 4\n",
      "n = 18\n"
     ]
    },
    {
     "name": "stderr",
     "output_type": "stream",
     "text": [
      " 42%|████▏     | 44/106 [00:10<00:23,  2.65it/s]"
     ]
    },
    {
     "name": "stdout",
     "output_type": "stream",
     "text": [
      "No model with distinct second meet\n",
      "unique meet\n",
      "m = 4\n",
      "n = 19\n"
     ]
    },
    {
     "name": "stderr",
     "output_type": "stream",
     "text": [
      " 42%|████▏     | 45/106 [00:11<00:25,  2.36it/s]"
     ]
    },
    {
     "name": "stdout",
     "output_type": "stream",
     "text": [
      "No model with distinct second meet\n",
      "unique meet\n",
      "m = 4\n",
      "n = 20\n"
     ]
    },
    {
     "name": "stderr",
     "output_type": "stream",
     "text": [
      " 43%|████▎     | 46/106 [00:11<00:28,  2.10it/s]"
     ]
    },
    {
     "name": "stdout",
     "output_type": "stream",
     "text": [
      "No model with distinct second meet\n",
      "unique meet\n",
      "m = 4\n",
      "n = 21\n"
     ]
    },
    {
     "name": "stderr",
     "output_type": "stream",
     "text": [
      " 44%|████▍     | 47/106 [00:12<00:30,  1.92it/s]"
     ]
    },
    {
     "name": "stdout",
     "output_type": "stream",
     "text": [
      "No model with distinct second meet\n",
      "unique meet\n",
      "m = 4\n",
      "n = 22\n"
     ]
    },
    {
     "name": "stderr",
     "output_type": "stream",
     "text": [
      " 45%|████▌     | 48/106 [00:13<00:33,  1.73it/s]"
     ]
    },
    {
     "name": "stdout",
     "output_type": "stream",
     "text": [
      "No model with distinct second meet\n",
      "unique meet\n",
      "m = 4\n",
      "n = 23\n"
     ]
    },
    {
     "name": "stderr",
     "output_type": "stream",
     "text": [
      " 46%|████▌     | 49/106 [00:14<00:35,  1.59it/s]"
     ]
    },
    {
     "name": "stdout",
     "output_type": "stream",
     "text": [
      "No model with distinct second meet\n",
      "unique meet\n",
      "m = 4\n",
      "n = 24\n"
     ]
    },
    {
     "name": "stderr",
     "output_type": "stream",
     "text": [
      " 47%|████▋     | 50/106 [00:14<00:38,  1.45it/s]"
     ]
    },
    {
     "name": "stdout",
     "output_type": "stream",
     "text": [
      "No model with distinct second meet\n",
      "unique meet\n",
      "m = 4\n",
      "n = 25\n"
     ]
    },
    {
     "name": "stderr",
     "output_type": "stream",
     "text": [
      " 48%|████▊     | 51/106 [00:15<00:41,  1.34it/s]"
     ]
    },
    {
     "name": "stdout",
     "output_type": "stream",
     "text": [
      "No model with distinct second meet\n",
      "unique meet\n",
      "m = 4\n",
      "n = 26\n"
     ]
    },
    {
     "name": "stderr",
     "output_type": "stream",
     "text": [
      " 49%|████▉     | 52/106 [00:16<00:43,  1.23it/s]"
     ]
    },
    {
     "name": "stdout",
     "output_type": "stream",
     "text": [
      "No model with distinct second meet\n",
      "unique meet\n",
      "m = 4\n",
      "n = 27\n"
     ]
    },
    {
     "name": "stderr",
     "output_type": "stream",
     "text": [
      " 50%|█████     | 53/106 [00:17<00:46,  1.14it/s]"
     ]
    },
    {
     "name": "stdout",
     "output_type": "stream",
     "text": [
      "No model with distinct second meet\n",
      "unique meet\n",
      "m = 4\n",
      "n = 28\n"
     ]
    },
    {
     "name": "stderr",
     "output_type": "stream",
     "text": [
      " 51%|█████     | 54/106 [00:18<00:49,  1.06it/s]"
     ]
    },
    {
     "name": "stdout",
     "output_type": "stream",
     "text": [
      "No model with distinct second meet\n",
      "unique meet\n",
      "m = 4\n",
      "n = 29\n"
     ]
    },
    {
     "name": "stderr",
     "output_type": "stream",
     "text": [
      " 52%|█████▏    | 55/106 [00:20<00:51,  1.01s/it]"
     ]
    },
    {
     "name": "stdout",
     "output_type": "stream",
     "text": [
      "No model with distinct second meet\n",
      "unique meet\n",
      "m = 4\n",
      "n = 30\n"
     ]
    },
    {
     "name": "stderr",
     "output_type": "stream",
     "text": [
      " 53%|█████▎    | 56/106 [00:21<00:54,  1.09s/it]"
     ]
    },
    {
     "name": "stdout",
     "output_type": "stream",
     "text": [
      "No model with distinct second meet\n",
      "unique meet\n",
      "m = 4\n",
      "n = 31\n"
     ]
    },
    {
     "name": "stderr",
     "output_type": "stream",
     "text": [
      " 54%|█████▍    | 57/106 [00:22<00:56,  1.16s/it]"
     ]
    },
    {
     "name": "stdout",
     "output_type": "stream",
     "text": [
      "No model with distinct second meet\n",
      "unique meet\n",
      "m = 4\n",
      "n = 32\n"
     ]
    },
    {
     "name": "stderr",
     "output_type": "stream",
     "text": [
      " 55%|█████▍    | 58/106 [00:24<00:59,  1.24s/it]"
     ]
    },
    {
     "name": "stdout",
     "output_type": "stream",
     "text": [
      "No model with distinct second meet\n",
      "unique meet\n",
      "m = 4\n",
      "n = 33\n"
     ]
    },
    {
     "name": "stderr",
     "output_type": "stream",
     "text": [
      " 56%|█████▌    | 59/106 [00:25<01:02,  1.32s/it]"
     ]
    },
    {
     "name": "stdout",
     "output_type": "stream",
     "text": [
      "No model with distinct second meet\n",
      "unique meet\n",
      "m = 4\n",
      "n = 34\n"
     ]
    },
    {
     "name": "stderr",
     "output_type": "stream",
     "text": [
      " 57%|█████▋    | 60/106 [00:27<01:04,  1.41s/it]"
     ]
    },
    {
     "name": "stdout",
     "output_type": "stream",
     "text": [
      "No model with distinct second meet\n",
      "unique meet\n",
      "m = 4\n",
      "n = 35\n"
     ]
    },
    {
     "name": "stderr",
     "output_type": "stream",
     "text": [
      " 58%|█████▊    | 61/106 [00:28<01:07,  1.50s/it]"
     ]
    },
    {
     "name": "stdout",
     "output_type": "stream",
     "text": [
      "No model with distinct second meet\n",
      "unique meet\n",
      "m = 4\n",
      "n = 36\n"
     ]
    },
    {
     "name": "stderr",
     "output_type": "stream",
     "text": [
      " 58%|█████▊    | 62/106 [00:30<01:10,  1.61s/it]"
     ]
    },
    {
     "name": "stdout",
     "output_type": "stream",
     "text": [
      "No model with distinct second meet\n",
      "unique meet\n",
      "m = 4\n",
      "n = 37\n"
     ]
    },
    {
     "name": "stderr",
     "output_type": "stream",
     "text": [
      " 59%|█████▉    | 63/106 [00:32<01:13,  1.72s/it]"
     ]
    },
    {
     "name": "stdout",
     "output_type": "stream",
     "text": [
      "No model with distinct second meet\n",
      "unique meet\n",
      "m = 4\n",
      "n = 38\n"
     ]
    },
    {
     "name": "stderr",
     "output_type": "stream",
     "text": [
      " 60%|██████    | 64/106 [00:34<01:16,  1.82s/it]"
     ]
    },
    {
     "name": "stdout",
     "output_type": "stream",
     "text": [
      "No model with distinct second meet\n",
      "unique meet\n",
      "m = 4\n",
      "n = 39\n"
     ]
    },
    {
     "name": "stderr",
     "output_type": "stream",
     "text": [
      " 61%|██████▏   | 65/106 [00:36<01:19,  1.93s/it]"
     ]
    },
    {
     "name": "stdout",
     "output_type": "stream",
     "text": [
      "No model with distinct second meet\n",
      "unique meet\n",
      "m = 4\n",
      "n = 40\n"
     ]
    },
    {
     "name": "stderr",
     "output_type": "stream",
     "text": [
      " 62%|██████▏   | 66/106 [00:39<01:20,  2.01s/it]"
     ]
    },
    {
     "name": "stdout",
     "output_type": "stream",
     "text": [
      "No model with distinct second meet\n",
      "unique meet\n",
      "m = 4\n",
      "n = 41\n"
     ]
    },
    {
     "name": "stderr",
     "output_type": "stream",
     "text": [
      " 63%|██████▎   | 67/106 [00:41<01:22,  2.11s/it]"
     ]
    },
    {
     "name": "stdout",
     "output_type": "stream",
     "text": [
      "No model with distinct second meet\n",
      "unique meet\n",
      "m = 4\n",
      "n = 42\n"
     ]
    },
    {
     "name": "stderr",
     "output_type": "stream",
     "text": [
      " 64%|██████▍   | 68/106 [00:43<01:24,  2.22s/it]"
     ]
    },
    {
     "name": "stdout",
     "output_type": "stream",
     "text": [
      "No model with distinct second meet\n",
      "unique meet\n",
      "m = 4\n",
      "n = 43\n"
     ]
    },
    {
     "name": "stderr",
     "output_type": "stream",
     "text": [
      " 65%|██████▌   | 69/106 [00:46<01:26,  2.34s/it]"
     ]
    },
    {
     "name": "stdout",
     "output_type": "stream",
     "text": [
      "No model with distinct second meet\n",
      "unique meet\n",
      "m = 4\n",
      "n = 44\n"
     ]
    },
    {
     "name": "stderr",
     "output_type": "stream",
     "text": [
      " 66%|██████▌   | 70/106 [00:49<01:28,  2.45s/it]"
     ]
    },
    {
     "name": "stdout",
     "output_type": "stream",
     "text": [
      "No model with distinct second meet\n",
      "unique meet\n",
      "m = 4\n",
      "n = 45\n"
     ]
    },
    {
     "name": "stderr",
     "output_type": "stream",
     "text": [
      " 67%|██████▋   | 71/106 [00:52<01:29,  2.56s/it]"
     ]
    },
    {
     "name": "stdout",
     "output_type": "stream",
     "text": [
      "No model with distinct second meet\n",
      "unique meet\n",
      "m = 4\n",
      "n = 46\n"
     ]
    },
    {
     "name": "stderr",
     "output_type": "stream",
     "text": [
      " 68%|██████▊   | 72/106 [00:55<01:31,  2.69s/it]"
     ]
    },
    {
     "name": "stdout",
     "output_type": "stream",
     "text": [
      "No model with distinct second meet\n",
      "unique meet\n",
      "m = 4\n",
      "n = 47\n"
     ]
    },
    {
     "name": "stderr",
     "output_type": "stream",
     "text": [
      " 69%|██████▉   | 73/106 [00:58<01:33,  2.82s/it]"
     ]
    },
    {
     "name": "stdout",
     "output_type": "stream",
     "text": [
      "No model with distinct second meet\n",
      "unique meet\n",
      "m = 4\n",
      "n = 48\n"
     ]
    },
    {
     "name": "stderr",
     "output_type": "stream",
     "text": [
      " 70%|██████▉   | 74/106 [01:01<01:34,  2.95s/it]"
     ]
    },
    {
     "name": "stdout",
     "output_type": "stream",
     "text": [
      "No model with distinct second meet\n",
      "unique meet\n",
      "m = 4\n",
      "n = 49\n"
     ]
    },
    {
     "name": "stderr",
     "output_type": "stream",
     "text": [
      " 71%|███████   | 75/106 [01:04<01:35,  3.09s/it]"
     ]
    },
    {
     "name": "stdout",
     "output_type": "stream",
     "text": [
      "No model with distinct second meet\n",
      "unique meet\n",
      "m = 4\n",
      "n = 50\n"
     ]
    },
    {
     "name": "stderr",
     "output_type": "stream",
     "text": [
      " 72%|███████▏  | 76/106 [01:08<01:37,  3.24s/it]"
     ]
    },
    {
     "name": "stdout",
     "output_type": "stream",
     "text": [
      "No model with distinct second meet\n",
      "unique meet\n",
      "m = 4\n",
      "n = 51\n"
     ]
    },
    {
     "name": "stderr",
     "output_type": "stream",
     "text": [
      " 73%|███████▎  | 77/106 [01:12<01:38,  3.38s/it]"
     ]
    },
    {
     "name": "stdout",
     "output_type": "stream",
     "text": [
      "No model with distinct second meet\n",
      "unique meet\n",
      "m = 4\n",
      "n = 52\n"
     ]
    },
    {
     "name": "stderr",
     "output_type": "stream",
     "text": [
      " 74%|███████▎  | 78/106 [01:16<01:39,  3.54s/it]"
     ]
    },
    {
     "name": "stdout",
     "output_type": "stream",
     "text": [
      "No model with distinct second meet\n",
      "unique meet\n",
      "m = 4\n",
      "n = 53\n"
     ]
    },
    {
     "name": "stderr",
     "output_type": "stream",
     "text": [
      " 75%|███████▍  | 79/106 [01:20<01:39,  3.68s/it]"
     ]
    },
    {
     "name": "stdout",
     "output_type": "stream",
     "text": [
      "No model with distinct second meet\n",
      "unique meet\n",
      "m = 4\n",
      "n = 54\n"
     ]
    },
    {
     "name": "stderr",
     "output_type": "stream",
     "text": [
      " 75%|███████▌  | 80/106 [01:24<01:38,  3.80s/it]"
     ]
    },
    {
     "name": "stdout",
     "output_type": "stream",
     "text": [
      "No model with distinct second meet\n",
      "unique meet\n",
      "m = 4\n",
      "n = 55\n"
     ]
    },
    {
     "name": "stderr",
     "output_type": "stream",
     "text": [
      " 76%|███████▋  | 81/106 [01:28<01:38,  3.94s/it]"
     ]
    },
    {
     "name": "stdout",
     "output_type": "stream",
     "text": [
      "No model with distinct second meet\n",
      "unique meet\n",
      "m = 4\n",
      "n = 56\n"
     ]
    },
    {
     "name": "stderr",
     "output_type": "stream",
     "text": [
      " 77%|███████▋  | 82/106 [01:32<01:38,  4.09s/it]"
     ]
    },
    {
     "name": "stdout",
     "output_type": "stream",
     "text": [
      "No model with distinct second meet\n",
      "unique meet\n",
      "m = 4\n",
      "n = 57\n"
     ]
    },
    {
     "name": "stderr",
     "output_type": "stream",
     "text": [
      " 78%|███████▊  | 83/106 [01:37<01:37,  4.24s/it]"
     ]
    },
    {
     "name": "stdout",
     "output_type": "stream",
     "text": [
      "No model with distinct second meet\n",
      "unique meet\n",
      "m = 4\n",
      "n = 58\n"
     ]
    },
    {
     "name": "stderr",
     "output_type": "stream",
     "text": [
      " 79%|███████▉  | 84/106 [01:42<01:36,  4.37s/it]"
     ]
    },
    {
     "name": "stdout",
     "output_type": "stream",
     "text": [
      "No model with distinct second meet\n",
      "unique meet\n",
      "m = 4\n",
      "n = 59\n",
      "No model with distinct second meet\n",
      "unique meet\n"
     ]
    },
    {
     "name": "stderr",
     "output_type": "stream",
     "text": [
      " 80%|████████  | 85/106 [01:47<01:34,  4.52s/it]"
     ]
    },
    {
     "name": "stdout",
     "output_type": "stream",
     "text": [
      "m = 4\n",
      "n = 60\n",
      "No model with distinct second meet\n"
     ]
    },
    {
     "name": "stderr",
     "output_type": "stream",
     "text": [
      " 81%|████████  | 86/106 [01:52<01:33,  4.67s/it]"
     ]
    },
    {
     "name": "stdout",
     "output_type": "stream",
     "text": [
      "unique meet\n",
      "m = 4\n",
      "n = 61\n",
      "No model with distinct second meet\n"
     ]
    },
    {
     "name": "stderr",
     "output_type": "stream",
     "text": [
      " 82%|████████▏ | 87/106 [01:57<01:33,  4.93s/it]"
     ]
    },
    {
     "name": "stdout",
     "output_type": "stream",
     "text": [
      "unique meet\n",
      "m = 4\n",
      "n = 62\n",
      "No model with distinct second meet\n"
     ]
    },
    {
     "name": "stderr",
     "output_type": "stream",
     "text": [
      " 83%|████████▎ | 88/106 [02:03<01:31,  5.09s/it]"
     ]
    },
    {
     "name": "stdout",
     "output_type": "stream",
     "text": [
      "unique meet\n",
      "m = 4\n",
      "n = 63\n",
      "No model with distinct second meet\n"
     ]
    },
    {
     "name": "stderr",
     "output_type": "stream",
     "text": [
      " 84%|████████▍ | 89/106 [02:08<01:29,  5.27s/it]"
     ]
    },
    {
     "name": "stdout",
     "output_type": "stream",
     "text": [
      "unique meet\n",
      "m = 4\n",
      "n = 64\n",
      "No model with distinct second meet\n"
     ]
    },
    {
     "name": "stderr",
     "output_type": "stream",
     "text": [
      " 85%|████████▍ | 90/106 [02:14<01:26,  5.43s/it]"
     ]
    },
    {
     "name": "stdout",
     "output_type": "stream",
     "text": [
      "unique meet\n",
      "m = 4\n",
      "n = 65\n",
      "No model with distinct second meet\n"
     ]
    },
    {
     "name": "stderr",
     "output_type": "stream",
     "text": [
      " 86%|████████▌ | 91/106 [02:20<01:24,  5.65s/it]"
     ]
    },
    {
     "name": "stdout",
     "output_type": "stream",
     "text": [
      "unique meet\n",
      "m = 4\n",
      "n = 66\n",
      "No model with distinct second meet\n"
     ]
    },
    {
     "name": "stderr",
     "output_type": "stream",
     "text": [
      " 87%|████████▋ | 92/106 [02:27<01:21,  5.85s/it]"
     ]
    },
    {
     "name": "stdout",
     "output_type": "stream",
     "text": [
      "unique meet\n",
      "m = 4\n",
      "n = 67\n",
      "No model with distinct second meet\n"
     ]
    },
    {
     "name": "stderr",
     "output_type": "stream",
     "text": [
      " 88%|████████▊ | 93/106 [02:33<01:18,  6.08s/it]"
     ]
    },
    {
     "name": "stdout",
     "output_type": "stream",
     "text": [
      "unique meet\n",
      "m = 4\n",
      "n = 68\n",
      "No model with distinct second meet\n"
     ]
    },
    {
     "name": "stderr",
     "output_type": "stream",
     "text": [
      " 89%|████████▊ | 94/106 [02:40<01:14,  6.23s/it]"
     ]
    },
    {
     "name": "stdout",
     "output_type": "stream",
     "text": [
      "unique meet\n",
      "m = 4\n",
      "n = 69\n",
      "No model with distinct second meet\n"
     ]
    },
    {
     "name": "stderr",
     "output_type": "stream",
     "text": [
      " 90%|████████▉ | 95/106 [02:47<01:10,  6.41s/it]"
     ]
    },
    {
     "name": "stdout",
     "output_type": "stream",
     "text": [
      "unique meet\n",
      "m = 4\n",
      "n = 70\n",
      "No model with distinct second meet\n"
     ]
    },
    {
     "name": "stderr",
     "output_type": "stream",
     "text": [
      " 91%|█████████ | 96/106 [02:54<01:06,  6.60s/it]"
     ]
    },
    {
     "name": "stdout",
     "output_type": "stream",
     "text": [
      "unique meet\n",
      "m = 4\n",
      "n = 71\n",
      "No model with distinct second meet\n"
     ]
    },
    {
     "name": "stderr",
     "output_type": "stream",
     "text": [
      " 92%|█████████▏| 97/106 [03:01<01:01,  6.85s/it]"
     ]
    },
    {
     "name": "stdout",
     "output_type": "stream",
     "text": [
      "unique meet\n",
      "m = 4\n",
      "n = 72\n",
      "No model with distinct second meet\n"
     ]
    },
    {
     "name": "stderr",
     "output_type": "stream",
     "text": [
      " 92%|█████████▏| 98/106 [03:08<00:55,  6.97s/it]"
     ]
    },
    {
     "name": "stdout",
     "output_type": "stream",
     "text": [
      "unique meet\n",
      "m = 4\n",
      "n = 73\n",
      "No model with distinct second meet\n"
     ]
    },
    {
     "name": "stderr",
     "output_type": "stream",
     "text": [
      " 93%|█████████▎| 99/106 [03:16<00:50,  7.28s/it]"
     ]
    },
    {
     "name": "stdout",
     "output_type": "stream",
     "text": [
      "unique meet\n",
      "m = 4\n",
      "n = 74\n",
      "No model with distinct second meet\n"
     ]
    },
    {
     "name": "stderr",
     "output_type": "stream",
     "text": [
      " 94%|█████████▍| 100/106 [03:24<00:44,  7.42s/it]"
     ]
    },
    {
     "name": "stdout",
     "output_type": "stream",
     "text": [
      "unique meet\n",
      "m = 4\n",
      "n = 75\n",
      "No model with distinct second meet\n"
     ]
    },
    {
     "name": "stderr",
     "output_type": "stream",
     "text": [
      " 95%|█████████▌| 101/106 [03:32<00:38,  7.66s/it]"
     ]
    },
    {
     "name": "stdout",
     "output_type": "stream",
     "text": [
      "unique meet\n",
      "m = 4\n",
      "n = 76\n",
      "No model with distinct second meet\n"
     ]
    },
    {
     "name": "stderr",
     "output_type": "stream",
     "text": [
      " 96%|█████████▌| 102/106 [03:41<00:31,  7.88s/it]"
     ]
    },
    {
     "name": "stdout",
     "output_type": "stream",
     "text": [
      "unique meet\n",
      "m = 4\n",
      "n = 77\n",
      "No model with distinct second meet\n"
     ]
    },
    {
     "name": "stderr",
     "output_type": "stream",
     "text": [
      " 97%|█████████▋| 103/106 [03:49<00:24,  8.09s/it]"
     ]
    },
    {
     "name": "stdout",
     "output_type": "stream",
     "text": [
      "unique meet\n",
      "m = 4\n",
      "n = 78\n",
      "No model with distinct second meet\n"
     ]
    },
    {
     "name": "stderr",
     "output_type": "stream",
     "text": [
      " 98%|█████████▊| 104/106 [03:58<00:16,  8.30s/it]"
     ]
    },
    {
     "name": "stdout",
     "output_type": "stream",
     "text": [
      "unique meet\n",
      "m = 4\n",
      "n = 79\n",
      "No model with distinct second meet\n"
     ]
    },
    {
     "name": "stderr",
     "output_type": "stream",
     "text": [
      " 99%|█████████▉| 105/106 [04:07<00:08,  8.51s/it]"
     ]
    },
    {
     "name": "stdout",
     "output_type": "stream",
     "text": [
      "unique meet\n",
      "m = 4\n",
      "n = 80\n",
      "No model with distinct second meet\n"
     ]
    },
    {
     "name": "stderr",
     "output_type": "stream",
     "text": [
      "100%|██████████| 106/106 [04:16<00:00,  2.42s/it]"
     ]
    },
    {
     "name": "stdout",
     "output_type": "stream",
     "text": [
      "unique meet\n",
      "|models where meet is *not* unique| = 0\n",
      "|models where no meet exists| = 0\n",
      "|models where meet is unique| = 106\n"
     ]
    },
    {
     "name": "stderr",
     "output_type": "stream",
     "text": [
      "\n"
     ]
    }
   ],
   "source": [
    "# Ms =  list(range(3,5))\n",
    "# Ns = [list(range(1, 3 ** m)) for m in Ms]\n",
    "# MNs = lmapcat(lambda pair: [(pair[0], each) for each in pair[1]], \n",
    "#               zip(Ms, Ns))\n",
    "# meetIsUnique, meetIsNotUnique, noMeet = [], [], []\n",
    "# for eachM, eachN in tqdm(MNs, total = len(MNs)):\n",
    "#   print(f\"m = {eachM}\")\n",
    "#   print(f\"n = {eachN}\")\n",
    "#   res = findObjectSetWithNonUniqueMeet(eachM, eachN)\n",
    "#   if res[0] == \"nonunique meets\":\n",
    "#     meetIsNotUnique.append(res)\n",
    "#   elif res[0] == \"no meet\":\n",
    "#     noMeet.append(res)\n",
    "#   elif res[0] == \"unique meet/popped\":\n",
    "#     meetIsUnique.append(res)\n",
    "# print(f\"|models where meet is *not* unique| = {len(meetIsNotUnique)}\") # expecting zero\n",
    "# print(f\"|models where no meet exists| = {len(noMeet)}\") # expecting zero\n",
    "# print(f\"|models where meet is unique| = {len(meetIsUnique)}\")"
   ]
  },
  {
   "cell_type": "code",
   "execution_count": 76,
   "id": "6382a8f5-6675-484f-bf1d-df927c4b4519",
   "metadata": {
    "execution": {
     "iopub.execute_input": "2022-03-28T19:33:07.637351Z",
     "iopub.status.busy": "2022-03-28T19:33:07.637130Z",
     "iopub.status.idle": "2022-03-28T19:33:07.644174Z",
     "shell.execute_reply": "2022-03-28T19:33:07.643533Z",
     "shell.execute_reply.started": "2022-03-28T19:33:07.637320Z"
    },
    "tags": []
   },
   "outputs": [],
   "source": [
    "def findObjectSetWithNonUniqueJoin(numFeatures, numObjects):\n",
    "  assert numFeatures > 0\n",
    "  assert numObjects  > 0\n",
    "  maxNumVectors = 3 ** numFeatures\n",
    "  assert numObjects <= maxNumVectors, f\"Max # distinct vectors for {numFeatures} features is {maxNumVectors}, but numObjects is '{numObjects}'\"\n",
    "  \n",
    "  s = z3.Solver()\n",
    "  \n",
    "  stack = [mk_FVBooleans(numFeatures, f\"V_{i}\") for i in range(numObjects)]\n",
    "  defineds    , valences     = lmap(lambda pair: pair[0], stack), lmap(lambda pair: pair[1], stack)\n",
    "  s.add(pairwise_distinct_Booleans1(defineds, valences))\n",
    "  \n",
    "  defined_join, valence_join = mk_FVBooleans(numFeatures, \"m\")\n",
    "  s.add(join_Booleans1(defineds, valences, defined_join, valence_join))\n",
    "  \n",
    "  defined_alt , valence_alt  = mk_FVBooleans(numFeatures, \"a\")\n",
    "  s.add(join_Booleans1(defineds, valences, defined_alt , valence_alt))\n",
    "  \n",
    "  s.push()\n",
    "  s.add(distinct_Booleans(defined_join, valence_join, defined_alt, valence_alt))\n",
    "\n",
    "  if s.check() == z3.sat:\n",
    "    print('Found model!?') # not expected!\n",
    "    return \"nonunique joins\", s, s.model(), stack, (defined_join, valence_join), (defined_alt, valence_alt)\n",
    "  else:\n",
    "    print('No model with distinct second join') # evidence our definition of join_Booleans1 is correct if this is *always* the outcome\n",
    "    s.pop()\n",
    "    if s.check() == z3.sat:\n",
    "      print('unique join')\n",
    "      return \"unique join/popped\", s, s.model(), stack, (defined_join, valence_join), (defined_alt, valence_alt)\n",
    "    print('No join!')\n",
    "    return \"no join\", s"
   ]
  },
  {
   "cell_type": "code",
   "execution_count": null,
   "id": "520045da-6938-4a33-95fd-ea91e6ebfcc5",
   "metadata": {
    "execution": {
     "iopub.execute_input": "2022-03-28T05:00:06.704120Z",
     "iopub.status.busy": "2022-03-28T05:00:06.703870Z"
    },
    "tags": []
   },
   "outputs": [
    {
     "name": "stderr",
     "output_type": "stream",
     "text": [
      "  3%|▎         | 3/106 [00:00<00:03, 25.99it/s]"
     ]
    },
    {
     "name": "stdout",
     "output_type": "stream",
     "text": [
      "m = 3\n",
      "n = 1\n",
      "No model with distinct second join\n",
      "unique join\n",
      "m = 3\n",
      "n = 2\n",
      "No model with distinct second join\n",
      "unique join\n",
      "m = 3\n",
      "n = 3\n",
      "No model with distinct second join\n",
      "unique join\n",
      "m = 3\n",
      "n = 4\n",
      "No model with distinct second join\n",
      "unique join\n",
      "m = 3\n",
      "n = 5\n"
     ]
    },
    {
     "name": "stderr",
     "output_type": "stream",
     "text": [
      "  6%|▌         | 6/106 [00:00<00:06, 15.17it/s]"
     ]
    },
    {
     "name": "stdout",
     "output_type": "stream",
     "text": [
      "No model with distinct second join\n",
      "unique join\n",
      "m = 3\n",
      "n = 6\n",
      "No model with distinct second join\n",
      "unique join\n",
      "m = 3\n",
      "n = 7\n"
     ]
    },
    {
     "name": "stderr",
     "output_type": "stream",
     "text": [
      "  8%|▊         | 8/106 [00:00<00:08, 11.16it/s]"
     ]
    },
    {
     "name": "stdout",
     "output_type": "stream",
     "text": [
      "No model with distinct second join\n",
      "unique join\n",
      "m = 3\n",
      "n = 8\n",
      "No model with distinct second join\n",
      "unique join\n",
      "m = 3\n",
      "n = 9\n",
      "No model with distinct second join\n",
      "No join!\n",
      "m = 3\n",
      "n = 10\n",
      "No model with distinct second join\n"
     ]
    },
    {
     "name": "stderr",
     "output_type": "stream",
     "text": [
      "  9%|▉         | 10/106 [00:01<00:24,  3.88it/s]"
     ]
    },
    {
     "name": "stdout",
     "output_type": "stream",
     "text": [
      "No join!\n",
      "m = 3\n",
      "n = 11\n",
      "No model with distinct second join\n"
     ]
    },
    {
     "name": "stderr",
     "output_type": "stream",
     "text": [
      " 10%|█         | 11/106 [00:02<00:40,  2.35it/s]"
     ]
    },
    {
     "name": "stdout",
     "output_type": "stream",
     "text": [
      "No join!\n",
      "m = 3\n",
      "n = 12\n",
      "No model with distinct second join\n"
     ]
    },
    {
     "name": "stderr",
     "output_type": "stream",
     "text": [
      " 11%|█▏        | 12/106 [00:03<00:51,  1.82it/s]"
     ]
    },
    {
     "name": "stdout",
     "output_type": "stream",
     "text": [
      "No join!\n",
      "m = 3\n",
      "n = 13\n",
      "No model with distinct second join\n"
     ]
    },
    {
     "name": "stderr",
     "output_type": "stream",
     "text": [
      " 12%|█▏        | 13/106 [00:04<00:54,  1.71it/s]"
     ]
    },
    {
     "name": "stdout",
     "output_type": "stream",
     "text": [
      "No join!\n",
      "m = 3\n",
      "n = 14\n",
      "No model with distinct second join\n"
     ]
    },
    {
     "name": "stderr",
     "output_type": "stream",
     "text": [
      " 13%|█▎        | 14/106 [00:05<00:56,  1.63it/s]"
     ]
    },
    {
     "name": "stdout",
     "output_type": "stream",
     "text": [
      "No join!\n",
      "m = 3\n",
      "n = 15\n",
      "No model with distinct second join\n"
     ]
    },
    {
     "name": "stderr",
     "output_type": "stream",
     "text": [
      " 14%|█▍        | 15/106 [00:05<00:56,  1.60it/s]"
     ]
    },
    {
     "name": "stdout",
     "output_type": "stream",
     "text": [
      "No join!\n",
      "m = 3\n",
      "n = 16\n",
      "No model with distinct second join\n"
     ]
    },
    {
     "name": "stderr",
     "output_type": "stream",
     "text": [
      " 15%|█▌        | 16/106 [00:06<00:59,  1.50it/s]"
     ]
    },
    {
     "name": "stdout",
     "output_type": "stream",
     "text": [
      "No join!\n",
      "m = 3\n",
      "n = 17\n",
      "No model with distinct second join\n"
     ]
    },
    {
     "name": "stderr",
     "output_type": "stream",
     "text": [
      " 16%|█▌        | 17/106 [00:07<01:03,  1.41it/s]"
     ]
    },
    {
     "name": "stdout",
     "output_type": "stream",
     "text": [
      "No join!\n",
      "m = 3\n",
      "n = 18\n",
      "No model with distinct second join\n"
     ]
    },
    {
     "name": "stderr",
     "output_type": "stream",
     "text": [
      " 17%|█▋        | 18/106 [00:08<01:09,  1.26it/s]"
     ]
    },
    {
     "name": "stdout",
     "output_type": "stream",
     "text": [
      "No join!\n",
      "m = 3\n",
      "n = 19\n",
      "No model with distinct second join\n"
     ]
    },
    {
     "name": "stderr",
     "output_type": "stream",
     "text": [
      " 18%|█▊        | 19/106 [00:09<01:17,  1.13it/s]"
     ]
    },
    {
     "name": "stdout",
     "output_type": "stream",
     "text": [
      "No join!\n",
      "m = 3\n",
      "n = 20\n",
      "No model with distinct second join\n"
     ]
    },
    {
     "name": "stderr",
     "output_type": "stream",
     "text": [
      " 19%|█▉        | 20/106 [00:10<01:18,  1.10it/s]"
     ]
    },
    {
     "name": "stdout",
     "output_type": "stream",
     "text": [
      "No join!\n",
      "m = 3\n",
      "n = 21\n",
      "No model with distinct second join\n"
     ]
    },
    {
     "name": "stderr",
     "output_type": "stream",
     "text": [
      " 20%|█▉        | 21/106 [00:11<01:18,  1.09it/s]"
     ]
    },
    {
     "name": "stdout",
     "output_type": "stream",
     "text": [
      "No join!\n",
      "m = 3\n",
      "n = 22\n",
      "No model with distinct second join\n"
     ]
    },
    {
     "name": "stderr",
     "output_type": "stream",
     "text": [
      " 21%|██        | 22/106 [00:12<01:23,  1.00it/s]"
     ]
    },
    {
     "name": "stdout",
     "output_type": "stream",
     "text": [
      "No join!\n",
      "m = 3\n",
      "n = 23\n",
      "No model with distinct second join\n"
     ]
    },
    {
     "name": "stderr",
     "output_type": "stream",
     "text": [
      " 22%|██▏       | 23/106 [00:14<01:29,  1.08s/it]"
     ]
    },
    {
     "name": "stdout",
     "output_type": "stream",
     "text": [
      "No join!\n",
      "m = 3\n",
      "n = 24\n",
      "No model with distinct second join\n"
     ]
    },
    {
     "name": "stderr",
     "output_type": "stream",
     "text": [
      " 23%|██▎       | 24/106 [00:15<01:28,  1.08s/it]"
     ]
    },
    {
     "name": "stdout",
     "output_type": "stream",
     "text": [
      "No join!\n",
      "m = 3\n",
      "n = 25\n",
      "No model with distinct second join\n"
     ]
    },
    {
     "name": "stderr",
     "output_type": "stream",
     "text": [
      " 24%|██▎       | 25/106 [00:16<01:34,  1.16s/it]"
     ]
    },
    {
     "name": "stdout",
     "output_type": "stream",
     "text": [
      "No join!\n",
      "m = 3\n",
      "n = 26\n",
      "No model with distinct second join\n"
     ]
    },
    {
     "name": "stderr",
     "output_type": "stream",
     "text": [
      " 27%|██▋       | 29/106 [00:17<00:42,  1.82it/s]"
     ]
    },
    {
     "name": "stdout",
     "output_type": "stream",
     "text": [
      "No join!\n",
      "m = 4\n",
      "n = 1\n",
      "No model with distinct second join\n",
      "unique join\n",
      "m = 4\n",
      "n = 2\n",
      "No model with distinct second join\n",
      "unique join\n",
      "m = 4\n",
      "n = 3\n",
      "No model with distinct second join\n",
      "unique join\n",
      "m = 4\n",
      "n = 4\n"
     ]
    },
    {
     "name": "stderr",
     "output_type": "stream",
     "text": [
      " 29%|██▉       | 31/106 [00:18<00:29,  2.54it/s]"
     ]
    },
    {
     "name": "stdout",
     "output_type": "stream",
     "text": [
      "No model with distinct second join\n",
      "unique join\n",
      "m = 4\n",
      "n = 5\n",
      "No model with distinct second join\n",
      "unique join\n",
      "m = 4\n",
      "n = 6\n"
     ]
    },
    {
     "name": "stderr",
     "output_type": "stream",
     "text": [
      " 31%|███       | 33/106 [00:18<00:22,  3.28it/s]"
     ]
    },
    {
     "name": "stdout",
     "output_type": "stream",
     "text": [
      "No model with distinct second join\n",
      "unique join\n",
      "m = 4\n",
      "n = 7\n",
      "No model with distinct second join\n",
      "unique join\n",
      "m = 4\n",
      "n = 8\n"
     ]
    },
    {
     "name": "stderr",
     "output_type": "stream",
     "text": [
      " 32%|███▏      | 34/106 [00:18<00:20,  3.56it/s]"
     ]
    },
    {
     "name": "stdout",
     "output_type": "stream",
     "text": [
      "No model with distinct second join\n",
      "unique join\n",
      "m = 4\n",
      "n = 9\n"
     ]
    },
    {
     "name": "stderr",
     "output_type": "stream",
     "text": [
      " 33%|███▎      | 35/106 [00:18<00:19,  3.73it/s]"
     ]
    },
    {
     "name": "stdout",
     "output_type": "stream",
     "text": [
      "No model with distinct second join\n",
      "unique join\n",
      "m = 4\n",
      "n = 10\n"
     ]
    },
    {
     "name": "stderr",
     "output_type": "stream",
     "text": [
      " 34%|███▍      | 36/106 [00:19<00:18,  3.71it/s]"
     ]
    },
    {
     "name": "stdout",
     "output_type": "stream",
     "text": [
      "No model with distinct second join\n",
      "unique join\n",
      "m = 4\n",
      "n = 11\n"
     ]
    },
    {
     "name": "stderr",
     "output_type": "stream",
     "text": [
      " 35%|███▍      | 37/106 [00:19<00:19,  3.51it/s]"
     ]
    },
    {
     "name": "stdout",
     "output_type": "stream",
     "text": [
      "No model with distinct second join\n",
      "unique join\n",
      "m = 4\n",
      "n = 12\n"
     ]
    },
    {
     "name": "stderr",
     "output_type": "stream",
     "text": [
      " 36%|███▌      | 38/106 [00:19<00:20,  3.30it/s]"
     ]
    },
    {
     "name": "stdout",
     "output_type": "stream",
     "text": [
      "No model with distinct second join\n",
      "unique join\n",
      "m = 4\n",
      "n = 13\n"
     ]
    },
    {
     "name": "stderr",
     "output_type": "stream",
     "text": [
      " 37%|███▋      | 39/106 [00:20<00:21,  3.08it/s]"
     ]
    },
    {
     "name": "stdout",
     "output_type": "stream",
     "text": [
      "No model with distinct second join\n",
      "unique join\n",
      "m = 4\n",
      "n = 14\n"
     ]
    },
    {
     "name": "stderr",
     "output_type": "stream",
     "text": [
      " 38%|███▊      | 40/106 [00:20<00:23,  2.82it/s]"
     ]
    },
    {
     "name": "stdout",
     "output_type": "stream",
     "text": [
      "No model with distinct second join\n",
      "unique join\n",
      "m = 4\n",
      "n = 15\n"
     ]
    },
    {
     "name": "stderr",
     "output_type": "stream",
     "text": [
      " 39%|███▊      | 41/106 [00:21<00:25,  2.55it/s]"
     ]
    },
    {
     "name": "stdout",
     "output_type": "stream",
     "text": [
      "No model with distinct second join\n",
      "unique join\n",
      "m = 4\n",
      "n = 16\n"
     ]
    },
    {
     "name": "stderr",
     "output_type": "stream",
     "text": [
      " 40%|███▉      | 42/106 [00:21<00:28,  2.27it/s]"
     ]
    },
    {
     "name": "stdout",
     "output_type": "stream",
     "text": [
      "No model with distinct second join\n",
      "unique join\n",
      "m = 4\n",
      "n = 17\n",
      "No model with distinct second join\n"
     ]
    },
    {
     "name": "stderr",
     "output_type": "stream",
     "text": [
      " 41%|████      | 43/106 [31:46<9:48:19, 560.32s/it]"
     ]
    },
    {
     "name": "stdout",
     "output_type": "stream",
     "text": [
      "No join!\n",
      "m = 4\n",
      "n = 18\n",
      "No model with distinct second join\n"
     ]
    }
   ],
   "source": [
    "# Ms =  list(range(3,5))\n",
    "# Ns = [list(range(1, 3 ** m)) for m in Ms]\n",
    "# MNs = lmapcat(lambda pair: [(pair[0], each) for each in pair[1]], \n",
    "#               zip(Ms, Ns))\n",
    "# joinIsUnique, joinIsNotUnique, noJoin = [], [], []\n",
    "# for eachM, eachN in tqdm(MNs, total = len(MNs)):\n",
    "#   print(f\"m = {eachM}\")\n",
    "#   print(f\"n = {eachN}\")\n",
    "#   res = findObjectSetWithNonUniqueJoin(eachM, eachN)\n",
    "#   if res[0] == \"nonunique joins\":\n",
    "#     joinIsNotUnique.append(res)\n",
    "#   elif res[0] == \"no join\":\n",
    "#     noJoin.append(res)\n",
    "#   elif res[0] == \"unique join/popped\":\n",
    "#     joinIsUnique.append(res)\n",
    "# print(f\"|models where join is *not* unique| = {len(joinIsNotUnique)}\") # expecting zero\n",
    "# print(f\"|models where no join exists| = {len(noJoin)}\") # expecting *non*zero, perhaps most\n",
    "# print(f\"|models where join is unique| = {len(joinIsUnique)}\")"
   ]
  },
  {
   "cell_type": "code",
   "execution_count": null,
   "id": "128e6d93-497e-4331-b79b-d548a00cc6f1",
   "metadata": {},
   "outputs": [],
   "source": []
  },
  {
   "cell_type": "code",
   "execution_count": 78,
   "id": "8852701e-1a62-49c3-a68e-c73c44b0b8a2",
   "metadata": {
    "execution": {
     "iopub.execute_input": "2022-03-28T19:33:42.714398Z",
     "iopub.status.busy": "2022-03-28T19:33:42.714187Z",
     "iopub.status.idle": "2022-03-28T19:33:45.615393Z",
     "shell.execute_reply": "2022-03-28T19:33:45.614890Z",
     "shell.execute_reply.started": "2022-03-28T19:33:42.714374Z"
    },
    "tags": []
   },
   "outputs": [
    {
     "data": {
      "text/plain": [
       "0"
      ]
     },
     "execution_count": 78,
     "metadata": {},
     "output_type": "execute_result"
    },
    {
     "name": "stderr",
     "output_type": "stream",
     "text": [
      "0it [00:00, ?it/s]\n"
     ]
    }
   ],
   "source": [
    "joinCounterexamples = testBinOp_Booleans(join_Booleans, FeatureVector.join, 3, exceptions=True)\n",
    "len(joinCounterexamples)\n",
    "\n",
    "for i,x in tqdm(enumerate(joinCounterexamples), total=len(joinCounterexamples)):\n",
    "  print(f\"{i}: \" + showBinGraphTest(\"v\", x[0], x[1], x[2], x[3]))"
   ]
  },
  {
   "cell_type": "code",
   "execution_count": 79,
   "id": "d2a38d3c-996f-4191-a962-b7b3cd93263e",
   "metadata": {
    "execution": {
     "iopub.execute_input": "2022-03-28T19:33:53.113010Z",
     "iopub.status.busy": "2022-03-28T19:33:53.112801Z",
     "iopub.status.idle": "2022-03-28T19:33:56.035852Z",
     "shell.execute_reply": "2022-03-28T19:33:56.035357Z",
     "shell.execute_reply.started": "2022-03-28T19:33:53.112986Z"
    },
    "tags": []
   },
   "outputs": [
    {
     "data": {
      "text/plain": [
       "0"
      ]
     },
     "execution_count": 79,
     "metadata": {},
     "output_type": "execute_result"
    }
   ],
   "source": [
    "meetCounterexamples = testBinOp_Booleans(meet_Booleans, FeatureVector.meet, 3)\n",
    "len(meetCounterexamples)\n",
    "\n",
    "for i,x in tqdm(enumerate(meetCounterexamples)):\n",
    "  print(f\"{i}: \" + showBinGraphTest(\"^\", x[0], x[1], x[2], x[3]))"
   ]
  },
  {
   "cell_type": "code",
   "execution_count": 51,
   "id": "7663bd24-30ad-41e4-9f73-4d4bc62d629f",
   "metadata": {
    "execution": {
     "iopub.execute_input": "2022-03-27T21:29:20.229911Z",
     "iopub.status.busy": "2022-03-27T21:29:20.229690Z",
     "iopub.status.idle": "2022-03-28T02:01:18.546916Z",
     "shell.execute_reply": "2022-03-28T02:01:18.545326Z",
     "shell.execute_reply.started": "2022-03-27T21:29:20.229886Z"
    },
    "tags": []
   },
   "outputs": [
    {
     "name": "stderr",
     "output_type": "stream",
     "text": [
      "  0%|          | 2/1048576 [00:00<17:38:32, 16.51it/s]"
     ]
    },
    {
     "name": "stdout",
     "output_type": "stream",
     "text": [
      "M = 3\n",
      "|O| = 20\n",
      "2^|O| = 1048576\n",
      "===\n"
     ]
    },
    {
     "name": "stderr",
     "output_type": "stream",
     "text": [
      " 43%|████▎     | 448603/1048576 [4:31:58<6:03:44, 27.49it/s] \n"
     ]
    },
    {
     "ename": "KeyboardInterrupt",
     "evalue": "",
     "output_type": "error",
     "traceback": [
      "\u001b[0;31m---------------------------------------------------------------------------\u001b[0m",
      "\u001b[0;31mKeyboardInterrupt\u001b[0m                         Traceback (most recent call last)",
      "\u001b[0;32m<ipython-input-51-194d9abced0c>\u001b[0m in \u001b[0;36m<module>\u001b[0;34m\u001b[0m\n\u001b[1;32m      8\u001b[0m \u001b[0;31m# for ssv in allSubsetVectors(None)(len(O)):\u001b[0m\u001b[0;34m\u001b[0m\u001b[0;34m\u001b[0m\u001b[0;34m\u001b[0m\u001b[0m\n\u001b[1;32m      9\u001b[0m   \u001b[0mss_fromV\u001b[0m         \u001b[0;34m=\u001b[0m \u001b[0mmk_subset_fromVector\u001b[0m\u001b[0;34m(\u001b[0m\u001b[0mtuple\u001b[0m\u001b[0;34m)\u001b[0m\u001b[0;34m(\u001b[0m\u001b[0mO\u001b[0m\u001b[0;34m)\u001b[0m\u001b[0;34m(\u001b[0m\u001b[0mssv\u001b[0m\u001b[0;34m)\u001b[0m\u001b[0;34m\u001b[0m\u001b[0;34m\u001b[0m\u001b[0m\n\u001b[0;32m---> 10\u001b[0;31m   \u001b[0mcxs\u001b[0m \u001b[0;34m=\u001b[0m \u001b[0mtestStackOp_Booleans\u001b[0m\u001b[0;34m(\u001b[0m\u001b[0mmeet_Booleans1\u001b[0m\u001b[0;34m,\u001b[0m \u001b[0mgrandFoldl\u001b[0m\u001b[0;34m(\u001b[0m\u001b[0mFeatureVector\u001b[0m\u001b[0;34m.\u001b[0m\u001b[0mmeet\u001b[0m\u001b[0;34m)\u001b[0m\u001b[0;34m,\u001b[0m \u001b[0mM\u001b[0m\u001b[0;34m,\u001b[0m \u001b[0mtestSet\u001b[0m\u001b[0;34m=\u001b[0m\u001b[0mss_fromV\u001b[0m\u001b[0;34m)\u001b[0m\u001b[0;34m\u001b[0m\u001b[0;34m\u001b[0m\u001b[0m\n\u001b[0m\u001b[1;32m     11\u001b[0m   \u001b[0;32mif\u001b[0m \u001b[0mlen\u001b[0m\u001b[0;34m(\u001b[0m\u001b[0mcxs\u001b[0m\u001b[0;34m)\u001b[0m \u001b[0;34m>\u001b[0m \u001b[0;36m0\u001b[0m\u001b[0;34m:\u001b[0m\u001b[0;34m\u001b[0m\u001b[0;34m\u001b[0m\u001b[0m\n\u001b[1;32m     12\u001b[0m     \u001b[0mssv_cxs\u001b[0m\u001b[0;34m.\u001b[0m\u001b[0mappend\u001b[0m\u001b[0;34m(\u001b[0m\u001b[0;34m(\u001b[0m\u001b[0mssv\u001b[0m\u001b[0;34m,\u001b[0m \u001b[0mss_fromV\u001b[0m\u001b[0;34m,\u001b[0m \u001b[0mcxs\u001b[0m\u001b[0;34m)\u001b[0m\u001b[0;34m)\u001b[0m\u001b[0;34m\u001b[0m\u001b[0;34m\u001b[0m\u001b[0m\n",
      "\u001b[0;32m<ipython-input-38-86733f1e317c>\u001b[0m in \u001b[0;36mtestStackOp_Booleans\u001b[0;34m(opRel, op, numFeatures, testSet)\u001b[0m\n\u001b[1;32m     73\u001b[0m \u001b[0;34m\u001b[0m\u001b[0m\n\u001b[1;32m     74\u001b[0m   \u001b[0mdefined_result\u001b[0m\u001b[0;34m,\u001b[0m \u001b[0mvalence_result\u001b[0m \u001b[0;34m=\u001b[0m \u001b[0mmk_FVBooleans\u001b[0m\u001b[0;34m(\u001b[0m\u001b[0mnumFeatures\u001b[0m\u001b[0;34m,\u001b[0m \u001b[0;34mf\"res\"\u001b[0m\u001b[0;34m)\u001b[0m\u001b[0;34m\u001b[0m\u001b[0;34m\u001b[0m\u001b[0m\n\u001b[0;32m---> 75\u001b[0;31m   \u001b[0ms\u001b[0m\u001b[0;34m.\u001b[0m\u001b[0madd\u001b[0m\u001b[0;34m(\u001b[0m\u001b[0mopRel\u001b[0m\u001b[0;34m(\u001b[0m\u001b[0mdefineds\u001b[0m\u001b[0;34m,\u001b[0m \u001b[0mvalences\u001b[0m\u001b[0;34m,\u001b[0m \u001b[0mdefined_result\u001b[0m\u001b[0;34m,\u001b[0m \u001b[0mvalence_result\u001b[0m\u001b[0;34m)\u001b[0m\u001b[0;34m)\u001b[0m\u001b[0;34m\u001b[0m\u001b[0;34m\u001b[0m\u001b[0m\n\u001b[0m\u001b[1;32m     76\u001b[0m \u001b[0;34m\u001b[0m\u001b[0m\n\u001b[1;32m     77\u001b[0m   \u001b[0;32mif\u001b[0m \u001b[0ms\u001b[0m\u001b[0;34m.\u001b[0m\u001b[0mcheck\u001b[0m\u001b[0;34m(\u001b[0m\u001b[0;34m)\u001b[0m \u001b[0;34m==\u001b[0m \u001b[0mz3\u001b[0m\u001b[0;34m.\u001b[0m\u001b[0msat\u001b[0m\u001b[0;34m:\u001b[0m\u001b[0;34m\u001b[0m\u001b[0;34m\u001b[0m\u001b[0m\n",
      "\u001b[0;32m<ipython-input-39-2718ec85bcad>\u001b[0m in \u001b[0;36mmeet_Booleans1\u001b[0;34m(defineds, valences, defined_meet, valence_meet)\u001b[0m\n\u001b[1;32m     68\u001b[0m   \u001b[0mmeetFalseAtJ\u001b[0m          \u001b[0;34m=\u001b[0m \u001b[0;32mlambda\u001b[0m \u001b[0mj\u001b[0m\u001b[0;34m:\u001b[0m \u001b[0mallDefinedAtJandFalse\u001b[0m\u001b[0;34m(\u001b[0m\u001b[0mj\u001b[0m\u001b[0;34m)\u001b[0m\u001b[0;34m\u001b[0m\u001b[0;34m\u001b[0m\u001b[0m\n\u001b[1;32m     69\u001b[0m \u001b[0;34m\u001b[0m\u001b[0m\n\u001b[0;32m---> 70\u001b[0;31m   return z3.And([z3.And([defined_meet[j] == meetDefinedAtJ(j), \n\u001b[0m\u001b[1;32m     71\u001b[0m                          \u001b[0mz3\u001b[0m\u001b[0;34m.\u001b[0m\u001b[0mImplies\u001b[0m\u001b[0;34m(\u001b[0m\u001b[0mdefined_meet\u001b[0m\u001b[0;34m[\u001b[0m\u001b[0mj\u001b[0m\u001b[0;34m]\u001b[0m\u001b[0;34m,\u001b[0m        \u001b[0mvalence_meet\u001b[0m\u001b[0;34m[\u001b[0m\u001b[0mj\u001b[0m\u001b[0;34m]\u001b[0m  \u001b[0;34m==\u001b[0m \u001b[0mmeetTrueAtJ\u001b[0m\u001b[0;34m(\u001b[0m\u001b[0mj\u001b[0m\u001b[0;34m)\u001b[0m\u001b[0;34m)\u001b[0m\u001b[0;34m,\u001b[0m\u001b[0;34m\u001b[0m\u001b[0;34m\u001b[0m\u001b[0m\n\u001b[1;32m     72\u001b[0m                          z3.Implies(defined_meet[j], z3.Not(valence_meet[j]) == meetFalseAtJ(j))])\n",
      "\u001b[0;32m<ipython-input-39-2718ec85bcad>\u001b[0m in \u001b[0;36m<listcomp>\u001b[0;34m(.0)\u001b[0m\n\u001b[1;32m     68\u001b[0m   \u001b[0mmeetFalseAtJ\u001b[0m          \u001b[0;34m=\u001b[0m \u001b[0;32mlambda\u001b[0m \u001b[0mj\u001b[0m\u001b[0;34m:\u001b[0m \u001b[0mallDefinedAtJandFalse\u001b[0m\u001b[0;34m(\u001b[0m\u001b[0mj\u001b[0m\u001b[0;34m)\u001b[0m\u001b[0;34m\u001b[0m\u001b[0;34m\u001b[0m\u001b[0m\n\u001b[1;32m     69\u001b[0m \u001b[0;34m\u001b[0m\u001b[0m\n\u001b[0;32m---> 70\u001b[0;31m   return z3.And([z3.And([defined_meet[j] == meetDefinedAtJ(j), \n\u001b[0m\u001b[1;32m     71\u001b[0m                          \u001b[0mz3\u001b[0m\u001b[0;34m.\u001b[0m\u001b[0mImplies\u001b[0m\u001b[0;34m(\u001b[0m\u001b[0mdefined_meet\u001b[0m\u001b[0;34m[\u001b[0m\u001b[0mj\u001b[0m\u001b[0;34m]\u001b[0m\u001b[0;34m,\u001b[0m        \u001b[0mvalence_meet\u001b[0m\u001b[0;34m[\u001b[0m\u001b[0mj\u001b[0m\u001b[0;34m]\u001b[0m  \u001b[0;34m==\u001b[0m \u001b[0mmeetTrueAtJ\u001b[0m\u001b[0;34m(\u001b[0m\u001b[0mj\u001b[0m\u001b[0;34m)\u001b[0m\u001b[0;34m)\u001b[0m\u001b[0;34m,\u001b[0m\u001b[0;34m\u001b[0m\u001b[0;34m\u001b[0m\u001b[0m\n\u001b[1;32m     72\u001b[0m                          z3.Implies(defined_meet[j], z3.Not(valence_meet[j]) == meetFalseAtJ(j))])\n",
      "\u001b[0;32m<ipython-input-39-2718ec85bcad>\u001b[0m in \u001b[0;36m<lambda>\u001b[0;34m(j)\u001b[0m\n\u001b[1;32m     64\u001b[0m   \u001b[0mallDefinedAtJandFalse\u001b[0m \u001b[0;34m=\u001b[0m \u001b[0;32mlambda\u001b[0m \u001b[0mj\u001b[0m\u001b[0;34m:\u001b[0m \u001b[0mz3\u001b[0m\u001b[0;34m.\u001b[0m\u001b[0mAnd\u001b[0m\u001b[0;34m(\u001b[0m\u001b[0;34m[\u001b[0m\u001b[0mz3\u001b[0m\u001b[0;34m.\u001b[0m\u001b[0mAnd\u001b[0m\u001b[0;34m(\u001b[0m\u001b[0mdefineds\u001b[0m\u001b[0;34m[\u001b[0m\u001b[0mi\u001b[0m\u001b[0;34m]\u001b[0m\u001b[0;34m[\u001b[0m\u001b[0mj\u001b[0m\u001b[0;34m]\u001b[0m\u001b[0;34m,\u001b[0m \u001b[0mz3\u001b[0m\u001b[0;34m.\u001b[0m\u001b[0mNot\u001b[0m\u001b[0;34m(\u001b[0m\u001b[0mvalences\u001b[0m\u001b[0;34m[\u001b[0m\u001b[0mi\u001b[0m\u001b[0;34m]\u001b[0m\u001b[0;34m[\u001b[0m\u001b[0mj\u001b[0m\u001b[0;34m]\u001b[0m\u001b[0;34m)\u001b[0m\u001b[0;34m)\u001b[0m \u001b[0;32mfor\u001b[0m \u001b[0mi\u001b[0m \u001b[0;32min\u001b[0m \u001b[0mrange\u001b[0m\u001b[0;34m(\u001b[0m\u001b[0mnumObjects\u001b[0m\u001b[0;34m)\u001b[0m\u001b[0;34m]\u001b[0m\u001b[0;34m)\u001b[0m\u001b[0;34m\u001b[0m\u001b[0;34m\u001b[0m\u001b[0m\n\u001b[1;32m     65\u001b[0m   \u001b[0mallDefinedAtJAndSame\u001b[0m  \u001b[0;34m=\u001b[0m \u001b[0;32mlambda\u001b[0m \u001b[0mj\u001b[0m\u001b[0;34m:\u001b[0m \u001b[0mz3\u001b[0m\u001b[0;34m.\u001b[0m\u001b[0mOr\u001b[0m\u001b[0;34m(\u001b[0m\u001b[0;34m[\u001b[0m\u001b[0mallDefinedAtJandTrue\u001b[0m\u001b[0;34m(\u001b[0m\u001b[0mj\u001b[0m\u001b[0;34m)\u001b[0m\u001b[0;34m,\u001b[0m \u001b[0mallDefinedAtJandFalse\u001b[0m\u001b[0;34m(\u001b[0m\u001b[0mj\u001b[0m\u001b[0;34m)\u001b[0m\u001b[0;34m]\u001b[0m\u001b[0;34m)\u001b[0m\u001b[0;34m\u001b[0m\u001b[0;34m\u001b[0m\u001b[0m\n\u001b[0;32m---> 66\u001b[0;31m   \u001b[0mmeetDefinedAtJ\u001b[0m        \u001b[0;34m=\u001b[0m \u001b[0;32mlambda\u001b[0m \u001b[0mj\u001b[0m\u001b[0;34m:\u001b[0m \u001b[0mallDefinedAtJAndSame\u001b[0m\u001b[0;34m(\u001b[0m\u001b[0mj\u001b[0m\u001b[0;34m)\u001b[0m\u001b[0;34m\u001b[0m\u001b[0;34m\u001b[0m\u001b[0m\n\u001b[0m\u001b[1;32m     67\u001b[0m   \u001b[0mmeetTrueAtJ\u001b[0m           \u001b[0;34m=\u001b[0m \u001b[0;32mlambda\u001b[0m \u001b[0mj\u001b[0m\u001b[0;34m:\u001b[0m \u001b[0mallDefinedAtJandTrue\u001b[0m\u001b[0;34m(\u001b[0m\u001b[0mj\u001b[0m\u001b[0;34m)\u001b[0m\u001b[0;34m\u001b[0m\u001b[0;34m\u001b[0m\u001b[0m\n\u001b[1;32m     68\u001b[0m   \u001b[0mmeetFalseAtJ\u001b[0m          \u001b[0;34m=\u001b[0m \u001b[0;32mlambda\u001b[0m \u001b[0mj\u001b[0m\u001b[0;34m:\u001b[0m \u001b[0mallDefinedAtJandFalse\u001b[0m\u001b[0;34m(\u001b[0m\u001b[0mj\u001b[0m\u001b[0;34m)\u001b[0m\u001b[0;34m\u001b[0m\u001b[0;34m\u001b[0m\u001b[0m\n",
      "\u001b[0;32m<ipython-input-39-2718ec85bcad>\u001b[0m in \u001b[0;36m<lambda>\u001b[0;34m(j)\u001b[0m\n\u001b[1;32m     63\u001b[0m   \u001b[0mallDefinedAtJandTrue\u001b[0m  \u001b[0;34m=\u001b[0m \u001b[0;32mlambda\u001b[0m \u001b[0mj\u001b[0m\u001b[0;34m:\u001b[0m \u001b[0mz3\u001b[0m\u001b[0;34m.\u001b[0m\u001b[0mAnd\u001b[0m\u001b[0;34m(\u001b[0m\u001b[0;34m[\u001b[0m\u001b[0mz3\u001b[0m\u001b[0;34m.\u001b[0m\u001b[0mAnd\u001b[0m\u001b[0;34m(\u001b[0m\u001b[0mdefineds\u001b[0m\u001b[0;34m[\u001b[0m\u001b[0mi\u001b[0m\u001b[0;34m]\u001b[0m\u001b[0;34m[\u001b[0m\u001b[0mj\u001b[0m\u001b[0;34m]\u001b[0m\u001b[0;34m,\u001b[0m        \u001b[0mvalences\u001b[0m\u001b[0;34m[\u001b[0m\u001b[0mi\u001b[0m\u001b[0;34m]\u001b[0m\u001b[0;34m[\u001b[0m\u001b[0mj\u001b[0m\u001b[0;34m]\u001b[0m\u001b[0;34m)\u001b[0m  \u001b[0;32mfor\u001b[0m \u001b[0mi\u001b[0m \u001b[0;32min\u001b[0m \u001b[0mrange\u001b[0m\u001b[0;34m(\u001b[0m\u001b[0mnumObjects\u001b[0m\u001b[0;34m)\u001b[0m\u001b[0;34m]\u001b[0m\u001b[0;34m)\u001b[0m\u001b[0;34m\u001b[0m\u001b[0;34m\u001b[0m\u001b[0m\n\u001b[1;32m     64\u001b[0m   \u001b[0mallDefinedAtJandFalse\u001b[0m \u001b[0;34m=\u001b[0m \u001b[0;32mlambda\u001b[0m \u001b[0mj\u001b[0m\u001b[0;34m:\u001b[0m \u001b[0mz3\u001b[0m\u001b[0;34m.\u001b[0m\u001b[0mAnd\u001b[0m\u001b[0;34m(\u001b[0m\u001b[0;34m[\u001b[0m\u001b[0mz3\u001b[0m\u001b[0;34m.\u001b[0m\u001b[0mAnd\u001b[0m\u001b[0;34m(\u001b[0m\u001b[0mdefineds\u001b[0m\u001b[0;34m[\u001b[0m\u001b[0mi\u001b[0m\u001b[0;34m]\u001b[0m\u001b[0;34m[\u001b[0m\u001b[0mj\u001b[0m\u001b[0;34m]\u001b[0m\u001b[0;34m,\u001b[0m \u001b[0mz3\u001b[0m\u001b[0;34m.\u001b[0m\u001b[0mNot\u001b[0m\u001b[0;34m(\u001b[0m\u001b[0mvalences\u001b[0m\u001b[0;34m[\u001b[0m\u001b[0mi\u001b[0m\u001b[0;34m]\u001b[0m\u001b[0;34m[\u001b[0m\u001b[0mj\u001b[0m\u001b[0;34m]\u001b[0m\u001b[0;34m)\u001b[0m\u001b[0;34m)\u001b[0m \u001b[0;32mfor\u001b[0m \u001b[0mi\u001b[0m \u001b[0;32min\u001b[0m \u001b[0mrange\u001b[0m\u001b[0;34m(\u001b[0m\u001b[0mnumObjects\u001b[0m\u001b[0;34m)\u001b[0m\u001b[0;34m]\u001b[0m\u001b[0;34m)\u001b[0m\u001b[0;34m\u001b[0m\u001b[0;34m\u001b[0m\u001b[0m\n\u001b[0;32m---> 65\u001b[0;31m   \u001b[0mallDefinedAtJAndSame\u001b[0m  \u001b[0;34m=\u001b[0m \u001b[0;32mlambda\u001b[0m \u001b[0mj\u001b[0m\u001b[0;34m:\u001b[0m \u001b[0mz3\u001b[0m\u001b[0;34m.\u001b[0m\u001b[0mOr\u001b[0m\u001b[0;34m(\u001b[0m\u001b[0;34m[\u001b[0m\u001b[0mallDefinedAtJandTrue\u001b[0m\u001b[0;34m(\u001b[0m\u001b[0mj\u001b[0m\u001b[0;34m)\u001b[0m\u001b[0;34m,\u001b[0m \u001b[0mallDefinedAtJandFalse\u001b[0m\u001b[0;34m(\u001b[0m\u001b[0mj\u001b[0m\u001b[0;34m)\u001b[0m\u001b[0;34m]\u001b[0m\u001b[0;34m)\u001b[0m\u001b[0;34m\u001b[0m\u001b[0;34m\u001b[0m\u001b[0m\n\u001b[0m\u001b[1;32m     66\u001b[0m   \u001b[0mmeetDefinedAtJ\u001b[0m        \u001b[0;34m=\u001b[0m \u001b[0;32mlambda\u001b[0m \u001b[0mj\u001b[0m\u001b[0;34m:\u001b[0m \u001b[0mallDefinedAtJAndSame\u001b[0m\u001b[0;34m(\u001b[0m\u001b[0mj\u001b[0m\u001b[0;34m)\u001b[0m\u001b[0;34m\u001b[0m\u001b[0;34m\u001b[0m\u001b[0m\n\u001b[1;32m     67\u001b[0m   \u001b[0mmeetTrueAtJ\u001b[0m           \u001b[0;34m=\u001b[0m \u001b[0;32mlambda\u001b[0m \u001b[0mj\u001b[0m\u001b[0;34m:\u001b[0m \u001b[0mallDefinedAtJandTrue\u001b[0m\u001b[0;34m(\u001b[0m\u001b[0mj\u001b[0m\u001b[0;34m)\u001b[0m\u001b[0;34m\u001b[0m\u001b[0;34m\u001b[0m\u001b[0m\n",
      "\u001b[0;32m<ipython-input-39-2718ec85bcad>\u001b[0m in \u001b[0;36m<lambda>\u001b[0;34m(j)\u001b[0m\n\u001b[1;32m     61\u001b[0m   \u001b[0mnumFeatures\u001b[0m \u001b[0;34m=\u001b[0m \u001b[0mlen\u001b[0m\u001b[0;34m(\u001b[0m\u001b[0mdefined_meet\u001b[0m\u001b[0;34m)\u001b[0m\u001b[0;34m\u001b[0m\u001b[0;34m\u001b[0m\u001b[0m\n\u001b[1;32m     62\u001b[0m \u001b[0;34m\u001b[0m\u001b[0m\n\u001b[0;32m---> 63\u001b[0;31m   \u001b[0mallDefinedAtJandTrue\u001b[0m  \u001b[0;34m=\u001b[0m \u001b[0;32mlambda\u001b[0m \u001b[0mj\u001b[0m\u001b[0;34m:\u001b[0m \u001b[0mz3\u001b[0m\u001b[0;34m.\u001b[0m\u001b[0mAnd\u001b[0m\u001b[0;34m(\u001b[0m\u001b[0;34m[\u001b[0m\u001b[0mz3\u001b[0m\u001b[0;34m.\u001b[0m\u001b[0mAnd\u001b[0m\u001b[0;34m(\u001b[0m\u001b[0mdefineds\u001b[0m\u001b[0;34m[\u001b[0m\u001b[0mi\u001b[0m\u001b[0;34m]\u001b[0m\u001b[0;34m[\u001b[0m\u001b[0mj\u001b[0m\u001b[0;34m]\u001b[0m\u001b[0;34m,\u001b[0m        \u001b[0mvalences\u001b[0m\u001b[0;34m[\u001b[0m\u001b[0mi\u001b[0m\u001b[0;34m]\u001b[0m\u001b[0;34m[\u001b[0m\u001b[0mj\u001b[0m\u001b[0;34m]\u001b[0m\u001b[0;34m)\u001b[0m  \u001b[0;32mfor\u001b[0m \u001b[0mi\u001b[0m \u001b[0;32min\u001b[0m \u001b[0mrange\u001b[0m\u001b[0;34m(\u001b[0m\u001b[0mnumObjects\u001b[0m\u001b[0;34m)\u001b[0m\u001b[0;34m]\u001b[0m\u001b[0;34m)\u001b[0m\u001b[0;34m\u001b[0m\u001b[0;34m\u001b[0m\u001b[0m\n\u001b[0m\u001b[1;32m     64\u001b[0m   \u001b[0mallDefinedAtJandFalse\u001b[0m \u001b[0;34m=\u001b[0m \u001b[0;32mlambda\u001b[0m \u001b[0mj\u001b[0m\u001b[0;34m:\u001b[0m \u001b[0mz3\u001b[0m\u001b[0;34m.\u001b[0m\u001b[0mAnd\u001b[0m\u001b[0;34m(\u001b[0m\u001b[0;34m[\u001b[0m\u001b[0mz3\u001b[0m\u001b[0;34m.\u001b[0m\u001b[0mAnd\u001b[0m\u001b[0;34m(\u001b[0m\u001b[0mdefineds\u001b[0m\u001b[0;34m[\u001b[0m\u001b[0mi\u001b[0m\u001b[0;34m]\u001b[0m\u001b[0;34m[\u001b[0m\u001b[0mj\u001b[0m\u001b[0;34m]\u001b[0m\u001b[0;34m,\u001b[0m \u001b[0mz3\u001b[0m\u001b[0;34m.\u001b[0m\u001b[0mNot\u001b[0m\u001b[0;34m(\u001b[0m\u001b[0mvalences\u001b[0m\u001b[0;34m[\u001b[0m\u001b[0mi\u001b[0m\u001b[0;34m]\u001b[0m\u001b[0;34m[\u001b[0m\u001b[0mj\u001b[0m\u001b[0;34m]\u001b[0m\u001b[0;34m)\u001b[0m\u001b[0;34m)\u001b[0m \u001b[0;32mfor\u001b[0m \u001b[0mi\u001b[0m \u001b[0;32min\u001b[0m \u001b[0mrange\u001b[0m\u001b[0;34m(\u001b[0m\u001b[0mnumObjects\u001b[0m\u001b[0;34m)\u001b[0m\u001b[0;34m]\u001b[0m\u001b[0;34m)\u001b[0m\u001b[0;34m\u001b[0m\u001b[0;34m\u001b[0m\u001b[0m\n\u001b[1;32m     65\u001b[0m   \u001b[0mallDefinedAtJAndSame\u001b[0m  \u001b[0;34m=\u001b[0m \u001b[0;32mlambda\u001b[0m \u001b[0mj\u001b[0m\u001b[0;34m:\u001b[0m \u001b[0mz3\u001b[0m\u001b[0;34m.\u001b[0m\u001b[0mOr\u001b[0m\u001b[0;34m(\u001b[0m\u001b[0;34m[\u001b[0m\u001b[0mallDefinedAtJandTrue\u001b[0m\u001b[0;34m(\u001b[0m\u001b[0mj\u001b[0m\u001b[0;34m)\u001b[0m\u001b[0;34m,\u001b[0m \u001b[0mallDefinedAtJandFalse\u001b[0m\u001b[0;34m(\u001b[0m\u001b[0mj\u001b[0m\u001b[0;34m)\u001b[0m\u001b[0;34m]\u001b[0m\u001b[0;34m)\u001b[0m\u001b[0;34m\u001b[0m\u001b[0;34m\u001b[0m\u001b[0m\n",
      "\u001b[0;32m/nix/store/ymqg9qkhmqcqvjjm1kw3n6clsf2s4gym-python3-3.8.9-env/lib/python3.8/site-packages/z3/z3.py\u001b[0m in \u001b[0;36mAnd\u001b[0;34m(*args)\u001b[0m\n\u001b[1;32m   1726\u001b[0m         \u001b[0;32mreturn\u001b[0m \u001b[0m_probe_and\u001b[0m\u001b[0;34m(\u001b[0m\u001b[0margs\u001b[0m\u001b[0;34m,\u001b[0m \u001b[0mctx\u001b[0m\u001b[0;34m)\u001b[0m\u001b[0;34m\u001b[0m\u001b[0;34m\u001b[0m\u001b[0m\n\u001b[1;32m   1727\u001b[0m     \u001b[0;32melse\u001b[0m\u001b[0;34m:\u001b[0m\u001b[0;34m\u001b[0m\u001b[0;34m\u001b[0m\u001b[0m\n\u001b[0;32m-> 1728\u001b[0;31m         \u001b[0margs\u001b[0m  \u001b[0;34m=\u001b[0m \u001b[0m_coerce_expr_list\u001b[0m\u001b[0;34m(\u001b[0m\u001b[0margs\u001b[0m\u001b[0;34m,\u001b[0m \u001b[0mctx\u001b[0m\u001b[0;34m)\u001b[0m\u001b[0;34m\u001b[0m\u001b[0;34m\u001b[0m\u001b[0m\n\u001b[0m\u001b[1;32m   1729\u001b[0m         \u001b[0m_args\u001b[0m\u001b[0;34m,\u001b[0m \u001b[0msz\u001b[0m \u001b[0;34m=\u001b[0m \u001b[0m_to_ast_array\u001b[0m\u001b[0;34m(\u001b[0m\u001b[0margs\u001b[0m\u001b[0;34m)\u001b[0m\u001b[0;34m\u001b[0m\u001b[0;34m\u001b[0m\u001b[0m\n\u001b[1;32m   1730\u001b[0m         \u001b[0;32mreturn\u001b[0m \u001b[0mBoolRef\u001b[0m\u001b[0;34m(\u001b[0m\u001b[0mZ3_mk_and\u001b[0m\u001b[0;34m(\u001b[0m\u001b[0mctx\u001b[0m\u001b[0;34m.\u001b[0m\u001b[0mref\u001b[0m\u001b[0;34m(\u001b[0m\u001b[0;34m)\u001b[0m\u001b[0;34m,\u001b[0m \u001b[0msz\u001b[0m\u001b[0;34m,\u001b[0m \u001b[0m_args\u001b[0m\u001b[0;34m)\u001b[0m\u001b[0;34m,\u001b[0m \u001b[0mctx\u001b[0m\u001b[0;34m)\u001b[0m\u001b[0;34m\u001b[0m\u001b[0;34m\u001b[0m\u001b[0m\n",
      "\u001b[0;32m/nix/store/ymqg9qkhmqcqvjjm1kw3n6clsf2s4gym-python3-3.8.9-env/lib/python3.8/site-packages/z3/z3.py\u001b[0m in \u001b[0;36m_coerce_expr_list\u001b[0;34m(alist, ctx)\u001b[0m\n\u001b[1;32m   1131\u001b[0m         \u001b[0malist\u001b[0m \u001b[0;34m=\u001b[0m \u001b[0;34m[\u001b[0m \u001b[0m_py2expr\u001b[0m\u001b[0;34m(\u001b[0m\u001b[0ma\u001b[0m\u001b[0;34m,\u001b[0m \u001b[0mctx\u001b[0m\u001b[0;34m)\u001b[0m \u001b[0;32mfor\u001b[0m \u001b[0ma\u001b[0m \u001b[0;32min\u001b[0m \u001b[0malist\u001b[0m \u001b[0;34m]\u001b[0m\u001b[0;34m\u001b[0m\u001b[0;34m\u001b[0m\u001b[0m\n\u001b[1;32m   1132\u001b[0m     \u001b[0ms\u001b[0m \u001b[0;34m=\u001b[0m \u001b[0m_reduce\u001b[0m\u001b[0;34m(\u001b[0m\u001b[0m_coerce_expr_merge\u001b[0m\u001b[0;34m,\u001b[0m \u001b[0malist\u001b[0m\u001b[0;34m,\u001b[0m \u001b[0;32mNone\u001b[0m\u001b[0;34m)\u001b[0m\u001b[0;34m\u001b[0m\u001b[0;34m\u001b[0m\u001b[0m\n\u001b[0;32m-> 1133\u001b[0;31m     \u001b[0;32mreturn\u001b[0m \u001b[0;34m[\u001b[0m \u001b[0ms\u001b[0m\u001b[0;34m.\u001b[0m\u001b[0mcast\u001b[0m\u001b[0;34m(\u001b[0m\u001b[0ma\u001b[0m\u001b[0;34m)\u001b[0m \u001b[0;32mfor\u001b[0m \u001b[0ma\u001b[0m \u001b[0;32min\u001b[0m \u001b[0malist\u001b[0m \u001b[0;34m]\u001b[0m\u001b[0;34m\u001b[0m\u001b[0;34m\u001b[0m\u001b[0m\n\u001b[0m\u001b[1;32m   1134\u001b[0m \u001b[0;34m\u001b[0m\u001b[0m\n\u001b[1;32m   1135\u001b[0m \u001b[0;32mdef\u001b[0m \u001b[0mis_expr\u001b[0m\u001b[0;34m(\u001b[0m\u001b[0ma\u001b[0m\u001b[0;34m)\u001b[0m\u001b[0;34m:\u001b[0m\u001b[0;34m\u001b[0m\u001b[0;34m\u001b[0m\u001b[0m\n",
      "\u001b[0;32m/nix/store/ymqg9qkhmqcqvjjm1kw3n6clsf2s4gym-python3-3.8.9-env/lib/python3.8/site-packages/z3/z3.py\u001b[0m in \u001b[0;36m<listcomp>\u001b[0;34m(.0)\u001b[0m\n\u001b[1;32m   1131\u001b[0m         \u001b[0malist\u001b[0m \u001b[0;34m=\u001b[0m \u001b[0;34m[\u001b[0m \u001b[0m_py2expr\u001b[0m\u001b[0;34m(\u001b[0m\u001b[0ma\u001b[0m\u001b[0;34m,\u001b[0m \u001b[0mctx\u001b[0m\u001b[0;34m)\u001b[0m \u001b[0;32mfor\u001b[0m \u001b[0ma\u001b[0m \u001b[0;32min\u001b[0m \u001b[0malist\u001b[0m \u001b[0;34m]\u001b[0m\u001b[0;34m\u001b[0m\u001b[0;34m\u001b[0m\u001b[0m\n\u001b[1;32m   1132\u001b[0m     \u001b[0ms\u001b[0m \u001b[0;34m=\u001b[0m \u001b[0m_reduce\u001b[0m\u001b[0;34m(\u001b[0m\u001b[0m_coerce_expr_merge\u001b[0m\u001b[0;34m,\u001b[0m \u001b[0malist\u001b[0m\u001b[0;34m,\u001b[0m \u001b[0;32mNone\u001b[0m\u001b[0;34m)\u001b[0m\u001b[0;34m\u001b[0m\u001b[0;34m\u001b[0m\u001b[0m\n\u001b[0;32m-> 1133\u001b[0;31m     \u001b[0;32mreturn\u001b[0m \u001b[0;34m[\u001b[0m \u001b[0ms\u001b[0m\u001b[0;34m.\u001b[0m\u001b[0mcast\u001b[0m\u001b[0;34m(\u001b[0m\u001b[0ma\u001b[0m\u001b[0;34m)\u001b[0m \u001b[0;32mfor\u001b[0m \u001b[0ma\u001b[0m \u001b[0;32min\u001b[0m \u001b[0malist\u001b[0m \u001b[0;34m]\u001b[0m\u001b[0;34m\u001b[0m\u001b[0;34m\u001b[0m\u001b[0m\n\u001b[0m\u001b[1;32m   1134\u001b[0m \u001b[0;34m\u001b[0m\u001b[0m\n\u001b[1;32m   1135\u001b[0m \u001b[0;32mdef\u001b[0m \u001b[0mis_expr\u001b[0m\u001b[0;34m(\u001b[0m\u001b[0ma\u001b[0m\u001b[0;34m)\u001b[0m\u001b[0;34m:\u001b[0m\u001b[0;34m\u001b[0m\u001b[0;34m\u001b[0m\u001b[0m\n",
      "\u001b[0;32m/nix/store/ymqg9qkhmqcqvjjm1kw3n6clsf2s4gym-python3-3.8.9-env/lib/python3.8/site-packages/z3/z3.py\u001b[0m in \u001b[0;36mcast\u001b[0;34m(self, val)\u001b[0m\n\u001b[1;32m   1408\u001b[0m             \u001b[0;32mif\u001b[0m \u001b[0;32mnot\u001b[0m \u001b[0mis_expr\u001b[0m\u001b[0;34m(\u001b[0m\u001b[0mval\u001b[0m\u001b[0;34m)\u001b[0m\u001b[0;34m:\u001b[0m\u001b[0;34m\u001b[0m\u001b[0;34m\u001b[0m\u001b[0m\n\u001b[1;32m   1409\u001b[0m                \u001b[0m_z3_assert\u001b[0m\u001b[0;34m(\u001b[0m\u001b[0mis_expr\u001b[0m\u001b[0;34m(\u001b[0m\u001b[0mval\u001b[0m\u001b[0;34m)\u001b[0m\u001b[0;34m,\u001b[0m \u001b[0;34m\"True, False or Z3 Boolean expression expected. Received %s of type %s\"\u001b[0m \u001b[0;34m%\u001b[0m \u001b[0;34m(\u001b[0m\u001b[0mval\u001b[0m\u001b[0;34m,\u001b[0m \u001b[0mtype\u001b[0m\u001b[0;34m(\u001b[0m\u001b[0mval\u001b[0m\u001b[0;34m)\u001b[0m\u001b[0;34m)\u001b[0m\u001b[0;34m)\u001b[0m\u001b[0;34m\u001b[0m\u001b[0;34m\u001b[0m\u001b[0m\n\u001b[0;32m-> 1410\u001b[0;31m             \u001b[0;32mif\u001b[0m \u001b[0;32mnot\u001b[0m \u001b[0mself\u001b[0m\u001b[0;34m.\u001b[0m\u001b[0meq\u001b[0m\u001b[0;34m(\u001b[0m\u001b[0mval\u001b[0m\u001b[0;34m.\u001b[0m\u001b[0msort\u001b[0m\u001b[0;34m(\u001b[0m\u001b[0;34m)\u001b[0m\u001b[0;34m)\u001b[0m\u001b[0;34m:\u001b[0m\u001b[0;34m\u001b[0m\u001b[0;34m\u001b[0m\u001b[0m\n\u001b[0m\u001b[1;32m   1411\u001b[0m                \u001b[0m_z3_assert\u001b[0m\u001b[0;34m(\u001b[0m\u001b[0mself\u001b[0m\u001b[0;34m.\u001b[0m\u001b[0meq\u001b[0m\u001b[0;34m(\u001b[0m\u001b[0mval\u001b[0m\u001b[0;34m.\u001b[0m\u001b[0msort\u001b[0m\u001b[0;34m(\u001b[0m\u001b[0;34m)\u001b[0m\u001b[0;34m)\u001b[0m\u001b[0;34m,\u001b[0m \u001b[0;34m\"Value cannot be converted into a Z3 Boolean value\"\u001b[0m\u001b[0;34m)\u001b[0m\u001b[0;34m\u001b[0m\u001b[0;34m\u001b[0m\u001b[0m\n\u001b[1;32m   1412\u001b[0m         \u001b[0;32mreturn\u001b[0m \u001b[0mval\u001b[0m\u001b[0;34m\u001b[0m\u001b[0;34m\u001b[0m\u001b[0m\n",
      "\u001b[0;32m/nix/store/ymqg9qkhmqcqvjjm1kw3n6clsf2s4gym-python3-3.8.9-env/lib/python3.8/site-packages/z3/z3.py\u001b[0m in \u001b[0;36meq\u001b[0;34m(self, other)\u001b[0m\n\u001b[1;32m    379\u001b[0m         \u001b[0;32mif\u001b[0m \u001b[0mz3_debug\u001b[0m\u001b[0;34m(\u001b[0m\u001b[0;34m)\u001b[0m\u001b[0;34m:\u001b[0m\u001b[0;34m\u001b[0m\u001b[0;34m\u001b[0m\u001b[0m\n\u001b[1;32m    380\u001b[0m             \u001b[0m_z3_assert\u001b[0m\u001b[0;34m(\u001b[0m\u001b[0mis_ast\u001b[0m\u001b[0;34m(\u001b[0m\u001b[0mother\u001b[0m\u001b[0;34m)\u001b[0m\u001b[0;34m,\u001b[0m \u001b[0;34m\"Z3 AST expected\"\u001b[0m\u001b[0;34m)\u001b[0m\u001b[0;34m\u001b[0m\u001b[0;34m\u001b[0m\u001b[0m\n\u001b[0;32m--> 381\u001b[0;31m         \u001b[0;32mreturn\u001b[0m \u001b[0mZ3_is_eq_ast\u001b[0m\u001b[0;34m(\u001b[0m\u001b[0mself\u001b[0m\u001b[0;34m.\u001b[0m\u001b[0mctx_ref\u001b[0m\u001b[0;34m(\u001b[0m\u001b[0;34m)\u001b[0m\u001b[0;34m,\u001b[0m \u001b[0mself\u001b[0m\u001b[0;34m.\u001b[0m\u001b[0mas_ast\u001b[0m\u001b[0;34m(\u001b[0m\u001b[0;34m)\u001b[0m\u001b[0;34m,\u001b[0m \u001b[0mother\u001b[0m\u001b[0;34m.\u001b[0m\u001b[0mas_ast\u001b[0m\u001b[0;34m(\u001b[0m\u001b[0;34m)\u001b[0m\u001b[0;34m)\u001b[0m\u001b[0;34m\u001b[0m\u001b[0;34m\u001b[0m\u001b[0m\n\u001b[0m\u001b[1;32m    382\u001b[0m \u001b[0;34m\u001b[0m\u001b[0m\n\u001b[1;32m    383\u001b[0m     \u001b[0;32mdef\u001b[0m \u001b[0mtranslate\u001b[0m\u001b[0;34m(\u001b[0m\u001b[0mself\u001b[0m\u001b[0;34m,\u001b[0m \u001b[0mtarget\u001b[0m\u001b[0;34m)\u001b[0m\u001b[0;34m:\u001b[0m\u001b[0;34m\u001b[0m\u001b[0;34m\u001b[0m\u001b[0m\n",
      "\u001b[0;32m/nix/store/ymqg9qkhmqcqvjjm1kw3n6clsf2s4gym-python3-3.8.9-env/lib/python3.8/site-packages/z3/z3.py\u001b[0m in \u001b[0;36mas_ast\u001b[0;34m(self)\u001b[0m\n\u001b[1;32m    512\u001b[0m     \u001b[0;34m\"\"\"A Sort is essentially a type. Every Z3 expression has a sort. A sort is an AST node.\"\"\"\u001b[0m\u001b[0;34m\u001b[0m\u001b[0;34m\u001b[0m\u001b[0m\n\u001b[1;32m    513\u001b[0m     \u001b[0;32mdef\u001b[0m \u001b[0mas_ast\u001b[0m\u001b[0;34m(\u001b[0m\u001b[0mself\u001b[0m\u001b[0;34m)\u001b[0m\u001b[0;34m:\u001b[0m\u001b[0;34m\u001b[0m\u001b[0;34m\u001b[0m\u001b[0m\n\u001b[0;32m--> 514\u001b[0;31m         \u001b[0;32mreturn\u001b[0m \u001b[0mZ3_sort_to_ast\u001b[0m\u001b[0;34m(\u001b[0m\u001b[0mself\u001b[0m\u001b[0;34m.\u001b[0m\u001b[0mctx_ref\u001b[0m\u001b[0;34m(\u001b[0m\u001b[0;34m)\u001b[0m\u001b[0;34m,\u001b[0m \u001b[0mself\u001b[0m\u001b[0;34m.\u001b[0m\u001b[0mast\u001b[0m\u001b[0;34m)\u001b[0m\u001b[0;34m\u001b[0m\u001b[0;34m\u001b[0m\u001b[0m\n\u001b[0m\u001b[1;32m    515\u001b[0m \u001b[0;34m\u001b[0m\u001b[0m\n\u001b[1;32m    516\u001b[0m     \u001b[0;32mdef\u001b[0m \u001b[0mget_id\u001b[0m\u001b[0;34m(\u001b[0m\u001b[0mself\u001b[0m\u001b[0;34m)\u001b[0m\u001b[0;34m:\u001b[0m\u001b[0;34m\u001b[0m\u001b[0;34m\u001b[0m\u001b[0m\n",
      "\u001b[0;32m/nix/store/ymqg9qkhmqcqvjjm1kw3n6clsf2s4gym-python3-3.8.9-env/lib/python3.8/site-packages/z3/z3core.py\u001b[0m in \u001b[0;36mZ3_sort_to_ast\u001b[0;34m(a0, a1, _elems)\u001b[0m\n\u001b[1;32m   2556\u001b[0m \u001b[0;32mdef\u001b[0m \u001b[0mZ3_sort_to_ast\u001b[0m\u001b[0;34m(\u001b[0m\u001b[0ma0\u001b[0m\u001b[0;34m,\u001b[0m \u001b[0ma1\u001b[0m\u001b[0;34m,\u001b[0m \u001b[0m_elems\u001b[0m\u001b[0;34m=\u001b[0m\u001b[0mElementaries\u001b[0m\u001b[0;34m(\u001b[0m\u001b[0m_lib\u001b[0m\u001b[0;34m.\u001b[0m\u001b[0mZ3_sort_to_ast\u001b[0m\u001b[0;34m)\u001b[0m\u001b[0;34m)\u001b[0m\u001b[0;34m:\u001b[0m\u001b[0;34m\u001b[0m\u001b[0;34m\u001b[0m\u001b[0m\n\u001b[1;32m   2557\u001b[0m   \u001b[0mr\u001b[0m \u001b[0;34m=\u001b[0m \u001b[0m_elems\u001b[0m\u001b[0;34m.\u001b[0m\u001b[0mf\u001b[0m\u001b[0;34m(\u001b[0m\u001b[0ma0\u001b[0m\u001b[0;34m,\u001b[0m \u001b[0ma1\u001b[0m\u001b[0;34m)\u001b[0m\u001b[0;34m\u001b[0m\u001b[0;34m\u001b[0m\u001b[0m\n\u001b[0;32m-> 2558\u001b[0;31m   \u001b[0m_elems\u001b[0m\u001b[0;34m.\u001b[0m\u001b[0mCheck\u001b[0m\u001b[0;34m(\u001b[0m\u001b[0ma0\u001b[0m\u001b[0;34m)\u001b[0m\u001b[0;34m\u001b[0m\u001b[0;34m\u001b[0m\u001b[0m\n\u001b[0m\u001b[1;32m   2559\u001b[0m   \u001b[0;32mreturn\u001b[0m \u001b[0mr\u001b[0m\u001b[0;34m\u001b[0m\u001b[0;34m\u001b[0m\u001b[0m\n\u001b[1;32m   2560\u001b[0m \u001b[0;34m\u001b[0m\u001b[0m\n",
      "\u001b[0;32m/nix/store/ymqg9qkhmqcqvjjm1kw3n6clsf2s4gym-python3-3.8.9-env/lib/python3.8/site-packages/z3/z3core.py\u001b[0m in \u001b[0;36mCheck\u001b[0;34m(self, ctx)\u001b[0m\n\u001b[1;32m   1410\u001b[0m \u001b[0;34m\u001b[0m\u001b[0m\n\u001b[1;32m   1411\u001b[0m   \u001b[0;32mdef\u001b[0m \u001b[0mCheck\u001b[0m\u001b[0;34m(\u001b[0m\u001b[0mself\u001b[0m\u001b[0;34m,\u001b[0m \u001b[0mctx\u001b[0m\u001b[0;34m)\u001b[0m\u001b[0;34m:\u001b[0m\u001b[0;34m\u001b[0m\u001b[0;34m\u001b[0m\u001b[0m\n\u001b[0;32m-> 1412\u001b[0;31m     \u001b[0merr\u001b[0m \u001b[0;34m=\u001b[0m \u001b[0mself\u001b[0m\u001b[0;34m.\u001b[0m\u001b[0mget_error_code\u001b[0m\u001b[0;34m(\u001b[0m\u001b[0mctx\u001b[0m\u001b[0;34m)\u001b[0m\u001b[0;34m\u001b[0m\u001b[0;34m\u001b[0m\u001b[0m\n\u001b[0m\u001b[1;32m   1413\u001b[0m     \u001b[0;32mif\u001b[0m \u001b[0merr\u001b[0m \u001b[0;34m!=\u001b[0m \u001b[0mself\u001b[0m\u001b[0;34m.\u001b[0m\u001b[0mOK\u001b[0m\u001b[0;34m:\u001b[0m\u001b[0;34m\u001b[0m\u001b[0;34m\u001b[0m\u001b[0m\n\u001b[1;32m   1414\u001b[0m         \u001b[0;32mraise\u001b[0m \u001b[0mself\u001b[0m\u001b[0;34m.\u001b[0m\u001b[0mException\u001b[0m\u001b[0;34m(\u001b[0m\u001b[0mself\u001b[0m\u001b[0;34m.\u001b[0m\u001b[0mget_error_message\u001b[0m\u001b[0;34m(\u001b[0m\u001b[0mctx\u001b[0m\u001b[0;34m,\u001b[0m \u001b[0merr\u001b[0m\u001b[0;34m)\u001b[0m\u001b[0;34m)\u001b[0m\u001b[0;34m\u001b[0m\u001b[0;34m\u001b[0m\u001b[0m\n",
      "\u001b[0;31mKeyboardInterrupt\u001b[0m: "
     ]
    }
   ],
   "source": [
    "print(f\"M = {M}\")\n",
    "print(f\"|O| = {len(O)}\")\n",
    "print(f\"2^|O| = {2 ** len(O)}\")\n",
    "print('===')\n",
    "\n",
    "ssv_cxs = []\n",
    "for idx, ssv in tqdm.tqdm(iterable=enumerate(allSubsetVectors(None)(len(O))), total=2 ** len(O)):\n",
    "# for ssv in allSubsetVectors(None)(len(O)):\n",
    "  ss_fromV         = mk_subset_fromVector(tuple)(O)(ssv)\n",
    "  cxs = testStackOp_Booleans(meet_Booleans1, grandFoldl(FeatureVector.meet), M, testSet=ss_fromV)\n",
    "  if len(cxs) > 0:\n",
    "    print(f\"{idx}: |ssv_cxs| = {len(ssv_cxs)}\")\n",
    "    ssv_cxs.append((ssv, ss_fromV, cxs))\n",
    "  \n",
    "#   print(\"---\")\n",
    "#   print(ssv)\n",
    "#   print(ssv_fromSS_fromV)\n",
    "#   print(ss_fromV)\n",
    "  \n",
    "#   if ssv_fromSS_fromV != ssv:\n",
    "#     ssv_cxs.add((ssv, ssv_fromSS_fromV, ss_fromV))\n",
    "  \n",
    "len(ssv_cxs)\n",
    "for ssv, ss_fromV, cxs in ssv_cxs:\n",
    "  print('---')\n",
    "  print(f\"ssv:\\n{ssv}\")\n",
    "  print(f\"ss_fromV:\")\n",
    "  for idx, each in enumerate(ss_fromV):\n",
    "    print(f\"{idx}: {each}\")\n",
    "  print(f\"cxs:\")\n",
    "  for theStack, actualResult, symbolicResult in cxs:\n",
    "    print(f\"concrete vs. symbolic: {actualResult} vs. {symbolicResult}\")"
   ]
  },
  {
   "cell_type": "code",
   "execution_count": 57,
   "id": "7ac63f50-3836-4671-9ac8-828c40c7b08c",
   "metadata": {
    "execution": {
     "iopub.execute_input": "2022-03-28T06:32:27.654310Z",
     "iopub.status.busy": "2022-03-28T06:32:27.654106Z",
     "iopub.status.idle": "2022-03-28T06:32:27.662507Z",
     "shell.execute_reply": "2022-03-28T06:32:27.661834Z",
     "shell.execute_reply.started": "2022-03-28T06:32:27.654285Z"
    },
    "tags": []
   },
   "outputs": [],
   "source": [
    "def findAmbiguousObjectSet(numFeatures, numObjects, solver=None):\n",
    "  if solver is None:\n",
    "    solver = z3.Solver()\n",
    "  \n",
    "  stack = [mk_FVBooleans(numFeatures, f\"obj_{i}\") for i in range(numObjects)]\n",
    "  defineds, valences = lmap(fst, stack), lmap(snd, stack)\n",
    "  solver.add(pairwise_distinct_Booleans1(defineds, valences))\n",
    "  \n",
    "  inSubset = mk_VBooleans(numObjects, \"inSubset\")\n",
    "  \n",
    "  meet = mk_FVBooleans(numFeatures, \"meet\")\n",
    "  defined_meet, valence_meet = meet\n",
    "  solver.add(meet_Booleans1(defineds, valences, defined_meet, valence_meet))\n",
    "  \n",
    "  # assert that every object in the subset must be in the interpretation of the meet (the converse does not in general hold)\n",
    "  # assert that for every object i, i is in the interpretation of the meet iff the meet <= object i \n",
    "  meet_interp = mk_VBooleans(numObjects, \"meet_interp\")\n",
    "  solver.add(z3.And([ z3.And( z3.Implies(inSubset[i], meet_interp[i])\n",
    "                            , meet_interp[i] == le_Booleans(defined_meet, valence_meet, defineds[i], valences[i]))\n",
    "                    for i in range(numObjects)]))\n",
    "  \n",
    "  alt = mk_FVBooleans(numFeatures, \"alt\")\n",
    "  defined_alt, valence_alt = alt\n",
    "  solver.add(distinct_Booleans(defined_meet, valence_meet, defined_alt, valence_meet))\n",
    "  \n",
    "  alt_interp = mk_VBooleans(numObjects, \"alt_interp\")\n",
    "  solver.push()\n",
    "  solver.add(z3.And([m == a \n",
    "                     for m,a in zip(meet_interp, \n",
    "                                    alt_interp)\n",
    "                    ]))\n",
    "  \n",
    "  if solver.check() == z3.sat:\n",
    "    print(\"Found vector distinct from meet with same interpretation\")\n",
    "    return \"meet synonym\", solver, solver.model(), stack, meet, meet_interp, alt, alt_interp\n",
    "  else:\n",
    "    solver.pop()\n",
    "    if solver.check() == z3.sat:\n",
    "      print(\"Only meet has its interpretation\")\n",
    "      return \"unique meet\", solver, solver.model(), stack, meet, meet_interp, alt, alt_interp\n",
    "    else:\n",
    "      print(\"Meet does not exist with current parameters\")\n",
    "      return \"no meet\", solver"
   ]
  },
  {
   "cell_type": "code",
   "execution_count": 59,
   "id": "4ba4cec2-73f9-42bb-8bbc-a82f5603e9e3",
   "metadata": {
    "execution": {
     "iopub.execute_input": "2022-03-28T06:40:04.937155Z",
     "iopub.status.busy": "2022-03-28T06:40:04.936960Z",
     "iopub.status.idle": "2022-03-28T06:44:48.313190Z",
     "shell.execute_reply": "2022-03-28T06:44:48.312571Z",
     "shell.execute_reply.started": "2022-03-28T06:40:04.937133Z"
    },
    "tags": []
   },
   "outputs": [
    {
     "name": "stderr",
     "output_type": "stream",
     "text": [
      "  3%|▎         | 3/111 [00:00<00:04, 24.03it/s]"
     ]
    },
    {
     "name": "stdout",
     "output_type": "stream",
     "text": [
      "m = 2\n",
      "n = 2\n",
      "Found vector distinct from meet with same interpretation\n",
      "m = 2\n",
      "n = 3\n",
      "Found vector distinct from meet with same interpretation\n",
      "m = 2\n",
      "n = 4\n",
      "Found vector distinct from meet with same interpretation\n",
      "m = 2\n",
      "n = 5\n",
      "Found vector distinct from meet with same interpretation\n",
      "m = 2\n",
      "n = 6\n"
     ]
    },
    {
     "name": "stderr",
     "output_type": "stream",
     "text": [
      "  8%|▊         | 9/111 [00:00<00:04, 23.88it/s]"
     ]
    },
    {
     "name": "stdout",
     "output_type": "stream",
     "text": [
      "Found vector distinct from meet with same interpretation\n",
      "m = 2\n",
      "n = 7\n",
      "Found vector distinct from meet with same interpretation\n",
      "m = 2\n",
      "n = 8\n",
      "Found vector distinct from meet with same interpretation\n",
      "m = 3\n",
      "n = 2\n",
      "Found vector distinct from meet with same interpretation\n",
      "m = 3\n",
      "n = 3\n",
      "Found vector distinct from meet with same interpretation\n",
      "m = 3\n",
      "n = 4\n"
     ]
    },
    {
     "name": "stderr",
     "output_type": "stream",
     "text": [
      " 11%|█         | 12/111 [00:00<00:04, 22.36it/s]"
     ]
    },
    {
     "name": "stdout",
     "output_type": "stream",
     "text": [
      "Found vector distinct from meet with same interpretation\n",
      "m = 3\n",
      "n = 5\n",
      "Found vector distinct from meet with same interpretation\n",
      "m = 3\n",
      "n = 6\n",
      "Found vector distinct from meet with same interpretation\n",
      "m = 3\n",
      "n = 7\n",
      "Found vector distinct from meet with same interpretation\n",
      "m = 3\n",
      "n = 8\n"
     ]
    },
    {
     "name": "stderr",
     "output_type": "stream",
     "text": [
      " 14%|█▎        | 15/111 [00:00<00:05, 16.09it/s]"
     ]
    },
    {
     "name": "stdout",
     "output_type": "stream",
     "text": [
      "Found vector distinct from meet with same interpretation\n",
      "m = 3\n",
      "n = 9\n",
      "Found vector distinct from meet with same interpretation\n",
      "m = 3\n",
      "n = 10\n"
     ]
    },
    {
     "name": "stderr",
     "output_type": "stream",
     "text": [
      " 15%|█▌        | 17/111 [00:01<00:07, 11.94it/s]"
     ]
    },
    {
     "name": "stdout",
     "output_type": "stream",
     "text": [
      "Found vector distinct from meet with same interpretation\n",
      "m = 3\n",
      "n = 11\n",
      "Found vector distinct from meet with same interpretation\n",
      "m = 3\n",
      "n = 12\n",
      "Found vector distinct from meet with same interpretation\n",
      "m = 3\n",
      "n = 13\n"
     ]
    },
    {
     "name": "stderr",
     "output_type": "stream",
     "text": [
      " 17%|█▋        | 19/111 [00:01<00:10,  8.70it/s]"
     ]
    },
    {
     "name": "stdout",
     "output_type": "stream",
     "text": [
      "Found vector distinct from meet with same interpretation\n",
      "m = 3\n",
      "n = 14\n",
      "Found vector distinct from meet with same interpretation\n",
      "m = 3\n",
      "n = 15\n"
     ]
    },
    {
     "name": "stderr",
     "output_type": "stream",
     "text": [
      " 19%|█▉        | 21/111 [00:02<00:14,  6.39it/s]"
     ]
    },
    {
     "name": "stdout",
     "output_type": "stream",
     "text": [
      "Found vector distinct from meet with same interpretation\n",
      "m = 3\n",
      "n = 16\n"
     ]
    },
    {
     "name": "stderr",
     "output_type": "stream",
     "text": [
      " 20%|█▉        | 22/111 [00:02<00:16,  5.50it/s]"
     ]
    },
    {
     "name": "stdout",
     "output_type": "stream",
     "text": [
      "Found vector distinct from meet with same interpretation\n",
      "m = 3\n",
      "n = 17\n"
     ]
    },
    {
     "name": "stderr",
     "output_type": "stream",
     "text": [
      " 21%|██        | 23/111 [00:02<00:18,  4.72it/s]"
     ]
    },
    {
     "name": "stdout",
     "output_type": "stream",
     "text": [
      "Found vector distinct from meet with same interpretation\n",
      "m = 3\n",
      "n = 18\n"
     ]
    },
    {
     "name": "stderr",
     "output_type": "stream",
     "text": [
      " 22%|██▏       | 24/111 [00:03<00:21,  4.03it/s]"
     ]
    },
    {
     "name": "stdout",
     "output_type": "stream",
     "text": [
      "Found vector distinct from meet with same interpretation\n",
      "m = 3\n",
      "n = 19\n"
     ]
    },
    {
     "name": "stderr",
     "output_type": "stream",
     "text": [
      " 23%|██▎       | 25/111 [00:03<00:24,  3.45it/s]"
     ]
    },
    {
     "name": "stdout",
     "output_type": "stream",
     "text": [
      "Found vector distinct from meet with same interpretation\n",
      "m = 3\n",
      "n = 20\n"
     ]
    },
    {
     "name": "stderr",
     "output_type": "stream",
     "text": [
      " 23%|██▎       | 26/111 [00:03<00:28,  3.03it/s]"
     ]
    },
    {
     "name": "stdout",
     "output_type": "stream",
     "text": [
      "Found vector distinct from meet with same interpretation\n",
      "m = 3\n",
      "n = 21\n"
     ]
    },
    {
     "name": "stderr",
     "output_type": "stream",
     "text": [
      " 24%|██▍       | 27/111 [00:04<00:31,  2.63it/s]"
     ]
    },
    {
     "name": "stdout",
     "output_type": "stream",
     "text": [
      "Found vector distinct from meet with same interpretation\n",
      "m = 3\n",
      "n = 22\n"
     ]
    },
    {
     "name": "stderr",
     "output_type": "stream",
     "text": [
      " 25%|██▌       | 28/111 [00:05<00:35,  2.31it/s]"
     ]
    },
    {
     "name": "stdout",
     "output_type": "stream",
     "text": [
      "Found vector distinct from meet with same interpretation\n",
      "m = 3\n",
      "n = 23\n"
     ]
    },
    {
     "name": "stderr",
     "output_type": "stream",
     "text": [
      " 26%|██▌       | 29/111 [00:05<00:39,  2.08it/s]"
     ]
    },
    {
     "name": "stdout",
     "output_type": "stream",
     "text": [
      "Found vector distinct from meet with same interpretation\n",
      "m = 3\n",
      "n = 24\n"
     ]
    },
    {
     "name": "stderr",
     "output_type": "stream",
     "text": [
      " 27%|██▋       | 30/111 [00:06<00:42,  1.90it/s]"
     ]
    },
    {
     "name": "stdout",
     "output_type": "stream",
     "text": [
      "Found vector distinct from meet with same interpretation\n",
      "m = 3\n",
      "n = 25\n"
     ]
    },
    {
     "name": "stderr",
     "output_type": "stream",
     "text": [
      " 28%|██▊       | 31/111 [00:06<00:46,  1.71it/s]"
     ]
    },
    {
     "name": "stdout",
     "output_type": "stream",
     "text": [
      "Found vector distinct from meet with same interpretation\n",
      "m = 3\n",
      "n = 26\n"
     ]
    },
    {
     "name": "stderr",
     "output_type": "stream",
     "text": [
      " 32%|███▏      | 36/111 [00:07<00:19,  3.77it/s]"
     ]
    },
    {
     "name": "stdout",
     "output_type": "stream",
     "text": [
      "Found vector distinct from meet with same interpretation\n",
      "m = 4\n",
      "n = 2\n",
      "Found vector distinct from meet with same interpretation\n",
      "m = 4\n",
      "n = 3\n",
      "Found vector distinct from meet with same interpretation\n",
      "m = 4\n",
      "n = 4\n",
      "Found vector distinct from meet with same interpretation\n",
      "m = 4\n",
      "n = 5\n",
      "Found vector distinct from meet with same interpretation\n",
      "m = 4\n",
      "n = 6\n"
     ]
    },
    {
     "name": "stderr",
     "output_type": "stream",
     "text": [
      " 34%|███▍      | 38/111 [00:08<00:15,  4.76it/s]"
     ]
    },
    {
     "name": "stdout",
     "output_type": "stream",
     "text": [
      "Found vector distinct from meet with same interpretation\n",
      "m = 4\n",
      "n = 7\n",
      "Found vector distinct from meet with same interpretation\n",
      "m = 4\n",
      "n = 8\n"
     ]
    },
    {
     "name": "stderr",
     "output_type": "stream",
     "text": [
      " 36%|███▌      | 40/111 [00:08<00:13,  5.41it/s]"
     ]
    },
    {
     "name": "stdout",
     "output_type": "stream",
     "text": [
      "Found vector distinct from meet with same interpretation\n",
      "m = 4\n",
      "n = 9\n",
      "Found vector distinct from meet with same interpretation\n",
      "m = 4\n",
      "n = 10\n"
     ]
    },
    {
     "name": "stderr",
     "output_type": "stream",
     "text": [
      " 37%|███▋      | 41/111 [00:08<00:12,  5.47it/s]"
     ]
    },
    {
     "name": "stdout",
     "output_type": "stream",
     "text": [
      "Found vector distinct from meet with same interpretation\n",
      "m = 4\n",
      "n = 11\n",
      "Found vector distinct from meet with same interpretation\n"
     ]
    },
    {
     "name": "stderr",
     "output_type": "stream",
     "text": [
      " 38%|███▊      | 42/111 [00:08<00:12,  5.34it/s]"
     ]
    },
    {
     "name": "stdout",
     "output_type": "stream",
     "text": [
      "m = 4\n",
      "n = 12\n"
     ]
    },
    {
     "name": "stderr",
     "output_type": "stream",
     "text": [
      " 39%|███▊      | 43/111 [00:09<00:13,  4.95it/s]"
     ]
    },
    {
     "name": "stdout",
     "output_type": "stream",
     "text": [
      "Found vector distinct from meet with same interpretation\n",
      "m = 4\n",
      "n = 13\n"
     ]
    },
    {
     "name": "stderr",
     "output_type": "stream",
     "text": [
      " 40%|███▉      | 44/111 [00:09<00:14,  4.48it/s]"
     ]
    },
    {
     "name": "stdout",
     "output_type": "stream",
     "text": [
      "Found vector distinct from meet with same interpretation\n",
      "m = 4\n",
      "n = 14\n"
     ]
    },
    {
     "name": "stderr",
     "output_type": "stream",
     "text": [
      " 41%|████      | 45/111 [00:09<00:16,  3.95it/s]"
     ]
    },
    {
     "name": "stdout",
     "output_type": "stream",
     "text": [
      "Found vector distinct from meet with same interpretation\n",
      "m = 4\n",
      "n = 15\n"
     ]
    },
    {
     "name": "stderr",
     "output_type": "stream",
     "text": [
      " 41%|████▏     | 46/111 [00:09<00:18,  3.55it/s]"
     ]
    },
    {
     "name": "stdout",
     "output_type": "stream",
     "text": [
      "Found vector distinct from meet with same interpretation\n",
      "m = 4\n",
      "n = 16\n"
     ]
    },
    {
     "name": "stderr",
     "output_type": "stream",
     "text": [
      " 42%|████▏     | 47/111 [00:10<00:20,  3.14it/s]"
     ]
    },
    {
     "name": "stdout",
     "output_type": "stream",
     "text": [
      "Found vector distinct from meet with same interpretation\n",
      "m = 4\n",
      "n = 17\n"
     ]
    },
    {
     "name": "stderr",
     "output_type": "stream",
     "text": [
      " 43%|████▎     | 48/111 [00:10<00:22,  2.82it/s]"
     ]
    },
    {
     "name": "stdout",
     "output_type": "stream",
     "text": [
      "Found vector distinct from meet with same interpretation\n",
      "m = 4\n",
      "n = 18\n"
     ]
    },
    {
     "name": "stderr",
     "output_type": "stream",
     "text": [
      " 44%|████▍     | 49/111 [00:11<00:24,  2.50it/s]"
     ]
    },
    {
     "name": "stdout",
     "output_type": "stream",
     "text": [
      "Found vector distinct from meet with same interpretation\n",
      "m = 4\n",
      "n = 19\n"
     ]
    },
    {
     "name": "stderr",
     "output_type": "stream",
     "text": [
      " 45%|████▌     | 50/111 [00:11<00:27,  2.24it/s]"
     ]
    },
    {
     "name": "stdout",
     "output_type": "stream",
     "text": [
      "Found vector distinct from meet with same interpretation\n",
      "m = 4\n",
      "n = 20\n"
     ]
    },
    {
     "name": "stderr",
     "output_type": "stream",
     "text": [
      " 46%|████▌     | 51/111 [00:12<00:30,  2.00it/s]"
     ]
    },
    {
     "name": "stdout",
     "output_type": "stream",
     "text": [
      "Found vector distinct from meet with same interpretation\n",
      "m = 4\n",
      "n = 21\n"
     ]
    },
    {
     "name": "stderr",
     "output_type": "stream",
     "text": [
      " 47%|████▋     | 52/111 [00:13<00:32,  1.84it/s]"
     ]
    },
    {
     "name": "stdout",
     "output_type": "stream",
     "text": [
      "Found vector distinct from meet with same interpretation\n",
      "m = 4\n",
      "n = 22\n"
     ]
    },
    {
     "name": "stderr",
     "output_type": "stream",
     "text": [
      " 48%|████▊     | 53/111 [00:13<00:34,  1.68it/s]"
     ]
    },
    {
     "name": "stdout",
     "output_type": "stream",
     "text": [
      "Found vector distinct from meet with same interpretation\n",
      "m = 4\n",
      "n = 23\n"
     ]
    },
    {
     "name": "stderr",
     "output_type": "stream",
     "text": [
      " 49%|████▊     | 54/111 [00:14<00:37,  1.52it/s]"
     ]
    },
    {
     "name": "stdout",
     "output_type": "stream",
     "text": [
      "Found vector distinct from meet with same interpretation\n",
      "m = 4\n",
      "n = 24\n"
     ]
    },
    {
     "name": "stderr",
     "output_type": "stream",
     "text": [
      " 50%|████▉     | 55/111 [00:15<00:40,  1.38it/s]"
     ]
    },
    {
     "name": "stdout",
     "output_type": "stream",
     "text": [
      "Found vector distinct from meet with same interpretation\n",
      "m = 4\n",
      "n = 25\n"
     ]
    },
    {
     "name": "stderr",
     "output_type": "stream",
     "text": [
      " 50%|█████     | 56/111 [00:16<00:43,  1.27it/s]"
     ]
    },
    {
     "name": "stdout",
     "output_type": "stream",
     "text": [
      "Found vector distinct from meet with same interpretation\n",
      "m = 4\n",
      "n = 26\n"
     ]
    },
    {
     "name": "stderr",
     "output_type": "stream",
     "text": [
      " 51%|█████▏    | 57/111 [00:17<00:45,  1.19it/s]"
     ]
    },
    {
     "name": "stdout",
     "output_type": "stream",
     "text": [
      "Found vector distinct from meet with same interpretation\n",
      "m = 4\n",
      "n = 27\n"
     ]
    },
    {
     "name": "stderr",
     "output_type": "stream",
     "text": [
      " 52%|█████▏    | 58/111 [00:18<00:48,  1.10it/s]"
     ]
    },
    {
     "name": "stdout",
     "output_type": "stream",
     "text": [
      "Found vector distinct from meet with same interpretation\n",
      "m = 4\n",
      "n = 28\n"
     ]
    },
    {
     "name": "stderr",
     "output_type": "stream",
     "text": [
      " 53%|█████▎    | 59/111 [00:19<00:50,  1.02it/s]"
     ]
    },
    {
     "name": "stdout",
     "output_type": "stream",
     "text": [
      "Found vector distinct from meet with same interpretation\n",
      "m = 4\n",
      "n = 29\n"
     ]
    },
    {
     "name": "stderr",
     "output_type": "stream",
     "text": [
      " 54%|█████▍    | 60/111 [00:20<00:53,  1.06s/it]"
     ]
    },
    {
     "name": "stdout",
     "output_type": "stream",
     "text": [
      "Found vector distinct from meet with same interpretation\n",
      "m = 4\n",
      "n = 30\n"
     ]
    },
    {
     "name": "stderr",
     "output_type": "stream",
     "text": [
      " 55%|█████▍    | 61/111 [00:22<00:56,  1.13s/it]"
     ]
    },
    {
     "name": "stdout",
     "output_type": "stream",
     "text": [
      "Found vector distinct from meet with same interpretation\n",
      "m = 4\n",
      "n = 31\n"
     ]
    },
    {
     "name": "stderr",
     "output_type": "stream",
     "text": [
      " 56%|█████▌    | 62/111 [00:23<00:59,  1.21s/it]"
     ]
    },
    {
     "name": "stdout",
     "output_type": "stream",
     "text": [
      "Found vector distinct from meet with same interpretation\n",
      "m = 4\n",
      "n = 32\n"
     ]
    },
    {
     "name": "stderr",
     "output_type": "stream",
     "text": [
      " 57%|█████▋    | 63/111 [00:25<01:02,  1.30s/it]"
     ]
    },
    {
     "name": "stdout",
     "output_type": "stream",
     "text": [
      "Found vector distinct from meet with same interpretation\n",
      "m = 4\n",
      "n = 33\n"
     ]
    },
    {
     "name": "stderr",
     "output_type": "stream",
     "text": [
      " 58%|█████▊    | 64/111 [00:26<01:04,  1.38s/it]"
     ]
    },
    {
     "name": "stdout",
     "output_type": "stream",
     "text": [
      "Found vector distinct from meet with same interpretation\n",
      "m = 4\n",
      "n = 34\n"
     ]
    },
    {
     "name": "stderr",
     "output_type": "stream",
     "text": [
      " 59%|█████▊    | 65/111 [00:28<01:07,  1.47s/it]"
     ]
    },
    {
     "name": "stdout",
     "output_type": "stream",
     "text": [
      "Found vector distinct from meet with same interpretation\n",
      "m = 4\n",
      "n = 35\n"
     ]
    },
    {
     "name": "stderr",
     "output_type": "stream",
     "text": [
      " 59%|█████▉    | 66/111 [00:30<01:09,  1.55s/it]"
     ]
    },
    {
     "name": "stdout",
     "output_type": "stream",
     "text": [
      "Found vector distinct from meet with same interpretation\n",
      "m = 4\n",
      "n = 36\n"
     ]
    },
    {
     "name": "stderr",
     "output_type": "stream",
     "text": [
      " 60%|██████    | 67/111 [00:31<01:12,  1.65s/it]"
     ]
    },
    {
     "name": "stdout",
     "output_type": "stream",
     "text": [
      "Found vector distinct from meet with same interpretation\n",
      "m = 4\n",
      "n = 37\n"
     ]
    },
    {
     "name": "stderr",
     "output_type": "stream",
     "text": [
      " 61%|██████▏   | 68/111 [00:33<01:14,  1.74s/it]"
     ]
    },
    {
     "name": "stdout",
     "output_type": "stream",
     "text": [
      "Found vector distinct from meet with same interpretation\n",
      "m = 4\n",
      "n = 38\n"
     ]
    },
    {
     "name": "stderr",
     "output_type": "stream",
     "text": [
      " 62%|██████▏   | 69/111 [00:36<01:17,  1.85s/it]"
     ]
    },
    {
     "name": "stdout",
     "output_type": "stream",
     "text": [
      "Found vector distinct from meet with same interpretation\n",
      "m = 4\n",
      "n = 39\n"
     ]
    },
    {
     "name": "stderr",
     "output_type": "stream",
     "text": [
      " 63%|██████▎   | 70/111 [00:38<01:20,  1.96s/it]"
     ]
    },
    {
     "name": "stdout",
     "output_type": "stream",
     "text": [
      "Found vector distinct from meet with same interpretation\n",
      "m = 4\n",
      "n = 40\n"
     ]
    },
    {
     "name": "stderr",
     "output_type": "stream",
     "text": [
      " 64%|██████▍   | 71/111 [00:40<01:22,  2.06s/it]"
     ]
    },
    {
     "name": "stdout",
     "output_type": "stream",
     "text": [
      "Found vector distinct from meet with same interpretation\n",
      "m = 4\n",
      "n = 41\n"
     ]
    },
    {
     "name": "stderr",
     "output_type": "stream",
     "text": [
      " 65%|██████▍   | 72/111 [00:43<01:25,  2.19s/it]"
     ]
    },
    {
     "name": "stdout",
     "output_type": "stream",
     "text": [
      "Found vector distinct from meet with same interpretation\n",
      "m = 4\n",
      "n = 42\n"
     ]
    },
    {
     "name": "stderr",
     "output_type": "stream",
     "text": [
      " 66%|██████▌   | 73/111 [00:45<01:28,  2.32s/it]"
     ]
    },
    {
     "name": "stdout",
     "output_type": "stream",
     "text": [
      "Found vector distinct from meet with same interpretation\n",
      "m = 4\n",
      "n = 43\n"
     ]
    },
    {
     "name": "stderr",
     "output_type": "stream",
     "text": [
      " 67%|██████▋   | 74/111 [00:48<01:29,  2.42s/it]"
     ]
    },
    {
     "name": "stdout",
     "output_type": "stream",
     "text": [
      "Found vector distinct from meet with same interpretation\n",
      "m = 4\n",
      "n = 44\n"
     ]
    },
    {
     "name": "stderr",
     "output_type": "stream",
     "text": [
      " 68%|██████▊   | 75/111 [00:51<01:30,  2.52s/it]"
     ]
    },
    {
     "name": "stdout",
     "output_type": "stream",
     "text": [
      "Found vector distinct from meet with same interpretation\n",
      "m = 4\n",
      "n = 45\n"
     ]
    },
    {
     "name": "stderr",
     "output_type": "stream",
     "text": [
      " 68%|██████▊   | 76/111 [00:54<01:32,  2.65s/it]"
     ]
    },
    {
     "name": "stdout",
     "output_type": "stream",
     "text": [
      "Found vector distinct from meet with same interpretation\n",
      "m = 4\n",
      "n = 46\n"
     ]
    },
    {
     "name": "stderr",
     "output_type": "stream",
     "text": [
      " 69%|██████▉   | 77/111 [00:57<01:34,  2.77s/it]"
     ]
    },
    {
     "name": "stdout",
     "output_type": "stream",
     "text": [
      "Found vector distinct from meet with same interpretation\n",
      "m = 4\n",
      "n = 47\n"
     ]
    },
    {
     "name": "stderr",
     "output_type": "stream",
     "text": [
      " 70%|███████   | 78/111 [01:00<01:35,  2.89s/it]"
     ]
    },
    {
     "name": "stdout",
     "output_type": "stream",
     "text": [
      "Found vector distinct from meet with same interpretation\n",
      "m = 4\n",
      "n = 48\n"
     ]
    },
    {
     "name": "stderr",
     "output_type": "stream",
     "text": [
      " 71%|███████   | 79/111 [01:03<01:36,  3.01s/it]"
     ]
    },
    {
     "name": "stdout",
     "output_type": "stream",
     "text": [
      "Found vector distinct from meet with same interpretation\n",
      "m = 4\n",
      "n = 49\n"
     ]
    },
    {
     "name": "stderr",
     "output_type": "stream",
     "text": [
      " 72%|███████▏  | 80/111 [01:07<01:37,  3.16s/it]"
     ]
    },
    {
     "name": "stdout",
     "output_type": "stream",
     "text": [
      "Found vector distinct from meet with same interpretation\n",
      "m = 4\n",
      "n = 50\n"
     ]
    },
    {
     "name": "stderr",
     "output_type": "stream",
     "text": [
      " 73%|███████▎  | 81/111 [01:10<01:38,  3.28s/it]"
     ]
    },
    {
     "name": "stdout",
     "output_type": "stream",
     "text": [
      "Found vector distinct from meet with same interpretation\n",
      "m = 4\n",
      "n = 51\n"
     ]
    },
    {
     "name": "stderr",
     "output_type": "stream",
     "text": [
      " 74%|███████▍  | 82/111 [01:14<01:41,  3.49s/it]"
     ]
    },
    {
     "name": "stdout",
     "output_type": "stream",
     "text": [
      "Found vector distinct from meet with same interpretation\n",
      "m = 4\n",
      "n = 52\n"
     ]
    },
    {
     "name": "stderr",
     "output_type": "stream",
     "text": [
      " 75%|███████▍  | 83/111 [01:18<01:42,  3.65s/it]"
     ]
    },
    {
     "name": "stdout",
     "output_type": "stream",
     "text": [
      "Found vector distinct from meet with same interpretation\n",
      "m = 4\n",
      "n = 53\n"
     ]
    },
    {
     "name": "stderr",
     "output_type": "stream",
     "text": [
      " 76%|███████▌  | 84/111 [01:22<01:43,  3.84s/it]"
     ]
    },
    {
     "name": "stdout",
     "output_type": "stream",
     "text": [
      "Found vector distinct from meet with same interpretation\n",
      "m = 4\n",
      "n = 54\n"
     ]
    },
    {
     "name": "stderr",
     "output_type": "stream",
     "text": [
      " 77%|███████▋  | 85/111 [01:27<01:43,  3.98s/it]"
     ]
    },
    {
     "name": "stdout",
     "output_type": "stream",
     "text": [
      "Found vector distinct from meet with same interpretation\n",
      "m = 4\n",
      "n = 55\n"
     ]
    },
    {
     "name": "stderr",
     "output_type": "stream",
     "text": [
      " 77%|███████▋  | 86/111 [01:31<01:44,  4.17s/it]"
     ]
    },
    {
     "name": "stdout",
     "output_type": "stream",
     "text": [
      "Found vector distinct from meet with same interpretation\n",
      "m = 4\n",
      "n = 56\n"
     ]
    },
    {
     "name": "stderr",
     "output_type": "stream",
     "text": [
      " 78%|███████▊  | 87/111 [01:36<01:42,  4.25s/it]"
     ]
    },
    {
     "name": "stdout",
     "output_type": "stream",
     "text": [
      "Found vector distinct from meet with same interpretation\n",
      "m = 4\n",
      "n = 57\n"
     ]
    },
    {
     "name": "stderr",
     "output_type": "stream",
     "text": [
      " 79%|███████▉  | 88/111 [01:41<01:41,  4.43s/it]"
     ]
    },
    {
     "name": "stdout",
     "output_type": "stream",
     "text": [
      "Found vector distinct from meet with same interpretation\n",
      "m = 4\n",
      "n = 58\n"
     ]
    },
    {
     "name": "stderr",
     "output_type": "stream",
     "text": [
      " 80%|████████  | 89/111 [01:46<01:41,  4.60s/it]"
     ]
    },
    {
     "name": "stdout",
     "output_type": "stream",
     "text": [
      "Found vector distinct from meet with same interpretation\n",
      "m = 4\n",
      "n = 59\n"
     ]
    },
    {
     "name": "stderr",
     "output_type": "stream",
     "text": [
      " 81%|████████  | 90/111 [01:51<01:41,  4.84s/it]"
     ]
    },
    {
     "name": "stdout",
     "output_type": "stream",
     "text": [
      "Found vector distinct from meet with same interpretation\n",
      "m = 4\n",
      "n = 60\n"
     ]
    },
    {
     "name": "stderr",
     "output_type": "stream",
     "text": [
      " 82%|████████▏ | 91/111 [01:57<01:41,  5.06s/it]"
     ]
    },
    {
     "name": "stdout",
     "output_type": "stream",
     "text": [
      "Found vector distinct from meet with same interpretation\n",
      "m = 4\n",
      "n = 61\n"
     ]
    },
    {
     "name": "stderr",
     "output_type": "stream",
     "text": [
      " 83%|████████▎ | 92/111 [02:02<01:40,  5.26s/it]"
     ]
    },
    {
     "name": "stdout",
     "output_type": "stream",
     "text": [
      "Found vector distinct from meet with same interpretation\n",
      "m = 4\n",
      "n = 62\n"
     ]
    },
    {
     "name": "stderr",
     "output_type": "stream",
     "text": [
      " 84%|████████▍ | 93/111 [02:08<01:37,  5.40s/it]"
     ]
    },
    {
     "name": "stdout",
     "output_type": "stream",
     "text": [
      "Found vector distinct from meet with same interpretation\n",
      "m = 4\n",
      "n = 63\n"
     ]
    },
    {
     "name": "stderr",
     "output_type": "stream",
     "text": [
      " 85%|████████▍ | 94/111 [02:14<01:35,  5.63s/it]"
     ]
    },
    {
     "name": "stdout",
     "output_type": "stream",
     "text": [
      "Found vector distinct from meet with same interpretation\n",
      "m = 4\n",
      "n = 64\n"
     ]
    },
    {
     "name": "stderr",
     "output_type": "stream",
     "text": [
      " 86%|████████▌ | 95/111 [02:20<01:33,  5.83s/it]"
     ]
    },
    {
     "name": "stdout",
     "output_type": "stream",
     "text": [
      "Found vector distinct from meet with same interpretation\n",
      "m = 4\n",
      "n = 65\n"
     ]
    },
    {
     "name": "stderr",
     "output_type": "stream",
     "text": [
      " 86%|████████▋ | 96/111 [02:27<01:31,  6.10s/it]"
     ]
    },
    {
     "name": "stdout",
     "output_type": "stream",
     "text": [
      "Found vector distinct from meet with same interpretation\n",
      "m = 4\n",
      "n = 66\n"
     ]
    },
    {
     "name": "stderr",
     "output_type": "stream",
     "text": [
      " 87%|████████▋ | 97/111 [02:34<01:27,  6.24s/it]"
     ]
    },
    {
     "name": "stdout",
     "output_type": "stream",
     "text": [
      "Found vector distinct from meet with same interpretation\n",
      "m = 4\n",
      "n = 67\n"
     ]
    },
    {
     "name": "stderr",
     "output_type": "stream",
     "text": [
      " 88%|████████▊ | 98/111 [02:41<01:25,  6.61s/it]"
     ]
    },
    {
     "name": "stdout",
     "output_type": "stream",
     "text": [
      "Found vector distinct from meet with same interpretation\n",
      "m = 4\n",
      "n = 68\n"
     ]
    },
    {
     "name": "stderr",
     "output_type": "stream",
     "text": [
      " 89%|████████▉ | 99/111 [02:49<01:21,  6.82s/it]"
     ]
    },
    {
     "name": "stdout",
     "output_type": "stream",
     "text": [
      "Found vector distinct from meet with same interpretation\n",
      "m = 4\n",
      "n = 69\n"
     ]
    },
    {
     "name": "stderr",
     "output_type": "stream",
     "text": [
      " 90%|█████████ | 100/111 [02:56<01:18,  7.12s/it]"
     ]
    },
    {
     "name": "stdout",
     "output_type": "stream",
     "text": [
      "Found vector distinct from meet with same interpretation\n",
      "m = 4\n",
      "n = 70\n"
     ]
    },
    {
     "name": "stderr",
     "output_type": "stream",
     "text": [
      " 91%|█████████ | 101/111 [03:04<01:12,  7.25s/it]"
     ]
    },
    {
     "name": "stdout",
     "output_type": "stream",
     "text": [
      "Found vector distinct from meet with same interpretation\n",
      "m = 4\n",
      "n = 71\n"
     ]
    },
    {
     "name": "stderr",
     "output_type": "stream",
     "text": [
      " 92%|█████████▏| 102/111 [03:12<01:07,  7.53s/it]"
     ]
    },
    {
     "name": "stdout",
     "output_type": "stream",
     "text": [
      "Found vector distinct from meet with same interpretation\n",
      "m = 4\n",
      "n = 72\n"
     ]
    },
    {
     "name": "stderr",
     "output_type": "stream",
     "text": [
      " 93%|█████████▎| 103/111 [03:21<01:03,  7.90s/it]"
     ]
    },
    {
     "name": "stdout",
     "output_type": "stream",
     "text": [
      "Found vector distinct from meet with same interpretation\n",
      "m = 4\n",
      "n = 73\n"
     ]
    },
    {
     "name": "stderr",
     "output_type": "stream",
     "text": [
      " 94%|█████████▎| 104/111 [03:30<00:58,  8.30s/it]"
     ]
    },
    {
     "name": "stdout",
     "output_type": "stream",
     "text": [
      "Found vector distinct from meet with same interpretation\n",
      "m = 4\n",
      "n = 74\n"
     ]
    },
    {
     "name": "stderr",
     "output_type": "stream",
     "text": [
      " 95%|█████████▍| 105/111 [03:40<00:52,  8.74s/it]"
     ]
    },
    {
     "name": "stdout",
     "output_type": "stream",
     "text": [
      "Found vector distinct from meet with same interpretation\n",
      "m = 4\n",
      "n = 75\n"
     ]
    },
    {
     "name": "stderr",
     "output_type": "stream",
     "text": [
      " 95%|█████████▌| 106/111 [03:49<00:44,  8.98s/it]"
     ]
    },
    {
     "name": "stdout",
     "output_type": "stream",
     "text": [
      "Found vector distinct from meet with same interpretation\n",
      "m = 4\n",
      "n = 76\n"
     ]
    },
    {
     "name": "stderr",
     "output_type": "stream",
     "text": [
      " 96%|█████████▋| 107/111 [03:59<00:36,  9.20s/it]"
     ]
    },
    {
     "name": "stdout",
     "output_type": "stream",
     "text": [
      "Found vector distinct from meet with same interpretation\n",
      "m = 4\n",
      "n = 77\n"
     ]
    },
    {
     "name": "stderr",
     "output_type": "stream",
     "text": [
      " 97%|█████████▋| 108/111 [04:10<00:29,  9.69s/it]"
     ]
    },
    {
     "name": "stdout",
     "output_type": "stream",
     "text": [
      "Found vector distinct from meet with same interpretation\n",
      "m = 4\n",
      "n = 78\n"
     ]
    },
    {
     "name": "stderr",
     "output_type": "stream",
     "text": [
      " 98%|█████████▊| 109/111 [04:20<00:19,  9.84s/it]"
     ]
    },
    {
     "name": "stdout",
     "output_type": "stream",
     "text": [
      "Found vector distinct from meet with same interpretation\n",
      "m = 4\n",
      "n = 79\n"
     ]
    },
    {
     "name": "stderr",
     "output_type": "stream",
     "text": [
      " 99%|█████████▉| 110/111 [04:32<00:10, 10.36s/it]"
     ]
    },
    {
     "name": "stdout",
     "output_type": "stream",
     "text": [
      "Found vector distinct from meet with same interpretation\n",
      "m = 4\n",
      "n = 80\n"
     ]
    },
    {
     "name": "stderr",
     "output_type": "stream",
     "text": [
      "100%|██████████| 111/111 [04:42<00:00,  2.54s/it]"
     ]
    },
    {
     "name": "stdout",
     "output_type": "stream",
     "text": [
      "Found vector distinct from meet with same interpretation\n",
      "|models where meet has a synonym| = 111\n",
      "|models where meet is unique| = 0\n",
      "|models where no meet exists| = 0\n"
     ]
    },
    {
     "name": "stderr",
     "output_type": "stream",
     "text": [
      "\n"
     ]
    }
   ],
   "source": [
    "Ms  = tuple(range(2,5))\n",
    "Ns  = tuple([tuple(range(2, 3 ** m)) for m in Ms])\n",
    "MNs = lmapcat(lambda pair: tuple([(pair[0], each) for each in pair[1]]),\n",
    "              zip(Ms, Ns))\n",
    "# MNs = lmapcat(lambda pair: [(pair[0], each) for each in pair[1]], \n",
    "#               zip(Ms, Ns))\n",
    "meetSynonyms, uniqueMeets, noMeets = [], [], []\n",
    "for eachM, eachN in tqdm(MNs, total = len(MNs)):\n",
    "  print(f\"m = {eachM}\")\n",
    "  print(f\"n = {eachN}\")\n",
    "  res = findAmbiguousObjectSet(eachM, eachN)\n",
    "  if res[0] == \"meet synonym\":\n",
    "    meetSynonyms.append(res)\n",
    "  elif res[0] == \"unique meet\":\n",
    "    uniqueMeets.append(res)\n",
    "  elif res[0] == \"no meet\":\n",
    "    noMeets.append(res)\n",
    "print(f\"|models where meet has a synonym| = {len(meetSynonyms)}\") # expecting non-zero\n",
    "print(f\"|models where meet is unique| = {len(uniqueMeets)}\") # expecting most\n",
    "print(f\"|models where no meet exists| = {len(noMeets)}\") # expecting zero"
   ]
  },
  {
   "cell_type": "code",
   "execution_count": 64,
   "id": "33f37c6d-9d9a-4ca0-b720-3ac5e165ce80",
   "metadata": {
    "execution": {
     "iopub.execute_input": "2022-03-27T10:22:19.434035Z",
     "iopub.status.busy": "2022-03-27T10:22:19.433834Z",
     "iopub.status.idle": "2022-03-27T10:22:19.454536Z",
     "shell.execute_reply": "2022-03-27T10:22:19.453920Z",
     "shell.execute_reply.started": "2022-03-27T10:22:19.434012Z"
    },
    "tags": []
   },
   "outputs": [],
   "source": [
    "def findAmbiguousObjectSet(numFeatures, objectSetSize, solver=None):\n",
    "  if solver is None:\n",
    "    solver = z3.Solver()\n",
    "\n",
    "#   solver.set(\"sat.cardinality.solver\", False)\n",
    "  \n",
    "  defineds_obj = [[z3.Bool(f\"obj_{i}_def_{j}\") for j in range(numFeatures)]\n",
    "                  for i in range(objectSetSize)]\n",
    "  valences_obj = [[z3.Bool(f\"obj_{i}_val_{j}\") for j in range(numFeatures)]\n",
    "                  for i in range(objectSetSize)]\n",
    "  \n",
    "  #assert all objects have distinct feature vectors\n",
    "  solver.add([distinct(i, j, defineds_obj, valences_obj) \n",
    "              for i in range(objectSetSize) for j in range(objectSetSize)])\n",
    "  \n",
    "  #define what's in the subset and therefore\n",
    "  # - what the meet of the subset is\n",
    "  # - properties of the meet that we need for subsequent constraints\n",
    "  inSubset     = [z3.Bool(f\"inSubset_{i}\")    for i in range(objectSetSize)]\n",
    "  defined_meet = [z3.Bool(f\"meet_def_{j}\")    for j in range(numFeatures)]\n",
    "  valence_meet = [z3.Bool(f\"meet_val_{j}\")    for j in range(numFeatures)]\n",
    "  solver.add(is_meet(defined_meet, valence_meet, inSubset, defineds_obj, valences_obj))\n",
    "  meet_interp  = [z3.Bool(f\"meet_interp_{i}\") for i in range(objectSetSize)]\n",
    "  solver.add(z3.And([z3.Implies(inSubset[i],\n",
    "                                z3.And(is_le(defined_meet, valence_meet, defineds_obj[i], valences_obj[i]),\n",
    "                                       meet_interp[i]))\n",
    "                     for i in range(objectSetSize)]))\n",
    "#   solver.add(z3.And([meet_interp[i] == z3.Implies(inSubset[i],\n",
    "#                                                   is_le(defined_meet, valence_meet, defineds_obj[i], valences_obj[i]))\n",
    "#                      for i in range(objectSetSize)]))\n",
    "#FIXME remove\n",
    "#   solver.add(z3.And([z3.And(z3.Implies(is_le(defined_meet, valence_meet, defineds_obj[i], valences_obj[i]),\n",
    "#                                        meet_interp[i]),\n",
    "#                             z3.Implies(z3.Not(is_le(defined_meet, valence_meet, defineds_obj[i], valences_obj[i])),\n",
    "#                                        z3.Not(meet_interp[i])))\n",
    "#                      for i in range(objectSetSize)]))\n",
    "\n",
    "  \n",
    "  #define an alternative feature vector\n",
    "  # - assert it is distinct from the meet\n",
    "  # - assert it has the same interpretation as the meet\n",
    "  \n",
    "  defined_alt = [z3.Bool(f\"alt_def_{j}\")    for j in range(numFeatures)]\n",
    "  valence_alt = [z3.Bool(f\"alt_val_{j}\")    for j in range(numFeatures)]\n",
    "  solver.add(z3.Not(eq_Booleans(defined_meet, valence_meet, defined_alt, valence_alt)))\n",
    "  \n",
    "  alt_interp  = [z3.Bool(f\"alt_interp_{i}\") for i in range(objectSetSize)]\n",
    "  solver.add(z3.And([meet_interp[i] == alt_interp[i]\n",
    "                     for i in range(objectSetSize)]))\n",
    "#FIXME remove  \n",
    "#   solver.add(z3.And([z3.Implies(meet_interp[i], alt_interp[i]),\n",
    "#                      z3.Implies(z3.Not(meet_interp[i]), z3.Not(alt_interp[i])),\n",
    "#                      z3.Implies(alt_interp[i], meet_interp[i]),\n",
    "#                      z3.Implies(z3.Not(alt_interp[i]), z3.Not(meet_interp[i]))\n",
    "#                    ]))\n",
    "  \n",
    "  if solver.check() == z3.sat:\n",
    "    print(\"Model found.\")\n",
    "    return solver, solver.model(), defineds_obj, valences_obj, inSubset, defined_meet, valence_meet, meet_interp, defined_alt, valence_alt, alt_interp\n",
    "  else:\n",
    "    print(\"No model found.\")\n",
    "    return solver\n",
    "\n",
    "\n",
    "# should I define a more generic \"three place\" (six place) predicate for meet? (in cell above?) \n",
    "def is_meet(defined_meet, valence_meet, characteristicVector_subset, defineds_obj, valences_obj):\n",
    "  numFeatures   = len(defined_meet)\n",
    "  objectSetSize = len(defineds_obj)\n",
    "  \n",
    "  # for every index j\n",
    "  # if every object i in the subset is defined at j and has valence true\n",
    "  # then\n",
    "  #  the meet vector is defined at index j\n",
    "  #  the meet vector has valence true at index j\n",
    "  \n",
    "  # for every index j\n",
    "  # if every object i in the subset is defined at j and has valence false\n",
    "  # then\n",
    "  #  the meet vector is defined at index j\n",
    "  #  the meet vector has valence false at index j\n",
    "  \n",
    "  def allDefinedAtAndWithValence(j, v):\n",
    "    if v:\n",
    "      return z3.And([z3.Implies(characteristicVector_subset[i],\n",
    "                                z3.And([defineds_obj[i][j], valences_obj[i][j]])) \n",
    "                     for i in range(objectSetSize)])\n",
    "    else:\n",
    "      return z3.And([z3.Implies(characteristicVector_subset[i],\n",
    "                                z3.And([defineds_obj[i][j], z3.Not(valences_obj[i][j])])) \n",
    "                     for i in range(objectSetSize)])\n",
    "  \n",
    "  valenceUndefinedConstraints = [z3.Not(z3.And(allDefinedAtAndWithValence(j, True ),\n",
    "                                               allDefinedAtAndWithValence(j, False))) == z3.Not(defined_meet[j])\n",
    "                                 for j in range(numFeatures)]\n",
    "  valenceTrueConstraints      = [allDefinedAtAndWithValence(j, True ) == z3.And([defined_meet[j],        valence_meet[j]])\n",
    "                                 for j in range(numFeatures)]\n",
    "  valenceFalseConstraints     = [allDefinedAtAndWithValence(j, False) == z3.And([defined_meet[j], z3.Not(valence_meet[j])])\n",
    "                                 for j in range(numFeatures)]\n",
    "#   valenceTrueConstraints  = [z3.Implies(allDefinedAtAndWithValence(j, True),\n",
    "#                                         z3.And([defined_meet[j], valence_meet[j]]))\n",
    "#                              for j in range(numFeatures)]\n",
    "#   valenceFalseConstraints = [z3.Implies(allDefinedAtAndWithValence(j, False),\n",
    "#                                         z3.And([defined_meet[j], z3.Not(valence_meet[j])]))\n",
    "#                              for j in range(numFeatures)]\n",
    "\n",
    "  return z3.And(valenceTrueConstraints + valenceFalseConstraints)\n",
    "  \n",
    "def distinct(i, j, defineds, valences):\n",
    "  assert len(defineds) == len(valences)\n",
    "  objectSetSize = len(defineds)\n",
    "  assert i < objectSetSize\n",
    "  assert j < objectSetSize\n",
    "  \n",
    "  def_i, val_i = defineds[i], valences[i]\n",
    "  def_j, val_j = defineds[j], valences[j]\n",
    "  \n",
    "  assert len(def_i) == len(val_i)\n",
    "  assert len(def_j) == len(val_j)\n",
    "  assert len(def_i) == len(def_j)\n",
    "  \n",
    "  numFeatures = len(def_i)\n",
    "  \n",
    "  # Either\n",
    "  #  i == j\n",
    "  # (so we actually don't want to assert that the ith and jth objects are distinct), or\n",
    "  # there's at least one feature where \n",
    "  #  - one object is defined and the other is not\n",
    "  #  - both objects are defined and their valence is distinct\n",
    "  return z3.Or([i == j] + \n",
    "               [z3.And(def_i[x], z3.Not(def_j[x]))\n",
    "                for x in range(numFeatures)] + \n",
    "               [z3.Implies(z3.And(def_i[x], def_j[x]),\n",
    "                           val_i[x] != val_j[x]) \n",
    "                for x in range(numFeatures)])"
   ]
  },
  {
   "cell_type": "code",
   "execution_count": 65,
   "id": "05ea4d18-a271-4bd5-9b25-08f00d2d556e",
   "metadata": {
    "execution": {
     "iopub.execute_input": "2022-03-27T10:22:20.745453Z",
     "iopub.status.busy": "2022-03-27T10:22:20.745117Z",
     "iopub.status.idle": "2022-03-27T10:22:20.758755Z",
     "shell.execute_reply": "2022-03-27T10:22:20.758167Z",
     "shell.execute_reply.started": "2022-03-27T10:22:20.745394Z"
    },
    "tags": []
   },
   "outputs": [],
   "source": [
    "def extract_ambiguousObjectSetModel(result, numFeatures, objectSetSize):\n",
    "  solver, model, defineds_obj, valences_obj, inSubset, defined_meet, valence_meet, meet_interp, defined_alt, valence_alt, alt_interp = result\n",
    "  return {\"solver\":solver, \"model\":model, \"defineds_obj\":defineds_obj, \"valences_obj\":valences_obj, \"inSubset\":inSubset, \"defined_meet\":defined_meet, \"valence_meet\":valence_meet, \"meet_interp\":meet_interp, \"defined_alt\":defined_alt, \"valence_alt\":valence_alt, \"alt_interp\":alt_interp}\n",
    "\n",
    "def concretize_ambiguousObjectSetModel(extractedResult, numFeatures, objectSetSize):\n",
    "  model        = extractedResult[\"model\"]\n",
    "  defineds_obj = extractedResult[\"defineds_obj\"]\n",
    "  valences_obj = extractedResult[\"valences_obj\"]\n",
    "  inSubset     = extractedResult[\"inSubset\"]\n",
    "  defined_meet = extractedResult[\"defined_meet\"]\n",
    "  valence_meet = extractedResult[\"valence_meet\"]\n",
    "  meet_interp  = extractedResult[\"meet_interp\"]\n",
    "  defined_alt  = extractedResult[\"defined_alt\"]\n",
    "  valence_alt  = extractedResult[\"valence_alt\"]\n",
    "  alt_interp   = extractedResult[\"alt_interp\"]\n",
    "\n",
    "\n",
    "  objects    = [extractFeatureVectorFromModel(model, defineds_obj[i], valences_obj[i]) for i in range(len(defineds_obj))]\n",
    "  subsetVec  = [model[inSubset[i]]    for i in range(len(inSubset))                 ]\n",
    "  subset     = [objects[i]            for i in range(len(objects)) if subsetVec[i]]\n",
    "  meet       =  extractFeatureVectorFromModel(model, defined_meet   , valence_meet   )\n",
    "  alt        =  extractFeatureVectorFromModel(model, defined_alt    , valence_alt    )\n",
    "  meetInterp = [model[meet_interp[i]] for i in range(len(meet_interp))]\n",
    "  altInterp  = [model[ alt_interp[i]] for i in range(len( alt_interp))]\n",
    "\n",
    "  return {\"objects\":objects, \"subsetVec\":subsetVec, \"subset\":subset, \"meet\":meet, \"alt\":alt, \"meetInterp\":meetInterp, \"altInterp\":altInterp}\n",
    "\n",
    "def report_ambiguousObjectSetModel(concretized_result):\n",
    "  # objects, subsetVec, subset, meet, alt, meetInterp, altInterp = result\n",
    "  objects    = concretized_result[\"objects\"]\n",
    "  subsetVec  = concretized_result[\"subsetVec\"]\n",
    "  subset     = concretized_result[\"subset\"]\n",
    "  meet       = concretized_result[\"meet\"]\n",
    "  alt        = concretized_result[\"alt\"]\n",
    "  meetInterp = concretized_result[\"meetInterp\"]\n",
    "  altInterp  = concretized_result[\"altInterp\"]\n",
    "\n",
    "\n",
    "  print(f\"|objects| = {len(objects)}\")\n",
    "  print(f\"|subset|  = {len(subset)}\")\n",
    "  print('---')\n",
    "  print(f\"subset:\")\n",
    "  for each in subset:\n",
    "    print(each)\n",
    "  print('---')\n",
    "  print(f\"meet vs. alt:\\n{meet}\\n{alt}\")\n",
    "  print(f\"meet interp vs. alt interp:\\n{meetInterp}\\n{altInterp}\")"
   ]
  },
  {
   "cell_type": "code",
   "execution_count": 66,
   "id": "fc5ebdc3-97b7-421b-9761-bf825b2dc9ab",
   "metadata": {
    "execution": {
     "iopub.execute_input": "2022-03-27T10:22:21.657315Z",
     "iopub.status.busy": "2022-03-27T10:22:21.657099Z",
     "iopub.status.idle": "2022-03-27T10:22:21.831502Z",
     "shell.execute_reply": "2022-03-27T10:22:21.831059Z",
     "shell.execute_reply.started": "2022-03-27T10:22:21.657290Z"
    },
    "tags": []
   },
   "outputs": [
    {
     "name": "stdout",
     "output_type": "stream",
     "text": [
      "Model found.\n",
      "|objects| = 10\n",
      "|subset|  = 1\n",
      "---\n",
      "subset:\n",
      "[0 - -]\n",
      "---\n",
      "meet vs. alt:\n",
      "[0 - -]\n",
      "[+ 0 +]\n",
      "meet interp vs. alt interp:\n",
      "[True, False, False, False, False, False, False, False, False, False]\n",
      "[True, False, False, False, False, False, False, False, False, False]\n"
     ]
    }
   ],
   "source": [
    "myNumFeatures   = 3\n",
    "myObjectSetSize = 10\n",
    "\n",
    "ambiguousObjectSet_result0           = findAmbiguousObjectSet(                                                  myNumFeatures, myObjectSetSize)\n",
    "ambiguousObjectSet_result0_namespace = extract_ambiguousObjectSetModel(ambiguousObjectSet_result0             , myNumFeatures, myObjectSetSize)\n",
    "ambiguousObjectSet_result0_concrete  = concretize_ambiguousObjectSetModel(ambiguousObjectSet_result0_namespace, myNumFeatures, myObjectSetSize)\n",
    "report_ambiguousObjectSetModel(ambiguousObjectSet_result0_concrete)\n",
    "\n",
    "# ambiguousObjectSet_result0_models    = all_smt(ambiguousObjectSet_result0_namespace[\"solver\"])\n",
    "# print(f\"|models| = {len(ambiguousObjectSet_result0_models)}\")\n",
    "# for eachModel in ambiguousObjectSet_result0_models:\n",
    "#   namespace          = deepcopy(ambiguousObjectSet_result0_namespace)\n",
    "#   namespace[\"model\"] = eachModel\n",
    "#   concrete           = concretize_ambiguousObjectSetModel(namespace, myNumFeatures, myObjectSetSize)\n",
    "#   report_ambiguousObjectSetModel(concrete)"
   ]
  },
  {
   "cell_type": "code",
   "execution_count": 56,
   "id": "893cb593-e684-4432-b6db-84eebf158ce5",
   "metadata": {
    "execution": {
     "iopub.execute_input": "2022-03-27T09:44:38.061826Z",
     "iopub.status.busy": "2022-03-27T09:44:38.061610Z",
     "iopub.status.idle": "2022-03-27T09:44:38.081076Z",
     "shell.execute_reply": "2022-03-27T09:44:38.080374Z",
     "shell.execute_reply.started": "2022-03-27T09:44:38.061801Z"
    },
    "tags": []
   },
   "outputs": [
    {
     "data": {
      "text/plain": [
       "z3.z3.Solver"
      ]
     },
     "execution_count": 56,
     "metadata": {},
     "output_type": "execute_result"
    }
   ],
   "source": [
    "if nextSolverState.check() == z3.sat:\n",
    "  print(\"Next model found:\")\n",
    "  nextSolverState        = block_current_model(ambiguousObjectSet_result0_namespace[\"solver\"])\n",
    "  nextNamespace          = deepcopy(ambiguousObjectSet_result0_namespace)\n",
    "  nextNamespace[\"model\"] = nextSolverState.model()\n",
    "  concrete               = concretize_ambiguousObjectSetModel(nextNamespace, myNumFeatures, myObjectSetSize)\n",
    "  report_ambiguousObjectSetModel(concrete)"
   ]
  },
  {
   "cell_type": "code",
   "execution_count": 48,
   "id": "2ea94c37-d331-4e98-a5b0-91a8c291a4b4",
   "metadata": {
    "execution": {
     "iopub.execute_input": "2022-03-27T09:33:39.709990Z",
     "iopub.status.busy": "2022-03-27T09:33:39.709366Z",
     "iopub.status.idle": "2022-03-27T09:33:39.778918Z",
     "shell.execute_reply": "2022-03-27T09:33:39.778314Z",
     "shell.execute_reply.started": "2022-03-27T09:33:39.709913Z"
    }
   },
   "outputs": [
    {
     "data": {
      "text/plain": [
       "\u001b[0;31mSignature:\u001b[0m \u001b[0mall_smt\u001b[0m\u001b[0;34m(\u001b[0m\u001b[0ms\u001b[0m\u001b[0;34m)\u001b[0m\u001b[0;34m\u001b[0m\u001b[0;34m\u001b[0m\u001b[0m\n",
       "\u001b[0;31mDocstring:\u001b[0m <no docstring>\n",
       "\u001b[0;31mFile:\u001b[0m      ~/Babel/noble-cactus/<ipython-input-3-f81d737f6aff>\n",
       "\u001b[0;31mType:\u001b[0m      function\n"
      ]
     },
     "metadata": {},
     "output_type": "display_data"
    }
   ],
   "source": [
    "all_smt?"
   ]
  },
  {
   "cell_type": "code",
   "execution_count": null,
   "id": "1a9627c3-5b81-4330-b900-627a57b077fe",
   "metadata": {},
   "outputs": [],
   "source": []
  },
  {
   "cell_type": "code",
   "execution_count": 44,
   "id": "5bd7c950-f1b7-46a2-aee8-9943503e0927",
   "metadata": {
    "execution": {
     "iopub.execute_input": "2022-03-27T08:54:28.315344Z",
     "iopub.status.busy": "2022-03-27T08:54:28.315153Z",
     "iopub.status.idle": "2022-03-27T08:54:28.526631Z",
     "shell.execute_reply": "2022-03-27T08:54:28.525970Z",
     "shell.execute_reply.started": "2022-03-27T08:54:28.315321Z"
    },
    "tags": []
   },
   "outputs": [
    {
     "name": "stdout",
     "output_type": "stream",
     "text": [
      "Model found.\n",
      "|objects| = 10\n",
      "|subset|  = 1\n",
      "---\n",
      "subset:\n",
      "[- + 0 0]\n",
      "---\n",
      "meet vs. alt:\n",
      "[- + 0 0]\n",
      "[0 - 0 0]\n",
      "meet interp vs. alt interp:\n",
      "[True, False, False, False, False, False, False, False, False, False]\n",
      "[True, False, False, False, False, False, False, False, False, False]\n"
     ]
    }
   ],
   "source": [
    "myNumFeatures   = 3\n",
    "myObjectSetSize = 10\n",
    "\n",
    "mySolver, myModel, myDefineds_obj, myValences_obj, myInSubset, myDefined_meet, myValence_meet, myMeet_interp, myDefined_alt, myValence_alt, myAlt_interp = findAmbiguousObjectSet(myNumFeatures, myObjectSetSize)\n",
    "\n",
    "def extract_ambiguousObjectSetModel(result, numFeatures, objectSetSize):\n",
    "  solver, model, defineds_obj, valences_obj, inSubset, defined_meet, valence_meet, meet_interp, defined_alt, valence_alt, alt_interp = result\n",
    "  \n",
    "  myObjects    = [extractFeatureVectorFromModel(myModel, myDefineds_obj[i], myValences_obj[i]) for i in range(len(myDefineds_obj))]\n",
    "  mySubsetVec  = [myModel[myInSubset[i]]    for i in range(len(myInSubset))                 ]\n",
    "  mySubset     = [myObjects[i]              for i in range(len(myObjects)) if mySubsetVec[i]]\n",
    "  myMeet       =  extractFeatureVectorFromModel(myModel, myDefined_meet   , myValence_meet   )\n",
    "  myAlt        =  extractFeatureVectorFromModel(myModel, myDefined_alt    , myValence_alt    )\n",
    "  myMeetInterp = [myModel[myMeet_interp[i]] for i in range(len(myMeet_interp))]\n",
    "  myAltInterp  = [myModel[ myAlt_interp[i]] for i in range(len( myAlt_interp))]\n",
    "\n",
    "myObjects    = [extractFeatureVectorFromModel(myModel, myDefineds_obj[i], myValences_obj[i]) for i in range(len(myDefineds_obj))]\n",
    "mySubsetVec  = [myModel[myInSubset[i]]    for i in range(len(myInSubset))                 ]\n",
    "mySubset     = [myObjects[i]              for i in range(len(myObjects)) if mySubsetVec[i]]\n",
    "myMeet       =  extractFeatureVectorFromModel(myModel, myDefined_meet   , myValence_meet   )\n",
    "myAlt        =  extractFeatureVectorFromModel(myModel, myDefined_alt    , myValence_alt    )\n",
    "myMeetInterp = [myModel[myMeet_interp[i]] for i in range(len(myMeet_interp))]\n",
    "myAltInterp  = [myModel[ myAlt_interp[i]] for i in range(len( myAlt_interp))]\n",
    "\n",
    "print(f\"|objects| = {len(myObjects)}\")\n",
    "print(f\"|subset|  = {len(mySubset)}\")\n",
    "print('---')\n",
    "print(f\"subset:\")\n",
    "for each in mySubset:\n",
    "  print(each)\n",
    "print('---')\n",
    "print(f\"meet vs. alt:\\n{myMeet}\\n{myAlt}\")\n",
    "print(f\"meet interp vs. alt interp:\\n{myMeetInterp}\\n{myAltInterp}\")"
   ]
  },
  {
   "cell_type": "code",
   "execution_count": 77,
   "id": "a1f3f8e6-3c0c-4a6a-8829-d74bbd82a5b8",
   "metadata": {
    "execution": {
     "iopub.execute_input": "2022-03-27T07:17:30.399047Z",
     "iopub.status.busy": "2022-03-27T07:17:30.398819Z",
     "iopub.status.idle": "2022-03-27T07:17:30.593510Z",
     "shell.execute_reply": "2022-03-27T07:17:30.592906Z",
     "shell.execute_reply.started": "2022-03-27T07:17:30.399022Z"
    },
    "tags": []
   },
   "outputs": [
    {
     "name": "stdout",
     "output_type": "stream",
     "text": [
      "Model found.\n"
     ]
    },
    {
     "data": {
      "text/plain": [
       "([Or(True,\n",
       "     And(obj_0_def_0, Not(obj_0_def_0)),\n",
       "     And(obj_0_def_1, Not(obj_0_def_1)),\n",
       "     And(obj_0_def_2, Not(obj_0_def_2)),\n",
       "     Implies(And(obj_0_def_0, obj_0_def_0),\n",
       "             obj_0_val_0 != obj_0_val_0),\n",
       "     Implies(And(obj_0_def_1, obj_0_def_1),\n",
       "             obj_0_val_1 != obj_0_val_1),\n",
       "     Implies(And(obj_0_def_2, obj_0_def_2),\n",
       "             obj_0_val_2 != obj_0_val_2)),\n",
       "  Or(False,\n",
       "     And(obj_0_def_0, Not(obj_1_def_0)),\n",
       "     And(obj_0_def_1, Not(obj_1_def_1)),\n",
       "     And(obj_0_def_2, Not(obj_1_def_2)),\n",
       "     Implies(And(obj_0_def_0, obj_1_def_0),\n",
       "             obj_0_val_0 != obj_1_val_0),\n",
       "     Implies(And(obj_0_def_1, obj_1_def_1),\n",
       "             obj_0_val_1 != obj_1_val_1),\n",
       "     Implies(And(obj_0_def_2, obj_1_def_2),\n",
       "             obj_0_val_2 != obj_1_val_2)),\n",
       "  Or(False,\n",
       "     And(obj_1_def_0, Not(obj_0_def_0)),\n",
       "     And(obj_1_def_1, Not(obj_0_def_1)),\n",
       "     And(obj_1_def_2, Not(obj_0_def_2)),\n",
       "     Implies(And(obj_1_def_0, obj_0_def_0),\n",
       "             obj_1_val_0 != obj_0_val_0),\n",
       "     Implies(And(obj_1_def_1, obj_0_def_1),\n",
       "             obj_1_val_1 != obj_0_val_1),\n",
       "     Implies(And(obj_1_def_2, obj_0_def_2),\n",
       "             obj_1_val_2 != obj_0_val_2)),\n",
       "  Or(True,\n",
       "     And(obj_1_def_0, Not(obj_1_def_0)),\n",
       "     And(obj_1_def_1, Not(obj_1_def_1)),\n",
       "     And(obj_1_def_2, Not(obj_1_def_2)),\n",
       "     Implies(And(obj_1_def_0, obj_1_def_0),\n",
       "             obj_1_val_0 != obj_1_val_0),\n",
       "     Implies(And(obj_1_def_1, obj_1_def_1),\n",
       "             obj_1_val_1 != obj_1_val_1),\n",
       "     Implies(And(obj_1_def_2, obj_1_def_2),\n",
       "             obj_1_val_2 != obj_1_val_2)),\n",
       "  And(Implies(And(Implies(inSubset_0,\n",
       "                          And(obj_0_def_0, obj_0_val_0)),\n",
       "                  Implies(inSubset_1,\n",
       "                          And(obj_1_def_0, obj_1_val_0))),\n",
       "              And(meet_def_0, meet_val_0)),\n",
       "      Implies(And(Implies(inSubset_0,\n",
       "                          And(obj_0_def_1, obj_0_val_1)),\n",
       "                  Implies(inSubset_1,\n",
       "                          And(obj_1_def_1, obj_1_val_1))),\n",
       "              And(meet_def_1, meet_val_1)),\n",
       "      Implies(And(Implies(inSubset_0,\n",
       "                          And(obj_0_def_2, obj_0_val_2)),\n",
       "                  Implies(inSubset_1,\n",
       "                          And(obj_1_def_2, obj_1_val_2))),\n",
       "              And(meet_def_2, meet_val_2)),\n",
       "      Implies(And(Implies(inSubset_0,\n",
       "                          And(obj_0_def_0, Not(obj_0_val_0))),\n",
       "                  Implies(inSubset_1,\n",
       "                          And(obj_1_def_0, Not(obj_1_val_0)))),\n",
       "              And(meet_def_0, Not(meet_val_0))),\n",
       "      Implies(And(Implies(inSubset_0,\n",
       "                          And(obj_0_def_1, Not(obj_0_val_1))),\n",
       "                  Implies(inSubset_1,\n",
       "                          And(obj_1_def_1, Not(obj_1_val_1)))),\n",
       "              And(meet_def_1, Not(meet_val_1))),\n",
       "      Implies(And(Implies(inSubset_0,\n",
       "                          And(obj_0_def_2, Not(obj_0_val_2))),\n",
       "                  Implies(inSubset_1,\n",
       "                          And(obj_1_def_2, Not(obj_1_val_2)))),\n",
       "              And(meet_def_2, Not(meet_val_2)))),\n",
       "  And(meet_interp_0 ==\n",
       "      And(Or(And(meet_def_0,\n",
       "                 obj_0_def_0,\n",
       "                 meet_val_0 == obj_0_val_0),\n",
       "             And(Not(meet_def_0), Not(obj_0_def_0)),\n",
       "             And(Not(meet_def_0), obj_0_def_0)),\n",
       "          Or(And(meet_def_1,\n",
       "                 obj_0_def_1,\n",
       "                 meet_val_1 == obj_0_val_1),\n",
       "             And(Not(meet_def_1), Not(obj_0_def_1)),\n",
       "             And(Not(meet_def_1), obj_0_def_1)),\n",
       "          Or(And(meet_def_2,\n",
       "                 obj_0_def_2,\n",
       "                 meet_val_2 == obj_0_val_2),\n",
       "             And(Not(meet_def_2), Not(obj_0_def_2)),\n",
       "             And(Not(meet_def_2), obj_0_def_2))),\n",
       "      meet_interp_1 ==\n",
       "      And(Or(And(meet_def_0,\n",
       "                 obj_1_def_0,\n",
       "                 meet_val_0 == obj_1_val_0),\n",
       "             And(Not(meet_def_0), Not(obj_1_def_0)),\n",
       "             And(Not(meet_def_0), obj_1_def_0)),\n",
       "          Or(And(meet_def_1,\n",
       "                 obj_1_def_1,\n",
       "                 meet_val_1 == obj_1_val_1),\n",
       "             And(Not(meet_def_1), Not(obj_1_def_1)),\n",
       "             And(Not(meet_def_1), obj_1_def_1)),\n",
       "          Or(And(meet_def_2,\n",
       "                 obj_1_def_2,\n",
       "                 meet_val_2 == obj_1_val_2),\n",
       "             And(Not(meet_def_2), Not(obj_1_def_2)),\n",
       "             And(Not(meet_def_2), obj_1_def_2)))),\n",
       "  Not(And(And(meet_def_0 == alt_def_0,\n",
       "              Implies(meet_def_0, meet_val_0 == meet_val_0),\n",
       "              Implies(alt_def_0, meet_val_0 == meet_val_0)),\n",
       "          And(meet_def_1 == alt_def_1,\n",
       "              Implies(meet_def_1, meet_val_1 == meet_val_1),\n",
       "              Implies(alt_def_1, meet_val_1 == meet_val_1)),\n",
       "          And(meet_def_2 == alt_def_2,\n",
       "              Implies(meet_def_2, meet_val_2 == meet_val_2),\n",
       "              Implies(alt_def_2, meet_val_2 == meet_val_2)))),\n",
       "  And(meet_interp_0 == alt_interp_0,\n",
       "      meet_interp_1 == alt_interp_1)],\n",
       " [alt_def_0 = False,\n",
       "  obj_0_val_2 = False,\n",
       "  obj_0_val_0 = False,\n",
       "  obj_0_def_1 = True,\n",
       "  meet_val_2 = False,\n",
       "  meet_def_2 = False,\n",
       "  obj_0_val_1 = True,\n",
       "  alt_interp_1 = False,\n",
       "  obj_1_val_1 = False,\n",
       "  meet_val_0 = False,\n",
       "  inSubset_0 = False,\n",
       "  alt_def_2 = False,\n",
       "  obj_0_def_0 = False,\n",
       "  inSubset_1 = True,\n",
       "  obj_1_def_0 = False,\n",
       "  obj_0_def_2 = False,\n",
       "  obj_1_val_0 = False,\n",
       "  meet_def_1 = True,\n",
       "  alt_interp_0 = False,\n",
       "  obj_1_val_2 = False,\n",
       "  meet_val_1 = False,\n",
       "  alt_def_1 = False,\n",
       "  obj_1_def_1 = False,\n",
       "  meet_def_0 = True,\n",
       "  meet_interp_1 = False,\n",
       "  meet_interp_0 = False,\n",
       "  obj_1_def_2 = False],\n",
       " [[obj_0_def_0, obj_0_def_1, obj_0_def_2],\n",
       "  [obj_1_def_0, obj_1_def_1, obj_1_def_2]],\n",
       " [[obj_0_val_0, obj_0_val_1, obj_0_val_2],\n",
       "  [obj_1_val_0, obj_1_val_1, obj_1_val_2]],\n",
       " [inSubset_0, inSubset_1],\n",
       " [meet_def_0, meet_def_1, meet_def_2],\n",
       " [meet_val_0, meet_val_1, meet_val_2],\n",
       " [meet_interp_0, meet_interp_1],\n",
       " [alt_def_0, alt_def_1, alt_def_2],\n",
       " [alt_val_0, alt_val_1, alt_val_2],\n",
       " [alt_interp_0, alt_interp_1])"
      ]
     },
     "execution_count": 77,
     "metadata": {},
     "output_type": "execute_result"
    }
   ],
   "source": [
    "findAmbiguousObjectSet(3,2)"
   ]
  },
  {
   "cell_type": "code",
   "execution_count": 48,
   "id": "c79f2cae-0b39-4568-8cde-f44dcd3cd24e",
   "metadata": {
    "execution": {
     "iopub.execute_input": "2022-03-27T03:50:55.711004Z",
     "iopub.status.busy": "2022-03-27T03:50:55.710789Z",
     "iopub.status.idle": "2022-03-27T03:50:55.721499Z",
     "shell.execute_reply": "2022-03-27T03:50:55.720951Z",
     "shell.execute_reply.started": "2022-03-27T03:50:55.710980Z"
    },
    "tags": []
   },
   "outputs": [],
   "source": [
    "def naturalClassesFor_euf_bcc(featureVectors, sortedObjectVectors, solver=None):\n",
    "  if solver is None:\n",
    "    solver = z3.Solver()\n",
    "  \n",
    "  # Setting this to true changes how z3 solves the boolean cardinality constraints further below\n",
    "  # See the reference link for more information.\n",
    "  #\n",
    "  # Default value of this is false; I'm not sure, but I weakly expect that when this is false,\n",
    "  # the underlying constraints are the same more or less as what I describe above.\n",
    "  # In any case this function will work either way.\n",
    "  solver.set(\"sat.cardinality.solver\", True) \n",
    "  \n",
    "  data = tuple(sorted(featureVectors, key=FeatureVector.sortKey))\n",
    "  M    = len(data[0])\n",
    "\n",
    "  \n",
    "  # Calculate the meet and the properties of it that we need to find better solutions or show none \n",
    "  # exist\n",
    "  meet       = grandFoldl(FeatureVector.meet)(data)\n",
    "  # The meet has the best denotation we can get.\n",
    "  # (\"Denotation\" here is a boolean tuple, one per object in sortedObjectVectors.) \n",
    "  bestInterp = FeatureVector.interpretation(meet, sortedObjectVectors)\n",
    "  # The meet is the most verbose (most specified) feature vector with the denotation that it has.\n",
    "  # ('spec(meet)' = number of specified features in meet.)\n",
    "  worstSpec  = FeatureVector.spec(meet)\n",
    "  \n",
    "  \n",
    "  # Now find a feature vector with the same interpretation but no worse of a spec\n",
    "  defined = [z3.Bool(f\"def_{i}\") for i in range(M)]\n",
    "  valence = [z3.Bool(f\"val_{i}\") for i in range(M)]\n",
    "  \n",
    "  # Enforce same interpretation constraint\n",
    "  for (v,b) in zip(sortedObjectVectors, bestInterp):\n",
    "    if b:\n",
    "      solver.add(describes_euf(defined, valence, v))\n",
    "    else:\n",
    "      solver.add(z3.Not(describes_euf(defined, valence, v)))\n",
    "  \n",
    "  # Search for a model with a spec starting from 0 and ascending towards the spec of the meet\n",
    "  models = []\n",
    "  for maxNumDefinedFeatures in range(worstSpec + 1):\n",
    "    solver.push()\n",
    "    print(showVal(\"maxNumDefinedFeatures\", f\"{maxNumDefinedFeatures}\"))\n",
    "    solver.add(z3.AtMost(*defined, maxNumDefinedFeatures))\n",
    "    \n",
    "    if solver.check() == z3.sat:\n",
    "      m = solver.model()\n",
    "#       models.append(deepcopy(m))\n",
    "      models.append(m)\n",
    "      print(\"Found model.\")\n",
    "      #print(m)\n",
    "      block_current_model(s)\n",
    "      #return solver, models, defined, valence\n",
    "    \n",
    "    solver.pop()\n",
    "  \n",
    "  if len(models) == 0:\n",
    "    print(\"No model (not even the trivial meet of the zero vector?!) found!\") \n",
    "    return solver\n",
    "  else:\n",
    "    return solver, models, defined, valence\n",
    "  \n",
    "#   #Here we're exploiting properties that the meet has (maximality, uniqueness) in order to search \n",
    "#   # for it in part because this is a common manual form of optimizing integer variables in z3.\n",
    "#   # It would be better to just define it / embed a direct calculation in its definition.\n",
    "#   for minNumDefinedFeatures in range(M, -1, -1):\n",
    "#     solver.push()\n",
    "#     print(showVal(\"minNumDefinedFeatures\", f\"{minNumDefinedFeatures}\"))\n",
    "#     solver.add(z3.AtLeast(*defined, minNumDefinedFeatures))\n",
    "  \n",
    "#     if solver.check() == z3.sat:\n",
    "#       print(\"Found model.\")\n",
    "#       m = solver.model()\n",
    "#       return solver, m, defined, valence\n",
    "    \n",
    "#     solver.pop()\n",
    "#   print(\"No model found.\")\n",
    "#   return solver\n",
    "  \n",
    "\n",
    "def describes_euf(defined, valence, featureVector):\n",
    "  # \\forall i, defined[i] -> valence[i] == featureVector.value[i].valence()\n",
    "  return z3.And([z3.Or([z3.Not(d), v == x.valence()])\n",
    "                 for d,v,x in zip(defined, valence, featureVector.value)])\n",
    "\n",
    "# def extractFeatureVectorFromModel_asBooleans(model, defined, valence):\n",
    "#   return (tuple(model[defined[i]] for i in range(len(defined))),\n",
    "#           tuple(model[valence[i]] for i in range(len(valence))))\n",
    "\n",
    "# def extractFeatureVectorFromModel(model, defined, valence):\n",
    "#   concrete_defined, concrete_valence = extractFeatureVectorFromModel_asBooleans(model, defined, valence)\n",
    "#   return FeatureVector.fromBooleans(concrete_defined, concrete_valence)"
   ]
  },
  {
   "cell_type": "code",
   "execution_count": 49,
   "id": "1e1d5213-159c-42e4-b46a-f3859ff2043e",
   "metadata": {
    "execution": {
     "iopub.execute_input": "2022-03-27T03:50:56.576143Z",
     "iopub.status.busy": "2022-03-27T03:50:56.575839Z",
     "iopub.status.idle": "2022-03-27T03:50:56.580580Z",
     "shell.execute_reply": "2022-03-27T03:50:56.579936Z",
     "shell.execute_reply.started": "2022-03-27T03:50:56.576106Z"
    },
    "tags": []
   },
   "outputs": [
    {
     "name": "stdout",
     "output_type": "stream",
     "text": [
      "[+ - - - 0 - + - + 0]\n",
      "[0 0 0 0 0 - + - - -]\n",
      "[- - - + + + + - - 0]\n",
      "[- 0 - + - + + - 0 +]\n",
      "[0 + + + 0 0 + - 0 0]\n",
      "[+ + - 0 + - + - + 0]\n",
      "[0 0 - 0 + - + - 0 0]\n",
      "[+ - + + + + + - - -]\n"
     ]
    }
   ],
   "source": [
    "for each in S:\n",
    "  print(each)"
   ]
  },
  {
   "cell_type": "code",
   "execution_count": 50,
   "id": "37f885ee-f726-44d5-b54d-419bced56fe6",
   "metadata": {
    "execution": {
     "iopub.execute_input": "2022-03-27T03:50:57.221856Z",
     "iopub.status.busy": "2022-03-27T03:50:57.221217Z",
     "iopub.status.idle": "2022-03-27T03:50:57.384654Z",
     "shell.execute_reply": "2022-03-27T03:50:57.384219Z",
     "shell.execute_reply.started": "2022-03-27T03:50:57.221777Z"
    },
    "tags": []
   },
   "outputs": [
    {
     "name": "stdout",
     "output_type": "stream",
     "text": [
      "maxNumDefinedFeatures = 0\n",
      "maxNumDefinedFeatures = 1\n",
      "maxNumDefinedFeatures = 2\n",
      "Found model.\n",
      "[0 0 0 0 0 0 + - 0 0]\n"
     ]
    }
   ],
   "source": [
    "solver_NC_EUF_BCC, models_NC_EUF_BCC, def_NC_EUF_BCC, val_NC_EUF_BCC = naturalClassFor_euf_bcc(S, O)\n",
    "\n",
    "print(extractFeatureVectorFromModel(models_NC_EUF_BCC[0], def_NC_EUF_BCC, val_NC_EUF_BCC))\n",
    "\n",
    "#models_NC_EUF_BCC"
   ]
  },
  {
   "cell_type": "code",
   "execution_count": 34,
   "id": "1aa084d0-bcd4-4af0-9bd4-75d99233cb6f",
   "metadata": {
    "execution": {
     "iopub.execute_input": "2022-03-27T03:24:51.555734Z",
     "iopub.status.busy": "2022-03-27T03:24:51.555545Z",
     "iopub.status.idle": "2022-03-27T03:24:51.609813Z",
     "shell.execute_reply": "2022-03-27T03:24:51.609367Z",
     "shell.execute_reply.started": "2022-03-27T03:24:51.555712Z"
    },
    "tags": []
   },
   "outputs": [
    {
     "name": "stdout",
     "output_type": "stream",
     "text": [
      "maxNumDefinedFeatures = 0\n",
      "maxNumDefinedFeatures = 1\n",
      "Found model.\n"
     ]
    },
    {
     "data": {
      "text/plain": [
       "([Not(And(Or(Not(def_0), False),\n",
       "          Or(Not(def_1), False),\n",
       "          Or(Not(def_2), False))),\n",
       "  And(Or(Not(def_0), False),\n",
       "      Or(Not(def_1), val_1 == True),\n",
       "      Or(Not(def_2), False)),\n",
       "  Not(And(Or(Not(def_0), False),\n",
       "          Or(Not(def_1), False),\n",
       "          Or(Not(def_2), val_2 == True))),\n",
       "  Not(And(Or(Not(def_0), False),\n",
       "          Or(Not(def_1), val_1 == False),\n",
       "          Or(Not(def_2), val_2 == False))),\n",
       "  Not(And(Or(Not(def_0), val_0 == True),\n",
       "          Or(Not(def_1), False),\n",
       "          Or(Not(def_2), val_2 == True))),\n",
       "  And(Or(Not(def_0), val_0 == True),\n",
       "      Or(Not(def_1), val_1 == True),\n",
       "      Or(Not(def_2), False)),\n",
       "  Not(And(Or(Not(def_0), False),\n",
       "          Or(Not(def_1), val_1 == False),\n",
       "          Or(Not(def_2), val_2 == True))),\n",
       "  Not(And(Or(Not(def_0), val_0 == True),\n",
       "          Or(Not(def_1), val_1 == False),\n",
       "          Or(Not(def_2), False))),\n",
       "  Not(And(Or(Not(def_0), val_0 == False),\n",
       "          Or(Not(def_1), False),\n",
       "          Or(Not(def_2), val_2 == False))),\n",
       "  Not(And(Or(Not(def_0), val_0 == False),\n",
       "          Or(Not(def_1), val_1 == False),\n",
       "          Or(Not(def_2), False))),\n",
       "  And(Or(Not(def_0), val_0 == False),\n",
       "      Or(Not(def_1), val_1 == True),\n",
       "      Or(Not(def_2), False)),\n",
       "  And(Or(Not(def_0), False),\n",
       "      Or(Not(def_1), val_1 == True),\n",
       "      Or(Not(def_2), val_2 == False)),\n",
       "  And(Or(Not(def_0), val_0 == False),\n",
       "      Or(Not(def_1), val_1 == True),\n",
       "      Or(Not(def_2), val_2 == True)),\n",
       "  Not(And(Or(Not(def_0), val_0 == True),\n",
       "          Or(Not(def_1), val_1 == False),\n",
       "          Or(Not(def_2), val_2 == True))),\n",
       "  Not(And(Or(Not(def_0), val_0 == False),\n",
       "          Or(Not(def_1), val_1 == False),\n",
       "          Or(Not(def_2), val_2 == True))),\n",
       "  And(Or(Not(def_0), val_0 == True),\n",
       "      Or(Not(def_1), val_1 == True),\n",
       "      Or(Not(def_2), val_2 == False)),\n",
       "  And(Or(Not(def_0), val_0 == True),\n",
       "      Or(Not(def_1), val_1 == True),\n",
       "      Or(Not(def_2), val_2 == True)),\n",
       "  AtMost((def_0, def_1, def_2), 1)],\n",
       " [[def_0 = False, def_1 = True, def_2 = False, val_1 = True]],\n",
       " [def_0, def_1, def_2],\n",
       " [val_0, val_1, val_2])"
      ]
     },
     "execution_count": 34,
     "metadata": {},
     "output_type": "execute_result"
    }
   ],
   "source": [
    "naturalClassFor_euf_bcc(S, O)"
   ]
  },
  {
   "cell_type": "code",
   "execution_count": 95,
   "id": "8501e869-1c1c-4669-a15c-0129258dca1c",
   "metadata": {
    "execution": {
     "iopub.execute_input": "2022-03-26T23:20:28.954967Z",
     "iopub.status.busy": "2022-03-26T23:20:28.954767Z",
     "iopub.status.idle": "2022-03-26T23:20:28.976217Z",
     "shell.execute_reply": "2022-03-26T23:20:28.975350Z",
     "shell.execute_reply.started": "2022-03-26T23:20:28.954943Z"
    },
    "tags": []
   },
   "outputs": [
    {
     "name": "stdout",
     "output_type": "stream",
     "text": [
      "minNumDefinedFeatures = 3\n",
      "minNumDefinedFeatures = 2\n",
      "minNumDefinedFeatures = 1\n",
      "Found model.\n"
     ]
    },
    {
     "data": {
      "text/plain": [
       "([And(Or(Not(def_0), val_0 == True),\n",
       "      Or(Not(def_1), val_1 == True),\n",
       "      Or(Not(def_2), val_2 == False)),\n",
       "  And(Or(Not(def_0), val_0 == False),\n",
       "      Or(Not(def_1), val_1 == True),\n",
       "      Or(Not(def_2), val_2 == False)),\n",
       "  And(Or(Not(def_0), val_0 == True),\n",
       "      Or(Not(def_1), val_1 == True),\n",
       "      Or(Not(def_2), val_2 == True)),\n",
       "  at-least(def_0, def_1, def_2)],\n",
       " [def_0 = False, val_1 = True, def_1 = True, def_2 = False],\n",
       " [def_0, def_1, def_2],\n",
       " [val_0, val_1, val_2])"
      ]
     },
     "execution_count": 95,
     "metadata": {},
     "output_type": "execute_result"
    }
   ],
   "source": [
    "naturalClassFor_euf_bcc(S)"
   ]
  },
  {
   "cell_type": "code",
   "execution_count": 94,
   "id": "61960c90-d2c9-4129-b16d-e4cb508b8279",
   "metadata": {
    "execution": {
     "iopub.execute_input": "2022-03-26T23:20:13.373956Z",
     "iopub.status.busy": "2022-03-26T23:20:13.373249Z",
     "iopub.status.idle": "2022-03-26T23:20:13.401560Z",
     "shell.execute_reply": "2022-03-26T23:20:13.401057Z",
     "shell.execute_reply.started": "2022-03-26T23:20:13.373876Z"
    },
    "tags": []
   },
   "outputs": [
    {
     "name": "stdout",
     "output_type": "stream",
     "text": [
      "minNumDefinedFeatures = 3\n",
      "minNumDefinedFeatures = 2\n",
      "minNumDefinedFeatures = 1\n",
      "Found model.\n"
     ]
    },
    {
     "data": {
      "text/plain": [
       "[def_0, val_1, def_1, def_2]"
      ]
     },
     "execution_count": 94,
     "metadata": {},
     "output_type": "execute_result"
    },
    {
     "data": {
      "text/html": [
       "[def_0 = False, val_1 = True, def_1 = True, def_2 = False]"
      ],
      "text/plain": [
       "[def_0 = False, val_1 = True, def_1 = True, def_2 = False]"
      ]
     },
     "execution_count": 94,
     "metadata": {},
     "output_type": "execute_result"
    },
    {
     "data": {
      "text/plain": [
       "'---'"
      ]
     },
     "execution_count": 94,
     "metadata": {},
     "output_type": "execute_result"
    },
    {
     "data": {
      "text/plain": [
       "((False, True, False), (None, True, None))"
      ]
     },
     "execution_count": 94,
     "metadata": {},
     "output_type": "execute_result"
    }
   ],
   "source": [
    "solver_NC_EUF_BCC, models_NC_EUF_BCC, def_NC_EUF_BCC, val_NC_EUF_BCC = naturalClassFor_euf_bcc(S)\n",
    "\n",
    "models_NC_EUF_BCC[0].decls()\n",
    "# models_NC_EUF_BCC\n",
    "\n",
    "\n",
    "'---'\n",
    "concrete_def_NC_EUF_BCC = tuple([model_NC_EUF_BCC[def_NC_EUF_BCC[i]] for i in range(len(def_NC_EUF_BCC))])\n",
    "concrete_val_NC_EUF_BCC = tuple([model_NC_EUF_BCC[val_NC_EUF_BCC[i]] for i in range(len(val_NC_EUF_BCC))])\n",
    "concrete_def_NC_EUF_BCC, concrete_val_NC_EUF_BCC"
   ]
  },
  {
   "cell_type": "markdown",
   "id": "0c57a59a-9268-4e0b-b592-54376a405fe9",
   "metadata": {},
   "source": [
    "Success!"
   ]
  },
  {
   "cell_type": "markdown",
   "id": "9ccf108a-da22-4bb5-b1dd-8084f69c2e66",
   "metadata": {},
   "source": [
    "## Bitvectors"
   ]
  },
  {
   "cell_type": "markdown",
   "id": "2067b2a1-babf-47b2-a3ed-18844c374c5a",
   "metadata": {},
   "source": [
    "See [this](http://theory.stanford.edu/~nikolaj/programmingz3.html#sec-bit-vectors) for more on the theory of bitvectors in z3."
   ]
  },
  {
   "cell_type": "markdown",
   "id": "335d0fc4-2520-48df-83fe-232775c73f3c",
   "metadata": {},
   "source": [
    "As a representation, \n",
    " 1. Bitvectors are a bit of a ball-of-mud datatype that can be easier to work with and manipulate than encodings using alternative theories or combinations of them.\n",
    " 2. Solving sets of constraints on them (compared to say, using the more general theory of arrays) may be more effective or easier to make efficient."
   ]
  },
  {
   "cell_type": "code",
   "execution_count": null,
   "id": "447f2545-a112-4efb-a5a4-838eb98a45b5",
   "metadata": {},
   "outputs": [],
   "source": [
    "def naturalClassFor_bv(featureVectors, solver=None):\n",
    "  if solver is None:\n",
    "    solver = z3.Solver()\n",
    "  \n",
    "  data = tuple(sorted(featureVectors, key=FeatureVector.sortKey))\n",
    "  M    = len(data[0])\n",
    "  \n",
    "  defined = z3.BitVec('def', M)\n",
    "  valence = z3.BitVec('val', M)\n",
    "  \n",
    "  for datum in data:\n",
    "    datumDefined, datumValence = datum.toBools(zeroValue=False)\n",
    "    solver.add(~defined | (valence == datumValence) ) #how can/will z3 compare a symbolic bitvector to a list of Booleans?\n",
    "#     solver.add(describes_bv(defined, valence, datum))\n",
    "  \n",
    "  for minNumDefinedFeatures in range(M, -1, -1):\n",
    "    solver.push()\n",
    "    print(showVal(\"minNumDefinedFeatures\", f\"{minNumDefinedFeatures}\"))\n",
    "    \n",
    "    solver.add(z3.AtLeast(*defined, minNumDefinedFeatures))\n",
    "  \n",
    "    if solver.check() == z3.sat:\n",
    "      print(\"Found model.\")\n",
    "      m = solver.model()\n",
    "      return solver, m, defined, valence\n",
    "    \n",
    "    solver.pop()\n",
    "  print(\"No model found.\")\n",
    "  return solver\n",
    "  \n",
    "\n",
    "# Witness the ball-of-mud-ness of bitvectors in action:\n",
    "# Suppose we have a length 3 bit vector m = 101. The expression\n",
    "#   m >>> 1\n",
    "# denotes the bitvector \n",
    "#   010\n",
    "# that results from shifting the values of m 1 place rightward (\"(logical, as opposed to arithmetic)\n",
    "# bitshift right\"), with the rightmost value of m (i.e. the least significant bit, here the \n",
    "# rightmost \"1\" in \"101\") \"falling off\" and the leftmost value of m being replaced by a 0. \n",
    "#\n",
    "# Significance:\n",
    "# If we want to check if the ith bit of m is a 1, we can take the elementwise `and` of the m-length \n",
    "# bitvector corresponding to the unsigned integer for 1 with `m >>> i`:\n",
    "#   isIthBitofMaOne = (m >>> i) & 1\n",
    "# (Yes, we are taking advantage of the ability to cast bit vectors to other types.)\n",
    "#\n",
    "# Takeaway:\n",
    "# We can extend this to use in z3 by creating m m-length bitvectors (each representing information\n",
    "# about one of the m indices of our symbolic bit vector) and then a final one representing their \n",
    "# sum.\n",
    "def countOnesInSymbolicBV(M: int, symbolicBitVector, solver):\n",
    "  v, s             = symbolicBitVector, solver\n",
    "  prefix           = f\"{hash(hash(M), hash(symbolicBitVector), hash(solver))}\"\n",
    "  counts           = [z3.BitVec(f'{prefix}_{i}') for i in range(M)]\n",
    "  countConstraints = z3.And([counts[i] == z3.LShR(v, i) & 1 for i in range(M)])\n",
    "  sumOfCounts      = z3.BitVec(f'{prefix}_f')\n",
    "  sumConstraint    = sumOfCounts == z3.Sum(counts)\n",
    "  \n",
    "  s.add(countConstraints)\n",
    "  s.add(sumConstraint)\n",
    "  \n",
    "  if s.check() == z3.sat:\n",
    "    return s, m, counts, sumOfCounts\n",
    "  print(\"No model found(!) for counting 1s...\")\n",
    "  return None\n",
    "    \n",
    "\n",
    "def describes_bv(defined, valence, featureVector):\n",
    "  # \\forall i, defined[i] -> valence[i] == featureVector.value[i].valence()\n",
    "#   return z3. #FIXME\n",
    "  return z3.And([z3.Or([z3.Not(d), v == x.valence()])\n",
    "                 for d,v,x in zip(defined, valence, featureVector.value)])\n"
   ]
  },
  {
   "cell_type": "code",
   "execution_count": 97,
   "id": "9091844c-3dfa-4cb2-badf-bfbbe35eecc9",
   "metadata": {
    "execution": {
     "iopub.execute_input": "2022-03-26T23:41:24.824805Z",
     "iopub.status.busy": "2022-03-26T23:41:24.824511Z",
     "iopub.status.idle": "2022-03-26T23:41:24.829814Z",
     "shell.execute_reply": "2022-03-26T23:41:24.829141Z",
     "shell.execute_reply.started": "2022-03-26T23:41:24.824769Z"
    },
    "tags": []
   },
   "outputs": [
    {
     "data": {
      "text/plain": [
       "\u001b[0;31mSignature:\u001b[0m \u001b[0mz3\u001b[0m\u001b[0;34m.\u001b[0m\u001b[0mSum\u001b[0m\u001b[0;34m(\u001b[0m\u001b[0;34m*\u001b[0m\u001b[0margs\u001b[0m\u001b[0;34m)\u001b[0m\u001b[0;34m\u001b[0m\u001b[0;34m\u001b[0m\u001b[0m\n",
       "\u001b[0;31mDocstring:\u001b[0m\n",
       "Create the sum of the Z3 expressions.\n",
       "\n",
       ">>> a, b, c = Ints('a b c')\n",
       ">>> Sum(a, b, c)\n",
       "a + b + c\n",
       ">>> Sum([a, b, c])\n",
       "a + b + c\n",
       ">>> A = IntVector('a', 5)\n",
       ">>> Sum(A)\n",
       "a__0 + a__1 + a__2 + a__3 + a__4\n",
       "\u001b[0;31mFile:\u001b[0m      /nix/store/ymqg9qkhmqcqvjjm1kw3n6clsf2s4gym-python3-3.8.9-env/lib/python3.8/site-packages/z3/z3.py\n",
       "\u001b[0;31mType:\u001b[0m      function\n"
      ]
     },
     "metadata": {},
     "output_type": "display_data"
    }
   ],
   "source": [
    "z3.Sum?"
   ]
  },
  {
   "cell_type": "code",
   "execution_count": 50,
   "id": "3a4965e5-4b11-4614-8483-3dc608912988",
   "metadata": {
    "execution": {
     "iopub.execute_input": "2022-03-26T22:23:50.970717Z",
     "iopub.status.busy": "2022-03-26T22:23:50.970525Z",
     "iopub.status.idle": "2022-03-26T22:23:50.983647Z",
     "shell.execute_reply": "2022-03-26T22:23:50.983035Z",
     "shell.execute_reply.started": "2022-03-26T22:23:50.970694Z"
    }
   },
   "outputs": [
    {
     "data": {
      "text/plain": [
       "\u001b[0;31mSignature:\u001b[0m \u001b[0mz3\u001b[0m\u001b[0;34m.\u001b[0m\u001b[0mLShR\u001b[0m\u001b[0;34m(\u001b[0m\u001b[0ma\u001b[0m\u001b[0;34m,\u001b[0m \u001b[0mb\u001b[0m\u001b[0;34m)\u001b[0m\u001b[0;34m\u001b[0m\u001b[0;34m\u001b[0m\u001b[0m\n",
       "\u001b[0;31mDocstring:\u001b[0m\n",
       "Create the Z3 expression logical right shift.\n",
       "\n",
       "Use the operator >> for the arithmetical right shift.\n",
       "\n",
       ">>> x, y = BitVecs('x y', 32)\n",
       ">>> LShR(x, y)\n",
       "LShR(x, y)\n",
       ">>> (x >> y).sexpr()\n",
       "'(bvashr x y)'\n",
       ">>> LShR(x, y).sexpr()\n",
       "'(bvlshr x y)'\n",
       ">>> BitVecVal(4, 3)\n",
       "4\n",
       ">>> BitVecVal(4, 3).as_signed_long()\n",
       "-4\n",
       ">>> simplify(BitVecVal(4, 3) >> 1).as_signed_long()\n",
       "-2\n",
       ">>> simplify(BitVecVal(4, 3) >> 1)\n",
       "6\n",
       ">>> simplify(LShR(BitVecVal(4, 3), 1))\n",
       "2\n",
       ">>> simplify(BitVecVal(2, 3) >> 1)\n",
       "1\n",
       ">>> simplify(LShR(BitVecVal(2, 3), 1))\n",
       "1\n",
       "\u001b[0;31mFile:\u001b[0m      /nix/store/ymqg9qkhmqcqvjjm1kw3n6clsf2s4gym-python3-3.8.9-env/lib/python3.8/site-packages/z3/z3.py\n",
       "\u001b[0;31mType:\u001b[0m      function\n"
      ]
     },
     "metadata": {},
     "output_type": "display_data"
    }
   ],
   "source": [
    "z3.LShR?"
   ]
  },
  {
   "cell_type": "code",
   "execution_count": 101,
   "id": "345aef40-2f95-4510-928e-cdd4ade34236",
   "metadata": {
    "execution": {
     "iopub.execute_input": "2022-03-26T23:46:03.343617Z",
     "iopub.status.busy": "2022-03-26T23:46:03.343410Z",
     "iopub.status.idle": "2022-03-26T23:46:03.348031Z",
     "shell.execute_reply": "2022-03-26T23:46:03.347274Z",
     "shell.execute_reply.started": "2022-03-26T23:46:03.343591Z"
    },
    "tags": []
   },
   "outputs": [],
   "source": [
    "def g(M):\n",
    "  s = z3.Solver()\n",
    "  a = z3.BitVec('a', M)\n",
    "  b = z3.BitVec('b', M)\n",
    "  c = z3.BitVec('c', M)\n",
    "  s.add(a == 2)\n",
    "  s.add(b == 1)\n",
    "  s.add(c == z3.Sum([a,b])) # \"z3.Sum(a,b)\" also works fine\n",
    "  if s.check() == z3.sat:\n",
    "    return s, s.model()\n",
    "  print(\"No model found.\")\n",
    "  return None"
   ]
  },
  {
   "cell_type": "code",
   "execution_count": 102,
   "id": "b0010dc6-4fd1-411d-a086-4cbb65610a26",
   "metadata": {
    "execution": {
     "iopub.execute_input": "2022-03-26T23:46:04.289152Z",
     "iopub.status.busy": "2022-03-26T23:46:04.288972Z",
     "iopub.status.idle": "2022-03-26T23:46:04.302253Z",
     "shell.execute_reply": "2022-03-26T23:46:04.301656Z",
     "shell.execute_reply.started": "2022-03-26T23:46:04.289130Z"
    },
    "tags": []
   },
   "outputs": [],
   "source": [
    "sg, mg = g(3)"
   ]
  },
  {
   "cell_type": "code",
   "execution_count": 103,
   "id": "3b4e2ca1-a230-4687-b6e5-fe0c3e858da2",
   "metadata": {
    "execution": {
     "iopub.execute_input": "2022-03-26T23:46:04.774245Z",
     "iopub.status.busy": "2022-03-26T23:46:04.774021Z",
     "iopub.status.idle": "2022-03-26T23:46:04.778494Z",
     "shell.execute_reply": "2022-03-26T23:46:04.778011Z",
     "shell.execute_reply.started": "2022-03-26T23:46:04.774218Z"
    },
    "tags": []
   },
   "outputs": [
    {
     "data": {
      "text/html": [
       "[c = 3, b = 1, a = 2]"
      ],
      "text/plain": [
       "[c = 3, b = 1, a = 2]"
      ]
     },
     "execution_count": 103,
     "metadata": {},
     "output_type": "execute_result"
    }
   ],
   "source": [
    "mg"
   ]
  },
  {
   "cell_type": "code",
   "execution_count": 55,
   "id": "0aeab0eb-867a-4ed0-8103-8dd4e965483e",
   "metadata": {
    "execution": {
     "iopub.execute_input": "2022-03-26T22:27:14.452994Z",
     "iopub.status.busy": "2022-03-26T22:27:14.452783Z",
     "iopub.status.idle": "2022-03-26T22:27:14.457473Z",
     "shell.execute_reply": "2022-03-26T22:27:14.456712Z",
     "shell.execute_reply.started": "2022-03-26T22:27:14.452969Z"
    },
    "tags": []
   },
   "outputs": [],
   "source": [
    "def f(M):\n",
    "  s = z3.Solver()\n",
    "  a = z3.BitVec('a', M)\n",
    "  b = z3.BitVec('b', M)\n",
    "  c = z3.BitVec('c', M)\n",
    "  s.add(a == 0)\n",
    "  s.add(b == 1)\n",
    "  #s.add(b == c)\n",
    "  s.add(c == z3.LShR(b, 1))\n",
    "  if s.check() == z3.sat:\n",
    "    return s.model(), s\n",
    "  print(\"No model found\")\n",
    "  return None"
   ]
  },
  {
   "cell_type": "code",
   "execution_count": 56,
   "id": "470ef58b-8a40-4a1d-b352-725ced798c48",
   "metadata": {
    "execution": {
     "iopub.execute_input": "2022-03-26T22:27:14.862944Z",
     "iopub.status.busy": "2022-03-26T22:27:14.862560Z",
     "iopub.status.idle": "2022-03-26T22:27:14.894329Z",
     "shell.execute_reply": "2022-03-26T22:27:14.893519Z",
     "shell.execute_reply.started": "2022-03-26T22:27:14.862897Z"
    },
    "tags": []
   },
   "outputs": [],
   "source": [
    "mf, sf = f(3)"
   ]
  },
  {
   "cell_type": "code",
   "execution_count": 57,
   "id": "38f5329a-2498-4ba7-a4b9-3f2036ae1e0f",
   "metadata": {
    "execution": {
     "iopub.execute_input": "2022-03-26T22:27:17.303775Z",
     "iopub.status.busy": "2022-03-26T22:27:17.303582Z",
     "iopub.status.idle": "2022-03-26T22:27:17.307883Z",
     "shell.execute_reply": "2022-03-26T22:27:17.307367Z",
     "shell.execute_reply.started": "2022-03-26T22:27:17.303753Z"
    }
   },
   "outputs": [
    {
     "data": {
      "text/html": [
       "[c = 0, b = 1, a = 0]"
      ],
      "text/plain": [
       "[c = 0, b = 1, a = 0]"
      ]
     },
     "execution_count": 57,
     "metadata": {},
     "output_type": "execute_result"
    }
   ],
   "source": [
    "mf"
   ]
  },
  {
   "cell_type": "code",
   "execution_count": 49,
   "id": "55a68c03-0ff9-4e74-be34-ac48e3751bf9",
   "metadata": {
    "execution": {
     "iopub.execute_input": "2022-03-26T21:42:44.379458Z",
     "iopub.status.busy": "2022-03-26T21:42:44.378712Z",
     "iopub.status.idle": "2022-03-26T21:42:44.384819Z",
     "shell.execute_reply": "2022-03-26T21:42:44.384162Z",
     "shell.execute_reply.started": "2022-03-26T21:42:44.379420Z"
    },
    "tags": []
   },
   "outputs": [
    {
     "data": {
      "text/plain": [
       "1"
      ]
     },
     "execution_count": 49,
     "metadata": {},
     "output_type": "execute_result"
    }
   ],
   "source": [
    "foo = 2\n",
    "foo >>= 1\n",
    "foo"
   ]
  },
  {
   "cell_type": "markdown",
   "id": "6dc59a85-634f-448a-acf9-be05a30730e8",
   "metadata": {},
   "source": [
    "## EUF + linear arithmetic"
   ]
  },
  {
   "cell_type": "code",
   "execution_count": 29,
   "id": "9fb75382-7362-4750-8221-8b0c5911a21e",
   "metadata": {
    "execution": {
     "iopub.execute_input": "2022-03-26T02:55:52.306928Z",
     "iopub.status.busy": "2022-03-26T02:55:52.306758Z",
     "iopub.status.idle": "2022-03-26T02:55:52.309538Z",
     "shell.execute_reply": "2022-03-26T02:55:52.308873Z",
     "shell.execute_reply.started": "2022-03-26T02:55:52.306905Z"
    }
   },
   "outputs": [],
   "source": [
    "# create a function that adds the right number of variables to a given solver instance to represent a single feature vector with a given number of features\n",
    "\n",
    "# create a function that adds constraints to the solver reflecting feature vectors that are hypothesized to be in a given natural class\n",
    "\n",
    "# \"\" but for rules"
   ]
  },
  {
   "cell_type": "markdown",
   "id": "c9a7a34f-21f6-4979-8380-e5575802cd24",
   "metadata": {},
   "source": [
    "## EUF (+ linear real arithmetic?) + optimization"
   ]
  },
  {
   "cell_type": "code",
   "execution_count": null,
   "id": "910b6bfd-165a-4f95-a383-9a160425b794",
   "metadata": {},
   "outputs": [],
   "source": []
  },
  {
   "cell_type": "markdown",
   "id": "cc168f0b-dcf3-4d7a-93d1-d003258cbdec",
   "metadata": {},
   "source": [
    "## Special order solvers"
   ]
  },
  {
   "cell_type": "markdown",
   "id": "a0db77cb-4241-4cf7-a07d-c385446e0165",
   "metadata": {},
   "source": [
    " - See [this link on z3 and solvers for special relations](http://theory.stanford.edu/~nikolaj/programmingz3.html#sec-special-relations)."
   ]
  },
  {
   "cell_type": "code",
   "execution_count": null,
   "id": "8fad680c-e9f9-4a03-b280-068cf7ba155d",
   "metadata": {},
   "outputs": [],
   "source": []
  },
  {
   "cell_type": "markdown",
   "id": "ab822741-37bd-409d-9636-7520322d2455",
   "metadata": {},
   "source": [
    "## (Constrained) Horn clauses"
   ]
  },
  {
   "cell_type": "markdown",
   "id": "1b94ff36-0d96-4e78-9efd-08fe3b9c1e00",
   "metadata": {},
   "source": [
    "### What are Horn clauses?\n",
    "\n",
    "Horn clauses are a generally important \"normal form\" in computational logic; perhaps one of the most common places many first encounter Horn clauses is the logical programming language [Prolog](https://en.wikipedia.org/wiki/Prolog), usually in a computer science course.\n",
    "\n",
    "A propositional formula is a Horn clause iff it is a disjunction of literals with at most one positive literal:\n",
    "$$\\neg p(x) \\lor \\neg q(x) \\lor r(x)\\equiv p(x) \\lor q(x) \\rightarrow r(x)$$\n",
    "A Horn clause with exactly one positive literal is called a *definite* Horn clause, the positive literal is called the \"head\", and the clause is commonly written in implication form with the head at the right:\n",
    "$$r(x) \\leftarrow p(x) \\lor q(x)$$\n",
    "\n"
   ]
  },
  {
   "cell_type": "markdown",
   "id": "f3addd84-2d6f-4f53-9989-82536d6c8b1f",
   "metadata": {},
   "source": [
    "### What are the implications for use in an SMT solver?\n",
    "\n",
    "1. **Definitely giving up decidability.** Most of the theories in an SMT solver that is sitting atop a SAT solver have decidable satisfiability problems (at least in isolation; some combinations of theories are also decidable). Horn clauses are more expressive, but finding a solution for a set of Horn clauses is in general undecidable.\n",
    "\n",
    "2. **A gain in expressivity useful for program verification and synthesis.** Nevertheless, Horn clauses are useful enough and other theories are sufficiently inexpressive, finicky, and brittle for program synthesis that many of those involved in the development of z3 think that constrained Horn clauses are a better vehicle for program verification (and by extension, closely related synthesis techniques)."
   ]
  },
  {
   "cell_type": "markdown",
   "id": "7069e768-6e33-443e-9d33-127fcd206f5e",
   "metadata": {},
   "source": [
    " 1. See [this link on z3 and the Horn Clause Solver](http://theory.stanford.edu/~nikolaj/programmingz3.html#sec-horn-clause-solver).\n",
    " 2. See FIXME link [this paper on constrained Horn clauses for program verification](FIXME) (by some of the researchers and developers behind `z3` - and `Lean`, I think).\n",
    " 3. See FIXME link [this paper on semantically-guided synthesis](FIXME). "
   ]
  },
  {
   "cell_type": "code",
   "execution_count": null,
   "id": "9e4de965-6718-435e-b884-420aa80cf37f",
   "metadata": {},
   "outputs": [],
   "source": []
  },
  {
   "cell_type": "markdown",
   "id": "45cba05a-ca52-4852-b6f5-2eb6ca83fcb9",
   "metadata": {},
   "source": [
    "## (First-order) ADTs"
   ]
  },
  {
   "cell_type": "markdown",
   "id": "00bf5b7c-08d4-421b-886a-3d808c869f3b",
   "metadata": {},
   "source": [
    " - See [this link on z3 and algebraic datatypes](http://theory.stanford.edu/~nikolaj/programmingz3.html#sec-algebraic-datatypes)."
   ]
  },
  {
   "cell_type": "markdown",
   "id": "53c1c276-114c-4121-b440-dc7335186add",
   "metadata": {},
   "source": [
    "(It doesn't really make sense to jump to tree-like structures for anything involving SPE-style feature vectors or operations, other than to encode syntax symbolically. In this case though, we can still encode something closer to a perfectly fine semantics than this.)"
   ]
  }
 ],
 "metadata": {
  "kernelspec": {
   "display_name": "Python3 - mach-nix-saguaro",
   "language": "python",
   "name": "ipython_mach-nix-saguaro"
  },
  "language_info": {
   "codemirror_mode": {
    "name": "ipython",
    "version": 3
   },
   "file_extension": ".py",
   "mimetype": "text/x-python",
   "name": "python",
   "nbconvert_exporter": "python",
   "pygments_lexer": "ipython3",
   "version": "3.9.9"
  }
 },
 "nbformat": 4,
 "nbformat_minor": 5
}
