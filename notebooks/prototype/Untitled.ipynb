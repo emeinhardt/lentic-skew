{
 "cells": [
  {
   "cell_type": "code",
   "execution_count": null,
   "id": "67385526-7a2a-4991-b3ed-8a24b21dd13b",
   "metadata": {},
   "outputs": [],
   "source": [
    "from IPython.core.interactiveshell import InteractiveShell\n",
    "InteractiveShell.ast_node_interactivity = 'all'"
   ]
  },
  {
   "cell_type": "code",
   "execution_count": null,
   "id": "fe61e6a0-8c4d-4058-bad4-874d5e12f57b",
   "metadata": {},
   "outputs": [],
   "source": [
    "import z3\n",
    "from funcy import *"
   ]
  },
  {
   "cell_type": "code",
   "execution_count": null,
   "id": "c72057f6-fdfb-48df-94be-2af5ad7468d1",
   "metadata": {},
   "outputs": [],
   "source": [
    "from FV import *"
   ]
  },
  {
   "cell_type": "code",
   "execution_count": null,
   "id": "43a22027-5b17-44b6-bae1-4e50152f6065",
   "metadata": {},
   "outputs": [],
   "source": [
    "M = 3\n",
    "MAX_OBJECT_SET_SIZE = 26\n",
    "# M = 10\n",
    "# MAX_OBJECT_SET_SIZE = 100\n",
    "MAX_SAMPLE_SIZE = 8\n",
    "# MAX_OBJECT_SET_SIZE = MAX_NUM_VECTORS\n",
    "# MAX_SAMPLE_SIZE = MAX_NUM_VECTORS \n",
    "MAX_NUM_VECTORS = 3 ** M\n",
    "N = randint(2, MAX_OBJECT_SET_SIZE)\n",
    "assert N <= (3 ** M)\n",
    "print(f\"|features| = {M}\")\n",
    "print(f\"=> |logically possible vectors| = {MAX_NUM_VECTORS}\")\n",
    "print(f\"max |objects = inventory| = {MAX_OBJECT_SET_SIZE}\")\n",
    "print(f\"max |sample = hypothetical natural class| = {MAX_SAMPLE_SIZE}\")\n",
    "print(f\"actual |objects = inventory| = {N}\")"
   ]
  },
  {
   "cell_type": "code",
   "execution_count": null,
   "id": "5fa7de16-7170-41d2-bbbc-defcf41188f2",
   "metadata": {},
   "outputs": [],
   "source": [
    "O = FeatureVector.randomObjects(numFeatures=M, numObjects=N)\n",
    "\n",
    "if len(O) < 30:\n",
    "  for each in O:\n",
    "    print(each)"
   ]
  },
  {
   "cell_type": "code",
   "execution_count": null,
   "id": "547eef45-489c-4a26-aa4c-6bbf279ce336",
   "metadata": {},
   "outputs": [],
   "source": [
    "# S = randomNonemptySubset(set(O), 3)\n",
    "S = randomInterestingSubset(400000, set(O), cap=MAX_SAMPLE_SIZE, minSpec=2) # \"interesting\" = the natural class is something other the trivial zero vector [0 ... ]\n",
    "\n",
    "if S is not None:\n",
    "  for each in S:\n",
    "    print(each)\n",
    "\n",
    "  print(\"---\")\n",
    "  print(grandFoldl(FeatureVector.meet)(S))\n",
    "else:\n",
    "  print(\"S is None.\")"
   ]
  },
  {
   "cell_type": "code",
   "execution_count": null,
   "id": "ece82150-39a3-4552-b69b-2a75bb99710b",
   "metadata": {},
   "outputs": [],
   "source": [
    "def notQuite_naturalClassFor_euf(featureVectors, solver=None):\n",
    "  if solver is None:\n",
    "    solver = z3.Solver()\n",
    "  \n",
    "  data = tuple(sorted(featureVectors, key=FeatureVector.sortKey))\n",
    "  M    = len(data[0])\n",
    "  \n",
    "  defined = [z3.Bool(f\"def_{i}\") for i in range(M)]\n",
    "  valence = [z3.Bool(f\"val_{i}\") for i in range(M)]\n",
    "  \n",
    "  for datum in data:\n",
    "    solver.add(describes_euf(defined, valence, datum))\n",
    "  \n",
    "  if solver.check() == z3.sat:    \n",
    "    print(\"Found model.\")\n",
    "    m = solver.model()\n",
    "    return solver, m\n",
    "  else:\n",
    "    print(\"No model found.\")\n",
    "    return solver\n",
    "  \n",
    "\n",
    "def describes_euf(defined, valence, featureVector):\n",
    "  # \\forall i, defined[i] -> valence[i] == featureVector.value[i].valence()\n",
    "  return z3.And([z3.Or([z3.Not(d), v == x.valence()])\n",
    "                 for d,v,x in zip(defined, valence, featureVector.value)])\n",
    "  "
   ]
  },
  {
   "cell_type": "code",
   "execution_count": null,
   "id": "6e57f274-b6da-4aef-932e-6933e257afb2",
   "metadata": {
    "tags": []
   },
   "outputs": [],
   "source": [
    "naturalClassFor_euf(S)"
   ]
  },
  {
   "cell_type": "code",
   "execution_count": null,
   "id": "df8f229c-fedc-4aa4-828a-79e9bacd4547",
   "metadata": {
    "tags": []
   },
   "outputs": [],
   "source": [
    "solver = z3.Solver()\n",
    "\n",
    "for n in range(100):\n",
    "  natural_class_solutions = SymbolicFV.mks(3, \"NCs_S\", n)\n",
    "  SymbolicFV.naturalClasses(natural_class_solutions, list(SymbolicFV.mkFromConcreteFVs(S, \"S\")), O)\n",
    "  if solver.check() == z3.sat:\n",
    "    print(n)\n",
    "    m = solver.model()"
   ]
  },
  {
   "cell_type": "code",
   "execution_count": null,
   "id": "da7e965c-7be8-4ca6-90e8-b87e4979e323",
   "metadata": {},
   "outputs": [],
   "source": []
  }
 ],
 "metadata": {
  "kernelspec": {
   "display_name": "Python3 - mach-nix-saguaro",
   "language": "python",
   "name": "ipython_mach-nix-saguaro"
  },
  "language_info": {
   "codemirror_mode": {
    "name": "ipython",
    "version": 3
   },
   "file_extension": ".py",
   "mimetype": "text/x-python",
   "name": "python",
   "nbconvert_exporter": "python",
   "pygments_lexer": "ipython3",
   "version": "3.9.9"
  }
 },
 "nbformat": 4,
 "nbformat_minor": 5
}
