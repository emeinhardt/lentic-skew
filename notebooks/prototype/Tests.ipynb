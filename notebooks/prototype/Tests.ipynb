{
 "cells": [
  {
   "cell_type": "code",
   "execution_count": 1,
   "id": "39bdca84-84d0-4fc4-a209-653ecc77d4c8",
   "metadata": {
    "execution": {
     "iopub.execute_input": "2022-04-03T22:51:14.399002Z",
     "iopub.status.busy": "2022-04-03T22:51:14.398638Z",
     "iopub.status.idle": "2022-04-03T22:51:14.519551Z",
     "shell.execute_reply": "2022-04-03T22:51:14.519024Z",
     "shell.execute_reply.started": "2022-04-03T22:51:14.398908Z"
    },
    "tags": []
   },
   "outputs": [],
   "source": [
    "from hypothesis import given, strategies as st"
   ]
  },
  {
   "cell_type": "code",
   "execution_count": 2,
   "id": "e6ae4403-3049-4bad-bb6f-3007b6d1207d",
   "metadata": {
    "execution": {
     "iopub.execute_input": "2022-04-03T22:51:15.412782Z",
     "iopub.status.busy": "2022-04-03T22:51:15.412561Z",
     "iopub.status.idle": "2022-04-03T22:51:15.415426Z",
     "shell.execute_reply": "2022-04-03T22:51:15.414800Z",
     "shell.execute_reply.started": "2022-04-03T22:51:15.412756Z"
    },
    "tags": []
   },
   "outputs": [],
   "source": [
    "# import ipytest\n",
    "# ipytest.autoconfig()\n",
    "# ipytest.config(clean=False)"
   ]
  },
  {
   "cell_type": "code",
   "execution_count": 3,
   "id": "4c0768cc-88f1-4ffb-851e-cbe26b18a881",
   "metadata": {
    "execution": {
     "iopub.execute_input": "2022-04-03T22:51:16.628265Z",
     "iopub.status.busy": "2022-04-03T22:51:16.627598Z",
     "iopub.status.idle": "2022-04-03T22:51:16.636125Z",
     "shell.execute_reply": "2022-04-03T22:51:16.634213Z",
     "shell.execute_reply.started": "2022-04-03T22:51:16.628168Z"
    },
    "tags": []
   },
   "outputs": [],
   "source": [
    "from IPython.core.interactiveshell import InteractiveShell\n",
    "InteractiveShell.ast_node_interactivity = 'all'\n"
   ]
  },
  {
   "cell_type": "code",
   "execution_count": 4,
   "id": "fab043a1-e10f-426a-bffa-b663101f7474",
   "metadata": {
    "execution": {
     "iopub.execute_input": "2022-04-03T22:51:27.303442Z",
     "iopub.status.busy": "2022-04-03T22:51:27.302731Z",
     "iopub.status.idle": "2022-04-03T22:51:27.460987Z",
     "shell.execute_reply": "2022-04-03T22:51:27.460430Z",
     "shell.execute_reply.started": "2022-04-03T22:51:27.303356Z"
    },
    "tags": []
   },
   "outputs": [],
   "source": [
    "from tqdm import tqdm, tqdm_notebook\n",
    "\n",
    "from dataclasses import dataclass\n",
    "from typing import *\n",
    "\n",
    "from copy import deepcopy\n",
    "from functools import reduce\n",
    "from itertools import product\n",
    "\n",
    "# `funcy` provides some convenient functionally-flavored combinators for manipulating collections and \n",
    "# dictionaries used throughout: https://funcy.readthedocs.io/en/stable/index.html\n",
    "from funcy import * \n",
    "\n",
    "# from z3 import *\n",
    "import z3\n",
    "\n",
    "#import igraph as ig\n",
    "#import pygraphviz as pgv\n",
    "#from IPython.display import Image"
   ]
  },
  {
   "cell_type": "code",
   "execution_count": 5,
   "id": "eb23ae3b-6070-4d22-a574-2967bb143d6f",
   "metadata": {
    "execution": {
     "iopub.execute_input": "2022-04-03T22:51:27.755418Z",
     "iopub.status.busy": "2022-04-03T22:51:27.755223Z",
     "iopub.status.idle": "2022-04-03T22:51:27.762168Z",
     "shell.execute_reply": "2022-04-03T22:51:27.761572Z",
     "shell.execute_reply.started": "2022-04-03T22:51:27.755395Z"
    },
    "tags": []
   },
   "outputs": [],
   "source": [
    "def block_current_model(s):\n",
    "  assert s.check() == z3.sat, f\"no model to block!\"\n",
    "  m = s.model()\n",
    "  if len([f for f in m.decls() if f.arity() == 0]) > 0:\n",
    "    s.add(z3.Or([ f() != m[f] for f in m.decls() if f.arity() == 0]))\n",
    "  return s\n",
    "\n",
    "def all_smt(s):\n",
    "  models = []\n",
    "  while z3.sat == s.check():\n",
    "    models.append(s.model())\n",
    "    print(f\"model # {len(models)}\")\n",
    "    #print(s.model())\n",
    "    block_current_model(s)\n",
    "  return models\n",
    "\n",
    "def block_current_model_just(s, terms):\n",
    "  assert s.check() == z3.sat, f\"no model to block!\"\n",
    "  m = s.model()\n",
    "  s.add(z3.Or([t != m.eval(t, model_completion=True) for t in terms]))\n",
    "  return s\n",
    "\n",
    "def all_smt_just(s, terms):\n",
    "  models = []\n",
    "  while z3.sat == s.check():\n",
    "    models.append(s.model())\n",
    "    print(f\"model # {len(models)}\")\n",
    "    #print(s.model())\n",
    "    block_current_model_just(s, terms)\n",
    "  return models"
   ]
  },
  {
   "cell_type": "code",
   "execution_count": 6,
   "id": "04e6a60e-d65f-4622-b1fd-aa5ca50ec88e",
   "metadata": {
    "execution": {
     "iopub.execute_input": "2022-04-03T22:51:29.685967Z",
     "iopub.status.busy": "2022-04-03T22:51:29.685735Z",
     "iopub.status.idle": "2022-04-03T22:51:29.692360Z",
     "shell.execute_reply": "2022-04-03T22:51:29.691699Z",
     "shell.execute_reply.started": "2022-04-03T22:51:29.685939Z"
    },
    "tags": []
   },
   "outputs": [],
   "source": [
    "from FV import *"
   ]
  },
  {
   "cell_type": "markdown",
   "id": "726fde77-102c-4e58-95fa-b5e6a76eb9bc",
   "metadata": {},
   "source": [
    "# Confirm concrete and symbolic (pair of parallel Boolean list encoding) feature vectors have matching behavior"
   ]
  },
  {
   "cell_type": "code",
   "execution_count": 7,
   "id": "b883e45c-1ea5-45fb-9b8a-e41a20f29dc8",
   "metadata": {
    "execution": {
     "iopub.execute_input": "2022-04-03T20:52:07.017973Z",
     "iopub.status.busy": "2022-04-03T20:52:07.017794Z",
     "iopub.status.idle": "2022-04-03T20:52:09.694464Z",
     "shell.execute_reply": "2022-04-03T20:52:09.693944Z",
     "shell.execute_reply.started": "2022-04-03T20:52:07.017952Z"
    },
    "tags": []
   },
   "outputs": [
    {
     "name": "stdout",
     "output_type": "stream",
     "text": [
      "\u001b[31mE\u001b[0m\u001b[31mE\u001b[0m\u001b[32m.\u001b[0m\u001b[31m                                                                                          [100%]\u001b[0m\n",
      "============================================== ERRORS ==============================================\n",
      "\u001b[31m\u001b[1m_______________________________ ERROR at setup of testBinOp_Booleans _______________________________\u001b[0m\n",
      "file /home/emeinhardt/Babel/chromatic-cactus/FV.py, line 751\n",
      "  def testBinOp_Booleans(binOpRel, binOp, numFeatures, testSet=None, exceptions=False, none=False):\n",
      "\u001b[31mE       fixture 'binOpRel' not found\u001b[0m\n",
      "\u001b[31m>       available fixtures: cache, capfd, capfdbinary, caplog, capsys, capsysbinary, doctest_namespace, monkeypatch, pytestconfig, record_property, record_testsuite_property, record_xml_attribute, recwarn, tmp_path, tmp_path_factory, tmpdir, tmpdir_factory\u001b[0m\n",
      "\u001b[31m>       use 'pytest --fixtures [testpath]' for help on them.\u001b[0m\n",
      "\n",
      "/home/emeinhardt/Babel/chromatic-cactus/FV.py:751\n",
      "\u001b[31m\u001b[1m______________________________ ERROR at setup of testStackOp_Booleans ______________________________\u001b[0m\n",
      "file /home/emeinhardt/Babel/chromatic-cactus/FV.py, line 811\n",
      "  def testStackOp_Booleans(opRel, op, numFeatures, testSet=None):\n",
      "\u001b[31mE       fixture 'opRel' not found\u001b[0m\n",
      "\u001b[31m>       available fixtures: cache, capfd, capfdbinary, caplog, capsys, capsysbinary, doctest_namespace, monkeypatch, pytestconfig, record_property, record_testsuite_property, record_xml_attribute, recwarn, tmp_path, tmp_path_factory, tmpdir, tmpdir_factory\u001b[0m\n",
      "\u001b[31m>       use 'pytest --fixtures [testpath]' for help on them.\u001b[0m\n",
      "\n",
      "/home/emeinhardt/Babel/chromatic-cactus/FV.py:811\n",
      "===================================== short test summary info ======================================\n",
      "ERROR tmpkywj7t4l.py::testBinOp_Booleans\n",
      "ERROR tmpkywj7t4l.py::testStackOp_Booleans\n",
      "\u001b[31m\u001b[32m1 passed\u001b[0m, \u001b[31m\u001b[1m2 errors\u001b[0m\u001b[31m in 2.56s\u001b[0m\u001b[0m\n"
     ]
    }
   ],
   "source": [
    "#%%ipytest\n",
    "\n",
    "def test_concreteSymbolic_match_join():\n",
    "  joinCounterexamples = testBinOp_Booleans(SymbolicFV.join, FeatureVector.join, 3, exceptions=True)\n",
    "  len(joinCounterexamples)\n",
    "\n",
    "  for i,x in tqdm(enumerate(joinCounterexamples), total=len(joinCounterexamples)):\n",
    "    print(f\"{i}: \" + showBinGraphTest(\"v\", x[0], x[1], x[2], x[3]))\n",
    "    \n",
    "  assert len(joinCounterexamples) == 0"
   ]
  },
  {
   "cell_type": "code",
   "execution_count": 28,
   "id": "80cf3653-d17a-4b0a-a95b-a4756c557dd4",
   "metadata": {
    "execution": {
     "iopub.execute_input": "2022-03-31T06:34:01.034987Z",
     "iopub.status.busy": "2022-03-31T06:34:01.034791Z",
     "iopub.status.idle": "2022-03-31T06:34:01.038851Z",
     "shell.execute_reply": "2022-03-31T06:34:01.038345Z",
     "shell.execute_reply.started": "2022-03-31T06:34:01.034964Z"
    },
    "tags": []
   },
   "outputs": [],
   "source": [
    "def test_concreteSymbolic_match_meet():\n",
    "  meetCounterexamples = testBinOp_Booleans(SymbolicFV.meet, FeatureVector.meet, 3, exceptions=False)\n",
    "  len(meetCounterexamples)\n",
    "\n",
    "  for i,x in tqdm(enumerate(meetCounterexamples), total=len(meetCounterexamples)):\n",
    "    print(f\"{i}: \" + showBinGraphTest(\"v\", x[0], x[1], x[2], x[3]))\n",
    "    \n",
    "  assert len(meetCounteExamples) == 0"
   ]
  },
  {
   "cell_type": "code",
   "execution_count": 29,
   "id": "1b71d274-a357-405d-bf27-badc919edde2",
   "metadata": {
    "execution": {
     "iopub.execute_input": "2022-03-31T06:34:01.417713Z",
     "iopub.status.busy": "2022-03-31T06:34:01.417522Z",
     "iopub.status.idle": "2022-03-31T06:34:04.033164Z",
     "shell.execute_reply": "2022-03-31T06:34:04.032739Z",
     "shell.execute_reply.started": "2022-03-31T06:34:01.417691Z"
    },
    "tags": []
   },
   "outputs": [
    {
     "name": "stderr",
     "output_type": "stream",
     "text": [
      "0it [00:00, ?it/s]\n"
     ]
    }
   ],
   "source": [
    "test_concreteSymbolic_match_join()"
   ]
  },
  {
   "cell_type": "code",
   "execution_count": 30,
   "id": "fc3b0eda-d065-434a-9a17-d273129992f7",
   "metadata": {
    "execution": {
     "iopub.execute_input": "2022-03-31T06:34:05.017560Z",
     "iopub.status.busy": "2022-03-31T06:34:05.017268Z",
     "iopub.status.idle": "2022-03-31T06:34:07.689311Z",
     "shell.execute_reply": "2022-03-31T06:34:07.688775Z",
     "shell.execute_reply.started": "2022-03-31T06:34:05.017522Z"
    }
   },
   "outputs": [
    {
     "name": "stderr",
     "output_type": "stream",
     "text": [
      "0it [00:00, ?it/s]\n"
     ]
    }
   ],
   "source": [
    "test_concreteSymbolic_match_meet()"
   ]
  },
  {
   "cell_type": "markdown",
   "id": "2f933892-d632-4bff-a4f4-578fab7806d9",
   "metadata": {},
   "source": [
    "# Define a concrete feature system and inventory to work with"
   ]
  },
  {
   "cell_type": "markdown",
   "id": "5f6f0179-fe5d-43e8-b444-3c77dd2786cd",
   "metadata": {},
   "source": [
    "## Generate a subset $S$ of at least $k$ objects from a set with at least $n$ objects over $m$ features such that $spec(meet(S)) \\geq i$"
   ]
  },
  {
   "cell_type": "code",
   "execution_count": 9,
   "id": "4e21e7c2-609d-4bf8-ab76-d730af9de926",
   "metadata": {
    "execution": {
     "iopub.execute_input": "2022-03-31T06:31:56.215747Z",
     "iopub.status.busy": "2022-03-31T06:31:56.215485Z",
     "iopub.status.idle": "2022-03-31T06:31:56.222840Z",
     "shell.execute_reply": "2022-03-31T06:31:56.222251Z",
     "shell.execute_reply.started": "2022-03-31T06:31:56.215716Z"
    },
    "tags": []
   },
   "outputs": [
    {
     "name": "stdout",
     "output_type": "stream",
     "text": [
      "|features| = 3\n",
      "=> |logically possible vectors| = 27\n",
      "max |objects = inventory| = 26\n",
      "max |sample = hypothetical natural class| = 8\n",
      "actual |objects = inventory| = 22\n"
     ]
    }
   ],
   "source": [
    "M = 3\n",
    "MAX_OBJECT_SET_SIZE = 26\n",
    "# M = 10\n",
    "# MAX_OBJECT_SET_SIZE = 100\n",
    "MAX_SAMPLE_SIZE = 8\n",
    "# MAX_OBJECT_SET_SIZE = MAX_NUM_VECTORS\n",
    "# MAX_SAMPLE_SIZE = MAX_NUM_VECTORS \n",
    "MAX_NUM_VECTORS = 3 ** M\n",
    "N = randint(20, MAX_OBJECT_SET_SIZE)\n",
    "assert N <= (3 ** M)\n",
    "print(f\"|features| = {M}\")\n",
    "print(f\"=> |logically possible vectors| = {MAX_NUM_VECTORS}\")\n",
    "print(f\"max |objects = inventory| = {MAX_OBJECT_SET_SIZE}\")\n",
    "print(f\"max |sample = hypothetical natural class| = {MAX_SAMPLE_SIZE}\")\n",
    "print(f\"actual |objects = inventory| = {N}\")"
   ]
  },
  {
   "cell_type": "code",
   "execution_count": 10,
   "id": "64d4c974-8ec4-4e93-934e-81211e497d8d",
   "metadata": {
    "execution": {
     "iopub.execute_input": "2022-03-31T06:31:56.224108Z",
     "iopub.status.busy": "2022-03-31T06:31:56.223874Z",
     "iopub.status.idle": "2022-03-31T06:31:56.254847Z",
     "shell.execute_reply": "2022-03-31T06:31:56.254407Z",
     "shell.execute_reply.started": "2022-03-31T06:31:56.224077Z"
    },
    "tags": []
   },
   "outputs": [
    {
     "name": "stdout",
     "output_type": "stream",
     "text": [
      "[0 0 0]\n",
      "[0 + 0]\n",
      "[0 0 -]\n",
      "[0 0 +]\n",
      "[0 - 0]\n",
      "[- 0 0]\n",
      "[0 - -]\n",
      "[- 0 +]\n",
      "[0 - +]\n",
      "[+ - 0]\n",
      "[- - 0]\n",
      "[0 + +]\n",
      "[+ 0 -]\n",
      "[- + 0]\n",
      "[- + -]\n",
      "[- + +]\n",
      "[+ - +]\n",
      "[+ - -]\n",
      "[- - -]\n",
      "[- - +]\n",
      "[+ + -]\n",
      "[+ + +]\n"
     ]
    }
   ],
   "source": [
    "O = FeatureVector.randomObjects(numFeatures=M, numObjects=N)\n",
    "\n",
    "if len(O) < 30:\n",
    "  for each in O:\n",
    "    print(each)"
   ]
  },
  {
   "cell_type": "code",
   "execution_count": 11,
   "id": "8d99df4c-cec9-49af-bf6a-cc24b661c467",
   "metadata": {
    "execution": {
     "iopub.execute_input": "2022-03-31T06:31:56.255883Z",
     "iopub.status.busy": "2022-03-31T06:31:56.255660Z",
     "iopub.status.idle": "2022-03-31T06:31:56.270168Z",
     "shell.execute_reply": "2022-03-31T06:31:56.269497Z",
     "shell.execute_reply.started": "2022-03-31T06:31:56.255853Z"
    },
    "tags": []
   },
   "outputs": [
    {
     "name": "stdout",
     "output_type": "stream",
     "text": [
      "[0 - -]\n",
      "[+ - -]\n",
      "---\n",
      "[0 - -]\n"
     ]
    }
   ],
   "source": [
    "# S = randomNonemptySubset(set(O), 3)\n",
    "S = randomInterestingSubset(200000, set(O), cap=MAX_SAMPLE_SIZE, minSpec=2) # \"interesting\" = the natural class is something other the trivial zero vector [0 ... ]\n",
    "\n",
    "if S is not None:\n",
    "  for each in S:\n",
    "    print(each)\n",
    "\n",
    "  print(\"---\")\n",
    "  print(grandFoldl(FeatureVector.meet)(S))\n",
    "else:\n",
    "  print(\"S is None.\")"
   ]
  },
  {
   "cell_type": "markdown",
   "id": "fed0f4d4-5a10-4317-9674-c3286b64e324",
   "metadata": {},
   "source": [
    "# Generate a set of $n$ objects $O$ over $m$ features such that the meet is not unique"
   ]
  },
  {
   "cell_type": "code",
   "execution_count": 31,
   "id": "05bab885-71f9-45d8-ab95-f373fed9cc5d",
   "metadata": {
    "execution": {
     "iopub.execute_input": "2022-03-31T06:34:44.282670Z",
     "iopub.status.busy": "2022-03-31T06:34:44.282429Z",
     "iopub.status.idle": "2022-03-31T06:34:44.293452Z",
     "shell.execute_reply": "2022-03-31T06:34:44.292734Z",
     "shell.execute_reply.started": "2022-03-31T06:34:44.282641Z"
    },
    "tags": []
   },
   "outputs": [],
   "source": [
    "def findObjectSetWithNonUniqueMeet(numFeatures, numObjects):\n",
    "  assert numFeatures > 0\n",
    "  assert numObjects  > 0\n",
    "  maxNumVectors = 3 ** numFeatures\n",
    "  assert numObjects <= maxNumVectors, f\"Max # distinct vectors for {numFeatures} features is {maxNumVectors}, but numObjects is '{numObjects}'\"\n",
    "  \n",
    "  s = z3.Solver()\n",
    "  \n",
    "  stack = [SymbolicFV.mk(numFeatures, f\"V_{i}\") for i in range(numObjects)]\n",
    "  defineds, valences = SymbolicFV.unwraps(tuple)(stack)\n",
    "  s.add(SymbolicFV.pairwise_distinct1(stack))\n",
    "  \n",
    "  meet = SymbolicFV.mk(numFeatures, \"m\")\n",
    "  defined_meet, valence_meet = meet.unwrap()\n",
    "  s.add(SymbolicFV.meet1(stack, meet))\n",
    "  \n",
    "  alt = SymbolicFV.mk(numFeatures, \"a\")\n",
    "  defined_alt , valence_alt  = alt.unwrap()\n",
    "  s.add(SymbolicFV.meet1(stack, alt))\n",
    "  \n",
    "  s.push()\n",
    "  s.add(SymbolicFV.distinct(meet, alt))\n",
    "\n",
    "  if s.check() == z3.sat:\n",
    "    print('Found model!?') # not expected!\n",
    "    return \"nonunique meets\", s, s.model(), stack, meet, alt\n",
    "  else:\n",
    "    print('No model with distinct second meet') # evidence our definition of meet_Booleans1 is correct if this is *always* the outcome\n",
    "    s.pop()\n",
    "    if s.check() == z3.sat:\n",
    "      print('unique meet')\n",
    "      return \"unique meet/popped\", s, s.model(), stack, meet, alt\n",
    "    print('No meet!')\n",
    "    return \"no meet\", s"
   ]
  },
  {
   "cell_type": "code",
   "execution_count": 32,
   "id": "7c4c1e0d-5491-4537-983d-c087185cf6c9",
   "metadata": {
    "execution": {
     "iopub.execute_input": "2022-03-31T06:37:27.160030Z",
     "iopub.status.busy": "2022-03-31T06:37:27.159839Z",
     "iopub.status.idle": "2022-03-31T06:37:27.166715Z",
     "shell.execute_reply": "2022-03-31T06:37:27.166233Z",
     "shell.execute_reply.started": "2022-03-31T06:37:27.160008Z"
    },
    "tags": []
   },
   "outputs": [],
   "source": [
    "def test_searchFor_objectSetsWithNonuniqueMeet():\n",
    "  Ms =  list(range(3,5))\n",
    "  Ns = [list(range(1, 3 ** m)) for m in Ms]\n",
    "  MNs = lmapcat(lambda pair: [(pair[0], each) for each in pair[1]], \n",
    "                zip(Ms, Ns))\n",
    "  meetIsUnique, meetIsNotUnique, noMeet = [], [], []\n",
    "  for eachM, eachN in tqdm(MNs, total = len(MNs)):\n",
    "    print(f\"m = {eachM}\")\n",
    "    print(f\"n = {eachN}\")\n",
    "    res = findObjectSetWithNonUniqueMeet(eachM, eachN)\n",
    "    if res[0] == \"nonunique meets\":\n",
    "      meetIsNotUnique.append(res)\n",
    "    elif res[0] == \"no meet\":\n",
    "      noMeet.append(res)\n",
    "    elif res[0] == \"unique meet/popped\":\n",
    "      meetIsUnique.append(res)\n",
    "  print(f\"|models where meet is *not* unique| = {len(meetIsNotUnique)}\") # expecting zero\n",
    "  print(f\"|models where no meet exists| = {len(noMeet)}\") # expecting zero\n",
    "  print(f\"|models where meet is unique| = {len(meetIsUnique)}\")\n",
    "  \n",
    "  assert len(meetIsNotUnique) == 0\n",
    "  \n",
    "  return meetIsUnique, meetIsNotUnique, noMeet\n",
    "\n"
   ]
  },
  {
   "cell_type": "code",
   "execution_count": 33,
   "id": "1dbd61af-e0af-41af-9436-f811791f0a94",
   "metadata": {
    "execution": {
     "iopub.execute_input": "2022-03-31T06:37:27.989583Z",
     "iopub.status.busy": "2022-03-31T06:37:27.989345Z",
     "iopub.status.idle": "2022-03-31T06:41:22.472519Z",
     "shell.execute_reply": "2022-03-31T06:41:22.471972Z",
     "shell.execute_reply.started": "2022-03-31T06:37:27.989555Z"
    }
   },
   "outputs": [
    {
     "name": "stderr",
     "output_type": "stream",
     "text": [
      "  5%|▍         | 5/106 [00:00<00:02, 35.88it/s]"
     ]
    },
    {
     "name": "stdout",
     "output_type": "stream",
     "text": [
      "m = 3\n",
      "n = 1\n",
      "No model with distinct second meet\n",
      "unique meet\n",
      "m = 3\n",
      "n = 2\n",
      "No model with distinct second meet\n",
      "unique meet\n",
      "m = 3\n",
      "n = 3\n",
      "No model with distinct second meet\n",
      "unique meet\n",
      "m = 3\n",
      "n = 4\n",
      "No model with distinct second meet\n",
      "unique meet\n",
      "m = 3\n",
      "n = 5\n",
      "No model with distinct second meet\n",
      "unique meet\n",
      "m = 3\n",
      "n = 6\n",
      "No model with distinct second meet\n",
      "unique meet\n",
      "m = 3\n",
      "n = 7\n"
     ]
    },
    {
     "name": "stderr",
     "output_type": "stream",
     "text": [
      "  8%|▊         | 9/106 [00:00<00:05, 18.77it/s]"
     ]
    },
    {
     "name": "stdout",
     "output_type": "stream",
     "text": [
      "No model with distinct second meet\n",
      "unique meet\n",
      "m = 3\n",
      "n = 8\n",
      "No model with distinct second meet\n",
      "unique meet\n",
      "m = 3\n",
      "n = 9\n",
      "No model with distinct second meet\n",
      "unique meet\n",
      "m = 3\n",
      "n = 10\n",
      "No model with distinct second meet\n",
      "unique meet\n",
      "m = 3\n",
      "n = 11\n",
      "No model with distinct second meet\n",
      "unique meet\n",
      "m = 3\n",
      "n = 12\n"
     ]
    },
    {
     "name": "stderr",
     "output_type": "stream",
     "text": [
      " 11%|█▏        | 12/106 [00:00<00:08, 11.66it/s]"
     ]
    },
    {
     "name": "stdout",
     "output_type": "stream",
     "text": [
      "No model with distinct second meet\n",
      "unique meet\n",
      "m = 3\n",
      "n = 13\n",
      "No model with distinct second meet\n",
      "unique meet\n",
      "m = 3\n",
      "n = 14\n"
     ]
    },
    {
     "name": "stderr",
     "output_type": "stream",
     "text": [
      " 13%|█▎        | 14/106 [00:01<00:10,  8.65it/s]"
     ]
    },
    {
     "name": "stdout",
     "output_type": "stream",
     "text": [
      "No model with distinct second meet\n",
      "unique meet\n",
      "m = 3\n",
      "n = 15\n",
      "No model with distinct second meet\n",
      "unique meet\n",
      "m = 3\n",
      "n = 16\n"
     ]
    },
    {
     "name": "stderr",
     "output_type": "stream",
     "text": [
      " 15%|█▌        | 16/106 [00:01<00:13,  6.48it/s]"
     ]
    },
    {
     "name": "stdout",
     "output_type": "stream",
     "text": [
      "No model with distinct second meet\n",
      "unique meet\n",
      "m = 3\n",
      "n = 17\n"
     ]
    },
    {
     "name": "stderr",
     "output_type": "stream",
     "text": [
      " 16%|█▌        | 17/106 [00:02<00:15,  5.58it/s]"
     ]
    },
    {
     "name": "stdout",
     "output_type": "stream",
     "text": [
      "No model with distinct second meet\n",
      "unique meet\n",
      "m = 3\n",
      "n = 18\n"
     ]
    },
    {
     "name": "stderr",
     "output_type": "stream",
     "text": [
      " 17%|█▋        | 18/106 [00:02<00:19,  4.54it/s]"
     ]
    },
    {
     "name": "stdout",
     "output_type": "stream",
     "text": [
      "No model with distinct second meet\n",
      "unique meet\n",
      "m = 3\n",
      "n = 19\n"
     ]
    },
    {
     "name": "stderr",
     "output_type": "stream",
     "text": [
      " 18%|█▊        | 19/106 [00:02<00:22,  3.91it/s]"
     ]
    },
    {
     "name": "stdout",
     "output_type": "stream",
     "text": [
      "No model with distinct second meet\n",
      "unique meet\n",
      "m = 3\n",
      "n = 20\n"
     ]
    },
    {
     "name": "stderr",
     "output_type": "stream",
     "text": [
      " 19%|█▉        | 20/106 [00:03<00:25,  3.42it/s]"
     ]
    },
    {
     "name": "stdout",
     "output_type": "stream",
     "text": [
      "No model with distinct second meet\n",
      "unique meet\n",
      "m = 3\n",
      "n = 21\n"
     ]
    },
    {
     "name": "stderr",
     "output_type": "stream",
     "text": [
      " 20%|█▉        | 21/106 [00:03<00:28,  2.99it/s]"
     ]
    },
    {
     "name": "stdout",
     "output_type": "stream",
     "text": [
      "No model with distinct second meet\n",
      "unique meet\n",
      "m = 3\n",
      "n = 22\n"
     ]
    },
    {
     "name": "stderr",
     "output_type": "stream",
     "text": [
      " 21%|██        | 22/106 [00:04<00:31,  2.65it/s]"
     ]
    },
    {
     "name": "stdout",
     "output_type": "stream",
     "text": [
      "No model with distinct second meet\n",
      "unique meet\n",
      "m = 3\n",
      "n = 23\n"
     ]
    },
    {
     "name": "stderr",
     "output_type": "stream",
     "text": [
      " 22%|██▏       | 23/106 [00:04<00:34,  2.40it/s]"
     ]
    },
    {
     "name": "stdout",
     "output_type": "stream",
     "text": [
      "No model with distinct second meet\n",
      "unique meet\n",
      "m = 3\n",
      "n = 24\n"
     ]
    },
    {
     "name": "stderr",
     "output_type": "stream",
     "text": [
      " 23%|██▎       | 24/106 [00:05<00:37,  2.18it/s]"
     ]
    },
    {
     "name": "stdout",
     "output_type": "stream",
     "text": [
      "No model with distinct second meet\n",
      "unique meet\n",
      "m = 3\n",
      "n = 25\n"
     ]
    },
    {
     "name": "stderr",
     "output_type": "stream",
     "text": [
      " 24%|██▎       | 25/106 [00:05<00:40,  1.98it/s]"
     ]
    },
    {
     "name": "stdout",
     "output_type": "stream",
     "text": [
      "No model with distinct second meet\n",
      "unique meet\n",
      "m = 3\n",
      "n = 26\n"
     ]
    },
    {
     "name": "stderr",
     "output_type": "stream",
     "text": [
      " 28%|██▊       | 30/106 [00:06<00:16,  4.48it/s]"
     ]
    },
    {
     "name": "stdout",
     "output_type": "stream",
     "text": [
      "No model with distinct second meet\n",
      "unique meet\n",
      "m = 4\n",
      "n = 1\n",
      "No model with distinct second meet\n",
      "unique meet\n",
      "m = 4\n",
      "n = 2\n",
      "No model with distinct second meet\n",
      "unique meet\n",
      "m = 4\n",
      "n = 3\n",
      "No model with distinct second meet\n",
      "unique meet\n",
      "m = 4\n",
      "n = 4\n",
      "No model with distinct second meet\n",
      "unique meet\n",
      "m = 4\n",
      "n = 5\n",
      "No model with distinct second meet\n",
      "unique meet\n",
      "m = 4\n",
      "n = 6\n"
     ]
    },
    {
     "name": "stderr",
     "output_type": "stream",
     "text": [
      " 32%|███▏      | 34/106 [00:07<00:10,  6.72it/s]"
     ]
    },
    {
     "name": "stdout",
     "output_type": "stream",
     "text": [
      "No model with distinct second meet\n",
      "unique meet\n",
      "m = 4\n",
      "n = 7\n",
      "No model with distinct second meet\n",
      "unique meet\n",
      "m = 4\n",
      "n = 8\n",
      "No model with distinct second meet\n",
      "unique meet\n",
      "m = 4\n",
      "n = 9\n"
     ]
    },
    {
     "name": "stderr",
     "output_type": "stream",
     "text": [
      " 34%|███▍      | 36/106 [00:07<00:10,  6.85it/s]"
     ]
    },
    {
     "name": "stdout",
     "output_type": "stream",
     "text": [
      "No model with distinct second meet\n",
      "unique meet\n",
      "m = 4\n",
      "n = 10\n",
      "No model with distinct second meet\n",
      "unique meet\n",
      "m = 4\n",
      "n = 11\n",
      "No model with distinct second meet\n",
      "unique meet\n",
      "m = 4\n",
      "n = 12\n"
     ]
    },
    {
     "name": "stderr",
     "output_type": "stream",
     "text": [
      " 36%|███▌      | 38/106 [00:07<00:10,  6.19it/s]"
     ]
    },
    {
     "name": "stdout",
     "output_type": "stream",
     "text": [
      "No model with distinct second meet\n",
      "unique meet\n",
      "m = 4\n",
      "n = 13\n"
     ]
    },
    {
     "name": "stderr",
     "output_type": "stream",
     "text": [
      " 37%|███▋      | 39/106 [00:07<00:11,  5.67it/s]"
     ]
    },
    {
     "name": "stdout",
     "output_type": "stream",
     "text": [
      "No model with distinct second meet\n",
      "unique meet\n",
      "m = 4\n",
      "n = 14\n"
     ]
    },
    {
     "name": "stderr",
     "output_type": "stream",
     "text": [
      " 38%|███▊      | 40/106 [00:08<00:13,  4.99it/s]"
     ]
    },
    {
     "name": "stdout",
     "output_type": "stream",
     "text": [
      "No model with distinct second meet\n",
      "unique meet\n",
      "m = 4\n",
      "n = 15\n"
     ]
    },
    {
     "name": "stderr",
     "output_type": "stream",
     "text": [
      " 39%|███▊      | 41/106 [00:08<00:14,  4.43it/s]"
     ]
    },
    {
     "name": "stdout",
     "output_type": "stream",
     "text": [
      "No model with distinct second meet\n",
      "unique meet\n",
      "m = 4\n",
      "n = 16\n"
     ]
    },
    {
     "name": "stderr",
     "output_type": "stream",
     "text": [
      " 40%|███▉      | 42/106 [00:08<00:16,  3.97it/s]"
     ]
    },
    {
     "name": "stdout",
     "output_type": "stream",
     "text": [
      "No model with distinct second meet\n",
      "unique meet\n",
      "m = 4\n",
      "n = 17\n"
     ]
    },
    {
     "name": "stderr",
     "output_type": "stream",
     "text": [
      " 41%|████      | 43/106 [00:09<00:17,  3.55it/s]"
     ]
    },
    {
     "name": "stdout",
     "output_type": "stream",
     "text": [
      "No model with distinct second meet\n",
      "unique meet\n",
      "m = 4\n",
      "n = 18\n"
     ]
    },
    {
     "name": "stderr",
     "output_type": "stream",
     "text": [
      " 42%|████▏     | 44/106 [00:09<00:19,  3.13it/s]"
     ]
    },
    {
     "name": "stdout",
     "output_type": "stream",
     "text": [
      "No model with distinct second meet\n",
      "unique meet\n",
      "m = 4\n",
      "n = 19\n"
     ]
    },
    {
     "name": "stderr",
     "output_type": "stream",
     "text": [
      " 42%|████▏     | 45/106 [00:10<00:22,  2.74it/s]"
     ]
    },
    {
     "name": "stdout",
     "output_type": "stream",
     "text": [
      "No model with distinct second meet\n",
      "unique meet\n",
      "m = 4\n",
      "n = 20\n"
     ]
    },
    {
     "name": "stderr",
     "output_type": "stream",
     "text": [
      " 43%|████▎     | 46/106 [00:10<00:24,  2.43it/s]"
     ]
    },
    {
     "name": "stdout",
     "output_type": "stream",
     "text": [
      "No model with distinct second meet\n",
      "unique meet\n",
      "m = 4\n",
      "n = 21\n"
     ]
    },
    {
     "name": "stderr",
     "output_type": "stream",
     "text": [
      " 44%|████▍     | 47/106 [00:11<00:27,  2.17it/s]"
     ]
    },
    {
     "name": "stdout",
     "output_type": "stream",
     "text": [
      "No model with distinct second meet\n",
      "unique meet\n",
      "m = 4\n",
      "n = 22\n"
     ]
    },
    {
     "name": "stderr",
     "output_type": "stream",
     "text": [
      " 45%|████▌     | 48/106 [00:11<00:29,  1.95it/s]"
     ]
    },
    {
     "name": "stdout",
     "output_type": "stream",
     "text": [
      "No model with distinct second meet\n",
      "unique meet\n",
      "m = 4\n",
      "n = 23\n"
     ]
    },
    {
     "name": "stderr",
     "output_type": "stream",
     "text": [
      " 46%|████▌     | 49/106 [00:12<00:32,  1.76it/s]"
     ]
    },
    {
     "name": "stdout",
     "output_type": "stream",
     "text": [
      "No model with distinct second meet\n",
      "unique meet\n",
      "m = 4\n",
      "n = 24\n"
     ]
    },
    {
     "name": "stderr",
     "output_type": "stream",
     "text": [
      " 47%|████▋     | 50/106 [00:13<00:35,  1.60it/s]"
     ]
    },
    {
     "name": "stdout",
     "output_type": "stream",
     "text": [
      "No model with distinct second meet\n",
      "unique meet\n",
      "m = 4\n",
      "n = 25\n"
     ]
    },
    {
     "name": "stderr",
     "output_type": "stream",
     "text": [
      " 48%|████▊     | 51/106 [00:14<00:36,  1.49it/s]"
     ]
    },
    {
     "name": "stdout",
     "output_type": "stream",
     "text": [
      "No model with distinct second meet\n",
      "unique meet\n",
      "m = 4\n",
      "n = 26\n"
     ]
    },
    {
     "name": "stderr",
     "output_type": "stream",
     "text": [
      " 49%|████▉     | 52/106 [00:15<00:39,  1.38it/s]"
     ]
    },
    {
     "name": "stdout",
     "output_type": "stream",
     "text": [
      "No model with distinct second meet\n",
      "unique meet\n",
      "m = 4\n",
      "n = 27\n"
     ]
    },
    {
     "name": "stderr",
     "output_type": "stream",
     "text": [
      " 50%|█████     | 53/106 [00:15<00:42,  1.25it/s]"
     ]
    },
    {
     "name": "stdout",
     "output_type": "stream",
     "text": [
      "No model with distinct second meet\n",
      "unique meet\n",
      "m = 4\n",
      "n = 28\n"
     ]
    },
    {
     "name": "stderr",
     "output_type": "stream",
     "text": [
      " 51%|█████     | 54/106 [00:16<00:44,  1.18it/s]"
     ]
    },
    {
     "name": "stdout",
     "output_type": "stream",
     "text": [
      "No model with distinct second meet\n",
      "unique meet\n",
      "m = 4\n",
      "n = 29\n"
     ]
    },
    {
     "name": "stderr",
     "output_type": "stream",
     "text": [
      " 52%|█████▏    | 55/106 [00:17<00:45,  1.12it/s]"
     ]
    },
    {
     "name": "stdout",
     "output_type": "stream",
     "text": [
      "No model with distinct second meet\n",
      "unique meet\n",
      "m = 4\n",
      "n = 30\n"
     ]
    },
    {
     "name": "stderr",
     "output_type": "stream",
     "text": [
      " 53%|█████▎    | 56/106 [00:19<00:48,  1.03it/s]"
     ]
    },
    {
     "name": "stdout",
     "output_type": "stream",
     "text": [
      "No model with distinct second meet\n",
      "unique meet\n",
      "m = 4\n",
      "n = 31\n"
     ]
    },
    {
     "name": "stderr",
     "output_type": "stream",
     "text": [
      " 54%|█████▍    | 57/106 [00:20<00:51,  1.06s/it]"
     ]
    },
    {
     "name": "stdout",
     "output_type": "stream",
     "text": [
      "No model with distinct second meet\n",
      "unique meet\n",
      "m = 4\n",
      "n = 32\n"
     ]
    },
    {
     "name": "stderr",
     "output_type": "stream",
     "text": [
      " 55%|█████▍    | 58/106 [00:21<00:53,  1.11s/it]"
     ]
    },
    {
     "name": "stdout",
     "output_type": "stream",
     "text": [
      "No model with distinct second meet\n",
      "unique meet\n",
      "m = 4\n",
      "n = 33\n"
     ]
    },
    {
     "name": "stderr",
     "output_type": "stream",
     "text": [
      " 56%|█████▌    | 59/106 [00:22<00:55,  1.19s/it]"
     ]
    },
    {
     "name": "stdout",
     "output_type": "stream",
     "text": [
      "No model with distinct second meet\n",
      "unique meet\n",
      "m = 4\n",
      "n = 34\n"
     ]
    },
    {
     "name": "stderr",
     "output_type": "stream",
     "text": [
      " 57%|█████▋    | 60/106 [00:24<00:57,  1.25s/it]"
     ]
    },
    {
     "name": "stdout",
     "output_type": "stream",
     "text": [
      "No model with distinct second meet\n",
      "unique meet\n",
      "m = 4\n",
      "n = 35\n"
     ]
    },
    {
     "name": "stderr",
     "output_type": "stream",
     "text": [
      " 58%|█████▊    | 61/106 [00:25<00:59,  1.33s/it]"
     ]
    },
    {
     "name": "stdout",
     "output_type": "stream",
     "text": [
      "No model with distinct second meet\n",
      "unique meet\n",
      "m = 4\n",
      "n = 36\n"
     ]
    },
    {
     "name": "stderr",
     "output_type": "stream",
     "text": [
      " 58%|█████▊    | 62/106 [00:27<01:02,  1.42s/it]"
     ]
    },
    {
     "name": "stdout",
     "output_type": "stream",
     "text": [
      "No model with distinct second meet\n",
      "unique meet\n",
      "m = 4\n",
      "n = 37\n"
     ]
    },
    {
     "name": "stderr",
     "output_type": "stream",
     "text": [
      " 59%|█████▉    | 63/106 [00:29<01:05,  1.53s/it]"
     ]
    },
    {
     "name": "stdout",
     "output_type": "stream",
     "text": [
      "No model with distinct second meet\n",
      "unique meet\n",
      "m = 4\n",
      "n = 38\n"
     ]
    },
    {
     "name": "stderr",
     "output_type": "stream",
     "text": [
      " 60%|██████    | 64/106 [00:31<01:08,  1.63s/it]"
     ]
    },
    {
     "name": "stdout",
     "output_type": "stream",
     "text": [
      "No model with distinct second meet\n",
      "unique meet\n",
      "m = 4\n",
      "n = 39\n"
     ]
    },
    {
     "name": "stderr",
     "output_type": "stream",
     "text": [
      " 61%|██████▏   | 65/106 [00:33<01:11,  1.73s/it]"
     ]
    },
    {
     "name": "stdout",
     "output_type": "stream",
     "text": [
      "No model with distinct second meet\n",
      "unique meet\n",
      "m = 4\n",
      "n = 40\n"
     ]
    },
    {
     "name": "stderr",
     "output_type": "stream",
     "text": [
      " 62%|██████▏   | 66/106 [00:35<01:13,  1.84s/it]"
     ]
    },
    {
     "name": "stdout",
     "output_type": "stream",
     "text": [
      "No model with distinct second meet\n",
      "unique meet\n",
      "m = 4\n",
      "n = 41\n"
     ]
    },
    {
     "name": "stderr",
     "output_type": "stream",
     "text": [
      " 63%|██████▎   | 67/106 [00:37<01:16,  1.95s/it]"
     ]
    },
    {
     "name": "stdout",
     "output_type": "stream",
     "text": [
      "No model with distinct second meet\n",
      "unique meet\n",
      "m = 4\n",
      "n = 42\n"
     ]
    },
    {
     "name": "stderr",
     "output_type": "stream",
     "text": [
      " 64%|██████▍   | 68/106 [00:39<01:18,  2.06s/it]"
     ]
    },
    {
     "name": "stdout",
     "output_type": "stream",
     "text": [
      "No model with distinct second meet\n",
      "unique meet\n",
      "m = 4\n",
      "n = 43\n"
     ]
    },
    {
     "name": "stderr",
     "output_type": "stream",
     "text": [
      " 65%|██████▌   | 69/106 [00:42<01:19,  2.14s/it]"
     ]
    },
    {
     "name": "stdout",
     "output_type": "stream",
     "text": [
      "No model with distinct second meet\n",
      "unique meet\n",
      "m = 4\n",
      "n = 44\n"
     ]
    },
    {
     "name": "stderr",
     "output_type": "stream",
     "text": [
      " 66%|██████▌   | 70/106 [00:44<01:20,  2.24s/it]"
     ]
    },
    {
     "name": "stdout",
     "output_type": "stream",
     "text": [
      "No model with distinct second meet\n",
      "unique meet\n",
      "m = 4\n",
      "n = 45\n"
     ]
    },
    {
     "name": "stderr",
     "output_type": "stream",
     "text": [
      " 67%|██████▋   | 71/106 [00:47<01:23,  2.37s/it]"
     ]
    },
    {
     "name": "stdout",
     "output_type": "stream",
     "text": [
      "No model with distinct second meet\n",
      "unique meet\n",
      "m = 4\n",
      "n = 46\n"
     ]
    },
    {
     "name": "stderr",
     "output_type": "stream",
     "text": [
      " 68%|██████▊   | 72/106 [00:50<01:25,  2.50s/it]"
     ]
    },
    {
     "name": "stdout",
     "output_type": "stream",
     "text": [
      "No model with distinct second meet\n",
      "unique meet\n",
      "m = 4\n",
      "n = 47\n"
     ]
    },
    {
     "name": "stderr",
     "output_type": "stream",
     "text": [
      " 69%|██████▉   | 73/106 [00:52<01:26,  2.62s/it]"
     ]
    },
    {
     "name": "stdout",
     "output_type": "stream",
     "text": [
      "No model with distinct second meet\n",
      "unique meet\n",
      "m = 4\n",
      "n = 48\n"
     ]
    },
    {
     "name": "stderr",
     "output_type": "stream",
     "text": [
      " 70%|██████▉   | 74/106 [00:55<01:26,  2.70s/it]"
     ]
    },
    {
     "name": "stdout",
     "output_type": "stream",
     "text": [
      "No model with distinct second meet\n",
      "unique meet\n",
      "m = 4\n",
      "n = 49\n"
     ]
    },
    {
     "name": "stderr",
     "output_type": "stream",
     "text": [
      " 71%|███████   | 75/106 [00:58<01:28,  2.84s/it]"
     ]
    },
    {
     "name": "stdout",
     "output_type": "stream",
     "text": [
      "No model with distinct second meet\n",
      "unique meet\n",
      "m = 4\n",
      "n = 50\n"
     ]
    },
    {
     "name": "stderr",
     "output_type": "stream",
     "text": [
      " 72%|███████▏  | 76/106 [01:02<01:29,  2.97s/it]"
     ]
    },
    {
     "name": "stdout",
     "output_type": "stream",
     "text": [
      "No model with distinct second meet\n",
      "unique meet\n",
      "m = 4\n",
      "n = 51\n"
     ]
    },
    {
     "name": "stderr",
     "output_type": "stream",
     "text": [
      " 73%|███████▎  | 77/106 [01:05<01:29,  3.10s/it]"
     ]
    },
    {
     "name": "stdout",
     "output_type": "stream",
     "text": [
      "No model with distinct second meet\n",
      "unique meet\n",
      "m = 4\n",
      "n = 52\n"
     ]
    },
    {
     "name": "stderr",
     "output_type": "stream",
     "text": [
      " 74%|███████▎  | 78/106 [01:09<01:29,  3.21s/it]"
     ]
    },
    {
     "name": "stdout",
     "output_type": "stream",
     "text": [
      "No model with distinct second meet\n",
      "unique meet\n",
      "m = 4\n",
      "n = 53\n"
     ]
    },
    {
     "name": "stderr",
     "output_type": "stream",
     "text": [
      " 75%|███████▍  | 79/106 [01:12<01:30,  3.35s/it]"
     ]
    },
    {
     "name": "stdout",
     "output_type": "stream",
     "text": [
      "No model with distinct second meet\n",
      "unique meet\n",
      "m = 4\n",
      "n = 54\n"
     ]
    },
    {
     "name": "stderr",
     "output_type": "stream",
     "text": [
      " 75%|███████▌  | 80/106 [01:16<01:30,  3.49s/it]"
     ]
    },
    {
     "name": "stdout",
     "output_type": "stream",
     "text": [
      "No model with distinct second meet\n",
      "unique meet\n",
      "m = 4\n",
      "n = 55\n",
      "No model with distinct second meet\n",
      "unique meet\n"
     ]
    },
    {
     "name": "stderr",
     "output_type": "stream",
     "text": [
      " 76%|███████▋  | 81/106 [01:20<01:29,  3.59s/it]"
     ]
    },
    {
     "name": "stdout",
     "output_type": "stream",
     "text": [
      "m = 4\n",
      "n = 56\n"
     ]
    },
    {
     "name": "stderr",
     "output_type": "stream",
     "text": [
      " 77%|███████▋  | 82/106 [01:24<01:29,  3.73s/it]"
     ]
    },
    {
     "name": "stdout",
     "output_type": "stream",
     "text": [
      "No model with distinct second meet\n",
      "unique meet\n",
      "m = 4\n",
      "n = 57\n"
     ]
    },
    {
     "name": "stderr",
     "output_type": "stream",
     "text": [
      " 78%|███████▊  | 83/106 [01:28<01:27,  3.80s/it]"
     ]
    },
    {
     "name": "stdout",
     "output_type": "stream",
     "text": [
      "No model with distinct second meet\n",
      "unique meet\n",
      "m = 4\n",
      "n = 58\n"
     ]
    },
    {
     "name": "stderr",
     "output_type": "stream",
     "text": [
      " 79%|███████▉  | 84/106 [01:32<01:26,  3.95s/it]"
     ]
    },
    {
     "name": "stdout",
     "output_type": "stream",
     "text": [
      "No model with distinct second meet\n",
      "unique meet\n",
      "m = 4\n",
      "n = 59\n",
      "No model with distinct second meet\n"
     ]
    },
    {
     "name": "stderr",
     "output_type": "stream",
     "text": [
      " 80%|████████  | 85/106 [01:37<01:26,  4.10s/it]"
     ]
    },
    {
     "name": "stdout",
     "output_type": "stream",
     "text": [
      "unique meet\n",
      "m = 4\n",
      "n = 60\n",
      "No model with distinct second meet\n"
     ]
    },
    {
     "name": "stderr",
     "output_type": "stream",
     "text": [
      " 81%|████████  | 86/106 [01:41<01:25,  4.27s/it]"
     ]
    },
    {
     "name": "stdout",
     "output_type": "stream",
     "text": [
      "unique meet\n",
      "m = 4\n",
      "n = 61\n",
      "No model with distinct second meet\n"
     ]
    },
    {
     "name": "stderr",
     "output_type": "stream",
     "text": [
      " 82%|████████▏ | 87/106 [01:46<01:24,  4.43s/it]"
     ]
    },
    {
     "name": "stdout",
     "output_type": "stream",
     "text": [
      "unique meet\n",
      "m = 4\n",
      "n = 62\n",
      "No model with distinct second meet\n"
     ]
    },
    {
     "name": "stderr",
     "output_type": "stream",
     "text": [
      " 83%|████████▎ | 88/106 [01:51<01:22,  4.61s/it]"
     ]
    },
    {
     "name": "stdout",
     "output_type": "stream",
     "text": [
      "unique meet\n",
      "m = 4\n",
      "n = 63\n",
      "No model with distinct second meet\n"
     ]
    },
    {
     "name": "stderr",
     "output_type": "stream",
     "text": [
      " 84%|████████▍ | 89/106 [01:56<01:21,  4.79s/it]"
     ]
    },
    {
     "name": "stdout",
     "output_type": "stream",
     "text": [
      "unique meet\n",
      "m = 4\n",
      "n = 64\n",
      "No model with distinct second meet\n"
     ]
    },
    {
     "name": "stderr",
     "output_type": "stream",
     "text": [
      " 85%|████████▍ | 90/106 [02:02<01:18,  4.91s/it]"
     ]
    },
    {
     "name": "stdout",
     "output_type": "stream",
     "text": [
      "unique meet\n",
      "m = 4\n",
      "n = 65\n",
      "No model with distinct second meet\n"
     ]
    },
    {
     "name": "stderr",
     "output_type": "stream",
     "text": [
      " 86%|████████▌ | 91/106 [02:07<01:16,  5.08s/it]"
     ]
    },
    {
     "name": "stdout",
     "output_type": "stream",
     "text": [
      "unique meet\n",
      "m = 4\n",
      "n = 66\n",
      "No model with distinct second meet\n"
     ]
    },
    {
     "name": "stderr",
     "output_type": "stream",
     "text": [
      " 87%|████████▋ | 92/106 [02:13<01:13,  5.26s/it]"
     ]
    },
    {
     "name": "stdout",
     "output_type": "stream",
     "text": [
      "unique meet\n",
      "m = 4\n",
      "n = 67\n",
      "No model with distinct second meet\n"
     ]
    },
    {
     "name": "stderr",
     "output_type": "stream",
     "text": [
      " 88%|████████▊ | 93/106 [02:18<01:09,  5.35s/it]"
     ]
    },
    {
     "name": "stdout",
     "output_type": "stream",
     "text": [
      "unique meet\n",
      "m = 4\n",
      "n = 68\n",
      "No model with distinct second meet\n"
     ]
    },
    {
     "name": "stderr",
     "output_type": "stream",
     "text": [
      " 89%|████████▊ | 94/106 [02:24<01:06,  5.55s/it]"
     ]
    },
    {
     "name": "stdout",
     "output_type": "stream",
     "text": [
      "unique meet\n",
      "m = 4\n",
      "n = 69\n",
      "No model with distinct second meet\n"
     ]
    },
    {
     "name": "stderr",
     "output_type": "stream",
     "text": [
      " 90%|████████▉ | 95/106 [02:31<01:03,  5.81s/it]"
     ]
    },
    {
     "name": "stdout",
     "output_type": "stream",
     "text": [
      "unique meet\n",
      "m = 4\n",
      "n = 70\n",
      "No model with distinct second meet\n"
     ]
    },
    {
     "name": "stderr",
     "output_type": "stream",
     "text": [
      " 91%|█████████ | 96/106 [02:37<01:00,  6.00s/it]"
     ]
    },
    {
     "name": "stdout",
     "output_type": "stream",
     "text": [
      "unique meet\n",
      "m = 4\n",
      "n = 71\n",
      "No model with distinct second meet\n"
     ]
    },
    {
     "name": "stderr",
     "output_type": "stream",
     "text": [
      " 92%|█████████▏| 97/106 [02:44<00:55,  6.19s/it]"
     ]
    },
    {
     "name": "stdout",
     "output_type": "stream",
     "text": [
      "unique meet\n",
      "m = 4\n",
      "n = 72\n",
      "No model with distinct second meet\n"
     ]
    },
    {
     "name": "stderr",
     "output_type": "stream",
     "text": [
      " 92%|█████████▏| 98/106 [02:51<00:51,  6.40s/it]"
     ]
    },
    {
     "name": "stdout",
     "output_type": "stream",
     "text": [
      "unique meet\n",
      "m = 4\n",
      "n = 73\n",
      "No model with distinct second meet\n"
     ]
    },
    {
     "name": "stderr",
     "output_type": "stream",
     "text": [
      " 93%|█████████▎| 99/106 [02:58<00:46,  6.63s/it]"
     ]
    },
    {
     "name": "stdout",
     "output_type": "stream",
     "text": [
      "unique meet\n",
      "m = 4\n",
      "n = 74\n",
      "No model with distinct second meet\n"
     ]
    },
    {
     "name": "stderr",
     "output_type": "stream",
     "text": [
      " 94%|█████████▍| 100/106 [03:05<00:40,  6.77s/it]"
     ]
    },
    {
     "name": "stdout",
     "output_type": "stream",
     "text": [
      "unique meet\n",
      "m = 4\n",
      "n = 75\n",
      "No model with distinct second meet\n"
     ]
    },
    {
     "name": "stderr",
     "output_type": "stream",
     "text": [
      " 95%|█████████▌| 101/106 [03:13<00:34,  7.00s/it]"
     ]
    },
    {
     "name": "stdout",
     "output_type": "stream",
     "text": [
      "unique meet\n",
      "m = 4\n",
      "n = 76\n",
      "No model with distinct second meet\n"
     ]
    },
    {
     "name": "stderr",
     "output_type": "stream",
     "text": [
      " 96%|█████████▌| 102/106 [03:20<00:29,  7.25s/it]"
     ]
    },
    {
     "name": "stdout",
     "output_type": "stream",
     "text": [
      "unique meet\n",
      "m = 4\n",
      "n = 77\n",
      "No model with distinct second meet\n"
     ]
    },
    {
     "name": "stderr",
     "output_type": "stream",
     "text": [
      " 97%|█████████▋| 103/106 [03:28<00:22,  7.50s/it]"
     ]
    },
    {
     "name": "stdout",
     "output_type": "stream",
     "text": [
      "unique meet\n",
      "m = 4\n",
      "n = 78\n",
      "No model with distinct second meet\n"
     ]
    },
    {
     "name": "stderr",
     "output_type": "stream",
     "text": [
      " 98%|█████████▊| 104/106 [03:37<00:15,  7.78s/it]"
     ]
    },
    {
     "name": "stdout",
     "output_type": "stream",
     "text": [
      "unique meet\n",
      "m = 4\n",
      "n = 79\n",
      "No model with distinct second meet\n"
     ]
    },
    {
     "name": "stderr",
     "output_type": "stream",
     "text": [
      " 99%|█████████▉| 105/106 [03:46<00:08,  8.02s/it]"
     ]
    },
    {
     "name": "stdout",
     "output_type": "stream",
     "text": [
      "unique meet\n",
      "m = 4\n",
      "n = 80\n",
      "No model with distinct second meet\n"
     ]
    },
    {
     "name": "stderr",
     "output_type": "stream",
     "text": [
      "100%|██████████| 106/106 [03:54<00:00,  2.21s/it]"
     ]
    },
    {
     "name": "stdout",
     "output_type": "stream",
     "text": [
      "unique meet\n",
      "|models where meet is *not* unique| = 0\n",
      "|models where no meet exists| = 0\n",
      "|models where meet is unique| = 106\n"
     ]
    },
    {
     "name": "stderr",
     "output_type": "stream",
     "text": [
      "\n"
     ]
    }
   ],
   "source": [
    "results = searchFor_objectSetsWithNonuniqueMeet()"
   ]
  },
  {
   "cell_type": "markdown",
   "id": "5c3b17b7-e1db-4fd7-833a-8545ef6af294",
   "metadata": {},
   "source": [
    "## (...join analogue)"
   ]
  },
  {
   "cell_type": "code",
   "execution_count": 14,
   "id": "e3ce8e35-a5f0-4214-a236-9d66d522097e",
   "metadata": {
    "execution": {
     "iopub.execute_input": "2022-03-31T06:31:56.311422Z",
     "iopub.status.busy": "2022-03-31T06:31:56.311116Z",
     "iopub.status.idle": "2022-03-31T06:31:56.334227Z",
     "shell.execute_reply": "2022-03-31T06:31:56.333797Z",
     "shell.execute_reply.started": "2022-03-31T06:31:56.311392Z"
    }
   },
   "outputs": [],
   "source": [
    "def findObjectSetWithNonUniqueJoin(numFeatures, numObjects):\n",
    "  assert numFeatures > 0\n",
    "  assert numObjects  > 0\n",
    "  maxNumVectors = 3 ** numFeatures\n",
    "  assert numObjects <= maxNumVectors, f\"Max # distinct vectors for {numFeatures} features is {maxNumVectors}, but numObjects is '{numObjects}'\"\n",
    "  \n",
    "  s = z3.Solver()\n",
    "  \n",
    "  stack = [SymbolicFV.mk(numFeatures, f\"V_{i}\") for i in range(numObjects)]\n",
    "  defineds, valences = SymbolicFV.unwraps(tuple)(stack)\n",
    "  s.add(SymbolicFV.pairwise_distinct1(stack))\n",
    "  \n",
    "  join = SymbolicFV.mk(numFeatures, \"j\")\n",
    "  defined_join, valence_join = join.unwrap()\n",
    "  s.add(SymbolicFV.meet1(stack, join))\n",
    "  \n",
    "  alt = SymbolicFV.mk(numFeatures, \"a\")\n",
    "  defined_alt , valence_alt  = alt.unwrap()\n",
    "  s.add(SymbolicFV.meet1(stack, alt))\n",
    "  \n",
    "  s.push()\n",
    "  s.add(SymbolicFV.distinct(join, alt))\n",
    "\n",
    "  if s.check() == z3.sat:\n",
    "    print('Found model!?') # not expected!\n",
    "    return \"nonunique joins\", s, s.model(), stack, join, alt\n",
    "  else:\n",
    "    print('No model with distinct second join') # evidence our definition of join_Booleans1 is correct if this is *always* the outcome\n",
    "    s.pop()\n",
    "    if s.check() == z3.sat:\n",
    "      print('unique join')\n",
    "      return \"unique join/popped\", s, s.model(), stack, join, alt\n",
    "    print('No join!')\n",
    "    return \"no join\", s"
   ]
  },
  {
   "cell_type": "code",
   "execution_count": 15,
   "id": "875c133f-5f34-4c21-9141-f37408a59226",
   "metadata": {
    "execution": {
     "iopub.execute_input": "2022-03-31T06:31:56.335284Z",
     "iopub.status.busy": "2022-03-31T06:31:56.335053Z",
     "iopub.status.idle": "2022-03-31T06:31:56.356764Z",
     "shell.execute_reply": "2022-03-31T06:31:56.356290Z",
     "shell.execute_reply.started": "2022-03-31T06:31:56.335255Z"
    }
   },
   "outputs": [],
   "source": [
    "#def test_searchFor_objectSetsWithNonuniqueJoin():\n",
    "def searchFor_objectSetsWithNonuniqueJoin():\n",
    "  Ms =  list(range(3,5))\n",
    "  Ns = [list(range(1, 3 ** m)) for m in Ms]\n",
    "  MNs = lmapcat(lambda pair: [(pair[0], each) for each in pair[1]], \n",
    "                zip(Ms, Ns))\n",
    "  joinIsUnique, joinIsNotUnique, noJoin = [], [], []\n",
    "  for eachM, eachN in tqdm(MNs, total = len(MNs)):\n",
    "    print(f\"m = {eachM}\")\n",
    "    print(f\"n = {eachN}\")\n",
    "    res = findObjectSetWithNonUniqueJoin(eachM, eachN)\n",
    "    if res[0] == \"nonunique joins\":\n",
    "      joinIsNotUnique.append(res)\n",
    "    elif res[0] == \"no join\":\n",
    "      noJoin.append(res)\n",
    "    elif res[0] == \"unique join/popped\":\n",
    "      joinIsUnique.append(res)\n",
    "  print(f\"|models where join is *not* unique| = {len(joinIsNotUnique)}\") # expecting zero\n",
    "  print(f\"|models where no join exists| = {len(noJoin)}\") # expecting *non*zero, perhaps most\n",
    "  print(f\"|models where join is unique| = {len(joinIsUnique)}\")\n",
    "  \n",
    "  assert len(joinIsNotUnique) == 0\n",
    "  \n",
    "  return joinIsUnique, joinIsNotUnique, noJoin\n"
   ]
  },
  {
   "cell_type": "code",
   "execution_count": null,
   "id": "19f3adb5-5213-4c9d-8869-5f9d38cc81d2",
   "metadata": {},
   "outputs": [],
   "source": [
    "results = searchFor_objectSetsWithNonuniqueJoin()"
   ]
  },
  {
   "cell_type": "markdown",
   "id": "cb2b5f46-75e8-41c7-ba74-da00834860f2",
   "metadata": {},
   "source": [
    "## Generate a set of $n$ objects $O$ over $m$ features such that there is a subset $S$ whose meet $m$ has *synonyms* - feature vectors with the same interpretation"
   ]
  },
  {
   "cell_type": "code",
   "execution_count": 16,
   "id": "a5ae8269-507d-4fae-b391-837f38d6a009",
   "metadata": {
    "execution": {
     "iopub.execute_input": "2022-03-29T09:56:10.355150Z",
     "iopub.status.busy": "2022-03-29T09:56:10.354938Z",
     "iopub.status.idle": "2022-03-29T09:56:10.364965Z",
     "shell.execute_reply": "2022-03-29T09:56:10.364231Z",
     "shell.execute_reply.started": "2022-03-29T09:56:10.355126Z"
    },
    "tags": []
   },
   "outputs": [],
   "source": [
    "def findAmbiguousObjectSet(numFeatures, numObjects, \n",
    "                           minSubsetSize=None, \n",
    "                           meetIsNonZero=True, altIsNonZero=True, \n",
    "                           interpIsNotUniverse=True,\n",
    "                           par=True, solver=None):\n",
    "  if solver is None:\n",
    "    solver = z3.Solver()\n",
    "  if par:\n",
    "    z3.set_param(\"parallel.enable\", True)\n",
    "#     z3.set_param(\"parallel.threads.max\", 4) # defaults to number of processes\n",
    "  if minSubsetSize is None:\n",
    "    minSubsetSize = 2\n",
    "  assert minSubsetSize <= numObjects\n",
    "    \n",
    "  stack = SymbolicFV.mks(numFeatures, \"V\", numObjects)\n",
    "  defineds, valences = SymbolicFV.unwraps(tuple)(stack)\n",
    "  solver.add(SymbolicFV.pairwise_distinct1(stack))\n",
    "  \n",
    "  inSubset = SymbolicSubsetVector.mk(numObjects, \"inSubset\")\n",
    "#   solver.add(SymbolicSubsetVector.isNonempty(inSubset))\n",
    "  solver.add(SymbolicSubsetVector.hasAtLeastKelements(inSubset, minSubsetSize))\n",
    "  \n",
    "  meet = SymbolicFV.mk(numFeatures, \"meet\")\n",
    "  defined_meet, valence_meet = meet.unwrap()\n",
    "  solver.add(SymbolicFV.meet2(stack, inSubset, meet))\n",
    "  if meetIsNonZero:\n",
    "    solver.add(SymbolicFV.nonZero(meet))\n",
    "  \n",
    "  # assert that every object in the subset must be in the interpretation of the meet (the converse does not in general hold)\n",
    "  # assert that for every object i, i is in the interpretation of the meet iff the meet <= object i \n",
    "  meet_interp = SymbolicSubsetVector.mk(numObjects, \"meet_interp\")\n",
    "  solver.add(SymbolicFV.interpretation(meet, meet_interp, stack))\n",
    "  solver.add(z3.And([z3.Implies(inSubset.value[i], meet_interp.value[i])\n",
    "                    for i in range(numObjects)]))\n",
    "  if interpIsNotUniverse:\n",
    "    solver.add(z3.Not(SymbolicSubsetVector.isUniverse(meet_interp)))\n",
    "  \n",
    "  alt = SymbolicFV.mk(numFeatures, \"alt\")\n",
    "  defined_alt, valence_alt = alt.unwrap()\n",
    "\n",
    "  solver.add(SymbolicFV.distinct(meet, alt))\n",
    "  if altIsNonZero:\n",
    "    solver.add(SymbolicFV.nonZero(alt))\n",
    "  \n",
    "  alt_interp = SymbolicSubsetVector.mk(numObjects, \"alt_interp\")\n",
    "  solver.add(SymbolicFV.interpretation(alt, alt_interp, stack))\n",
    "\n",
    "  solver.push()\n",
    "  solver.add(z3.And([m == a \n",
    "                     for m,a in zip(meet_interp.value, \n",
    "                                    alt_interp.value)\n",
    "                    ]))\n",
    "  \n",
    "  if solver.check() == z3.sat:\n",
    "    print(\"Found vector distinct from meet with same interpretation\")\n",
    "    return \"meet synonym\", solver, solver.model(), stack, inSubset, meet, meet_interp, alt, alt_interp\n",
    "  else:\n",
    "    solver.pop()\n",
    "    if solver.check() == z3.sat:\n",
    "      print(\"Only meet has its interpretation\")\n",
    "      return \"unique meet\", solver, solver.model(), stack, inSubset, meet, meet_interp, alt, alt_interp\n",
    "    else:\n",
    "      print(\"Meet does not exist with current parameters\")\n",
    "      return \"no meet\", solver\n"
   ]
  },
  {
   "cell_type": "code",
   "execution_count": 16,
   "id": "a6359438-1e52-4a96-bbe8-a5c7d0be47ea",
   "metadata": {
    "execution": {
     "iopub.execute_input": "2022-03-31T06:31:56.357853Z",
     "iopub.status.busy": "2022-03-31T06:31:56.357621Z",
     "iopub.status.idle": "2022-03-31T06:31:56.435240Z",
     "shell.execute_reply": "2022-03-31T06:31:56.434235Z",
     "shell.execute_reply.started": "2022-03-31T06:31:56.357822Z"
    },
    "tags": []
   },
   "outputs": [
    {
     "name": "stdout",
     "output_type": "stream",
     "text": [
      "|MNs|=2\n",
      "MNs:\n",
      "m=3, n=10\n",
      "m=3, n=11\n"
     ]
    },
    {
     "name": "stderr",
     "output_type": "stream",
     "text": [
      "  0%|          | 0/2 [00:00<?, ?it/s]\n"
     ]
    },
    {
     "name": "stdout",
     "output_type": "stream",
     "text": [
      "m = 3\n",
      "n = 10\n"
     ]
    },
    {
     "ename": "NameError",
     "evalue": "name 'findAmbiguousObjectSet' is not defined",
     "output_type": "error",
     "traceback": [
      "\u001b[0;31m---------------------------------------------------------------------------\u001b[0m",
      "\u001b[0;31mNameError\u001b[0m                                 Traceback (most recent call last)",
      "\u001b[0;32m<ipython-input-16-a28225e334b6>\u001b[0m in \u001b[0;36m<module>\u001b[0;34m\u001b[0m\n\u001b[1;32m     28\u001b[0m   \u001b[0;32mreturn\u001b[0m \u001b[0mmeetSynonyms\u001b[0m\u001b[0;34m,\u001b[0m \u001b[0muniqueMeets\u001b[0m\u001b[0;34m,\u001b[0m \u001b[0mnoMeets\u001b[0m\u001b[0;34m\u001b[0m\u001b[0;34m\u001b[0m\u001b[0m\n\u001b[1;32m     29\u001b[0m \u001b[0;34m\u001b[0m\u001b[0m\n\u001b[0;32m---> 30\u001b[0;31m \u001b[0mresults\u001b[0m \u001b[0;34m=\u001b[0m \u001b[0msearchForAmbiguousObjectSets\u001b[0m\u001b[0;34m(\u001b[0m\u001b[0;34m)\u001b[0m\u001b[0;34m\u001b[0m\u001b[0;34m\u001b[0m\u001b[0m\n\u001b[0m",
      "\u001b[0;32m<ipython-input-16-a28225e334b6>\u001b[0m in \u001b[0;36msearchForAmbiguousObjectSets\u001b[0;34m()\u001b[0m\n\u001b[1;32m     16\u001b[0m     \u001b[0mprint\u001b[0m\u001b[0;34m(\u001b[0m\u001b[0;34mf\"m = {eachM}\"\u001b[0m\u001b[0;34m)\u001b[0m\u001b[0;34m\u001b[0m\u001b[0;34m\u001b[0m\u001b[0m\n\u001b[1;32m     17\u001b[0m     \u001b[0mprint\u001b[0m\u001b[0;34m(\u001b[0m\u001b[0;34mf\"n = {eachN}\"\u001b[0m\u001b[0;34m)\u001b[0m\u001b[0;34m\u001b[0m\u001b[0;34m\u001b[0m\u001b[0m\n\u001b[0;32m---> 18\u001b[0;31m     \u001b[0mres\u001b[0m \u001b[0;34m=\u001b[0m \u001b[0mfindAmbiguousObjectSet\u001b[0m\u001b[0;34m(\u001b[0m\u001b[0meachM\u001b[0m\u001b[0;34m,\u001b[0m \u001b[0meachN\u001b[0m\u001b[0;34m,\u001b[0m \u001b[0mminSubsetSize\u001b[0m\u001b[0;34m=\u001b[0m\u001b[0;36m2\u001b[0m\u001b[0;34m,\u001b[0m \u001b[0mmeetIsNonZero\u001b[0m\u001b[0;34m=\u001b[0m\u001b[0;32mTrue\u001b[0m\u001b[0;34m,\u001b[0m \u001b[0maltIsNonZero\u001b[0m\u001b[0;34m=\u001b[0m\u001b[0;32mTrue\u001b[0m\u001b[0;34m)\u001b[0m\u001b[0;34m\u001b[0m\u001b[0;34m\u001b[0m\u001b[0m\n\u001b[0m\u001b[1;32m     19\u001b[0m     \u001b[0;32mif\u001b[0m \u001b[0mres\u001b[0m\u001b[0;34m[\u001b[0m\u001b[0;36m0\u001b[0m\u001b[0;34m]\u001b[0m \u001b[0;34m==\u001b[0m \u001b[0;34m\"meet synonym\"\u001b[0m\u001b[0;34m:\u001b[0m\u001b[0;34m\u001b[0m\u001b[0;34m\u001b[0m\u001b[0m\n\u001b[1;32m     20\u001b[0m       \u001b[0mmeetSynonyms\u001b[0m\u001b[0;34m.\u001b[0m\u001b[0mappend\u001b[0m\u001b[0;34m(\u001b[0m\u001b[0mres\u001b[0m\u001b[0;34m)\u001b[0m\u001b[0;34m\u001b[0m\u001b[0;34m\u001b[0m\u001b[0m\n",
      "\u001b[0;31mNameError\u001b[0m: name 'findAmbiguousObjectSet' is not defined"
     ]
    }
   ],
   "source": [
    "def searchForAmbiguousObjectSets():\n",
    "  Ms  = tuple(range(3,4)) # (3,5) ; (4,5) ; (4,12) ; (5,6) ; (5,20); (3,20) ; (3,4)\n",
    "  MIN_NUM_OBJECTS = 10 # 20 ; 10\n",
    "  MAX_NUM_OBJECTS = 12 # 28 ; 15 ; 20 ; 15 ; 40 ; 12\n",
    "  Ns  = tuple([tuple(range(MIN_NUM_OBJECTS, 3 ** m)) if m < 3 else tuple(range(MIN_NUM_OBJECTS, MAX_NUM_OBJECTS))\n",
    "               for m in Ms])\n",
    "  MNs = lmapcat(lambda pair: tuple([(pair[0], each) for each in pair[1]]),\n",
    "                zip(Ms, Ns))\n",
    "  print(f\"|MNs|={len(MNs)}\")\n",
    "  print(\"MNs:\")\n",
    "  for each in MNs:\n",
    "    print(f\"m={each[0]}, n={each[1]}\")\n",
    "  \n",
    "  meetSynonyms, uniqueMeets, noMeets = [], [], []\n",
    "  for eachM, eachN in tqdm(MNs, total = len(MNs)):\n",
    "    print(f\"m = {eachM}\")\n",
    "    print(f\"n = {eachN}\")\n",
    "    res = findAmbiguousObjectSet(eachM, eachN, minSubsetSize=2, meetIsNonZero=True, altIsNonZero=True)\n",
    "    if res[0] == \"meet synonym\":\n",
    "      meetSynonyms.append(res)\n",
    "    elif res[0] == \"unique meet\":\n",
    "      uniqueMeets.append(res)\n",
    "    elif res[0] == \"no meet\":\n",
    "      noMeets.append(res)\n",
    "  print(f\"|models where meet has a synonym| = {len(meetSynonyms)}\") # expecting non-zero\n",
    "  print(f\"|models where meet is unique| = {len(uniqueMeets)}\") # expecting most\n",
    "  print(f\"|models where no meet exists| = {len(noMeets)}\") # expecting zero\n",
    "  return meetSynonyms, uniqueMeets, noMeets\n",
    "\n",
    "results = searchForAmbiguousObjectSets()"
   ]
  },
  {
   "cell_type": "code",
   "execution_count": null,
   "id": "3006a13c-2701-458d-b6a4-787d52395319",
   "metadata": {
    "execution": {
     "iopub.status.busy": "2022-03-31T06:31:56.436664Z",
     "iopub.status.idle": "2022-03-31T06:31:56.436923Z",
     "shell.execute_reply": "2022-03-31T06:31:56.436819Z"
    },
    "tags": []
   },
   "outputs": [],
   "source": [
    "syns = results[0]\n",
    "len(syns)\n",
    "len(syns[0])\n",
    "s0 = syns[0]\n",
    "s0[2]\n",
    "s0[3]\n",
    "s0[4]\n",
    "s0[5]\n",
    "s0[6]\n",
    "s0[7]"
   ]
  },
  {
   "cell_type": "code",
   "execution_count": null,
   "id": "e939c827-3d57-40c6-8bbb-ba0adc35d303",
   "metadata": {
    "execution": {
     "iopub.status.busy": "2022-03-31T06:31:56.437504Z",
     "iopub.status.idle": "2022-03-31T06:31:56.437713Z",
     "shell.execute_reply": "2022-03-31T06:31:56.437610Z"
    },
    "tags": []
   },
   "outputs": [],
   "source": [
    "type(s0[1])\n",
    "type(s0[2])\n",
    "type(s0[3])"
   ]
  },
  {
   "cell_type": "code",
   "execution_count": null,
   "id": "ec4da619-6f91-462e-a542-d7722f1e1787",
   "metadata": {
    "execution": {
     "iopub.status.busy": "2022-03-31T06:31:56.438421Z",
     "iopub.status.idle": "2022-03-31T06:31:56.438628Z",
     "shell.execute_reply": "2022-03-31T06:31:56.438525Z"
    },
    "tags": []
   },
   "outputs": [],
   "source": [
    "def extract_ambiguousObjectSetModel(result):\n",
    "  tag, solver, model, stack, inSubset, meet, meet_interp, alt, alt_interp = result\n",
    "  return { \"tag\":     tag\n",
    "         ,  \"solver\": solver , \"model\":       model\n",
    "         ,  \"stack\":  stack  , \"inSubset\":    inSubset\n",
    "         ,  \"meet\":   meet   , \"meet_interp\": meet_interp\n",
    "         ,  \"alt\":    alt    , \"alt_interp\":  alt_interp\n",
    "         }\n",
    "\n",
    "def concretize_ambiguousObjectSetModel(extractedResult):\n",
    "  model        = extractedResult[\"model\"]\n",
    "  stack        = extractedResult[\"stack\"]\n",
    "  inSubset     = extractedResult[\"inSubset\"]\n",
    "  meet         = extractedResult[\"meet\"]\n",
    "  meet_interp  = extractedResult[\"meet_interp\"]\n",
    "  alt          = extractedResult[\"alt\"]\n",
    "  alt_interp   = extractedResult[\"alt_interp\"]\n",
    "\n",
    "  objects    = SymbolicFV.toConcreteFeatureVectors(stack, model)\n",
    "  subsetVec  = inSubset.toConcreteSubsetVector(model)\n",
    "  subset     = [objects[i] for i in range(len(objects)) if subsetVec[i]]\n",
    "  meet_c     = meet.toConcreteFeatureVector(model)\n",
    "  alt_c      = alt.toConcreteFeatureVector(model)\n",
    "  meetInterp = meet_interp.toConcreteSubsetVector(model)\n",
    "  altInterp  = meet_interp.toConcreteSubsetVector(model)\n",
    "\n",
    "  return { \"objects\": objects, \"subsetVec\":  subsetVec , \"subset\":    subset, \n",
    "           \"meet\":    meet_c , \"meetInterp\": meetInterp,\n",
    "           \"alt\":     alt_c  , \"altInterp\":  altInterp\n",
    "         }\n",
    "\n",
    "def report_ambiguousObjectSetModel(concretized_result):\n",
    "  # objects, subsetVec, subset, meet, alt, meetInterp, altInterp = result\n",
    "  objects    = concretized_result[\"objects\"]\n",
    "  subsetVec  = concretized_result[\"subsetVec\"]\n",
    "  subset     = concretized_result[\"subset\"]\n",
    "  meet       = concretized_result[\"meet\"]\n",
    "  meetInterp = concretized_result[\"meetInterp\"]\n",
    "  alt        = concretized_result[\"alt\"]\n",
    "  altInterp  = concretized_result[\"altInterp\"]\n",
    "\n",
    "\n",
    "  print(f\"|objects| = {len(objects)}\")\n",
    "  print(f\"|subset|  = {len(subset)}\")\n",
    "  print('---')\n",
    "  print(f\"subset:\")\n",
    "  for each in subset:\n",
    "    print(each)\n",
    "  print('---')\n",
    "  print(f\"meet vs. alt:\\n{meet}\\n{alt}\")\n",
    "  print(f\"meet interp vs. alt interp:\\n{meetInterp}\\n{altInterp}\")"
   ]
  },
  {
   "cell_type": "code",
   "execution_count": null,
   "id": "714915fc-0684-41b8-ba41-bd8f6212a5cd",
   "metadata": {
    "execution": {
     "iopub.status.busy": "2022-03-31T06:31:56.439206Z",
     "iopub.status.idle": "2022-03-31T06:31:56.439478Z",
     "shell.execute_reply": "2022-03-31T06:31:56.439373Z"
    },
    "tags": []
   },
   "outputs": [],
   "source": [
    "report_ambiguousObjectSetModel(concretize_ambiguousObjectSetModel(extract_ambiguousObjectSetModel(s0)))"
   ]
  },
  {
   "cell_type": "code",
   "execution_count": null,
   "id": "82de9027-1b77-44d5-b94e-ae8000f5ed77",
   "metadata": {
    "execution": {
     "iopub.status.busy": "2022-03-31T06:31:56.440079Z",
     "iopub.status.idle": "2022-03-31T06:31:56.440310Z",
     "shell.execute_reply": "2022-03-31T06:31:56.440192Z"
    },
    "tags": []
   },
   "outputs": [],
   "source": [
    "cyns = lmap(lambda s: concretize_ambiguousObjectSetModel(extract_ambiguousObjectSetModel(s)), syns)"
   ]
  },
  {
   "cell_type": "code",
   "execution_count": null,
   "id": "9405d9bd-375f-4196-b91b-16070b9ef224",
   "metadata": {
    "execution": {
     "iopub.status.busy": "2022-03-31T06:31:56.440871Z",
     "iopub.status.idle": "2022-03-31T06:31:56.441145Z",
     "shell.execute_reply": "2022-03-31T06:31:56.441038Z"
    },
    "tags": []
   },
   "outputs": [],
   "source": [
    "hasNonemptySubset = []\n",
    "for c in cyns:\n",
    "  if len(c[\"subset\"]) > 0:\n",
    "    hasNonemptySubset.append(c)\n",
    "\n",
    "len(hasNonemptySubset)"
   ]
  },
  {
   "cell_type": "code",
   "execution_count": null,
   "id": "cc44b9f0-57ef-4043-81ae-f8a8d4c87bac",
   "metadata": {
    "execution": {
     "iopub.status.busy": "2022-03-31T06:31:56.441760Z",
     "iopub.status.idle": "2022-03-31T06:31:56.441969Z",
     "shell.execute_reply": "2022-03-31T06:31:56.441865Z"
    },
    "tags": []
   },
   "outputs": [],
   "source": [
    "cyns[0]['objects']"
   ]
  },
  {
   "cell_type": "code",
   "execution_count": null,
   "id": "c1c8806d-d70b-4020-aa95-efa4f3f793ce",
   "metadata": {
    "execution": {
     "iopub.status.busy": "2022-03-31T06:31:56.442581Z",
     "iopub.status.idle": "2022-03-31T06:31:56.442864Z",
     "shell.execute_reply": "2022-03-31T06:31:56.442757Z"
    },
    "tags": []
   },
   "outputs": [],
   "source": [
    "lzip(cyns[0]['subsetVec'], range(len(cyns[0]['subsetVec'])))\n",
    "len(cyns[0]['subsetVec'])\n",
    "for each in cyns[0]['subset']:\n",
    "  print(each)"
   ]
  },
  {
   "cell_type": "code",
   "execution_count": null,
   "id": "958e0850-ab2e-4111-9ab1-2ba3f7e08f3b",
   "metadata": {
    "execution": {
     "iopub.status.busy": "2022-03-31T06:31:56.443491Z",
     "iopub.status.idle": "2022-03-31T06:31:56.443700Z",
     "shell.execute_reply": "2022-03-31T06:31:56.443596Z"
    },
    "tags": []
   },
   "outputs": [],
   "source": [
    "print(cyns[0]['meet'])\n",
    "lzip(cyns[0]['meetInterp'], range(len(cyns[0]['meetInterp'])))\n",
    "lzip(cyns[0]['subsetVec'], range(len(cyns[0]['subsetVec'])))"
   ]
  },
  {
   "cell_type": "code",
   "execution_count": null,
   "id": "68673ef4-6109-4840-a1cd-a23cf99956ec",
   "metadata": {
    "execution": {
     "iopub.status.busy": "2022-03-31T06:31:56.444335Z",
     "iopub.status.idle": "2022-03-31T06:31:56.444548Z",
     "shell.execute_reply": "2022-03-31T06:31:56.444442Z"
    },
    "tags": []
   },
   "outputs": [],
   "source": [
    "print(cyns[0]['alt'])\n",
    "lzip(cyns[0]['altInterp'], range(len(cyns[0]['altInterp'])))\n",
    "lzip(cyns[0]['subsetVec'], range(len(cyns[0]['subsetVec'])))"
   ]
  },
  {
   "cell_type": "code",
   "execution_count": null,
   "id": "456c2c8a-f7a1-480e-8e61-263cd55a39a3",
   "metadata": {
    "execution": {
     "iopub.status.busy": "2022-03-31T06:31:56.445165Z",
     "iopub.status.idle": "2022-03-31T06:31:56.445383Z",
     "shell.execute_reply": "2022-03-31T06:31:56.445277Z"
    },
    "tags": []
   },
   "outputs": [],
   "source": [
    "lzip(cyns[0]['meetInterp'], \n",
    "     cyns[0]['altInterp'],\n",
    "     cyns[0]['subsetVec'],\n",
    "     range(len(cyns[0]['meetInterp'])))"
   ]
  },
  {
   "cell_type": "code",
   "execution_count": null,
   "id": "87aa134d-2f21-49a7-abc7-bb67c076ced4",
   "metadata": {
    "execution": {
     "iopub.status.busy": "2022-03-31T06:31:56.445906Z",
     "iopub.status.idle": "2022-03-31T06:31:56.446133Z",
     "shell.execute_reply": "2022-03-31T06:31:56.446027Z"
    },
    "tags": []
   },
   "outputs": [],
   "source": [
    "print(cyns[0]['meet'])\n",
    "print(cyns[0]['alt'])\n",
    "for i, each in enumerate(cyns[0]['objects']):\n",
    "  print(f\"{i}: {each}\\t{cyns[0]['subsetVec'][i]}\\t {cyns[0]['meet'] <= each}\\t {cyns[0]['alt'] <= each}\")"
   ]
  },
  {
   "cell_type": "markdown",
   "id": "fd3ac3e1-6c32-414d-98c8-72207d037050",
   "metadata": {},
   "source": [
    "# Scratch"
   ]
  },
  {
   "cell_type": "code",
   "execution_count": null,
   "id": "58ed271a-d15f-4714-82d7-92e5ce5bdc2f",
   "metadata": {
    "execution": {
     "iopub.status.busy": "2022-03-31T06:31:56.446683Z",
     "iopub.status.idle": "2022-03-31T06:31:56.446958Z",
     "shell.execute_reply": "2022-03-31T06:31:56.446852Z"
    },
    "tags": []
   },
   "outputs": [],
   "source": [
    "#show use of a quantified statement\n",
    "def quantifierExperimentAdditiveIdentity(x):\n",
    "  y = z3.Bool('y') # <- note that the way I'm using this, I won't have access to this again\n",
    "  return z3.ForAll([y], z3.Or(x,y))\n",
    "\n",
    "def findBooleanDisjunctiveIdentity():\n",
    "  s = z3.Solver()\n",
    "  x = z3.Bool('x')\n",
    "  s.add(quantifierExperimentAdditiveIdentity(x)) \n",
    "  if s.check() == z3.sat:\n",
    "    print(\"Found disjunctive idenitity!\")\n",
    "    return s, s.model(), x\n",
    "  else:\n",
    "    print(\"Disjunction has no identity: logic is canceled.\")\n",
    "    return s\n",
    "\n",
    "res = findBooleanDisjunctiveIdentity()"
   ]
  },
  {
   "cell_type": "code",
   "execution_count": null,
   "id": "e41d967a-83bf-46e1-b1e9-1de1c7d9840c",
   "metadata": {
    "execution": {
     "iopub.status.busy": "2022-03-31T06:31:56.447548Z",
     "iopub.status.idle": "2022-03-31T06:31:56.447764Z",
     "shell.execute_reply": "2022-03-31T06:31:56.447658Z"
    },
    "tags": []
   },
   "outputs": [],
   "source": [
    "res[1][res[2]]"
   ]
  },
  {
   "cell_type": "code",
   "execution_count": null,
   "id": "31c91f2d-9702-4674-9f6d-137bae1e126e",
   "metadata": {
    "execution": {
     "iopub.status.busy": "2022-03-31T06:31:56.448347Z",
     "iopub.status.idle": "2022-03-31T06:31:56.448567Z",
     "shell.execute_reply": "2022-03-31T06:31:56.448450Z"
    },
    "tags": []
   },
   "outputs": [],
   "source": [
    "def quantifierExperimentAdditiveIdentity1(x,k):\n",
    "  Ys = [z3.Bool(f'y_{i}') for i in range(k)]\n",
    "  return z3.ForAll(Ys, z3.Or([x] + Ys))\n",
    "\n",
    "def findBooleanDisjunctiveIdentity1(k):\n",
    "  s = z3.Solver()\n",
    "  x = z3.Bool('x')\n",
    "  s.add(quantifierExperimentAdditiveIdentity1(x,k)) \n",
    "  if s.check() == z3.sat:\n",
    "    print(\"Found disjunctive idenitity!\")\n",
    "    return s, s.model(), x\n",
    "  else:\n",
    "    print(\"Disjunction has no identity: logic is canceled.\")\n",
    "    return s\n",
    "\n",
    "res1 = findBooleanDisjunctiveIdentity1(k=3)"
   ]
  },
  {
   "cell_type": "code",
   "execution_count": null,
   "id": "19cec7fe-ceb6-48d1-b2f0-674fd1590962",
   "metadata": {
    "execution": {
     "iopub.status.busy": "2022-03-31T06:31:56.449091Z",
     "iopub.status.idle": "2022-03-31T06:31:56.449312Z",
     "shell.execute_reply": "2022-03-31T06:31:56.449209Z"
    },
    "tags": []
   },
   "outputs": [],
   "source": [
    "res1[0]\n",
    "res1[1]\n",
    "res1[1][res[2]]"
   ]
  },
  {
   "cell_type": "code",
   "execution_count": null,
   "id": "c73b7ee2-cd82-4ff8-ac7d-ae1404215a98",
   "metadata": {
    "execution": {
     "iopub.status.busy": "2022-03-31T06:31:56.449864Z",
     "iopub.status.idle": "2022-03-31T06:31:56.450061Z",
     "shell.execute_reply": "2022-03-31T06:31:56.449963Z"
    },
    "tags": []
   },
   "outputs": [],
   "source": [
    "def getAllSynonymsFor(concreteFV, concreteFVs_objects):\n",
    "  ensureSameLengths(concreteFVs_objects)"
   ]
  }
 ],
 "metadata": {
  "kernelspec": {
   "display_name": "Python3 - mach-nix-saguaro",
   "language": "python",
   "name": "ipython_mach-nix-saguaro"
  },
  "language_info": {
   "codemirror_mode": {
    "name": "ipython",
    "version": 3
   },
   "file_extension": ".py",
   "mimetype": "text/x-python",
   "name": "python",
   "nbconvert_exporter": "python",
   "pygments_lexer": "ipython3",
   "version": "3.9.9"
  }
 },
 "nbformat": 4,
 "nbformat_minor": 5
}
