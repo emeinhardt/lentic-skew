{
 "cells": [
  {
   "cell_type": "code",
   "execution_count": 1,
   "id": "72c764e1-27d6-4d78-beae-5f85386549bc",
   "metadata": {
    "execution": {
     "iopub.execute_input": "2022-06-02T17:31:33.162356Z",
     "iopub.status.busy": "2022-06-02T17:31:33.162027Z",
     "iopub.status.idle": "2022-06-02T17:31:33.172874Z",
     "shell.execute_reply": "2022-06-02T17:31:33.171982Z",
     "shell.execute_reply.started": "2022-06-02T17:31:33.162264Z"
    }
   },
   "outputs": [],
   "source": [
    "from IPython.core.interactiveshell import InteractiveShell\n",
    "InteractiveShell.ast_node_interactivity = 'all'"
   ]
  },
  {
   "cell_type": "code",
   "execution_count": 2,
   "id": "dfee9863-31af-4f75-899d-74714ea0fffb",
   "metadata": {
    "execution": {
     "iopub.execute_input": "2022-06-02T17:31:33.175409Z",
     "iopub.status.busy": "2022-06-02T17:31:33.175133Z",
     "iopub.status.idle": "2022-06-02T17:31:33.200025Z",
     "shell.execute_reply": "2022-06-02T17:31:33.199479Z",
     "shell.execute_reply.started": "2022-06-02T17:31:33.175373Z"
    },
    "tags": []
   },
   "outputs": [
    {
     "name": "stdout",
     "output_type": "stream",
     "text": [
      "/home/emeinhardt/Babel/lentic-skew\n"
     ]
    },
    {
     "data": {
      "text/plain": [
       "'/home/emeinhardt/Babel/lentic-skew'"
      ]
     },
     "execution_count": 2,
     "metadata": {},
     "output_type": "execute_result"
    }
   ],
   "source": [
    "%cd ..\n",
    "%pwd"
   ]
  },
  {
   "cell_type": "code",
   "execution_count": 3,
   "id": "28aab5a1-f0ae-4b45-b9d5-5b52e2920a63",
   "metadata": {
    "execution": {
     "iopub.execute_input": "2022-06-02T17:31:33.201183Z",
     "iopub.status.busy": "2022-06-02T17:31:33.201023Z",
     "iopub.status.idle": "2022-06-02T17:31:33.218299Z",
     "shell.execute_reply": "2022-06-02T17:31:33.217759Z",
     "shell.execute_reply.started": "2022-06-02T17:31:33.201162Z"
    },
    "tags": []
   },
   "outputs": [],
   "source": [
    "from funcy import lmap, lfilter, walk\n",
    "from pyrsistent import pmap"
   ]
  },
  {
   "cell_type": "code",
   "execution_count": 4,
   "id": "c11b8be3-a095-477a-85b1-a85eccc9ed64",
   "metadata": {
    "execution": {
     "iopub.execute_input": "2022-06-02T17:31:33.219166Z",
     "iopub.status.busy": "2022-06-02T17:31:33.219007Z",
     "iopub.status.idle": "2022-06-02T17:31:33.221798Z",
     "shell.execute_reply": "2022-06-02T17:31:33.221317Z",
     "shell.execute_reply.started": "2022-06-02T17:31:33.219144Z"
    }
   },
   "outputs": [],
   "source": [
    "from typing import *"
   ]
  },
  {
   "cell_type": "code",
   "execution_count": 5,
   "id": "0659beca-dec7-4d1c-afd7-af81e4fadf85",
   "metadata": {
    "execution": {
     "iopub.execute_input": "2022-06-02T17:31:33.222642Z",
     "iopub.status.busy": "2022-06-02T17:31:33.222489Z",
     "iopub.status.idle": "2022-06-02T17:31:33.638789Z",
     "shell.execute_reply": "2022-06-02T17:31:33.638163Z",
     "shell.execute_reply.started": "2022-06-02T17:31:33.222621Z"
    },
    "tags": []
   },
   "outputs": [],
   "source": [
    "import saguaro           as S\n",
    "import saguaro.utilities as SU\n",
    "import saguaro.Eq        as SE\n",
    "import saguaro._Boolean  as SB\n",
    "import saguaro.Order     as SO\n",
    "import saguaro.Subset    as SS\n",
    "import saguaro.Map       as SM"
   ]
  },
  {
   "cell_type": "code",
   "execution_count": 6,
   "id": "69afd785-6de7-43f9-bd33-f11e45a3a831",
   "metadata": {
    "execution": {
     "iopub.execute_input": "2022-06-02T17:31:33.639660Z",
     "iopub.status.busy": "2022-06-02T17:31:33.639501Z",
     "iopub.status.idle": "2022-06-02T17:31:33.643218Z",
     "shell.execute_reply": "2022-06-02T17:31:33.642779Z",
     "shell.execute_reply.started": "2022-06-02T17:31:33.639639Z"
    }
   },
   "outputs": [],
   "source": [
    "from saguaro.Eq import eq\n",
    "from saguaro._Boolean import And, And1, Or, Or1, Not, Not1, Implies, Iff\n",
    "# from saguaro.Order import \n",
    "from saguaro.Subset import NaiveSubset, SymbolicVectorSubset \n",
    "from saguaro.Subset import NaiveSubset as NS, SymbolicVectorSubset as SVS \n",
    "from saguaro.Map import NaiveFunction, SymbolicVectorRelation, SymbolicArrayFunction\n",
    "from saguaro.Map import NaiveFunction as NF, SymbolicVectorRelation as SVR, SymbolicArrayFunction as SAF"
   ]
  },
  {
   "cell_type": "code",
   "execution_count": 7,
   "id": "1357aa85-e257-4356-8b3b-7a33ecc9b16f",
   "metadata": {
    "execution": {
     "iopub.execute_input": "2022-06-02T17:31:33.644039Z",
     "iopub.status.busy": "2022-06-02T17:31:33.643877Z",
     "iopub.status.idle": "2022-06-02T17:31:33.662254Z",
     "shell.execute_reply": "2022-06-02T17:31:33.661700Z",
     "shell.execute_reply.started": "2022-06-02T17:31:33.644017Z"
    }
   },
   "outputs": [],
   "source": [
    "import pprint as pp\n",
    "from pprint import pprint"
   ]
  },
  {
   "cell_type": "markdown",
   "id": "4e8a3a98-d2bc-49bf-9f60-3f03e9e54a6d",
   "metadata": {},
   "source": [
    "# Feature Vectors as Functions"
   ]
  },
  {
   "cell_type": "code",
   "execution_count": 8,
   "id": "3579b2d0-fad6-45d4-8355-332f4cb2fbdf",
   "metadata": {
    "execution": {
     "iopub.execute_input": "2022-06-02T17:31:33.664042Z",
     "iopub.status.busy": "2022-06-02T17:31:33.663860Z",
     "iopub.status.idle": "2022-06-02T17:31:33.682338Z",
     "shell.execute_reply": "2022-06-02T17:31:33.681761Z",
     "shell.execute_reply.started": "2022-06-02T17:31:33.664019Z"
    },
    "tags": []
   },
   "outputs": [
    {
     "data": {
      "text/plain": [
       "SymbolicSort(values=(0, 1, 2), identifier='F3s', sort=F3s, constants=(0, 1, 2), label=<class 'str'>, labels=('0', '1', '2'), values_labels=frozenbidict({0: '0', 1: '1', 2: '2'}), values_constants=frozenbidict({0: 0, 1: 1, 2: 2}), constants_labels=frozenbidict({0: '0', 1: '1', 2: '2'}))"
      ]
     },
     "execution_count": 8,
     "metadata": {},
     "output_type": "execute_result"
    },
    {
     "data": {
      "text/plain": [
       "ConcreteSort(values=(0, 1, 2), identifier='F3c')"
      ]
     },
     "execution_count": 8,
     "metadata": {},
     "output_type": "execute_result"
    }
   ],
   "source": [
    "F3s = SU.SymbolicSort.mk(values=(0, 1, 2), identifier=\"F3s\", label=str)\n",
    "F3s\n",
    "F3c = F3s.to_ConcreteSort(identifier=\"F3c\")\n",
    "F3c"
   ]
  },
  {
   "cell_type": "code",
   "execution_count": 9,
   "id": "5321700f-a501-4ce7-beb6-f205ea4f5233",
   "metadata": {
    "execution": {
     "iopub.execute_input": "2022-06-02T17:31:33.683438Z",
     "iopub.status.busy": "2022-06-02T17:31:33.683276Z",
     "iopub.status.idle": "2022-06-02T17:31:33.687572Z",
     "shell.execute_reply": "2022-06-02T17:31:33.687105Z",
     "shell.execute_reply.started": "2022-06-02T17:31:33.683416Z"
    }
   },
   "outputs": [],
   "source": [
    "Vs  = SU.SymbolicSort.mk(values=('+', '-'), identifier=\"Vs\", label=str)\n",
    "Vc  = Vs.to_ConcreteSort(identifier=\"Vc\")\n",
    "Vps = SU.SymbolicSort.mk(values=('+', '-', None), identifier=\"Vps\", label=str)\n",
    "Vpc = Vps.to_ConcreteSort(identifier=\"Vpc\")"
   ]
  },
  {
   "cell_type": "code",
   "execution_count": 10,
   "id": "8382d3ff-88c1-42b5-aa0a-4116ca451fed",
   "metadata": {
    "execution": {
     "iopub.execute_input": "2022-06-02T17:31:33.688411Z",
     "iopub.status.busy": "2022-06-02T17:31:33.688256Z",
     "iopub.status.idle": "2022-06-02T17:31:33.699609Z",
     "shell.execute_reply": "2022-06-02T17:31:33.698787Z",
     "shell.execute_reply.started": "2022-06-02T17:31:33.688390Z"
    },
    "tags": []
   },
   "outputs": [
    {
     "data": {
      "text/plain": [
       "('+', '-', None)"
      ]
     },
     "execution_count": 10,
     "metadata": {},
     "output_type": "execute_result"
    }
   ],
   "source": [
    "Vpc.values"
   ]
  },
  {
   "cell_type": "code",
   "execution_count": 11,
   "id": "62de9204-fc85-4faa-a38e-16f595c885ac",
   "metadata": {
    "execution": {
     "iopub.execute_input": "2022-06-02T17:31:33.701051Z",
     "iopub.status.busy": "2022-06-02T17:31:33.700747Z",
     "iopub.status.idle": "2022-06-02T17:31:33.709727Z",
     "shell.execute_reply": "2022-06-02T17:31:33.709058Z",
     "shell.execute_reply.started": "2022-06-02T17:31:33.701015Z"
    },
    "tags": []
   },
   "outputs": [],
   "source": [
    "def render(f: NaiveFunction) -> List[str]:\n",
    "  return [f.map.get(d, '0') if f.map.get(d, '0') is not None else '0'\n",
    "          for d in F3c.values]"
   ]
  },
  {
   "cell_type": "code",
   "execution_count": 12,
   "id": "df3eca95-886f-4888-a779-959e731309b6",
   "metadata": {
    "execution": {
     "iopub.execute_input": "2022-06-02T17:31:33.710730Z",
     "iopub.status.busy": "2022-06-02T17:31:33.710561Z",
     "iopub.status.idle": "2022-06-02T17:31:33.724057Z",
     "shell.execute_reply": "2022-06-02T17:31:33.723514Z",
     "shell.execute_reply.started": "2022-06-02T17:31:33.710707Z"
    },
    "tags": []
   },
   "outputs": [
    {
     "data": {
      "text/plain": [
       "27"
      ]
     },
     "execution_count": 12,
     "metadata": {},
     "output_type": "execute_result"
    },
    {
     "data": {
      "text/plain": [
       "[pmap({0: None, 1: None, 2: None}),\n",
       " pmap({0: None, 1: None, 2: '+'}),\n",
       " pmap({0: None, 1: None, 2: '-'}),\n",
       " pmap({0: None, 1: '+', 2: None}),\n",
       " pmap({0: None, 1: '+', 2: '+'})]"
      ]
     },
     "execution_count": 12,
     "metadata": {},
     "output_type": "execute_result"
    },
    {
     "data": {
      "text/plain": [
       "[pmap({0: '-', 1: '+', 2: '+'}),\n",
       " pmap({0: '-', 1: '+', 2: '-'}),\n",
       " pmap({0: '-', 1: '-', 2: None}),\n",
       " pmap({0: '-', 1: '-', 2: '+'}),\n",
       " pmap({0: '-', 1: '-', 2: '-'})]"
      ]
     },
     "execution_count": 12,
     "metadata": {},
     "output_type": "execute_result"
    }
   ],
   "source": [
    "V3m = lmap(pmap, SU.all_partial_maps(set(F3c.values), set(Vpc.values)))\n",
    "# V3m\n",
    "len(V3m)\n",
    "V3m[:5]\n",
    "V3m[-5:]"
   ]
  },
  {
   "cell_type": "code",
   "execution_count": 13,
   "id": "fa8cd255-6c47-467d-b29c-b64dbc774751",
   "metadata": {
    "execution": {
     "iopub.execute_input": "2022-06-02T17:31:33.724920Z",
     "iopub.status.busy": "2022-06-02T17:31:33.724760Z",
     "iopub.status.idle": "2022-06-02T17:31:33.741394Z",
     "shell.execute_reply": "2022-06-02T17:31:33.740836Z",
     "shell.execute_reply.started": "2022-06-02T17:31:33.724899Z"
    },
    "tags": []
   },
   "outputs": [
    {
     "data": {
      "text/plain": [
       "NaiveFunction(identifier='V3_4', domain=ConcreteSort(values=(0, 1, 2), identifier='F3c'), codomain=ConcreteSort(values=('+', '-', None), identifier='Vpc'), map=pmap({0: None, 1: '+', 2: '+'}), pairs=((0, None), (1, '+'), (2, '+')), graph=frozenset({(0, None), (1, '+'), (2, '+')}), function=<function mk_function_from_map.<locals>.f at 0x7f33f00e8f70>)"
      ]
     },
     "execution_count": 13,
     "metadata": {},
     "output_type": "execute_result"
    },
    {
     "data": {
      "text/plain": [
       "pmap({0: None, 1: '+', 2: '+'})"
      ]
     },
     "execution_count": 13,
     "metadata": {},
     "output_type": "execute_result"
    },
    {
     "data": {
      "text/plain": [
       "['0', '+', '+']"
      ]
     },
     "execution_count": 13,
     "metadata": {},
     "output_type": "execute_result"
    }
   ],
   "source": [
    "V3c = lmap(lambda i_m: NaiveFunction.mk_from_map(f\"V3_{i_m[0]}\", F3c, Vpc, i_m[1]),\n",
    "           enumerate(V3m))\n",
    "V3c[4]\n",
    "V3c[4].map\n",
    "render(V3c[4])"
   ]
  },
  {
   "cell_type": "markdown",
   "id": "46e8a612-3ada-4fb8-a57a-c69c72817938",
   "metadata": {},
   "source": [
    "## Function operations"
   ]
  },
  {
   "cell_type": "code",
   "execution_count": 14,
   "id": "4629fef2-b969-4583-a39d-357ceb1363a4",
   "metadata": {
    "execution": {
     "iopub.execute_input": "2022-06-02T17:31:33.742384Z",
     "iopub.status.busy": "2022-06-02T17:31:33.742211Z",
     "iopub.status.idle": "2022-06-02T17:31:33.750378Z",
     "shell.execute_reply": "2022-06-02T17:31:33.749903Z",
     "shell.execute_reply.started": "2022-06-02T17:31:33.742362Z"
    },
    "tags": []
   },
   "outputs": [
    {
     "data": {
      "text/plain": [
       "'+'"
      ]
     },
     "execution_count": 14,
     "metadata": {},
     "output_type": "execute_result"
    },
    {
     "data": {
      "text/plain": [
       "'+'"
      ]
     },
     "execution_count": 14,
     "metadata": {},
     "output_type": "execute_result"
    }
   ],
   "source": [
    "NaiveFunction._apply_NaiveFunction(V3c[4], 0)\n",
    "NaiveFunction._apply_NaiveFunction(V3c[4], 1)\n",
    "NaiveFunction._apply_NaiveFunction(V3c[4], 2)"
   ]
  },
  {
   "cell_type": "code",
   "execution_count": 15,
   "id": "9adfce6c-7a6b-4e64-ba1e-af174b4e9944",
   "metadata": {
    "execution": {
     "iopub.execute_input": "2022-06-02T17:31:33.751296Z",
     "iopub.status.busy": "2022-06-02T17:31:33.751134Z",
     "iopub.status.idle": "2022-06-02T17:31:33.762017Z",
     "shell.execute_reply": "2022-06-02T17:31:33.761567Z",
     "shell.execute_reply.started": "2022-06-02T17:31:33.751274Z"
    },
    "tags": []
   },
   "outputs": [
    {
     "data": {
      "text/plain": [
       "pmap({1: '+'})"
      ]
     },
     "execution_count": 15,
     "metadata": {},
     "output_type": "execute_result"
    },
    {
     "data": {
      "text/plain": [
       "['0', '+', '0']"
      ]
     },
     "execution_count": 15,
     "metadata": {},
     "output_type": "execute_result"
    }
   ],
   "source": [
    "NF._restrictTo_NaiveFunction(V3c[4], {0,1}).map\n",
    "render(NF._restrictTo_NaiveFunction(V3c[4], {0,1}))"
   ]
  },
  {
   "cell_type": "code",
   "execution_count": 16,
   "id": "d12ad902-784d-484e-bd84-fead92f199d6",
   "metadata": {
    "execution": {
     "iopub.execute_input": "2022-06-02T17:31:33.762885Z",
     "iopub.status.busy": "2022-06-02T17:31:33.762725Z",
     "iopub.status.idle": "2022-06-02T17:31:33.776435Z",
     "shell.execute_reply": "2022-06-02T17:31:33.775925Z",
     "shell.execute_reply.started": "2022-06-02T17:31:33.762864Z"
    },
    "tags": []
   },
   "outputs": [
    {
     "data": {
      "text/plain": [
       "['0', '+', '0']"
      ]
     },
     "execution_count": 16,
     "metadata": {},
     "output_type": "execute_result"
    },
    {
     "data": {
      "text/plain": [
       "['0', '+', '+']"
      ]
     },
     "execution_count": 16,
     "metadata": {},
     "output_type": "execute_result"
    },
    {
     "data": {
      "text/plain": [
       "['0', '+', '-']"
      ]
     },
     "execution_count": 16,
     "metadata": {},
     "output_type": "execute_result"
    },
    {
     "data": {
      "text/plain": [
       "['-', '-', '0']"
      ]
     },
     "execution_count": 16,
     "metadata": {},
     "output_type": "execute_result"
    }
   ],
   "source": [
    "some_vectors = [\n",
    "V3c[3],\n",
    "V3c[4],\n",
    "V3c[5],\n",
    "V3c[24]\n",
    "]\n",
    "\n",
    "for each in some_vectors:\n",
    "  render(each)"
   ]
  },
  {
   "cell_type": "code",
   "execution_count": 17,
   "id": "378b9820-f7fb-47f1-b293-09ac39203c2b",
   "metadata": {
    "execution": {
     "iopub.execute_input": "2022-06-02T17:31:33.777347Z",
     "iopub.status.busy": "2022-06-02T17:31:33.777184Z",
     "iopub.status.idle": "2022-06-02T17:31:33.788248Z",
     "shell.execute_reply": "2022-06-02T17:31:33.787706Z",
     "shell.execute_reply.started": "2022-06-02T17:31:33.777325Z"
    },
    "tags": []
   },
   "outputs": [
    {
     "data": {
      "text/plain": [
       "['0', '+', '+']"
      ]
     },
     "execution_count": 17,
     "metadata": {},
     "output_type": "execute_result"
    },
    {
     "data": {
      "text/plain": [
       "['0', '+', '0']"
      ]
     },
     "execution_count": 17,
     "metadata": {},
     "output_type": "execute_result"
    },
    {
     "data": {
      "text/plain": [
       "['0', '0', '+']"
      ]
     },
     "execution_count": 17,
     "metadata": {},
     "output_type": "execute_result"
    }
   ],
   "source": [
    "render(V3c[4])\n",
    "render(V3c[3])\n",
    "render(NF._subtract_NaiveFunction(V3c[4], V3c[3]))"
   ]
  },
  {
   "cell_type": "code",
   "execution_count": 18,
   "id": "d959351f-0231-4ce6-a50c-c33055b98b33",
   "metadata": {
    "execution": {
     "iopub.execute_input": "2022-06-02T17:31:33.789194Z",
     "iopub.status.busy": "2022-06-02T17:31:33.789009Z",
     "iopub.status.idle": "2022-06-02T17:31:33.799190Z",
     "shell.execute_reply": "2022-06-02T17:31:33.798632Z",
     "shell.execute_reply.started": "2022-06-02T17:31:33.789167Z"
    },
    "tags": []
   },
   "outputs": [
    {
     "data": {
      "text/plain": [
       "['0', '+', '+']"
      ]
     },
     "execution_count": 18,
     "metadata": {},
     "output_type": "execute_result"
    },
    {
     "data": {
      "text/plain": [
       "['-', '-', '0']"
      ]
     },
     "execution_count": 18,
     "metadata": {},
     "output_type": "execute_result"
    },
    {
     "data": {
      "text/plain": [
       "['-', '-', '+']"
      ]
     },
     "execution_count": 18,
     "metadata": {},
     "output_type": "execute_result"
    }
   ],
   "source": [
    "render(V3c[4])\n",
    "render(V3c[24])\n",
    "render(NF._override_NaiveFunction(V3c[4], V3c[24]))"
   ]
  },
  {
   "cell_type": "code",
   "execution_count": 19,
   "id": "9120b8a4-32a8-4931-9934-620a5e1b5d1e",
   "metadata": {
    "execution": {
     "iopub.execute_input": "2022-06-02T17:31:33.800221Z",
     "iopub.status.busy": "2022-06-02T17:31:33.800044Z",
     "iopub.status.idle": "2022-06-02T17:31:33.810201Z",
     "shell.execute_reply": "2022-06-02T17:31:33.809685Z",
     "shell.execute_reply.started": "2022-06-02T17:31:33.800199Z"
    },
    "tags": []
   },
   "outputs": [
    {
     "data": {
      "text/plain": [
       "['-', '-', '0']"
      ]
     },
     "execution_count": 19,
     "metadata": {},
     "output_type": "execute_result"
    },
    {
     "data": {
      "text/plain": [
       "['0', '+', '0']"
      ]
     },
     "execution_count": 19,
     "metadata": {},
     "output_type": "execute_result"
    },
    {
     "data": {
      "text/plain": [
       "['-', '+', '0']"
      ]
     },
     "execution_count": 19,
     "metadata": {},
     "output_type": "execute_result"
    }
   ],
   "source": [
    "render(V3c[24])\n",
    "render(V3c[3])\n",
    "render(NF._prunion_NaiveFunction(V3c[24], V3c[3]))"
   ]
  },
  {
   "cell_type": "code",
   "execution_count": 20,
   "id": "7e2986fc-6925-4719-8b07-41bb0b87bc49",
   "metadata": {
    "execution": {
     "iopub.execute_input": "2022-06-02T17:31:33.811074Z",
     "iopub.status.busy": "2022-06-02T17:31:33.810911Z",
     "iopub.status.idle": "2022-06-02T17:31:33.818634Z",
     "shell.execute_reply": "2022-06-02T17:31:33.818135Z",
     "shell.execute_reply.started": "2022-06-02T17:31:33.811053Z"
    },
    "tags": []
   },
   "outputs": [
    {
     "data": {
      "text/plain": [
       "['0', '+', '0']"
      ]
     },
     "execution_count": 20,
     "metadata": {},
     "output_type": "execute_result"
    }
   ],
   "source": [
    "render(V3c[3])"
   ]
  },
  {
   "cell_type": "code",
   "execution_count": null,
   "id": "07f9026f-8047-4e1d-85f6-232101ae6521",
   "metadata": {},
   "outputs": [],
   "source": []
  }
 ],
 "metadata": {
  "kernelspec": {
   "display_name": "Python3 - mach-nix-saguaro",
   "language": "python",
   "name": "ipython_mach-nix-saguaro"
  },
  "language_info": {
   "codemirror_mode": {
    "name": "ipython",
    "version": 3
   },
   "file_extension": ".py",
   "mimetype": "text/x-python",
   "name": "python",
   "nbconvert_exporter": "python",
   "pygments_lexer": "ipython3",
   "version": "3.9.9"
  }
 },
 "nbformat": 4,
 "nbformat_minor": 5
}
