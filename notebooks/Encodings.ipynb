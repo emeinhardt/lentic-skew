{
 "cells": [
  {
   "cell_type": "code",
   "execution_count": 1,
   "id": "54477e49-511e-4dfa-a599-180ed3e6792f",
   "metadata": {
    "execution": {
     "iopub.execute_input": "2022-06-02T15:42:13.914221Z",
     "iopub.status.busy": "2022-06-02T15:42:13.913942Z",
     "iopub.status.idle": "2022-06-02T15:42:13.923560Z",
     "shell.execute_reply": "2022-06-02T15:42:13.922877Z",
     "shell.execute_reply.started": "2022-06-02T15:42:13.914139Z"
    },
    "tags": []
   },
   "outputs": [],
   "source": [
    "from IPython.core.interactiveshell import InteractiveShell\n",
    "InteractiveShell.ast_node_interactivity = 'all'"
   ]
  },
  {
   "cell_type": "code",
   "execution_count": 2,
   "id": "99f46470-eeb4-4dfe-ba22-a12187c256e5",
   "metadata": {
    "execution": {
     "iopub.execute_input": "2022-06-02T15:42:13.924963Z",
     "iopub.status.busy": "2022-06-02T15:42:13.924793Z",
     "iopub.status.idle": "2022-06-02T15:42:13.989388Z",
     "shell.execute_reply": "2022-06-02T15:42:13.988643Z",
     "shell.execute_reply.started": "2022-06-02T15:42:13.924940Z"
    },
    "tags": []
   },
   "outputs": [],
   "source": [
    "import typing\n",
    "from typing import List, Set, Dict, TypeVar, Union, Optional, Callable\n",
    "\n",
    "from copy import deepcopy\n",
    "\n",
    "from funcy import walk\n",
    "\n",
    "from bidict import bidict\n",
    "import bidict as bd\n",
    "\n",
    "\n",
    "A = TypeVar('A')"
   ]
  },
  {
   "cell_type": "code",
   "execution_count": 3,
   "id": "465b8365-2b2d-4b94-a5ae-f38d4a10e914",
   "metadata": {
    "execution": {
     "iopub.execute_input": "2022-06-02T15:42:13.990773Z",
     "iopub.status.busy": "2022-06-02T15:42:13.990577Z",
     "iopub.status.idle": "2022-06-02T15:42:14.153619Z",
     "shell.execute_reply": "2022-06-02T15:42:14.153118Z",
     "shell.execute_reply.started": "2022-06-02T15:42:13.990747Z"
    },
    "tags": []
   },
   "outputs": [],
   "source": [
    "import z3"
   ]
  },
  {
   "cell_type": "markdown",
   "id": "1d6f099e-ae9f-4435-b9de-459b3201ba09",
   "metadata": {},
   "source": [
    "# Array representations"
   ]
  },
  {
   "cell_type": "markdown",
   "id": "a5337c4c-39da-4437-b2e8-46e6e539539f",
   "metadata": {},
   "source": [
    "## \"Array\" does *not* mean what you think it does"
   ]
  },
  {
   "cell_type": "markdown",
   "id": "2da8aab0-5efa-48f0-99c9-1640ce50f167",
   "metadata": {},
   "source": [
    "\"Arrays\" in an SMT context (\"the theory of arrays with extensional equality\") are essentially the same (they reduce to) **uninterpreted functions with finite domain of definition** and a couple of very simple axioms that SMT solvers have some special support for (as well as usually some limited support for extensions of that theory):\n",
    " - 'Select'ing the value at index `x` is like applying a function to `x`: `A[x] == f(x)`.\n",
    " - \"Arrays\" have a domain (\"index\") type and a codomain (\"value\") type.\n",
    " - \"Arrays\" are *total* over their domain: they have as many values as they do domain elements.\n",
    " \n",
    "\"Arrays\" in an SMT context are **not** like your typical array from a general programming context in that:\n",
    "   - We cannot in general query the length of the array per se.\n",
    "     - Getting a concrete length requires extracting that information from somewhere or something related to the domain sort (if that's possible).\n",
    "   - There is no way to \"update\" a declared array: you instead declare that a new array is the result of updating some other array."
   ]
  },
  {
   "cell_type": "markdown",
   "id": "f662d9c6-e1e0-4478-8e38-d2bce74a6c57",
   "metadata": {},
   "source": [
    "(See [this introduction to the theory of arrays](http://staff.ustc.edu.cn/~bjhua/courses/theory/2021/ref/chap-array.pdf) for more information, including the three axioms that characterize arrays in particular.)"
   ]
  },
  {
   "cell_type": "markdown",
   "id": "922d9f2c-e20f-4459-b823-27c58accce8d",
   "metadata": {},
   "source": [
    "Basic code for manipulating arrays:"
   ]
  },
  {
   "cell_type": "markdown",
   "id": "742e0e72-e9d2-4308-81fe-ef08e754944f",
   "metadata": {},
   "source": [
    "Declare a symbolic array:"
   ]
  },
  {
   "cell_type": "code",
   "execution_count": 4,
   "id": "58109445-0c04-4134-9d3d-0cfdfd2ea847",
   "metadata": {
    "execution": {
     "iopub.execute_input": "2022-06-02T15:42:14.154776Z",
     "iopub.status.busy": "2022-06-02T15:42:14.154564Z",
     "iopub.status.idle": "2022-06-02T15:42:14.163108Z",
     "shell.execute_reply": "2022-06-02T15:42:14.162507Z",
     "shell.execute_reply.started": "2022-06-02T15:42:14.154754Z"
    },
    "tags": []
   },
   "outputs": [],
   "source": [
    "# Declare an array \"A\", with the domain of the entire set of integers and a \n",
    "# codomain of the booleans.\n",
    "\n",
    "A = z3.Array('A', z3.IntSort(), z3.BoolSort()) \n",
    "\n",
    "# - \"Sorts\" are analogous to types. \n",
    "# - The foundation of SMT solvers is many-sorted FOL and quantifier free \n",
    "#   fragments thereof. \n",
    "# - z3 has a limited number of built in sorts with special support (but you can \n",
    "#   define your own)."
   ]
  },
  {
   "cell_type": "markdown",
   "id": "dae458f3-f6eb-407f-b96d-b4245709598f",
   "metadata": {},
   "source": [
    "Select a value at a (concrete or symbolic) index:"
   ]
  },
  {
   "cell_type": "code",
   "execution_count": 5,
   "id": "4a093933-8250-4864-8288-6b2008292ed5",
   "metadata": {
    "execution": {
     "iopub.execute_input": "2022-06-02T15:42:14.164172Z",
     "iopub.status.busy": "2022-06-02T15:42:14.164013Z",
     "iopub.status.idle": "2022-06-02T15:42:14.179480Z",
     "shell.execute_reply": "2022-06-02T15:42:14.179043Z",
     "shell.execute_reply.started": "2022-06-02T15:42:14.164150Z"
    },
    "tags": []
   },
   "outputs": [
    {
     "data": {
      "text/html": [
       "A[2]"
      ],
      "text/plain": [
       "A[2]"
      ]
     },
     "execution_count": 5,
     "metadata": {},
     "output_type": "execute_result"
    },
    {
     "data": {
      "text/html": [
       "A[x]"
      ],
      "text/plain": [
       "A[x]"
      ]
     },
     "execution_count": 5,
     "metadata": {},
     "output_type": "execute_result"
    },
    {
     "data": {
      "text/html": [
       "A[x]"
      ],
      "text/plain": [
       "A[x]"
      ]
     },
     "execution_count": 5,
     "metadata": {},
     "output_type": "execute_result"
    }
   ],
   "source": [
    "# Select the value at a concrete index\n",
    "A[2]\n",
    "\n",
    "# Select the value at the x'th index\n",
    "x = z3.Int('x') \n",
    "A[x]\n",
    "z3.Select(A, x)"
   ]
  },
  {
   "cell_type": "markdown",
   "id": "ce8c92ef-6230-4243-a705-6081404a2d78",
   "metadata": {},
   "source": [
    "Create a new array that is the result of updating an existing one:"
   ]
  },
  {
   "cell_type": "code",
   "execution_count": 6,
   "id": "1c2d7e4e-3d76-420a-b97c-5f9eff43fb02",
   "metadata": {
    "execution": {
     "iopub.execute_input": "2022-06-02T15:42:14.180280Z",
     "iopub.status.busy": "2022-06-02T15:42:14.180137Z",
     "iopub.status.idle": "2022-06-02T15:42:14.185443Z",
     "shell.execute_reply": "2022-06-02T15:42:14.185008Z",
     "shell.execute_reply.started": "2022-06-02T15:42:14.180261Z"
    },
    "tags": []
   },
   "outputs": [
    {
     "data": {
      "text/html": [
       "Store(A, 2, True)"
      ],
      "text/plain": [
       "Store(A, 2, True)"
      ]
     },
     "execution_count": 6,
     "metadata": {},
     "output_type": "execute_result"
    }
   ],
   "source": [
    "# Create an array that is the result of making a copy of A, but storing \n",
    "# \"True\" at index 2\n",
    "z3.Store(A, 2, z3.BoolVal(True))"
   ]
  },
  {
   "cell_type": "code",
   "execution_count": 7,
   "id": "436f43bc-5626-44e3-9630-7943eeff587c",
   "metadata": {
    "execution": {
     "iopub.execute_input": "2022-06-02T15:42:14.186252Z",
     "iopub.status.busy": "2022-06-02T15:42:14.186113Z",
     "iopub.status.idle": "2022-06-02T15:42:14.195722Z",
     "shell.execute_reply": "2022-06-02T15:42:14.195266Z",
     "shell.execute_reply.started": "2022-06-02T15:42:14.186233Z"
    },
    "tags": []
   },
   "outputs": [
    {
     "data": {
      "text/html": [
       "True"
      ],
      "text/plain": [
       "True"
      ]
     },
     "execution_count": 7,
     "metadata": {},
     "output_type": "execute_result"
    }
   ],
   "source": [
    "# Retrieve the value at index x from an array defined to have `True` at `x`\n",
    "#  (NB No solver or model is involved here, and the result type here (despite\n",
    "#  appearances) is not a concrete python boolean: \"simplify\" is a function that \n",
    "#  heuristically transforms abstract syntax trees, but it's an idiomatic/accept-\n",
    "#  able 'evaluator' for stuff like this.\n",
    "z3.simplify(z3.Select(z3.Store(A, x, z3.BoolVal(True)), x))"
   ]
  },
  {
   "cell_type": "markdown",
   "id": "66439b94-43d7-4cd6-88e2-8e8f71418779",
   "metadata": {},
   "source": [
    "Create a new array that has a default value everywhere:"
   ]
  },
  {
   "cell_type": "code",
   "execution_count": 8,
   "id": "63ffa663-2a01-4a2d-8ea1-117810549d26",
   "metadata": {
    "execution": {
     "iopub.execute_input": "2022-06-02T15:42:14.197427Z",
     "iopub.status.busy": "2022-06-02T15:42:14.197280Z",
     "iopub.status.idle": "2022-06-02T15:42:14.210236Z",
     "shell.execute_reply": "2022-06-02T15:42:14.209579Z",
     "shell.execute_reply.started": "2022-06-02T15:42:14.197407Z"
    },
    "tags": []
   },
   "outputs": [
    {
     "data": {
      "text/html": [
       "K(Int, False)"
      ],
      "text/plain": [
       "K(Int, False)"
      ]
     },
     "execution_count": 8,
     "metadata": {},
     "output_type": "execute_result"
    }
   ],
   "source": [
    "z3.K(z3.IntSort(), False)"
   ]
  },
  {
   "cell_type": "markdown",
   "id": "8124db8b-485f-4424-94ec-42be6623937e",
   "metadata": {},
   "source": [
    "Getting concrete arrays out, given constraints:"
   ]
  },
  {
   "cell_type": "code",
   "execution_count": 9,
   "id": "15dc1c3d-fa96-4f81-b9bd-cde7463ddac7",
   "metadata": {
    "execution": {
     "iopub.execute_input": "2022-06-02T15:42:14.211672Z",
     "iopub.status.busy": "2022-06-02T15:42:14.211491Z",
     "iopub.status.idle": "2022-06-02T15:42:14.256612Z",
     "shell.execute_reply": "2022-06-02T15:42:14.256061Z",
     "shell.execute_reply.started": "2022-06-02T15:42:14.211648Z"
    },
    "tags": []
   },
   "outputs": [
    {
     "name": "stdout",
     "output_type": "stream",
     "text": [
      "[A = K(Int, False)]\n",
      "[A = Store(K(Int, False), 2, True)]\n",
      "[A = Store(K(Int, True), 0, False)]\n"
     ]
    }
   ],
   "source": [
    "# each of these is (separately) \n",
    "#  - creating a solver instance\n",
    "#  - adding the couple of constraints indicated\n",
    "#  - checking if there is a model under the constraints, and if so returning it\n",
    "z3.solve(A[0] == False, A[2] == False, A[344] == False) # -> start with an all-false array.\n",
    "z3.solve(A[0] == False, A[2] == True, A[344] == False)  # -> start with an all-false array and then just modify 2\n",
    "z3.solve(A[0] == False, A[2] == True, A[344] == True)   # -> start with an all-true array and then just modify 0"
   ]
  },
  {
   "cell_type": "markdown",
   "id": "7cdb79e5-446c-430a-8893-12564f19db8c",
   "metadata": {},
   "source": [
    "## Encoding (sub)sets using arrays"
   ]
  },
  {
   "cell_type": "markdown",
   "id": "31307576-b5cd-48f9-94a8-f6f1cd604f17",
   "metadata": {},
   "source": [
    "There are a few ways of encoding finite sets over some (possibly infinite) universe $U$ of possible values entirely inside of `z3`. \n",
    " 1. The template above - an array with \"index\" sort $U$ and \"values\" sort $\\text{BoolSort}$ -  is the idiomatic one with (limited) special support. **We explore that immediately below.**\n",
    "    - You can declare and work with symbolic subsets whose maximum size does not have to be a concrete value known ahead of time.\n",
    "    - The complexity of the theory needed to capture your index and values sorts (separately and in combination) affects the decidability (and performance) of constraints involving arrays.\n",
    " 2. You can also create a concrete (python) list of symbolic (z3) Booleans.\n",
    "    - You must now encode all desired set operations (as z3 relations) yourself.\n",
    "      - This may be simpler in some ways and more complicated in others.\n",
    "      - If you are not used to writing in a functional style (or carefully doing the opposite), this may be easy to do incorrectly in such a way that you either don't understand why z3's results don't make sense, or mysterious error messages.\n",
    "      - Regardless, all the normal confusions of managing references vs. values (and referential vs extensional equality) are obscured by being behind a C++ implementation, and even setting that aside, parallel issues show up in new ways in the context of solver variables, and still require some effort to navigate carefully.\n",
    "    - With regard to performance, my possibly incorrect understanding is that, given a universe of $n$ possible values (or subsets of size at most $n$), you will often have set operation implementations that add $O(n)$ or $O(n^2)$ constraints where `z3`'s array theory-backed version would add e.g. $O(1)$ constraints with a theory-of-arrays-specific implementation.\n",
    " 3. You can a create [Church-encoding](https://en.wikipedia.org/wiki/Church_encoding)-like [representation of a subset in terms of a composition of functions that each essentially represent a membership query](https://stackoverflow.com/a/70250257).\n",
    "    - Python may be impractically fussy about nested functions (or operations on them) if the nesting gets too deep, and that may happen surprisingly soon.\n",
    "    - You still have to implement set operations yourself.\n",
    "    - (In principle, you may also be able to use this representation 'inside' of z3, but you'd need a good reason to do this.)"
   ]
  },
  {
   "cell_type": "markdown",
   "id": "66775086-db3e-459c-b03f-c68ef084c525",
   "metadata": {},
   "source": [
    " \n",
    " \n",
    "\n",
    "(`cvc4`/`cvc5` have dedicated theories for finite sets and relations that are more expressive and ergonomic.)"
   ]
  },
  {
   "cell_type": "markdown",
   "id": "99365e9b-0b95-4f40-bcb9-df5192026a15",
   "metadata": {},
   "source": [
    "### Arrays as subsets - no magic"
   ]
  },
  {
   "cell_type": "code",
   "execution_count": 10,
   "id": "fbdcf51c-fd32-4b6c-afb2-1e6008148c9b",
   "metadata": {
    "execution": {
     "iopub.execute_input": "2022-06-02T15:42:14.257802Z",
     "iopub.status.busy": "2022-06-02T15:42:14.257640Z",
     "iopub.status.idle": "2022-06-02T15:42:14.261901Z",
     "shell.execute_reply": "2022-06-02T15:42:14.261453Z",
     "shell.execute_reply.started": "2022-06-02T15:42:14.257781Z"
    },
    "tags": []
   },
   "outputs": [],
   "source": [
    "# Declare a custom sort consisting of exactly three values\n",
    "\n",
    "\n",
    "concrete_color_values = ('red', 'green', 'blue')\n",
    "\n",
    "# References to the sort and to the three possible ways of constructing a value\n",
    "# of sort 'Color'\n",
    "ColorSort, (red, green, blue) = z3.EnumSort(name='Color', values=concrete_color_values)\n",
    "\n",
    "# This lets us declare a new symbolic constant of sort 'Color' - e.g. if we want\n",
    "# to create concrete (python) lists of symbolic colors.\n",
    "def Color(identifier):\n",
    "  return Const(identifier, ColorSort)\n",
    "\n",
    "\n",
    "z3_color_values = (red, green, blue)\n",
    "color_map = bidict({'red': red, 'green': green, 'blue': blue})"
   ]
  },
  {
   "cell_type": "code",
   "execution_count": 11,
   "id": "6aa2155c-4cb1-43bf-af58-d3f0ea810f88",
   "metadata": {
    "execution": {
     "iopub.execute_input": "2022-06-02T15:42:14.262751Z",
     "iopub.status.busy": "2022-06-02T15:42:14.262596Z",
     "iopub.status.idle": "2022-06-02T15:42:14.273385Z",
     "shell.execute_reply": "2022-06-02T15:42:14.272841Z",
     "shell.execute_reply.started": "2022-06-02T15:42:14.262730Z"
    },
    "tags": []
   },
   "outputs": [],
   "source": [
    "# A symbolic subset is an array that maps each element of the index sort to a \n",
    "# a boolean value, indicating whether that element is included.\n",
    "some_colors = z3.Array('some_colors', ColorSort, z3.BoolSort())\n",
    "\n",
    "# Note that right now, this array is totally unconstrained: any possible \n",
    "# assignment of truth value to each of the three color-indexed symbolic booleans\n",
    "# is a valid assignment, right now."
   ]
  },
  {
   "cell_type": "code",
   "execution_count": 12,
   "id": "985f9fa7-9dd4-47e9-a332-00e72da174eb",
   "metadata": {
    "execution": {
     "iopub.execute_input": "2022-06-02T15:42:14.274282Z",
     "iopub.status.busy": "2022-06-02T15:42:14.274127Z",
     "iopub.status.idle": "2022-06-02T15:42:14.296087Z",
     "shell.execute_reply": "2022-06-02T15:42:14.295538Z",
     "shell.execute_reply.started": "2022-06-02T15:42:14.274261Z"
    },
    "tags": []
   },
   "outputs": [
    {
     "name": "stdout",
     "output_type": "stream",
     "text": [
      "[some_colors = Store(K(Color, False), red, True)]\n"
     ]
    }
   ],
   "source": [
    "z3.solve(some_colors[red] == True, some_colors[blue] == False)"
   ]
  },
  {
   "cell_type": "markdown",
   "id": "8f6ae562-ce88-40d6-80b9-04ff4c55911e",
   "metadata": {},
   "source": [
    "Let's create a symbolic subset that definitely contains red, but isn't otherwise constrained."
   ]
  },
  {
   "cell_type": "code",
   "execution_count": 13,
   "id": "e42c58c7-97c0-475c-96b5-170c234db59d",
   "metadata": {
    "execution": {
     "iopub.execute_input": "2022-06-02T15:42:14.296999Z",
     "iopub.status.busy": "2022-06-02T15:42:14.296842Z",
     "iopub.status.idle": "2022-06-02T15:42:14.304796Z",
     "shell.execute_reply": "2022-06-02T15:42:14.304331Z",
     "shell.execute_reply.started": "2022-06-02T15:42:14.296978Z"
    },
    "tags": []
   },
   "outputs": [
    {
     "data": {
      "text/html": [
       "True"
      ],
      "text/plain": [
       "True"
      ]
     },
     "execution_count": 13,
     "metadata": {},
     "output_type": "execute_result"
    }
   ],
   "source": [
    "# This is the symbolic subset that is defined to be the result of\n",
    "#  - taking the array `some_colors`...\n",
    "#  - and storing `z3.BoolVal(True)`...\n",
    "#  - at the index `red`\n",
    "r = z3.Store(some_colors, red, z3.BoolVal(True))\n",
    "\n",
    "# `select` symbolically retrieves the value stored at `red` in `r`.\n",
    "z3.simplify(z3.Select(r, red))"
   ]
  },
  {
   "cell_type": "code",
   "execution_count": 14,
   "id": "b902bac8-0b66-41c5-94ea-665f5f586787",
   "metadata": {
    "execution": {
     "iopub.execute_input": "2022-06-02T15:42:14.305664Z",
     "iopub.status.busy": "2022-06-02T15:42:14.305514Z",
     "iopub.status.idle": "2022-06-02T15:42:14.323646Z",
     "shell.execute_reply": "2022-06-02T15:42:14.323184Z",
     "shell.execute_reply.started": "2022-06-02T15:42:14.305644Z"
    },
    "tags": []
   },
   "outputs": [
    {
     "name": "stdout",
     "output_type": "stream",
     "text": [
      "[some_colors = K(Color, False),\n",
      " X = Store(K(Color, False), red, True)]\n"
     ]
    }
   ],
   "source": [
    "# silly trick for making the model show us all assignments, including the ones\n",
    "# we specified.\n",
    "X = z3.Array('X', ColorSort, z3.BoolSort())\n",
    "z3.solve(X == r)"
   ]
  },
  {
   "cell_type": "markdown",
   "id": "e94fc821-2790-4090-af0d-5efe3bb2f2d5",
   "metadata": {},
   "source": [
    "Array definitions don't (at this level) \"simplify\" their definitional history:\n",
    " - Look below at `X` in the model below: `green` is added to the subset twice."
   ]
  },
  {
   "cell_type": "code",
   "execution_count": 15,
   "id": "af772d7f-4ed7-4026-b13c-006c491b04bb",
   "metadata": {
    "execution": {
     "iopub.execute_input": "2022-06-02T15:42:14.324622Z",
     "iopub.status.busy": "2022-06-02T15:42:14.324473Z",
     "iopub.status.idle": "2022-06-02T15:42:14.345516Z",
     "shell.execute_reply": "2022-06-02T15:42:14.345050Z",
     "shell.execute_reply.started": "2022-06-02T15:42:14.324602Z"
    },
    "tags": []
   },
   "outputs": [
    {
     "data": {
      "text/html": [
       "False"
      ],
      "text/plain": [
       "False"
      ]
     },
     "execution_count": 15,
     "metadata": {},
     "output_type": "execute_result"
    },
    {
     "name": "stdout",
     "output_type": "stream",
     "text": [
      "[some_colors = Store(K(Color, False), green, True),\n",
      " X = Store(Store(Store(K(Color, False), green, True),\n",
      "                 red,\n",
      "                 True),\n",
      "           green,\n",
      "           True)]\n"
     ]
    }
   ],
   "source": [
    "rg = z3.Store(r, green, z3.BoolVal(True))\n",
    "r_noB = z3.Store(r, blue, z3.BoolVal(False))\n",
    "\n",
    "z3.simplify(z3.Select(r_noB, blue))\n",
    "\n",
    "z3.solve(X == rg, X == r_noB)"
   ]
  },
  {
   "cell_type": "markdown",
   "id": "13ec9435-c14c-4e52-a97b-d2133c924328",
   "metadata": {},
   "source": [
    "### z3's subset interface"
   ]
  },
  {
   "cell_type": "markdown",
   "id": "d72799ed-7033-4376-8059-796173d29e83",
   "metadata": {},
   "source": [
    "z3 has a number of functions for working with array-based representations of finite sets."
   ]
  },
  {
   "cell_type": "code",
   "execution_count": 16,
   "id": "fd28dc75-d9f8-4a1f-8659-c86517a9ed4b",
   "metadata": {
    "execution": {
     "iopub.execute_input": "2022-06-02T15:42:14.346392Z",
     "iopub.status.busy": "2022-06-02T15:42:14.346238Z",
     "iopub.status.idle": "2022-06-02T15:42:14.370515Z",
     "shell.execute_reply": "2022-06-02T15:42:14.369942Z",
     "shell.execute_reply.started": "2022-06-02T15:42:14.346370Z"
    },
    "tags": []
   },
   "outputs": [
    {
     "name": "stdout",
     "output_type": "stream",
     "text": [
      "no solution\n",
      "[]\n"
     ]
    }
   ],
   "source": [
    "empty_colors = z3.EmptySet(ColorSort)\n",
    "just_red     = z3.SetAdd(empty_colors, red)\n",
    "just_green   = z3.Store(empty_colors, green, z3.BoolVal(True)) # equivalent\n",
    "just_blue    = z3.SetAdd(empty_colors, blue)\n",
    "\n",
    "# 'No solution' - because it's empty *by definition*\n",
    "z3.solve(z3.IsMember(red, empty_colors)) \n",
    "\n",
    "# '[]' - because there are no *free variables* that need to be assigned: every \n",
    "# possible assignment of values to the variables for green and blue satisfies\n",
    "# the only constraint we've asked the solver to solve for. Why? Because `red` \n",
    "# is a member of `just_red` *by definition* - `just_red` is *defined* to be the\n",
    "# result of adding red to the empty set.\n",
    "z3.solve(z3.IsMember(red, just_red))"
   ]
  },
  {
   "cell_type": "code",
   "execution_count": 17,
   "id": "9124d223-39b7-4635-8aba-c1ce51301fbe",
   "metadata": {
    "execution": {
     "iopub.execute_input": "2022-06-02T15:42:14.371577Z",
     "iopub.status.busy": "2022-06-02T15:42:14.371413Z",
     "iopub.status.idle": "2022-06-02T15:42:14.395729Z",
     "shell.execute_reply": "2022-06-02T15:42:14.395279Z",
     "shell.execute_reply.started": "2022-06-02T15:42:14.371555Z"
    },
    "tags": []
   },
   "outputs": [
    {
     "name": "stdout",
     "output_type": "stream",
     "text": [
      "[some_colors = K(Color, True)]\n",
      "[some_colors = K(Color, True),\n",
      " X = Store(K(Color, True), blue, False)]\n"
     ]
    }
   ],
   "source": [
    "# yields model where all colors in some_colors are true\n",
    "z3.solve(z3.IsMember(red, some_colors)) \n",
    "\n",
    "# yields model where X has all colors are true, except blue\n",
    "z3.solve(z3.IsMember(red, some_colors), X == z3.SetIntersect(some_colors, r_noB)) "
   ]
  },
  {
   "cell_type": "code",
   "execution_count": 18,
   "id": "25689835-7583-4afa-940b-0b032d1011de",
   "metadata": {
    "execution": {
     "iopub.execute_input": "2022-06-02T15:42:14.396639Z",
     "iopub.status.busy": "2022-06-02T15:42:14.396493Z",
     "iopub.status.idle": "2022-06-02T15:42:14.398622Z",
     "shell.execute_reply": "2022-06-02T15:42:14.398221Z",
     "shell.execute_reply.started": "2022-06-02T15:42:14.396619Z"
    },
    "tags": []
   },
   "outputs": [],
   "source": [
    "# solve_([z3.IsMember(red, some_colors), X == z3.SetIntersect(some_colors, r_noB)])[some_colors]"
   ]
  },
  {
   "cell_type": "markdown",
   "id": "8a41c450-2ed1-48c7-a598-92ca5f0db27a",
   "metadata": {},
   "source": [
    "### Concrete Boolean lists of symbolic Booleans"
   ]
  },
  {
   "cell_type": "markdown",
   "id": "bda747ea-78a9-4449-aeb8-46e2ae11902f",
   "metadata": {},
   "source": [
    "Below is a parallel interface where the sequence of symbolic Booleans is a Python list.\n",
    "\n",
    "In fact, it is slightly more than one interface - per the earlier note, there are two basic ways to use this interface:\n",
    " - one attempts to mirror the `z3` subset functions, and might be more complicated to reason about or have unexpected behavior.\n",
    " - the other is more relationally-flavored and works with more distinct Boolean variables.\n",
    "\n",
    "Note that the theory of arrays *with extensional equality* avoids some of this confusion by asserting that any two arrays that have the same domains of definition (indices) and that have the same values for each point in their point are considered indistinguishable. \n",
    "Explicitly modeling subsets with lists of references to Boolean variables is in some ways simpler (locally less mysterious), but definitely introduces sources of reference-related confusion that you must make some effort to avoid or prevent."
   ]
  },
  {
   "cell_type": "code",
   "execution_count": 19,
   "id": "3508ef98-368d-4b5a-bff4-ba6534d1cb5e",
   "metadata": {
    "execution": {
     "iopub.execute_input": "2022-06-02T15:42:14.399384Z",
     "iopub.status.busy": "2022-06-02T15:42:14.399246Z",
     "iopub.status.idle": "2022-06-02T15:42:14.413665Z",
     "shell.execute_reply": "2022-06-02T15:42:14.413195Z",
     "shell.execute_reply.started": "2022-06-02T15:42:14.399366Z"
    },
    "tags": []
   },
   "outputs": [],
   "source": [
    "def colorIndex(color) -> int:\n",
    "  if type(color) == str:\n",
    "    assert color in concrete_color_values\n",
    "    return concrete_color_values.index(color)\n",
    "  elif type(color) is z3.DatatypeRef:\n",
    "    return concrete_color_values.index(color_map.inverse[color])\n",
    "  else:\n",
    "    raise Exception(f\"Unknown type {color}\")\n",
    "\n",
    "    \n",
    "Bool = Union[bool, z3.BoolRef]\n",
    "\n",
    "def freshSet(n: int, prefix: str) -> List[z3.BoolRef]:\n",
    "  return [z3.Bool(f\"{prefix}__{i}\") for i in range(n)]\n",
    "#   return z3.BoolVector(prefix, n) # equivalent\n",
    "\n",
    "#returns a list of constraints on the elements of `subset`\n",
    "def isEmptySet(subset: List[Bool]) -> Bool:\n",
    "  return [z3.Not(b) for b in subset]\n",
    "\n",
    "def emptySet(n: int, prefix: str) -> List[z3.BoolRef]:\n",
    "  return freshEmptySet_declaration(n, prefix)\n",
    "\n",
    "#returns a list of boolean constants all declared to be false\n",
    "def freshEmptySet_declaration(n: int, prefix: str) -> List[z3.BoolRef]:\n",
    "  return [z3.BoolVal(False) for i in range(n)]\n",
    "\n",
    "# Returns a list of constraints on elments of a fresh subset that will \n",
    "# be difficult to access. (This function is more meant as an illustration of the\n",
    "# difference between two seemingly equivalent ways with some downstream conseq-\n",
    "# uences for how much work you do or don't have to do to interpret solver \n",
    "# output.)\n",
    "def freshEmptySet_constraint(n: int, prefix: str) -> List[z3.BoolRef]:\n",
    "  return [z3.Not(b) for b in freshSet(n, prefix)]\n",
    "\n",
    "\n",
    "def setAdd_faithfulTranslation(universe: Callable[[A], int]):\n",
    "  def setAdd_forUniverse(subset: List[Bool], value: A) -> List[Bool]:\n",
    "    target_index: int = universe(value)\n",
    "    \n",
    "    # Naively correct looking implementation...\n",
    "    # This is sketchy in a normal python way: any reference to a `subset` \n",
    "    # argument list elsewhere that's then used to alter the contents or declare\n",
    "    # constraints on those symbolic booleans will also affect this list.\n",
    "#     return [subset[i] if (i != target_index) else z3.BoolVal(True)\n",
    "#             for i in range(len(subset))]\n",
    "\n",
    "    # Also potentially sketchy because who knows if deepcopy is actually what\n",
    "    # you want. Consider: do constraints already placed on subset transfer\n",
    "    # to deep-copies of its variables? That really depends on knowing how\n",
    "    # constraints are represented by z3 and what you're trying to do.\n",
    "    return [deepcopy(subset[i]) if (i != target_index) else z3.BoolVal(True)\n",
    "           for i in range(len(subset))]\n",
    "  return setAdd_forUniverse\n",
    "\n",
    "def isSetAddOf(universe: Callable[[A], int]):\n",
    "  def isSetAddOf_forUniverse(updated: List[Bool], \n",
    "                             subset: List[Bool], \n",
    "                             value: A) -> Bool:\n",
    "    assert len(updated) == len(subset)\n",
    "    target_index: int = universe(value)\n",
    "    \n",
    "    return [(updated[i]) == subset[i] if i != target_index else updated[i] == True\n",
    "            for i in range(len(updated))]\n",
    "  return isSetAddOf_forUniverse\n",
    "\n",
    "def isSetUnionOf(subset: List[Bool], left: List[Bool], right: List[Bool]):\n",
    "  assert len(subset) == len(left) == len(right)\n",
    "  return z3.And([subset[i] == z3.Or(left[i], right[i])\n",
    "                  for i in range(len(subset))])\n",
    "\n",
    "setAdd = setAdd_faithfulTranslation\n",
    "\n",
    "\n",
    "def setDel_faithfulTranslation(universe: Callable[[A], int]):\n",
    "  def setDel_forUniverse(subset: List[Bool], value: A) -> List[Bool]:\n",
    "    target_index: int = universe(value)\n",
    "    \n",
    "    # Naively correct looking implementation...\n",
    "    # This is sketchy in a normal python way: any reference to a `subset` \n",
    "    # argument list elsewhere that's then used to alter the contents or declare\n",
    "    # constraints on those symbolic booleans will also affect this list.\n",
    "#     return [subset[i] if (i != target_index) else z3.BoolVal(False)\n",
    "#             for i in range(len(subset))]\n",
    "\n",
    "    # Also potentially sketchy because who knows if deepcopy is actually what\n",
    "    # you want. Consider: do constraints already placed on subset transfer\n",
    "    # to deep-copies of its variables? That really depends on knowing how\n",
    "    # constraints are represented by z3 and what you're trying to do.\n",
    "    return [deepcopy(subset[i]) if (i != target_index) else z3.BoolVal(False)\n",
    "            for i in range(len(subset))]\n",
    "  return setDel_forUniverse\n",
    "\n",
    "def isSetDelOf(universe: Callable[[A], int]):\n",
    "  def isSetDelOf_forUniverse(updated: List[Bool], \n",
    "                             subset: List[Bool], \n",
    "                             value: A) -> Bool:\n",
    "    assert len(updated) == len(subset)\n",
    "    target_index: int = universe(value)\n",
    "    \n",
    "    return [(updated[i]) == subset[i] if i != target_index else updated[i] == False\n",
    "            for i in range(len(updated))]\n",
    "  return isSetDelOf_forUniverse\n",
    "\n",
    "def isSetDiffOf(subset: List[Bool], left: List[Bool], right: List[Bool]):\n",
    "  assert len(subset) == len(left) == len(right)\n",
    "  return z3.And([subset[i] == z3.And(          left[i]\n",
    "                                     , z3.Not(right[i]) )\n",
    "                  for i in range(len(subset))])\n",
    "\n",
    "\n",
    "setDel = setDel_faithfulTranslation"
   ]
  },
  {
   "cell_type": "code",
   "execution_count": 20,
   "id": "a15398e9-cdaa-4e60-9844-1ac503044038",
   "metadata": {
    "execution": {
     "iopub.execute_input": "2022-06-02T15:42:14.414473Z",
     "iopub.status.busy": "2022-06-02T15:42:14.414329Z",
     "iopub.status.idle": "2022-06-02T15:42:14.475523Z",
     "shell.execute_reply": "2022-06-02T15:42:14.475036Z",
     "shell.execute_reply.started": "2022-06-02T15:42:14.414453Z"
    },
    "tags": []
   },
   "outputs": [
    {
     "name": "stdout",
     "output_type": "stream",
     "text": [
      "[some_colors_1__0 = True,\n",
      " some_colors_1__2 = True,\n",
      " some_colors_1__1 = True]\n",
      "[some_colors_1__2 = True, some_colors_1__1 = True]\n",
      "[some_colors_1__2 = True]\n",
      "[some_colors_1__2 = False,\n",
      " X___2 = False,\n",
      " X___0 = True,\n",
      " X___1 = True,\n",
      " some_colors_1__1 = True]\n"
     ]
    }
   ],
   "source": [
    "empty_colors_1 = emptySet(3, \"EmptySet3\")\n",
    "\n",
    "# Expected: any assignment to any of the variables is fine.\n",
    "some_colors_   = freshSet(3, \"some_colors_1\")\n",
    "z3.solve(some_colors_) \n",
    "\n",
    "# Expected: any assignment to any variable except for red (index 0) is fine.\n",
    "r_             = setAdd(colorIndex)(some_colors_, red)\n",
    "z3.solve(r_) # fine\n",
    "\n",
    "# Expected: any assignment to any variable except for red or green (index 1) is \n",
    "# fine.\n",
    "rg_            = setAdd(colorIndex)(r_, green)\n",
    "z3.solve(rg_) # fine\n",
    "\n",
    "# Expected: \n",
    "# - X definitely has red and green and definitely does not have blue\n",
    "r_noB_1        = setDel(colorIndex)(r_, blue)\n",
    "X_             = freshSet(3, \"X_\")\n",
    "z3.solve([X_[i] == rg_[i] for i in range(len(X_))] + \\\n",
    "         [X_[i] == r_noB_1[i] for i in range(len(X_))])"
   ]
  },
  {
   "cell_type": "code",
   "execution_count": 21,
   "id": "834d094e-f630-4ed7-a96c-d26c664d6864",
   "metadata": {
    "execution": {
     "iopub.execute_input": "2022-06-02T15:42:14.476457Z",
     "iopub.status.busy": "2022-06-02T15:42:14.476304Z",
     "iopub.status.idle": "2022-06-02T15:42:14.501430Z",
     "shell.execute_reply": "2022-06-02T15:42:14.500918Z",
     "shell.execute_reply.started": "2022-06-02T15:42:14.476436Z"
    },
    "tags": []
   },
   "outputs": [
    {
     "name": "stdout",
     "output_type": "stream",
     "text": [
      "[empty_colors_2__2 = False,\n",
      " empty_colors_2__0 = False,\n",
      " empty_colors_2__1 = False]\n",
      "[empty_colors_2__2 = False,\n",
      " empty_colors_2__0 = False,\n",
      " empty_colors_2__1 = False]\n"
     ]
    }
   ],
   "source": [
    "def solve_(assertions):\n",
    "  solver = z3.Solver()\n",
    "  for each in assertions:\n",
    "    solver.add(each)\n",
    "  if solver.check():\n",
    "    return solver.model()\n",
    "  else:\n",
    "    return None\n",
    "\n",
    "assertions = []\n",
    "\n",
    "empty_colors_2 = freshSet(3, \"empty_colors_2\")\n",
    "empty_colors_2_isEmpty = isEmptySet(empty_colors_2)\n",
    "# Expected: empty_colors_2 is empty (all values in it are false)\n",
    "assertions.append(empty_colors_2_isEmpty)\n",
    "print(solve_(assertions)) # fine\n",
    "\n",
    "some_colors_2  = freshSet(3, \"some_colors_2\")\n",
    "# Expected: same as before + some_colors_2 is totally unconstrainted\n",
    "# is fine\n",
    "print(solve_(assertions)) # fine"
   ]
  },
  {
   "cell_type": "code",
   "execution_count": 22,
   "id": "b9ad037a-264b-4673-82aa-99f3ab71f709",
   "metadata": {
    "execution": {
     "iopub.execute_input": "2022-06-02T15:42:14.502399Z",
     "iopub.status.busy": "2022-06-02T15:42:14.502244Z",
     "iopub.status.idle": "2022-06-02T15:42:14.517418Z",
     "shell.execute_reply": "2022-06-02T15:42:14.516967Z",
     "shell.execute_reply.started": "2022-06-02T15:42:14.502379Z"
    },
    "tags": []
   },
   "outputs": [
    {
     "name": "stdout",
     "output_type": "stream",
     "text": [
      "[r_2__0 = True,\n",
      " r_2__1 = False,\n",
      " some_colors_2__1 = False,\n",
      " empty_colors_2__0 = False,\n",
      " empty_colors_2__1 = False,\n",
      " r_2__2 = False,\n",
      " empty_colors_2__2 = False,\n",
      " some_colors_2__2 = False]\n"
     ]
    }
   ],
   "source": [
    "r_2            = freshSet(3, \"r_2\")\n",
    "r_2_hasRed     = isSetAddOf(colorIndex)(r_2, some_colors_2, red)\n",
    "# Expected: same as before + any assignment to r_2 is fine - except red must be\n",
    "# present.\n",
    "assertions = assertions + r_2_hasRed\n",
    "print(solve_(assertions)) # fine"
   ]
  },
  {
   "cell_type": "code",
   "execution_count": 23,
   "id": "ab3ce306-64e3-4468-81f0-50429e10927f",
   "metadata": {
    "execution": {
     "iopub.execute_input": "2022-06-02T15:42:14.518323Z",
     "iopub.status.busy": "2022-06-02T15:42:14.518171Z",
     "iopub.status.idle": "2022-06-02T15:42:14.532717Z",
     "shell.execute_reply": "2022-06-02T15:42:14.532170Z",
     "shell.execute_reply.started": "2022-06-02T15:42:14.518303Z"
    }
   },
   "outputs": [
    {
     "name": "stdout",
     "output_type": "stream",
     "text": [
      "[rg_2__1 = True,\n",
      " r_2__0 = True,\n",
      " r_2__1 = False,\n",
      " some_colors_2__1 = False,\n",
      " empty_colors_2__0 = False,\n",
      " empty_colors_2__1 = False,\n",
      " rg_2__0 = True,\n",
      " r_2__2 = False,\n",
      " empty_colors_2__2 = False,\n",
      " rg_2__2 = False,\n",
      " some_colors_2__2 = False]\n"
     ]
    }
   ],
   "source": [
    "rg_2           = freshSet(3, \"rg_2\")\n",
    "rg_2_hasRed_hasGreen = isSetAddOf(colorIndex)(rg_2, r_2, green)\n",
    "assertions = assertions + rg_2_hasRed_hasGreen\n",
    "print(solve_(assertions)) # fine"
   ]
  },
  {
   "cell_type": "code",
   "execution_count": 24,
   "id": "18ae61a7-3fe3-48d8-a1fb-8be61fead1de",
   "metadata": {
    "execution": {
     "iopub.execute_input": "2022-06-02T15:42:14.533536Z",
     "iopub.status.busy": "2022-06-02T15:42:14.533394Z",
     "iopub.status.idle": "2022-06-02T15:42:14.547765Z",
     "shell.execute_reply": "2022-06-02T15:42:14.547197Z",
     "shell.execute_reply.started": "2022-06-02T15:42:14.533516Z"
    },
    "tags": []
   },
   "outputs": [
    {
     "name": "stdout",
     "output_type": "stream",
     "text": [
      "[r_noB_2__1 = False,\n",
      " some_colors_2__2 = False,\n",
      " r_2__1 = False,\n",
      " some_colors_2__1 = False,\n",
      " empty_colors_2__1 = False,\n",
      " r_noB_2__0 = True,\n",
      " r_2__2 = False,\n",
      " empty_colors_2__2 = False,\n",
      " rg_2__2 = False,\n",
      " r_2__0 = True,\n",
      " empty_colors_2__0 = False,\n",
      " rg_2__0 = True,\n",
      " r_noB_2__2 = False,\n",
      " rg_2__1 = True]\n"
     ]
    }
   ],
   "source": [
    "r_noB_2        = freshSet(3, \"r_noB_2\")\n",
    "r_noB_2_hasRed_hasNoBlue = isSetDelOf(colorIndex)(r_noB_2, r_2, blue)\n",
    "assertions = assertions + r_noB_2_hasRed_hasNoBlue\n",
    "print(solve_(assertions)) # fine"
   ]
  },
  {
   "cell_type": "markdown",
   "id": "88cd8747-eca3-4eee-a1c1-50392a9ccaea",
   "metadata": {
    "tags": []
   },
   "source": [
    "# Symbolic feature vector representations"
   ]
  },
  {
   "cell_type": "markdown",
   "id": "b2bfddb8-34cf-4d7c-b4ec-0196451589d7",
   "metadata": {},
   "source": [
    "### Array based representations"
   ]
  },
  {
   "cell_type": "markdown",
   "id": "96f4bf78-77c8-4d0c-b799-40c992b7b1fa",
   "metadata": {},
   "source": [
    "#### Direct representation"
   ]
  },
  {
   "cell_type": "markdown",
   "id": "20fa7bad-55e5-4510-9b6d-18be015c8848",
   "metadata": {},
   "source": [
    "The sort of a feature vector is an array \n",
    " - with index sort taken from an enumeration of feature labels (or the integers).\n",
    " - with values sort taken from an enumeration of feature values."
   ]
  },
  {
   "cell_type": "code",
   "execution_count": 25,
   "id": "0203f93d-38e8-4d54-bd44-5409b754378a",
   "metadata": {
    "execution": {
     "iopub.execute_input": "2022-06-02T15:42:14.548666Z",
     "iopub.status.busy": "2022-06-02T15:42:14.548517Z",
     "iopub.status.idle": "2022-06-02T15:42:14.552251Z",
     "shell.execute_reply": "2022-06-02T15:42:14.551627Z",
     "shell.execute_reply.started": "2022-06-02T15:42:14.548645Z"
    },
    "tags": []
   },
   "outputs": [],
   "source": [
    "FeatureValueSort, (plus, zero, minus) = z3.EnumSort('FVal', ('+', '0', '-'))\n",
    "\n",
    "def FVal(identifier: str):\n",
    "  return z3.Const(identifier, FeatureValueSort)"
   ]
  },
  {
   "cell_type": "code",
   "execution_count": 26,
   "id": "bc14e7c4-f46f-4695-8348-c886bb709d3d",
   "metadata": {
    "execution": {
     "iopub.execute_input": "2022-06-02T15:42:14.554402Z",
     "iopub.status.busy": "2022-06-02T15:42:14.554223Z",
     "iopub.status.idle": "2022-06-02T15:42:14.564092Z",
     "shell.execute_reply": "2022-06-02T15:42:14.563506Z",
     "shell.execute_reply.started": "2022-06-02T15:42:14.554382Z"
    },
    "tags": []
   },
   "outputs": [],
   "source": [
    "NUM_FEATURES = M = 3\n",
    "\n",
    "FeatureSort3, (FA, FB, FC) = z3.EnumSort('Feature3', \n",
    "                                         ('FA', \n",
    "                                          'FB', \n",
    "                                          'FC'))\n",
    "FeatureSort3_constants = (FA, FB, FC)\n",
    "\n",
    "FeatureSort4, (high, low, front, back) = z3.EnumSort('Feature4', \n",
    "                                                     ('high', \n",
    "                                                      'low', \n",
    "                                                      'front', \n",
    "                                                      'back'))\n",
    "FeatureSort4_constants = (high, low, front, back)\n",
    "\n",
    "\n",
    "def Feature_(featureSort):\n",
    "  def Feature__(identifier: str):\n",
    "    return z3.Const(identifier, featureSort)\n",
    "  return Feature__\n",
    "\n",
    "FeatureSort = FeatureSort3 if NUM_FEATURES == 3 else FeatureSort4\n",
    "\n",
    "Feature3 = Feature_(FeatureSort3)\n",
    "Feature4 = Feature_(FeatureSort4)\n",
    "Feature  = Feature_(FeatureSort)"
   ]
  },
  {
   "cell_type": "code",
   "execution_count": 27,
   "id": "e77c0375-368c-4564-921d-29608084bdb1",
   "metadata": {
    "execution": {
     "iopub.execute_input": "2022-06-02T15:42:14.565161Z",
     "iopub.status.busy": "2022-06-02T15:42:14.564999Z",
     "iopub.status.idle": "2022-06-02T15:42:14.588066Z",
     "shell.execute_reply": "2022-06-02T15:42:14.587441Z",
     "shell.execute_reply.started": "2022-06-02T15:42:14.565141Z"
    },
    "tags": []
   },
   "outputs": [],
   "source": [
    "def FeatureVector_(index_domain_sort = None):\n",
    "  if index_domain_sort is None:\n",
    "    index_domain_sort = z3.IntSort()\n",
    "  def FeatureVector__(identifier: str):\n",
    "    return z3.Array(identifier, index_domain_sort, FeatureValueSort)\n",
    "  return FeatureVector__\n",
    "\n",
    "def concretize(model, variable, featureValues) -> Dict[str, str]:\n",
    "  modelRef = model[variable]\n",
    "  domain   = modelRef.domain()\n",
    "  features = [domain.constructor(i)\n",
    "              for i in range(domain.num_constructors())]\n",
    "  values   = [z3.simplify(modelRef[value])\n",
    "              for value in featureValues]\n",
    "  return dict(zip(map(str,features), map(str,values)))\n",
    "  \n",
    "\n",
    "FeatureVector3 = FeatureVector_(FeatureSort3)\n",
    "FeatureVector4 = FeatureVector_(FeatureSort4)\n",
    "FeatureVector  = FeatureVector_(FeatureSort )\n",
    "FeatureVectorM = FeatureVector_(z3.IntSort())"
   ]
  },
  {
   "cell_type": "code",
   "execution_count": 28,
   "id": "99e58df8-dbe1-47b8-8722-366385410f12",
   "metadata": {
    "execution": {
     "iopub.execute_input": "2022-06-02T15:42:14.588909Z",
     "iopub.status.busy": "2022-06-02T15:42:14.588757Z",
     "iopub.status.idle": "2022-06-02T15:42:14.599585Z",
     "shell.execute_reply": "2022-06-02T15:42:14.598969Z",
     "shell.execute_reply.started": "2022-06-02T15:42:14.588888Z"
    },
    "tags": []
   },
   "outputs": [],
   "source": [
    "some_fv3 = FeatureVector3( \"some_fv3\" )\n",
    "some_fvM = FeatureVectorM(\"some_fvM\")"
   ]
  },
  {
   "cell_type": "code",
   "execution_count": 29,
   "id": "488a44d8-7a92-4a44-90cc-699bba0ed750",
   "metadata": {
    "execution": {
     "iopub.execute_input": "2022-06-02T15:42:14.600463Z",
     "iopub.status.busy": "2022-06-02T15:42:14.600309Z",
     "iopub.status.idle": "2022-06-02T15:42:14.620390Z",
     "shell.execute_reply": "2022-06-02T15:42:14.619755Z",
     "shell.execute_reply.started": "2022-06-02T15:42:14.600442Z"
    },
    "tags": []
   },
   "outputs": [
    {
     "name": "stdout",
     "output_type": "stream",
     "text": [
      "[some_fv3 = Store(K(Feature3, +), FB, -)]\n"
     ]
    }
   ],
   "source": [
    "z3.solve(some_fv3[FA] == plus, some_fv3[FB] == minus)"
   ]
  },
  {
   "cell_type": "code",
   "execution_count": 30,
   "id": "c5daf627-b2de-422e-a375-52cf9e3181a1",
   "metadata": {
    "execution": {
     "iopub.execute_input": "2022-06-02T15:42:14.621537Z",
     "iopub.status.busy": "2022-06-02T15:42:14.621380Z",
     "iopub.status.idle": "2022-06-02T15:42:14.636460Z",
     "shell.execute_reply": "2022-06-02T15:42:14.635858Z",
     "shell.execute_reply.started": "2022-06-02T15:42:14.621517Z"
    },
    "tags": []
   },
   "outputs": [
    {
     "data": {
      "text/plain": [
       "{'FA': '+', 'FB': '-', 'FC': '+'}"
      ]
     },
     "execution_count": 30,
     "metadata": {},
     "output_type": "execute_result"
    }
   ],
   "source": [
    "modelFor_some_fv3 = solve_([some_fv3[FA] == plus, some_fv3[FB] == minus])\n",
    "\n",
    "concretize(modelFor_some_fv3, some_fv3, FeatureSort3_constants)"
   ]
  },
  {
   "cell_type": "markdown",
   "id": "7c52953e-d7e6-4593-882a-747be61fd651",
   "metadata": {
    "tags": []
   },
   "source": [
    "## Parallel symbolic vectors"
   ]
  },
  {
   "cell_type": "code",
   "execution_count": 31,
   "id": "385e4cca-b1df-461e-96ab-bcecdd8d27b2",
   "metadata": {
    "execution": {
     "iopub.execute_input": "2022-06-02T15:42:14.637482Z",
     "iopub.status.busy": "2022-06-02T15:42:14.637297Z",
     "iopub.status.idle": "2022-06-02T15:42:14.639810Z",
     "shell.execute_reply": "2022-06-02T15:42:14.639289Z",
     "shell.execute_reply.started": "2022-06-02T15:42:14.637458Z"
    },
    "tags": []
   },
   "outputs": [],
   "source": [
    "# NUM_FEATURES = M = 3\n",
    "# D = "
   ]
  },
  {
   "cell_type": "code",
   "execution_count": null,
   "id": "b7cc7a88-d554-430d-90d4-cabf4a4b4982",
   "metadata": {},
   "outputs": [],
   "source": []
  }
 ],
 "metadata": {
  "kernelspec": {
   "display_name": "Python3 - mach-nix-saguaro",
   "language": "python",
   "name": "ipython_mach-nix-saguaro"
  },
  "language_info": {
   "codemirror_mode": {
    "name": "ipython",
    "version": 3
   },
   "file_extension": ".py",
   "mimetype": "text/x-python",
   "name": "python",
   "nbconvert_exporter": "python",
   "pygments_lexer": "ipython3",
   "version": "3.9.9"
  }
 },
 "nbformat": 4,
 "nbformat_minor": 5
}
