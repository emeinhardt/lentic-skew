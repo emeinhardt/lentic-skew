{
 "cells": [
  {
   "cell_type": "code",
   "execution_count": null,
   "id": "4687a51f-7733-4554-b0e7-90c43a4c564c",
   "metadata": {},
   "outputs": [],
   "source": [
    "from IPython.core.interactiveshell import InteractiveShell\n",
    "InteractiveShell.ast_node_interactivity = 'all'"
   ]
  },
  {
   "cell_type": "code",
   "execution_count": 2,
   "id": "cf373a3c-d267-4875-b9ba-6ac901374560",
   "metadata": {
    "execution": {
     "iopub.execute_input": "2022-06-02T16:12:42.299781Z",
     "iopub.status.busy": "2022-06-02T16:12:42.299137Z",
     "iopub.status.idle": "2022-06-02T16:12:42.347602Z",
     "shell.execute_reply": "2022-06-02T16:12:42.346991Z",
     "shell.execute_reply.started": "2022-06-02T16:12:42.299708Z"
    },
    "tags": []
   },
   "outputs": [],
   "source": [
    "from cvc5.pythonic import *"
   ]
  },
  {
   "cell_type": "code",
   "execution_count": 3,
   "id": "8205183a-2643-46d0-b9cd-7d8095628419",
   "metadata": {
    "execution": {
     "iopub.execute_input": "2022-06-02T16:12:42.736618Z",
     "iopub.status.busy": "2022-06-02T16:12:42.736383Z",
     "iopub.status.idle": "2022-06-02T16:12:42.766375Z",
     "shell.execute_reply": "2022-06-02T16:12:42.765688Z",
     "shell.execute_reply.started": "2022-06-02T16:12:42.736593Z"
    },
    "tags": []
   },
   "outputs": [
    {
     "name": "stdout",
     "output_type": "stream",
     "text": [
      "[x = 1/6, y = 1/6]\n"
     ]
    }
   ],
   "source": [
    "x, y = Reals('x y')\n",
    "a, b = Ints('a b')\n",
    "solve(0 < x, 0 < y, x + y < 1, x <= y)"
   ]
  },
  {
   "cell_type": "code",
   "execution_count": null,
   "id": "90dcb7d1-2940-47ea-aced-8ef544adcad2",
   "metadata": {},
   "outputs": [],
   "source": []
  }
 ],
 "metadata": {
  "kernelspec": {
   "display_name": "Python3 - mach-nix-saguaro",
   "language": "python",
   "name": "ipython_mach-nix-saguaro"
  },
  "language_info": {
   "codemirror_mode": {
    "name": "ipython",
    "version": 3
   },
   "file_extension": ".py",
   "mimetype": "text/x-python",
   "name": "python",
   "nbconvert_exporter": "python",
   "pygments_lexer": "ipython3",
   "version": "3.9.9"
  }
 },
 "nbformat": 4,
 "nbformat_minor": 5
}
